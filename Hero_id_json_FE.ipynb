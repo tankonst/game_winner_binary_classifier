{
 "cells": [
  {
   "cell_type": "code",
   "execution_count": 43,
   "metadata": {},
   "outputs": [],
   "source": [
    "import pandas as pd\n",
    "import numpy as np\n",
    "import warnings\n",
    "warnings.filterwarnings('ignore')\n",
    "def warn(*args, **kwargs):\n",
    "    pass\n",
    "import warnings\n",
    "warnings.warn = warn\n",
    "import ujson as json\n",
    "import os\n",
    "from tqdm import tqdm_notebook"
   ]
  },
  {
   "cell_type": "markdown",
   "metadata": {},
   "source": [
    "\n",
    "IDs: MB 307; TK 337 \\\n",
    "https://docs.google.com/spreadsheets/d/15e1K0tg5ponA5R6YQkZfihrShTDLAKf5qeKaoVCiuhQ/edit#gid=0"
   ]
  },
  {
   "cell_type": "code",
   "execution_count": 2,
   "metadata": {},
   "outputs": [],
   "source": [
    "#Team name, using IDs above: mlcourse_ai_fall2019_team_<id1>_…<id4> "
   ]
  },
  {
   "cell_type": "code",
   "execution_count": 21,
   "metadata": {},
   "outputs": [],
   "source": [
    "train_X = pd.read_csv('new_feat_train_small.csv', index_col='match_id_hash')\n",
    "test_X = pd.read_csv('new_feat_test_small.csv', index_col='match_id_hash')\n",
    "target =  pd.read_csv('/Users/m/Insight/MLcourse/Dota/targets_plus.csv', index_col='match_id_hash')\n",
    "y = target['radiant_win']\n",
    "full_df = train_X.merge(pd.DataFrame(y),how='outer',left_index=True,right_index=True)\n",
    "train_df = pd.read_csv('/Users/m/Insight/MLcourse/Dota/train_features.csv', index_col='match_id_hash')\n",
    "test_df = pd.read_csv('/Users/m/Insight/MLcourse/Dota/test_features.csv', index_col='match_id_hash')\n",
    "train_full = train_df.merge(pd.DataFrame(y),how='outer',left_index=True,right_index=True)"
   ]
  },
  {
   "cell_type": "code",
   "execution_count": 38,
   "metadata": {},
   "outputs": [],
   "source": [
    "#hero id columns names\n",
    "ls_r_hero_id = ['r{}_hero_id'.format(i) for i in range(1,6)]\n",
    "ls_d_hero_id = ['d{}_hero_id'.format(i) for i in range(1,6)]\n",
    "ls_hero_id = ls_r_hero_id + ls_d_hero_id\n",
    "#sub data frame of hero ids and target\n",
    "hero_ids = train_full[ls_hero_id +['radiant_win']]\n",
    "hero_ids_rad_win = hero_ids[hero_ids['radiant_win'] == True] #rad wins\n",
    "hero_ids_rad_lose = hero_ids[hero_ids['radiant_win'] == False] #rad loses\n",
    "winning_hero_ids1 = hero_ids_rad_win[ls_r_hero_id]\n",
    "winning_hero_ids2 = hero_ids_rad_lose[ls_d_hero_id]\n",
    "losing_hero_ids1 = hero_ids_rad_win[ls_d_hero_id]\n",
    "losing_hero_ids2 = hero_ids_rad_lose[ls_r_hero_id]\n",
    "winning_hero_ids1.rename(columns = {'r1_hero_id':'1_id', 'r2_hero_id':'2_id', \n",
    "                              'r3_hero_id':'3_id','r4_hero_id':'4_id',\n",
    "                                    'r5_hero_id':'5_id'}, inplace = True)\n",
    "winning_hero_ids2.rename(columns = {'d1_hero_id':'1_id', 'd2_hero_id':'2_id', \n",
    "                              'd3_hero_id':'3_id','d4_hero_id':'4_id',\n",
    "                                    'd5_hero_id':'5_id'}, inplace = True)\n",
    "losing_hero_ids1.rename(columns = {'d1_hero_id':'1_id', 'd2_hero_id':'2_id', \n",
    "                              'd3_hero_id':'3_id','d4_hero_id':'4_id',\n",
    "                                    'd5_hero_id':'5_id'}, inplace = True)\n",
    "losing_hero_ids2.rename(columns = {'r1_hero_id':'1_id', 'r2_hero_id':'2_id', \n",
    "                              'r3_hero_id':'3_id','r4_hero_id':'4_id',\n",
    "                                    'r5_hero_id':'5_id'}, inplace = True)\n",
    "#for all games, df of winner's hero ids only\n",
    "winning_hero_ids = pd.concat([winning_hero_ids1, winning_hero_ids2], axis=0)\n",
    "#for all games, df of loser's hero ids only\n",
    "losing_hero_ids = pd.concat([losing_hero_ids1, losing_hero_ids2], axis=0)\n",
    "\n",
    "#by hero, in how many games did the hero win / lose\n",
    "winning_hero_counts = winning_hero_ids['1_id'].value_counts().sort_index() + winning_hero_ids['2_id'].value_counts().sort_index() + winning_hero_ids['3_id'].value_counts().sort_index() + winning_hero_ids['4_id'].value_counts().sort_index() + winning_hero_ids['5_id'].value_counts().sort_index()\n",
    "losing_hero_counts = losing_hero_ids['1_id'].value_counts().sort_index() + losing_hero_ids['2_id'].value_counts().sort_index() + losing_hero_ids['3_id'].value_counts().sort_index() + losing_hero_ids['4_id'].value_counts().sort_index() + losing_hero_ids['5_id'].value_counts().sort_index()\n",
    "\n",
    "#to dictionary, key is hero id, value is win / loss count\n",
    "winning_hero_counts = winning_hero_counts.sort_values()\n",
    "winning_hero_dict = winning_hero_counts.to_dict()\n",
    "losing_hero_counts = losing_hero_counts.sort_values()\n",
    "losing_hero_dict = losing_hero_counts.to_dict()\n",
    "\n",
    "#now subtract wins - loses by hero (this will be one feature)\n",
    "hero_counts_win_minus_lose = winning_hero_counts.sort_index() - losing_hero_counts.sort_index()\n",
    "diff_hero_dict = hero_counts_win_minus_lose.to_dict()\n",
    "\n",
    "#normalize by dividing by total number of games played (this is another feature)\n",
    "from collections import Counter\n",
    "total_games_dict = Counter(winning_hero_dict) + Counter(losing_hero_dict)\n",
    "hero_id_normalize_dict = {k: (diff_hero_dict[k] / total_games_dict[k]) for k in diff_hero_dict}\n",
    "\n",
    "#add the two new features to the data frame\n",
    "for col in ls_hero_id:\n",
    "    train_full[col+'success'] = train_full[col].map(diff_hero_dict)\n",
    "    train_df[col+'success'] = train_df[col].map(diff_hero_dict)\n",
    "    test_df[col+'success'] = test_df[col].map(diff_hero_dict)\n",
    "for col in ls_hero_id:\n",
    "    train_full[col+'norm'] = train_full[col].map(hero_id_normalize_dict)\n",
    "    train_df[col+'norm'] = train_df[col].map(hero_id_normalize_dict)\n",
    "    test_df[col+'norm'] = test_df[col].map(hero_id_normalize_dict)"
   ]
  }
 ],
 "metadata": {
  "kernelspec": {
   "display_name": "Python 3",
   "language": "python",
   "name": "python3"
  },
  "language_info": {
   "codemirror_mode": {
    "name": "ipython",
    "version": 3
   },
   "file_extension": ".py",
   "mimetype": "text/x-python",
   "name": "python",
   "nbconvert_exporter": "python",
   "pygments_lexer": "ipython3",
   "version": "3.7.3"
  }
 },
 "nbformat": 4,
 "nbformat_minor": 2
}
