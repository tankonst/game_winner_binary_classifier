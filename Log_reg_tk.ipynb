{
 "cells": [
  {
   "cell_type": "code",
   "execution_count": 1,
   "metadata": {},
   "outputs": [],
   "source": [
    "import pandas as pd\n",
    "import numpy as np\n",
    "import matplotlib.pyplot as plt\n",
    "plt.rcParams['figure.dpi']= 100\n",
    "import seaborn as sns\n",
    "import warnings\n",
    "warnings.filterwarnings('ignore')"
   ]
  },
  {
   "cell_type": "code",
   "execution_count": 182,
   "metadata": {},
   "outputs": [
    {
     "data": {
      "text/html": [
       "<div>\n",
       "<style scoped>\n",
       "    .dataframe tbody tr th:only-of-type {\n",
       "        vertical-align: middle;\n",
       "    }\n",
       "\n",
       "    .dataframe tbody tr th {\n",
       "        vertical-align: top;\n",
       "    }\n",
       "\n",
       "    .dataframe thead th {\n",
       "        text-align: right;\n",
       "    }\n",
       "</style>\n",
       "<table border=\"1\" class=\"dataframe\">\n",
       "  <thead>\n",
       "    <tr style=\"text-align: right;\">\n",
       "      <th></th>\n",
       "      <th>r_kills</th>\n",
       "      <th>r_deaths</th>\n",
       "      <th>r_assists</th>\n",
       "      <th>r_denies</th>\n",
       "      <th>r_gold</th>\n",
       "      <th>r_lh</th>\n",
       "      <th>r_xp</th>\n",
       "      <th>r_max_mana</th>\n",
       "      <th>r_stuns</th>\n",
       "      <th>r_creeps_stacked</th>\n",
       "      <th>...</th>\n",
       "      <th>log_d_denies</th>\n",
       "      <th>log_d_gold</th>\n",
       "      <th>log_d_lh</th>\n",
       "      <th>log_d_xp</th>\n",
       "      <th>log_d_max_mana</th>\n",
       "      <th>log_d_creeps_stacked</th>\n",
       "      <th>log_d_camps_stacked</th>\n",
       "      <th>log_d_rune_pickups</th>\n",
       "      <th>log_d_sen_placed</th>\n",
       "      <th>log_chat_len</th>\n",
       "    </tr>\n",
       "    <tr>\n",
       "      <th>match_id_hash</th>\n",
       "      <th></th>\n",
       "      <th></th>\n",
       "      <th></th>\n",
       "      <th></th>\n",
       "      <th></th>\n",
       "      <th></th>\n",
       "      <th></th>\n",
       "      <th></th>\n",
       "      <th></th>\n",
       "      <th></th>\n",
       "      <th></th>\n",
       "      <th></th>\n",
       "      <th></th>\n",
       "      <th></th>\n",
       "      <th></th>\n",
       "      <th></th>\n",
       "      <th></th>\n",
       "      <th></th>\n",
       "      <th></th>\n",
       "      <th></th>\n",
       "      <th></th>\n",
       "    </tr>\n",
       "  </thead>\n",
       "  <tbody>\n",
       "    <tr>\n",
       "      <th>a400b8f29dece5f4d266f49f1ae2e98a</th>\n",
       "      <td>0</td>\n",
       "      <td>1</td>\n",
       "      <td>0</td>\n",
       "      <td>4</td>\n",
       "      <td>2037</td>\n",
       "      <td>25</td>\n",
       "      <td>1991</td>\n",
       "      <td>1490.68891</td>\n",
       "      <td>0.000000</td>\n",
       "      <td>0</td>\n",
       "      <td>...</td>\n",
       "      <td>3.091042</td>\n",
       "      <td>8.281471</td>\n",
       "      <td>3.526361</td>\n",
       "      <td>8.034631</td>\n",
       "      <td>7.574912</td>\n",
       "      <td>0.693147</td>\n",
       "      <td>0.693147</td>\n",
       "      <td>2.197225</td>\n",
       "      <td>0.693147</td>\n",
       "      <td>2.564949</td>\n",
       "    </tr>\n",
       "    <tr>\n",
       "      <th>b9c57c450ce74a2af79c9ce96fac144d</th>\n",
       "      <td>16</td>\n",
       "      <td>4</td>\n",
       "      <td>14</td>\n",
       "      <td>28</td>\n",
       "      <td>18172</td>\n",
       "      <td>127</td>\n",
       "      <td>17566</td>\n",
       "      <td>2414.68981</td>\n",
       "      <td>42.060296</td>\n",
       "      <td>2</td>\n",
       "      <td>...</td>\n",
       "      <td>2.890372</td>\n",
       "      <td>9.483873</td>\n",
       "      <td>4.584967</td>\n",
       "      <td>9.467073</td>\n",
       "      <td>7.707373</td>\n",
       "      <td>1.609438</td>\n",
       "      <td>1.386294</td>\n",
       "      <td>2.772589</td>\n",
       "      <td>1.386294</td>\n",
       "      <td>2.484907</td>\n",
       "    </tr>\n",
       "    <tr>\n",
       "      <th>6db558535151ea18ca70a6892197db41</th>\n",
       "      <td>0</td>\n",
       "      <td>0</td>\n",
       "      <td>0</td>\n",
       "      <td>0</td>\n",
       "      <td>880</td>\n",
       "      <td>0</td>\n",
       "      <td>0</td>\n",
       "      <td>1670.68912</td>\n",
       "      <td>0.000000</td>\n",
       "      <td>0</td>\n",
       "      <td>...</td>\n",
       "      <td>0.693147</td>\n",
       "      <td>6.177944</td>\n",
       "      <td>0.693147</td>\n",
       "      <td>0.693147</td>\n",
       "      <td>7.370664</td>\n",
       "      <td>0.693147</td>\n",
       "      <td>0.693147</td>\n",
       "      <td>1.098612</td>\n",
       "      <td>0.693147</td>\n",
       "      <td>0.693147</td>\n",
       "    </tr>\n",
       "    <tr>\n",
       "      <th>46a0ddce8f7ed2a8d9bd5edcbb925682</th>\n",
       "      <td>6</td>\n",
       "      <td>2</td>\n",
       "      <td>8</td>\n",
       "      <td>43</td>\n",
       "      <td>13348</td>\n",
       "      <td>131</td>\n",
       "      <td>14663</td>\n",
       "      <td>2474.68982</td>\n",
       "      <td>11.397237</td>\n",
       "      <td>0</td>\n",
       "      <td>...</td>\n",
       "      <td>2.639057</td>\n",
       "      <td>9.332823</td>\n",
       "      <td>5.049856</td>\n",
       "      <td>9.379661</td>\n",
       "      <td>7.651923</td>\n",
       "      <td>2.079442</td>\n",
       "      <td>1.386294</td>\n",
       "      <td>2.564949</td>\n",
       "      <td>0.693147</td>\n",
       "      <td>1.791759</td>\n",
       "    </tr>\n",
       "    <tr>\n",
       "      <th>b1b35ff97723d9b7ade1c9c3cf48f770</th>\n",
       "      <td>2</td>\n",
       "      <td>4</td>\n",
       "      <td>3</td>\n",
       "      <td>0</td>\n",
       "      <td>8079</td>\n",
       "      <td>62</td>\n",
       "      <td>9762</td>\n",
       "      <td>2364.68977</td>\n",
       "      <td>15.262940</td>\n",
       "      <td>0</td>\n",
       "      <td>...</td>\n",
       "      <td>2.564949</td>\n",
       "      <td>9.124674</td>\n",
       "      <td>4.634729</td>\n",
       "      <td>9.288042</td>\n",
       "      <td>7.581051</td>\n",
       "      <td>1.386294</td>\n",
       "      <td>1.098612</td>\n",
       "      <td>2.302585</td>\n",
       "      <td>0.693147</td>\n",
       "      <td>1.609438</td>\n",
       "    </tr>\n",
       "  </tbody>\n",
       "</table>\n",
       "<p>5 rows × 83 columns</p>\n",
       "</div>"
      ],
      "text/plain": [
       "                                  r_kills  r_deaths  r_assists  r_denies  \\\n",
       "match_id_hash                                                              \n",
       "a400b8f29dece5f4d266f49f1ae2e98a        0         1          0         4   \n",
       "b9c57c450ce74a2af79c9ce96fac144d       16         4         14        28   \n",
       "6db558535151ea18ca70a6892197db41        0         0          0         0   \n",
       "46a0ddce8f7ed2a8d9bd5edcbb925682        6         2          8        43   \n",
       "b1b35ff97723d9b7ade1c9c3cf48f770        2         4          3         0   \n",
       "\n",
       "                                  r_gold  r_lh   r_xp  r_max_mana    r_stuns  \\\n",
       "match_id_hash                                                                  \n",
       "a400b8f29dece5f4d266f49f1ae2e98a    2037    25   1991  1490.68891   0.000000   \n",
       "b9c57c450ce74a2af79c9ce96fac144d   18172   127  17566  2414.68981  42.060296   \n",
       "6db558535151ea18ca70a6892197db41     880     0      0  1670.68912   0.000000   \n",
       "46a0ddce8f7ed2a8d9bd5edcbb925682   13348   131  14663  2474.68982  11.397237   \n",
       "b1b35ff97723d9b7ade1c9c3cf48f770    8079    62   9762  2364.68977  15.262940   \n",
       "\n",
       "                                  r_creeps_stacked  ...  log_d_denies  \\\n",
       "match_id_hash                                       ...                 \n",
       "a400b8f29dece5f4d266f49f1ae2e98a                 0  ...      3.091042   \n",
       "b9c57c450ce74a2af79c9ce96fac144d                 2  ...      2.890372   \n",
       "6db558535151ea18ca70a6892197db41                 0  ...      0.693147   \n",
       "46a0ddce8f7ed2a8d9bd5edcbb925682                 0  ...      2.639057   \n",
       "b1b35ff97723d9b7ade1c9c3cf48f770                 0  ...      2.564949   \n",
       "\n",
       "                                  log_d_gold  log_d_lh  log_d_xp  \\\n",
       "match_id_hash                                                      \n",
       "a400b8f29dece5f4d266f49f1ae2e98a    8.281471  3.526361  8.034631   \n",
       "b9c57c450ce74a2af79c9ce96fac144d    9.483873  4.584967  9.467073   \n",
       "6db558535151ea18ca70a6892197db41    6.177944  0.693147  0.693147   \n",
       "46a0ddce8f7ed2a8d9bd5edcbb925682    9.332823  5.049856  9.379661   \n",
       "b1b35ff97723d9b7ade1c9c3cf48f770    9.124674  4.634729  9.288042   \n",
       "\n",
       "                                  log_d_max_mana  log_d_creeps_stacked  \\\n",
       "match_id_hash                                                            \n",
       "a400b8f29dece5f4d266f49f1ae2e98a        7.574912              0.693147   \n",
       "b9c57c450ce74a2af79c9ce96fac144d        7.707373              1.609438   \n",
       "6db558535151ea18ca70a6892197db41        7.370664              0.693147   \n",
       "46a0ddce8f7ed2a8d9bd5edcbb925682        7.651923              2.079442   \n",
       "b1b35ff97723d9b7ade1c9c3cf48f770        7.581051              1.386294   \n",
       "\n",
       "                                  log_d_camps_stacked  log_d_rune_pickups  \\\n",
       "match_id_hash                                                               \n",
       "a400b8f29dece5f4d266f49f1ae2e98a             0.693147            2.197225   \n",
       "b9c57c450ce74a2af79c9ce96fac144d             1.386294            2.772589   \n",
       "6db558535151ea18ca70a6892197db41             0.693147            1.098612   \n",
       "46a0ddce8f7ed2a8d9bd5edcbb925682             1.386294            2.564949   \n",
       "b1b35ff97723d9b7ade1c9c3cf48f770             1.098612            2.302585   \n",
       "\n",
       "                                  log_d_sen_placed  log_chat_len  \n",
       "match_id_hash                                                     \n",
       "a400b8f29dece5f4d266f49f1ae2e98a          0.693147      2.564949  \n",
       "b9c57c450ce74a2af79c9ce96fac144d          1.386294      2.484907  \n",
       "6db558535151ea18ca70a6892197db41          0.693147      0.693147  \n",
       "46a0ddce8f7ed2a8d9bd5edcbb925682          0.693147      1.791759  \n",
       "b1b35ff97723d9b7ade1c9c3cf48f770          0.693147      1.609438  \n",
       "\n",
       "[5 rows x 83 columns]"
      ]
     },
     "execution_count": 182,
     "metadata": {},
     "output_type": "execute_result"
    }
   ],
   "source": [
    "data = pd.read_csv(r'C:\\Users\\Tatiana\\Documents\\Programming\\MLcourse competition\\new_feat_train.csv', index_col ='match_id_hash')\n",
    "target = pd.read_csv(r'C:\\Users\\Tatiana\\Documents\\Programming\\MLcourse competition\\train_targets.csv', index_col = 'match_id_hash')\n",
    "y = target['radiant_win']\n",
    "y = y.apply(lambda x: int(x)).values\n",
    "data.head()"
   ]
  },
  {
   "cell_type": "code",
   "execution_count": 183,
   "metadata": {},
   "outputs": [
    {
     "data": {
      "text/plain": [
       "Index(['r_kills', 'r_deaths', 'r_assists', 'r_denies', 'r_gold', 'r_lh',\n",
       "       'r_xp', 'r_max_mana', 'r_stuns', 'r_creeps_stacked', 'r_camps_stacked',\n",
       "       'r_rune_pickups', 'r_firstblood_claimed', 'r_towers_killed',\n",
       "       'r_roshans_killed', 'r_obs_placed', 'r_sen_placed', 'd_kills',\n",
       "       'd_deaths', 'd_assists', 'd_denies', 'd_gold', 'd_lh', 'd_xp',\n",
       "       'd_max_mana', 'd_stuns', 'd_creeps_stacked', 'd_camps_stacked',\n",
       "       'd_rune_pickups', 'd_firstblood_claimed', 'd_towers_killed',\n",
       "       'd_roshans_killed', 'd_obs_placed', 'd_sen_placed', 'd_dead', 'r_dead',\n",
       "       'd_health_avg', 'r_health_avg', 'r_in_d_base', 'd_in_r_base',\n",
       "       'd_avg_level', 'd_min_level', 'd_max_level', 'r_avg_level',\n",
       "       'r_min_level', 'r_max_level', 'game_mode_2', 'game_mode_3',\n",
       "       'game_mode_4', 'game_mode_5', 'game_mode_12', 'game_mode_16',\n",
       "       'game_mode_22', 'game_mode_23', 'game_time', 'lobby_type',\n",
       "       'objectives_len', 'chat_len', 'log_r_kills', 'log_r_deaths',\n",
       "       'log_r_assists', 'log_r_denies', 'log_r_gold', 'log_r_lh', 'log_r_xp',\n",
       "       'log_r_max_mana', 'log_r_creeps_stacked', 'log_r_camps_stacked',\n",
       "       'log_r_rune_pickups', 'log_r_sen_placed', 'log_d_kills', 'log_d_deaths',\n",
       "       'log_d_assists', 'log_d_denies', 'log_d_gold', 'log_d_lh', 'log_d_xp',\n",
       "       'log_d_max_mana', 'log_d_creeps_stacked', 'log_d_camps_stacked',\n",
       "       'log_d_rune_pickups', 'log_d_sen_placed', 'log_chat_len'],\n",
       "      dtype='object')"
      ]
     },
     "execution_count": 183,
     "metadata": {},
     "output_type": "execute_result"
    }
   ],
   "source": [
    "data.columns\n",
    "\n"
   ]
  },
  {
   "cell_type": "code",
   "execution_count": 184,
   "metadata": {},
   "outputs": [],
   "source": [
    "# determine the columns of the numerical data for further normalization\n",
    "numerical = [\n",
    "    'r_kills','r_deaths', 'r_assists', 'r_denies', 'r_gold', 'r_lh', 'r_xp', 'r_max_mana', 'r_stuns', 'r_creeps_stacked',\n",
    "    'r_camps_stacked','r_rune_pickups','r_towers_killed', 'r_roshans_killed', 'r_obs_placed','r_sen_placed',\n",
    "    \n",
    "    'd_kills','d_deaths', 'd_assists', 'd_denies', 'd_gold', 'd_lh', 'd_xp', 'd_max_mana', 'd_stuns', 'd_creeps_stacked',\n",
    "    'd_camps_stacked','d_rune_pickups','d_towers_killed', 'd_roshans_killed', 'd_obs_placed', 'd_sen_placed',\n",
    "    \n",
    "    'd_dead', 'r_dead', 'd_health_avg', 'r_health_avg',\n",
    "    'd_avg_level', 'd_min_level', 'd_max_level', \n",
    "    'r_avg_level', 'r_min_level', 'r_max_level',\n",
    "    'objectives_len', 'chat_len','log_r_kills', 'log_r_deaths',\n",
    "    'log_r_assists', 'log_r_denies', 'log_r_gold', 'log_r_lh', 'log_r_xp',\n",
    "       'log_r_max_mana', 'log_r_creeps_stacked', 'log_r_camps_stacked',\n",
    "       'log_r_rune_pickups', 'log_r_sen_placed', 'log_d_kills', 'log_d_deaths',\n",
    "       'log_d_assists', 'log_d_denies', 'log_d_gold', 'log_d_lh', 'log_d_xp',\n",
    "       'log_d_max_mana', 'log_d_creeps_stacked', 'log_d_camps_stacked',\n",
    "       'log_d_rune_pickups', 'log_d_sen_placed', 'log_chat_len'\n",
    "          ]\n",
    "numerical_columns =[]\n",
    "for j in range(len(data.columns)):\n",
    "    if data.columns[j] in numerical:\n",
    "        numerical_columns.append(j)"
   ]
  },
  {
   "cell_type": "code",
   "execution_count": 185,
   "metadata": {},
   "outputs": [],
   "source": [
    "from sklearn.model_selection import train_test_split\n",
    "\n",
    "X = data.values\n",
    "\n",
    "\n",
    "X_train, X_test, y_train, y_test = train_test_split(X, y, test_size=0.30, random_state=150)"
   ]
  },
  {
   "cell_type": "code",
   "execution_count": 186,
   "metadata": {},
   "outputs": [],
   "source": [
    "from sklearn.preprocessing import StandardScaler\n",
    "\n",
    "scaler = StandardScaler()\n",
    "X_train[:,numerical_columns] = scaler.fit_transform(X_train[:,numerical_columns])\n",
    "X_test[:,numerical_columns] = scaler.transform(X_test[:,numerical_columns])\n"
   ]
  },
  {
   "cell_type": "code",
   "execution_count": 187,
   "metadata": {},
   "outputs": [
    {
     "name": "stdout",
     "output_type": "stream",
     "text": [
      "First baseline:\n",
      "score 0.7330084852558179\n",
      "roc_auc 0.8211254625862374\n"
     ]
    }
   ],
   "source": [
    "from sklearn.linear_model import LogisticRegression\n",
    "from sklearn.metrics import roc_auc_score\n",
    "\n",
    "\n",
    "logreg = LogisticRegression(C = 1,penalty = 'l2'  ).fit(X_train,y_train)\n",
    "\n",
    "score1 = logreg.score(X_test, y_test)\n",
    "y_pred = logreg.predict_proba(X_test)[:,1]\n",
    "\n",
    "score2 = roc_auc_score(y_test, y_pred)\n",
    "\n",
    "print('First baseline:')\n",
    "print('score', score1)\n",
    "\n",
    "print('roc_auc', score2)\n"
   ]
  },
  {
   "cell_type": "code",
   "execution_count": 188,
   "metadata": {},
   "outputs": [
    {
     "data": {
      "text/plain": [
       "[<matplotlib.lines.Line2D at 0x1b0cb7b4eb8>]"
      ]
     },
     "execution_count": 188,
     "metadata": {},
     "output_type": "execute_result"
    },
    {
     "data": {
      "image/png": "[encoded data removed]",
      "text/plain": [
       "<Figure size 432x288 with 1 Axes>"
      ]
     },
     "metadata": {
      "needs_background": "light"
     },
     "output_type": "display_data"
    }
   ],
   "source": [
    "c = logreg.coef_\n",
    "plt.plot(c[0])"
   ]
  },
  {
   "cell_type": "code",
   "execution_count": 189,
   "metadata": {},
   "outputs": [],
   "source": [
    "test_data = data = pd.read_csv(r'C:\\Users\\Tatiana\\Documents\\Programming\\MLcourse competition\\new_feat_test.csv', index_col ='match_id_hash')"
   ]
  },
  {
   "cell_type": "code",
   "execution_count": 190,
   "metadata": {},
   "outputs": [
    {
     "data": {
      "text/plain": [
       "(10000, 83)"
      ]
     },
     "execution_count": 190,
     "metadata": {},
     "output_type": "execute_result"
    }
   ],
   "source": [
    "test_data.shape"
   ]
  },
  {
   "cell_type": "code",
   "execution_count": 191,
   "metadata": {},
   "outputs": [],
   "source": [
    "X_sub = test_data.values\n",
    "X_sub[:,numerical_columns] = scaler.transform(X_sub[:,numerical_columns])"
   ]
  },
  {
   "cell_type": "code",
   "execution_count": 192,
   "metadata": {},
   "outputs": [],
   "source": [
    "y_test_pred = logreg.predict_proba(X_sub)[:, 1]"
   ]
  },
  {
   "cell_type": "code",
   "execution_count": 193,
   "metadata": {},
   "outputs": [
    {
     "data": {
      "text/plain": [
       "array([0.50693244, 0.9650535 , 0.94685722, ..., 0.41246145, 0.73246158,\n",
       "       0.10711106])"
      ]
     },
     "execution_count": 193,
     "metadata": {},
     "output_type": "execute_result"
    }
   ],
   "source": [
    "y_test_pred"
   ]
  },
  {
   "cell_type": "code",
   "execution_count": 194,
   "metadata": {},
   "outputs": [],
   "source": [
    "y_test_pred = logreg.predict_proba(X_sub)[:, 1]\n",
    "\n",
    "df_submission = pd.DataFrame({'radiant_win_prob': y_test_pred}, \n",
    "                                 index=test_data.index)"
   ]
  },
  {
   "cell_type": "code",
   "execution_count": 195,
   "metadata": {},
   "outputs": [
    {
     "name": "stdout",
     "output_type": "stream",
     "text": [
      "Submission saved to submission_2019-11-07_00-13-36.csv\n"
     ]
    }
   ],
   "source": [
    "import datetime\n",
    "submission_filename = 'submission_{}.csv'.format(\n",
    "    datetime.datetime.now().strftime('%Y-%m-%d_%H-%M-%S'))\n",
    "df_submission.to_csv(submission_filename)\n",
    "print('Submission saved to {}'.format(submission_filename))"
   ]
  },
  {
   "cell_type": "code",
   "execution_count": 196,
   "metadata": {},
   "outputs": [
    {
     "data": {
      "text/html": [
       "<div>\n",
       "<style scoped>\n",
       "    .dataframe tbody tr th:only-of-type {\n",
       "        vertical-align: middle;\n",
       "    }\n",
       "\n",
       "    .dataframe tbody tr th {\n",
       "        vertical-align: top;\n",
       "    }\n",
       "\n",
       "    .dataframe thead th {\n",
       "        text-align: right;\n",
       "    }\n",
       "</style>\n",
       "<table border=\"1\" class=\"dataframe\">\n",
       "  <thead>\n",
       "    <tr style=\"text-align: right;\">\n",
       "      <th></th>\n",
       "      <th>radiant_win_prob</th>\n",
       "    </tr>\n",
       "    <tr>\n",
       "      <th>match_id_hash</th>\n",
       "      <th></th>\n",
       "    </tr>\n",
       "  </thead>\n",
       "  <tbody>\n",
       "    <tr>\n",
       "      <th>30cc2d778dca82f2edb568ce9b585caa</th>\n",
       "      <td>0.506932</td>\n",
       "    </tr>\n",
       "    <tr>\n",
       "      <th>70e5ba30f367cea48793b9003fab9d38</th>\n",
       "      <td>0.965054</td>\n",
       "    </tr>\n",
       "    <tr>\n",
       "      <th>4d9ef74d3a2025d79e9423105fd73d41</th>\n",
       "      <td>0.946857</td>\n",
       "    </tr>\n",
       "    <tr>\n",
       "      <th>2bb79e0c1eaac1608e5a09c8e0c6a555</th>\n",
       "      <td>0.722896</td>\n",
       "    </tr>\n",
       "    <tr>\n",
       "      <th>bec17f099b01d67edc82dfb5ce735a43</th>\n",
       "      <td>0.457699</td>\n",
       "    </tr>\n",
       "  </tbody>\n",
       "</table>\n",
       "</div>"
      ],
      "text/plain": [
       "                                  radiant_win_prob\n",
       "match_id_hash                                     \n",
       "30cc2d778dca82f2edb568ce9b585caa          0.506932\n",
       "70e5ba30f367cea48793b9003fab9d38          0.965054\n",
       "4d9ef74d3a2025d79e9423105fd73d41          0.946857\n",
       "2bb79e0c1eaac1608e5a09c8e0c6a555          0.722896\n",
       "bec17f099b01d67edc82dfb5ce735a43          0.457699"
      ]
     },
     "execution_count": 196,
     "metadata": {},
     "output_type": "execute_result"
    }
   ],
   "source": [
    "df_submission.head()\n"
   ]
  },
  {
   "cell_type": "code",
   "execution_count": 176,
   "metadata": {},
   "outputs": [
    {
     "data": {
      "text/plain": [
       "(10000, 1)"
      ]
     },
     "execution_count": 176,
     "metadata": {},
     "output_type": "execute_result"
    }
   ],
   "source": [
    "df_submission.shape"
   ]
  },
  {
   "cell_type": "code",
   "execution_count": null,
   "metadata": {},
   "outputs": [],
   "source": []
  }
 ],
 "metadata": {
  "kernelspec": {
   "display_name": "Python 3",
   "language": "python",
   "name": "python3"
  }
 },
 "nbformat": 4,
 "nbformat_minor": 2
}
