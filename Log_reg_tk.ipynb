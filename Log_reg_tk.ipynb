{
 "cells": [
  {
   "cell_type": "code",
   "execution_count": 1,
   "metadata": {},
   "outputs": [],
   "source": [
    "import pandas as pd\n",
    "import numpy as np\n",
    "import matplotlib.pyplot as plt\n",
    "plt.rcParams['figure.dpi']= 100\n",
    "import seaborn as sns\n",
    "import warnings\n",
    "warnings.filterwarnings('ignore')"
   ]
  },
  {
   "cell_type": "markdown",
   "metadata": {},
   "source": [
    "# Smaller Dataset, Feature Selector, Logistic Regression"
   ]
  },
  {
   "cell_type": "code",
   "execution_count": 435,
   "metadata": {},
   "outputs": [
    {
     "data": {
      "text/html": [
       "<div>\n",
       "<style scoped>\n",
       "    .dataframe tbody tr th:only-of-type {\n",
       "        vertical-align: middle;\n",
       "    }\n",
       "\n",
       "    .dataframe tbody tr th {\n",
       "        vertical-align: top;\n",
       "    }\n",
       "\n",
       "    .dataframe thead th {\n",
       "        text-align: right;\n",
       "    }\n",
       "</style>\n",
       "<table border=\"1\" class=\"dataframe\">\n",
       "  <thead>\n",
       "    <tr style=\"text-align: right;\">\n",
       "      <th></th>\n",
       "      <th>d_dead</th>\n",
       "      <th>r_dead</th>\n",
       "      <th>d_health_avg</th>\n",
       "      <th>r_health_avg</th>\n",
       "      <th>r_in_d_base</th>\n",
       "      <th>d_in_r_base</th>\n",
       "      <th>r_in_r_base</th>\n",
       "      <th>d_in_d_base</th>\n",
       "      <th>r_hero_id</th>\n",
       "      <th>r_kills</th>\n",
       "      <th>...</th>\n",
       "      <th>r_in_d_base_hero_id</th>\n",
       "      <th>d_in_r_base_hero_id</th>\n",
       "      <th>r_in_d_base_count_ability_use</th>\n",
       "      <th>d_in_r_base_count_ability_use</th>\n",
       "      <th>r_in_d_max_hero_hit</th>\n",
       "      <th>d_in_r_max_hero_hit</th>\n",
       "      <th>r_in_d_damage_dealt</th>\n",
       "      <th>d_in_r_damage_dealt</th>\n",
       "      <th>r_in_r_damage_received</th>\n",
       "      <th>d_in_d_damage_received</th>\n",
       "    </tr>\n",
       "    <tr>\n",
       "      <th>match_id_hash</th>\n",
       "      <th></th>\n",
       "      <th></th>\n",
       "      <th></th>\n",
       "      <th></th>\n",
       "      <th></th>\n",
       "      <th></th>\n",
       "      <th></th>\n",
       "      <th></th>\n",
       "      <th></th>\n",
       "      <th></th>\n",
       "      <th></th>\n",
       "      <th></th>\n",
       "      <th></th>\n",
       "      <th></th>\n",
       "      <th></th>\n",
       "      <th></th>\n",
       "      <th></th>\n",
       "      <th></th>\n",
       "      <th></th>\n",
       "      <th></th>\n",
       "      <th></th>\n",
       "    </tr>\n",
       "  </thead>\n",
       "  <tbody>\n",
       "    <tr>\n",
       "      <th>a400b8f29dece5f4d266f49f1ae2e98a</th>\n",
       "      <td>0</td>\n",
       "      <td>0</td>\n",
       "      <td>0.954967</td>\n",
       "      <td>0.715500</td>\n",
       "      <td>0</td>\n",
       "      <td>0</td>\n",
       "      <td>0</td>\n",
       "      <td>0</td>\n",
       "      <td>-355</td>\n",
       "      <td>0</td>\n",
       "      <td>...</td>\n",
       "      <td>0</td>\n",
       "      <td>0</td>\n",
       "      <td>0</td>\n",
       "      <td>0</td>\n",
       "      <td>0</td>\n",
       "      <td>0</td>\n",
       "      <td>0</td>\n",
       "      <td>0</td>\n",
       "      <td>0</td>\n",
       "      <td>0</td>\n",
       "    </tr>\n",
       "    <tr>\n",
       "      <th>b9c57c450ce74a2af79c9ce96fac144d</th>\n",
       "      <td>0</td>\n",
       "      <td>0</td>\n",
       "      <td>0.764778</td>\n",
       "      <td>0.846735</td>\n",
       "      <td>0</td>\n",
       "      <td>0</td>\n",
       "      <td>1</td>\n",
       "      <td>1</td>\n",
       "      <td>341</td>\n",
       "      <td>16</td>\n",
       "      <td>...</td>\n",
       "      <td>0</td>\n",
       "      <td>0</td>\n",
       "      <td>0</td>\n",
       "      <td>0</td>\n",
       "      <td>0</td>\n",
       "      <td>0</td>\n",
       "      <td>0</td>\n",
       "      <td>0</td>\n",
       "      <td>4857</td>\n",
       "      <td>2154</td>\n",
       "    </tr>\n",
       "    <tr>\n",
       "      <th>6db558535151ea18ca70a6892197db41</th>\n",
       "      <td>0</td>\n",
       "      <td>0</td>\n",
       "      <td>0.989032</td>\n",
       "      <td>0.989333</td>\n",
       "      <td>0</td>\n",
       "      <td>0</td>\n",
       "      <td>0</td>\n",
       "      <td>2</td>\n",
       "      <td>3</td>\n",
       "      <td>0</td>\n",
       "      <td>...</td>\n",
       "      <td>0</td>\n",
       "      <td>0</td>\n",
       "      <td>0</td>\n",
       "      <td>0</td>\n",
       "      <td>0</td>\n",
       "      <td>0</td>\n",
       "      <td>0</td>\n",
       "      <td>0</td>\n",
       "      <td>0</td>\n",
       "      <td>0</td>\n",
       "    </tr>\n",
       "    <tr>\n",
       "      <th>46a0ddce8f7ed2a8d9bd5edcbb925682</th>\n",
       "      <td>0</td>\n",
       "      <td>0</td>\n",
       "      <td>0.869557</td>\n",
       "      <td>0.955818</td>\n",
       "      <td>0</td>\n",
       "      <td>0</td>\n",
       "      <td>0</td>\n",
       "      <td>0</td>\n",
       "      <td>559</td>\n",
       "      <td>6</td>\n",
       "      <td>...</td>\n",
       "      <td>0</td>\n",
       "      <td>0</td>\n",
       "      <td>0</td>\n",
       "      <td>0</td>\n",
       "      <td>0</td>\n",
       "      <td>0</td>\n",
       "      <td>0</td>\n",
       "      <td>0</td>\n",
       "      <td>0</td>\n",
       "      <td>0</td>\n",
       "    </tr>\n",
       "    <tr>\n",
       "      <th>b1b35ff97723d9b7ade1c9c3cf48f770</th>\n",
       "      <td>0</td>\n",
       "      <td>0</td>\n",
       "      <td>0.808481</td>\n",
       "      <td>0.735127</td>\n",
       "      <td>0</td>\n",
       "      <td>0</td>\n",
       "      <td>0</td>\n",
       "      <td>0</td>\n",
       "      <td>735</td>\n",
       "      <td>2</td>\n",
       "      <td>...</td>\n",
       "      <td>0</td>\n",
       "      <td>0</td>\n",
       "      <td>0</td>\n",
       "      <td>0</td>\n",
       "      <td>0</td>\n",
       "      <td>0</td>\n",
       "      <td>0</td>\n",
       "      <td>0</td>\n",
       "      <td>0</td>\n",
       "      <td>0</td>\n",
       "    </tr>\n",
       "  </tbody>\n",
       "</table>\n",
       "<p>5 rows × 120 columns</p>\n",
       "</div>"
      ],
      "text/plain": [
       "                                  d_dead  r_dead  d_health_avg  r_health_avg  \\\n",
       "match_id_hash                                                                  \n",
       "a400b8f29dece5f4d266f49f1ae2e98a       0       0      0.954967      0.715500   \n",
       "b9c57c450ce74a2af79c9ce96fac144d       0       0      0.764778      0.846735   \n",
       "6db558535151ea18ca70a6892197db41       0       0      0.989032      0.989333   \n",
       "46a0ddce8f7ed2a8d9bd5edcbb925682       0       0      0.869557      0.955818   \n",
       "b1b35ff97723d9b7ade1c9c3cf48f770       0       0      0.808481      0.735127   \n",
       "\n",
       "                                  r_in_d_base  d_in_r_base  r_in_r_base  \\\n",
       "match_id_hash                                                             \n",
       "a400b8f29dece5f4d266f49f1ae2e98a            0            0            0   \n",
       "b9c57c450ce74a2af79c9ce96fac144d            0            0            1   \n",
       "6db558535151ea18ca70a6892197db41            0            0            0   \n",
       "46a0ddce8f7ed2a8d9bd5edcbb925682            0            0            0   \n",
       "b1b35ff97723d9b7ade1c9c3cf48f770            0            0            0   \n",
       "\n",
       "                                  d_in_d_base  r_hero_id  r_kills  ...  \\\n",
       "match_id_hash                                                      ...   \n",
       "a400b8f29dece5f4d266f49f1ae2e98a            0       -355        0  ...   \n",
       "b9c57c450ce74a2af79c9ce96fac144d            1        341       16  ...   \n",
       "6db558535151ea18ca70a6892197db41            2          3        0  ...   \n",
       "46a0ddce8f7ed2a8d9bd5edcbb925682            0        559        6  ...   \n",
       "b1b35ff97723d9b7ade1c9c3cf48f770            0        735        2  ...   \n",
       "\n",
       "                                  r_in_d_base_hero_id  d_in_r_base_hero_id  \\\n",
       "match_id_hash                                                                \n",
       "a400b8f29dece5f4d266f49f1ae2e98a                    0                    0   \n",
       "b9c57c450ce74a2af79c9ce96fac144d                    0                    0   \n",
       "6db558535151ea18ca70a6892197db41                    0                    0   \n",
       "46a0ddce8f7ed2a8d9bd5edcbb925682                    0                    0   \n",
       "b1b35ff97723d9b7ade1c9c3cf48f770                    0                    0   \n",
       "\n",
       "                                  r_in_d_base_count_ability_use  \\\n",
       "match_id_hash                                                     \n",
       "a400b8f29dece5f4d266f49f1ae2e98a                              0   \n",
       "b9c57c450ce74a2af79c9ce96fac144d                              0   \n",
       "6db558535151ea18ca70a6892197db41                              0   \n",
       "46a0ddce8f7ed2a8d9bd5edcbb925682                              0   \n",
       "b1b35ff97723d9b7ade1c9c3cf48f770                              0   \n",
       "\n",
       "                                  d_in_r_base_count_ability_use  \\\n",
       "match_id_hash                                                     \n",
       "a400b8f29dece5f4d266f49f1ae2e98a                              0   \n",
       "b9c57c450ce74a2af79c9ce96fac144d                              0   \n",
       "6db558535151ea18ca70a6892197db41                              0   \n",
       "46a0ddce8f7ed2a8d9bd5edcbb925682                              0   \n",
       "b1b35ff97723d9b7ade1c9c3cf48f770                              0   \n",
       "\n",
       "                                  r_in_d_max_hero_hit  d_in_r_max_hero_hit  \\\n",
       "match_id_hash                                                                \n",
       "a400b8f29dece5f4d266f49f1ae2e98a                    0                    0   \n",
       "b9c57c450ce74a2af79c9ce96fac144d                    0                    0   \n",
       "6db558535151ea18ca70a6892197db41                    0                    0   \n",
       "46a0ddce8f7ed2a8d9bd5edcbb925682                    0                    0   \n",
       "b1b35ff97723d9b7ade1c9c3cf48f770                    0                    0   \n",
       "\n",
       "                                  r_in_d_damage_dealt  d_in_r_damage_dealt  \\\n",
       "match_id_hash                                                                \n",
       "a400b8f29dece5f4d266f49f1ae2e98a                    0                    0   \n",
       "b9c57c450ce74a2af79c9ce96fac144d                    0                    0   \n",
       "6db558535151ea18ca70a6892197db41                    0                    0   \n",
       "46a0ddce8f7ed2a8d9bd5edcbb925682                    0                    0   \n",
       "b1b35ff97723d9b7ade1c9c3cf48f770                    0                    0   \n",
       "\n",
       "                                  r_in_r_damage_received  \\\n",
       "match_id_hash                                              \n",
       "a400b8f29dece5f4d266f49f1ae2e98a                       0   \n",
       "b9c57c450ce74a2af79c9ce96fac144d                    4857   \n",
       "6db558535151ea18ca70a6892197db41                       0   \n",
       "46a0ddce8f7ed2a8d9bd5edcbb925682                       0   \n",
       "b1b35ff97723d9b7ade1c9c3cf48f770                       0   \n",
       "\n",
       "                                  d_in_d_damage_received  \n",
       "match_id_hash                                             \n",
       "a400b8f29dece5f4d266f49f1ae2e98a                       0  \n",
       "b9c57c450ce74a2af79c9ce96fac144d                    2154  \n",
       "6db558535151ea18ca70a6892197db41                       0  \n",
       "46a0ddce8f7ed2a8d9bd5edcbb925682                       0  \n",
       "b1b35ff97723d9b7ade1c9c3cf48f770                       0  \n",
       "\n",
       "[5 rows x 120 columns]"
      ]
     },
     "execution_count": 435,
     "metadata": {},
     "output_type": "execute_result"
    }
   ],
   "source": [
    "data_log_reg = pd.read_csv(r'C:\\Users\\Tatiana\\Documents\\Programming\\MLcourse competition\\new_feat_train_small.csv', index_col ='match_id_hash')\n",
    "\n",
    "# #small set\n",
    "#data = pd.read_csv(r'C:\\Users\\Tatiana\\Documents\\Programming\\MLcourse competition\\new_feat_train_small.csv', index_col ='match_id_hash')\n",
    "target = pd.read_csv(r'C:\\Users\\Tatiana\\Documents\\Programming\\MLcourse competition\\train_targets.csv', index_col = 'match_id_hash')\n",
    "y = target['radiant_win']\n",
    "y = y.apply(lambda x: int(x))\n",
    "# data = data.drop(columns = ['positions'])\n",
    "data_log_reg.head()"
   ]
  },
  {
   "cell_type": "code",
   "execution_count": 436,
   "metadata": {},
   "outputs": [],
   "source": [
    "# smaller dataset\n",
    "\n",
    "col_to_drop = ['r_deaths', 'd_deaths'] \n",
    "cat_feats = ['game_mode','lobby_type', 'r_in_d_base', 'd_in_r_base','r_firstblood_claimed','d_firstblood_claimed', 'r_in_r_base', 'd_in_d_base']\n",
    "num_feats = [col for col in data_log_reg.columns if col not in cat_feats]\n",
    "numerical_columns =[]\n",
    "for j in range(len(data_log_reg.columns)):\n",
    "    if data_log_reg.columns[j] in num_feats:\n",
    "        numerical_columns.append(j)"
   ]
  },
  {
   "cell_type": "code",
   "execution_count": 150,
   "metadata": {},
   "outputs": [],
   "source": [
    "# # determine the columns of the numerical data for further normalization\n",
    "# first_blood_claimed = ['r{}_firstblood_claimed'.format(x) for x in range(1,6)]+['d{}_firstblood_claimed'.format(x) for x in range(1,6)]+['r_firstblood_claimed','d_firstblood_claimed']\n",
    "# cat_feats = ['game_mode','lobby_type', 'r_in_d_base', 'd_in_r_base', 'r_in_r_base', 'd_in_d_base']+first_blood_claimed\n",
    "# num_feats = [col for col in data.columns if col not in cat_feats]\n",
    "# # numerical"
   ]
  },
  {
   "cell_type": "code",
   "execution_count": 439,
   "metadata": {},
   "outputs": [],
   "source": [
    "from sklearn.preprocessing import StandardScaler\n",
    "from sklearn.preprocessing import OneHotEncoder\n",
    "\n",
    "\n",
    "from sklearn.compose import ColumnTransformer, make_column_transformer\n",
    "\n",
    "preprocess = make_column_transformer(\n",
    "    (StandardScaler(), num_feats),\n",
    "    (OneHotEncoder(),cat_feats))\n",
    "\n"
   ]
  },
  {
   "cell_type": "code",
   "execution_count": 440,
   "metadata": {},
   "outputs": [],
   "source": [
    "from sklearn.model_selection import train_test_split\n",
    "\n",
    "# X = data_log_reg\n",
    "X = preprocess.fit_transform(data_log_reg)\n",
    "\n",
    "X_train, X_test, y_train, y_test = train_test_split(X, y, test_size=0.30, random_state=150)"
   ]
  },
  {
   "cell_type": "code",
   "execution_count": 441,
   "metadata": {},
   "outputs": [
    {
     "data": {
      "text/plain": [
       "(27772, 150)"
      ]
     },
     "execution_count": 441,
     "metadata": {},
     "output_type": "execute_result"
    }
   ],
   "source": [
    "X_train.shape"
   ]
  },
  {
   "cell_type": "code",
   "execution_count": 443,
   "metadata": {},
   "outputs": [],
   "source": [
    "from sklearn.linear_model import LogisticRegression\n",
    "from sklearn.model_selection import cross_val_predict\n",
    "from sklearn.metrics import accuracy_score, roc_auc_score\n",
    "\n",
    "\n",
    "logreg = LogisticRegression(C = 10,penalty = 'l2',random_state = 50 )\n",
    "\n",
    "\n"
   ]
  },
  {
   "cell_type": "code",
   "execution_count": 445,
   "metadata": {},
   "outputs": [],
   "source": [
    "from sklearn.feature_selection import RFECV\n",
    "\n",
    "\n",
    "feat_selector = RFECV(logreg, step = 3, cv = 5, min_features_to_select = 20)\n",
    "feat_selector = feat_selector.fit(X_train, y_train)"
   ]
  },
  {
   "cell_type": "code",
   "execution_count": 446,
   "metadata": {},
   "outputs": [
    {
     "data": {
      "text/plain": [
       "[<matplotlib.lines.Line2D at 0x1cc61235860>]"
      ]
     },
     "execution_count": 446,
     "metadata": {},
     "output_type": "execute_result"
    },
    {
     "data": {
      "image/png": "[encoded data removed]",
      "text/plain": [
       "<Figure size 432x288 with 1 Axes>"
      ]
     },
     "metadata": {
      "needs_background": "light"
     },
     "output_type": "display_data"
    }
   ],
   "source": [
    "plt.plot(range(1, len(feat_selector.grid_scores_) + 1), feat_selector.grid_scores_)"
   ]
  },
  {
   "cell_type": "code",
   "execution_count": 448,
   "metadata": {},
   "outputs": [],
   "source": [
    "# # select only the matrix of meaningfull features\n",
    "# X_train_new = feat_selector.transform(X_trans)\n",
    "# X_test_new = feat_selector.transform(preprocess.transform(X_test))\n"
   ]
  },
  {
   "cell_type": "code",
   "execution_count": 450,
   "metadata": {
    "scrolled": true
   },
   "outputs": [
    {
     "name": "stdout",
     "output_type": "stream",
     "text": [
      "0.7545156683189111\n",
      "0.7530601662833893\n"
     ]
    },
    {
     "data": {
      "text/plain": [
       "Text(0.5, 0, 'coefficients of regression')"
      ]
     },
     "execution_count": 450,
     "metadata": {},
     "output_type": "execute_result"
    },
    {
     "data": {
      "image/png": "[encoded data removed]",
      "text/plain": [
       "<Figure size 432x288 with 1 Axes>"
      ]
     },
     "metadata": {
      "needs_background": "light"
     },
     "output_type": "display_data"
    }
   ],
   "source": [
    "# fit logreg with penalty 'l1' on the feature selected above( penalty 'l2' used for spped. Can be repeated with 'l1')\n",
    "logreg = LogisticRegression(C = 10,penalty = 'l1',random_state = 50 )\n",
    "\n",
    "\n",
    "logreg.fit(X_train,y_train)\n",
    "predicted = logreg.predict(X_test)\n",
    "print(accuracy_score(y_test, predicted))\n",
    "print(roc_auc_score(y_test,predicted))\n",
    "c = logreg.coef_\n",
    "plt.plot(c[0])\n",
    "plt.xlabel('coefficients of regression')"
   ]
  },
  {
   "cell_type": "code",
   "execution_count": 452,
   "metadata": {},
   "outputs": [
    {
     "data": {
      "text/plain": [
       "LogisticRegression(C=10, class_weight=None, dual=False, fit_intercept=True,\n",
       "          intercept_scaling=1, max_iter=100, multi_class='warn',\n",
       "          n_jobs=None, penalty='l1', random_state=50, solver='warn',\n",
       "          tol=0.0001, verbose=0, warm_start=False)"
      ]
     },
     "execution_count": 452,
     "metadata": {},
     "output_type": "execute_result"
    }
   ],
   "source": [
    "# fit this model on only selected fetures:\n",
    "\n",
    "logreg.fit(X,y)\n"
   ]
  },
  {
   "cell_type": "code",
   "execution_count": 453,
   "metadata": {},
   "outputs": [
    {
     "data": {
      "text/plain": [
       "(10000, 96)"
      ]
     },
     "execution_count": 453,
     "metadata": {},
     "output_type": "execute_result"
    }
   ],
   "source": [
    "test_data = pd.read_csv(r'C:\\Users\\Tatiana\\Documents\\Programming\\MLcourse competition\\new_feat_test_small.csv', index_col ='match_id_hash')\n",
    "# #small\n",
    "# test_data = data = pd.read_csv(r'C:\\Users\\Tatiana\\Documents\\Programming\\MLcourse competition\\new_feat_test_small.csv', index_col ='match_id_hash')\n",
    "test_data.shape"
   ]
  },
  {
   "cell_type": "code",
   "execution_count": 454,
   "metadata": {},
   "outputs": [
    {
     "ename": "ValueError",
     "evalue": "Specifying the columns using strings is only supported for pandas DataFrames",
     "output_type": "error",
     "traceback": [
      "\u001b[1;31m---------------------------------------------------------------------------\u001b[0m",
      "\u001b[1;31mValueError\u001b[0m                                Traceback (most recent call last)",
      "\u001b[1;32m<ipython-input-454-0aab2aa1032a>\u001b[0m in \u001b[0;36m<module>\u001b[1;34m\u001b[0m\n\u001b[0;32m      1\u001b[0m \u001b[1;31m# X_sub = test_data\u001b[0m\u001b[1;33m\u001b[0m\u001b[1;33m\u001b[0m\u001b[1;33m\u001b[0m\u001b[0m\n\u001b[1;32m----> 2\u001b[1;33m \u001b[0mX_sub_log_reg\u001b[0m \u001b[1;33m=\u001b[0m \u001b[0mfeat_selector\u001b[0m\u001b[1;33m.\u001b[0m\u001b[0mtransform\u001b[0m\u001b[1;33m(\u001b[0m\u001b[0mpreprocess\u001b[0m\u001b[1;33m.\u001b[0m\u001b[0mtransform\u001b[0m\u001b[1;33m(\u001b[0m\u001b[0mX_sub\u001b[0m\u001b[1;33m)\u001b[0m\u001b[1;33m)\u001b[0m\u001b[1;33m\u001b[0m\u001b[1;33m\u001b[0m\u001b[0m\n\u001b[0m\u001b[0;32m      3\u001b[0m \u001b[0my_test_pred_log_red\u001b[0m \u001b[1;33m=\u001b[0m \u001b[0mlogreg\u001b[0m\u001b[1;33m.\u001b[0m\u001b[0mpredict_proba\u001b[0m\u001b[1;33m(\u001b[0m\u001b[0mX_sub_log_reg\u001b[0m\u001b[1;33m)\u001b[0m\u001b[1;33m[\u001b[0m\u001b[1;33m:\u001b[0m\u001b[1;33m,\u001b[0m \u001b[1;36m1\u001b[0m\u001b[1;33m]\u001b[0m\u001b[1;33m\u001b[0m\u001b[1;33m\u001b[0m\u001b[0m\n\u001b[0;32m      4\u001b[0m \u001b[0my_test_pred_log_red\u001b[0m\u001b[1;33m\u001b[0m\u001b[1;33m\u001b[0m\u001b[0m\n",
      "\u001b[1;32m~\\Anaconda3\\envs\\insight\\lib\\site-packages\\sklearn\\compose\\_column_transformer.py\u001b[0m in \u001b[0;36mtransform\u001b[1;34m(self, X)\u001b[0m\n\u001b[0;32m    491\u001b[0m \u001b[1;33m\u001b[0m\u001b[0m\n\u001b[0;32m    492\u001b[0m         \u001b[0mX\u001b[0m \u001b[1;33m=\u001b[0m \u001b[0m_check_X\u001b[0m\u001b[1;33m(\u001b[0m\u001b[0mX\u001b[0m\u001b[1;33m)\u001b[0m\u001b[1;33m\u001b[0m\u001b[1;33m\u001b[0m\u001b[0m\n\u001b[1;32m--> 493\u001b[1;33m         \u001b[0mXs\u001b[0m \u001b[1;33m=\u001b[0m \u001b[0mself\u001b[0m\u001b[1;33m.\u001b[0m\u001b[0m_fit_transform\u001b[0m\u001b[1;33m(\u001b[0m\u001b[0mX\u001b[0m\u001b[1;33m,\u001b[0m \u001b[1;32mNone\u001b[0m\u001b[1;33m,\u001b[0m \u001b[0m_transform_one\u001b[0m\u001b[1;33m,\u001b[0m \u001b[0mfitted\u001b[0m\u001b[1;33m=\u001b[0m\u001b[1;32mTrue\u001b[0m\u001b[1;33m)\u001b[0m\u001b[1;33m\u001b[0m\u001b[1;33m\u001b[0m\u001b[0m\n\u001b[0m\u001b[0;32m    494\u001b[0m         \u001b[0mself\u001b[0m\u001b[1;33m.\u001b[0m\u001b[0m_validate_output\u001b[0m\u001b[1;33m(\u001b[0m\u001b[0mXs\u001b[0m\u001b[1;33m)\u001b[0m\u001b[1;33m\u001b[0m\u001b[1;33m\u001b[0m\u001b[0m\n\u001b[0;32m    495\u001b[0m \u001b[1;33m\u001b[0m\u001b[0m\n",
      "\u001b[1;32m~\\Anaconda3\\envs\\insight\\lib\\site-packages\\sklearn\\compose\\_column_transformer.py\u001b[0m in \u001b[0;36m_fit_transform\u001b[1;34m(self, X, y, func, fitted)\u001b[0m\n\u001b[0;32m    391\u001b[0m                               _get_column(X, column), y, weight)\n\u001b[0;32m    392\u001b[0m                 for _, trans, column, weight in self._iter(\n\u001b[1;32m--> 393\u001b[1;33m                     fitted=fitted, replace_strings=True))\n\u001b[0m\u001b[0;32m    394\u001b[0m         \u001b[1;32mexcept\u001b[0m \u001b[0mValueError\u001b[0m \u001b[1;32mas\u001b[0m \u001b[0me\u001b[0m\u001b[1;33m:\u001b[0m\u001b[1;33m\u001b[0m\u001b[1;33m\u001b[0m\u001b[0m\n\u001b[0;32m    395\u001b[0m             \u001b[1;32mif\u001b[0m \u001b[1;34m\"Expected 2D array, got 1D array instead\"\u001b[0m \u001b[1;32min\u001b[0m \u001b[0mstr\u001b[0m\u001b[1;33m(\u001b[0m\u001b[0me\u001b[0m\u001b[1;33m)\u001b[0m\u001b[1;33m:\u001b[0m\u001b[1;33m\u001b[0m\u001b[1;33m\u001b[0m\u001b[0m\n",
      "\u001b[1;32m~\\Anaconda3\\envs\\insight\\lib\\site-packages\\sklearn\\externals\\joblib\\parallel.py\u001b[0m in \u001b[0;36m__call__\u001b[1;34m(self, iterable)\u001b[0m\n\u001b[0;32m    915\u001b[0m             \u001b[1;31m# remaining jobs.\u001b[0m\u001b[1;33m\u001b[0m\u001b[1;33m\u001b[0m\u001b[1;33m\u001b[0m\u001b[0m\n\u001b[0;32m    916\u001b[0m             \u001b[0mself\u001b[0m\u001b[1;33m.\u001b[0m\u001b[0m_iterating\u001b[0m \u001b[1;33m=\u001b[0m \u001b[1;32mFalse\u001b[0m\u001b[1;33m\u001b[0m\u001b[1;33m\u001b[0m\u001b[0m\n\u001b[1;32m--> 917\u001b[1;33m             \u001b[1;32mif\u001b[0m \u001b[0mself\u001b[0m\u001b[1;33m.\u001b[0m\u001b[0mdispatch_one_batch\u001b[0m\u001b[1;33m(\u001b[0m\u001b[0miterator\u001b[0m\u001b[1;33m)\u001b[0m\u001b[1;33m:\u001b[0m\u001b[1;33m\u001b[0m\u001b[1;33m\u001b[0m\u001b[0m\n\u001b[0m\u001b[0;32m    918\u001b[0m                 \u001b[0mself\u001b[0m\u001b[1;33m.\u001b[0m\u001b[0m_iterating\u001b[0m \u001b[1;33m=\u001b[0m \u001b[0mself\u001b[0m\u001b[1;33m.\u001b[0m\u001b[0m_original_iterator\u001b[0m \u001b[1;32mis\u001b[0m \u001b[1;32mnot\u001b[0m \u001b[1;32mNone\u001b[0m\u001b[1;33m\u001b[0m\u001b[1;33m\u001b[0m\u001b[0m\n\u001b[0;32m    919\u001b[0m \u001b[1;33m\u001b[0m\u001b[0m\n",
      "\u001b[1;32m~\\Anaconda3\\envs\\insight\\lib\\site-packages\\sklearn\\externals\\joblib\\parallel.py\u001b[0m in \u001b[0;36mdispatch_one_batch\u001b[1;34m(self, iterator)\u001b[0m\n\u001b[0;32m    752\u001b[0m             tasks = BatchedCalls(itertools.islice(iterator, batch_size),\n\u001b[0;32m    753\u001b[0m                                  \u001b[0mself\u001b[0m\u001b[1;33m.\u001b[0m\u001b[0m_backend\u001b[0m\u001b[1;33m.\u001b[0m\u001b[0mget_nested_backend\u001b[0m\u001b[1;33m(\u001b[0m\u001b[1;33m)\u001b[0m\u001b[1;33m,\u001b[0m\u001b[1;33m\u001b[0m\u001b[1;33m\u001b[0m\u001b[0m\n\u001b[1;32m--> 754\u001b[1;33m                                  self._pickle_cache)\n\u001b[0m\u001b[0;32m    755\u001b[0m             \u001b[1;32mif\u001b[0m \u001b[0mlen\u001b[0m\u001b[1;33m(\u001b[0m\u001b[0mtasks\u001b[0m\u001b[1;33m)\u001b[0m \u001b[1;33m==\u001b[0m \u001b[1;36m0\u001b[0m\u001b[1;33m:\u001b[0m\u001b[1;33m\u001b[0m\u001b[1;33m\u001b[0m\u001b[0m\n\u001b[0;32m    756\u001b[0m                 \u001b[1;31m# No more tasks available in the iterator: tell caller to stop.\u001b[0m\u001b[1;33m\u001b[0m\u001b[1;33m\u001b[0m\u001b[1;33m\u001b[0m\u001b[0m\n",
      "\u001b[1;32m~\\Anaconda3\\envs\\insight\\lib\\site-packages\\sklearn\\externals\\joblib\\parallel.py\u001b[0m in \u001b[0;36m__init__\u001b[1;34m(self, iterator_slice, backend_and_jobs, pickle_cache)\u001b[0m\n\u001b[0;32m    208\u001b[0m \u001b[1;33m\u001b[0m\u001b[0m\n\u001b[0;32m    209\u001b[0m     \u001b[1;32mdef\u001b[0m \u001b[0m__init__\u001b[0m\u001b[1;33m(\u001b[0m\u001b[0mself\u001b[0m\u001b[1;33m,\u001b[0m \u001b[0miterator_slice\u001b[0m\u001b[1;33m,\u001b[0m \u001b[0mbackend_and_jobs\u001b[0m\u001b[1;33m,\u001b[0m \u001b[0mpickle_cache\u001b[0m\u001b[1;33m=\u001b[0m\u001b[1;32mNone\u001b[0m\u001b[1;33m)\u001b[0m\u001b[1;33m:\u001b[0m\u001b[1;33m\u001b[0m\u001b[1;33m\u001b[0m\u001b[0m\n\u001b[1;32m--> 210\u001b[1;33m         \u001b[0mself\u001b[0m\u001b[1;33m.\u001b[0m\u001b[0mitems\u001b[0m \u001b[1;33m=\u001b[0m \u001b[0mlist\u001b[0m\u001b[1;33m(\u001b[0m\u001b[0miterator_slice\u001b[0m\u001b[1;33m)\u001b[0m\u001b[1;33m\u001b[0m\u001b[1;33m\u001b[0m\u001b[0m\n\u001b[0m\u001b[0;32m    211\u001b[0m         \u001b[0mself\u001b[0m\u001b[1;33m.\u001b[0m\u001b[0m_size\u001b[0m \u001b[1;33m=\u001b[0m \u001b[0mlen\u001b[0m\u001b[1;33m(\u001b[0m\u001b[0mself\u001b[0m\u001b[1;33m.\u001b[0m\u001b[0mitems\u001b[0m\u001b[1;33m)\u001b[0m\u001b[1;33m\u001b[0m\u001b[1;33m\u001b[0m\u001b[0m\n\u001b[0;32m    212\u001b[0m         \u001b[1;32mif\u001b[0m \u001b[0misinstance\u001b[0m\u001b[1;33m(\u001b[0m\u001b[0mbackend_and_jobs\u001b[0m\u001b[1;33m,\u001b[0m \u001b[0mtuple\u001b[0m\u001b[1;33m)\u001b[0m\u001b[1;33m:\u001b[0m\u001b[1;33m\u001b[0m\u001b[1;33m\u001b[0m\u001b[0m\n",
      "\u001b[1;32m~\\Anaconda3\\envs\\insight\\lib\\site-packages\\sklearn\\compose\\_column_transformer.py\u001b[0m in \u001b[0;36m<genexpr>\u001b[1;34m(.0)\u001b[0m\n\u001b[0;32m    390\u001b[0m                 delayed(func)(clone(trans) if not fitted else trans,\n\u001b[0;32m    391\u001b[0m                               _get_column(X, column), y, weight)\n\u001b[1;32m--> 392\u001b[1;33m                 for _, trans, column, weight in self._iter(\n\u001b[0m\u001b[0;32m    393\u001b[0m                     fitted=fitted, replace_strings=True))\n\u001b[0;32m    394\u001b[0m         \u001b[1;32mexcept\u001b[0m \u001b[0mValueError\u001b[0m \u001b[1;32mas\u001b[0m \u001b[0me\u001b[0m\u001b[1;33m:\u001b[0m\u001b[1;33m\u001b[0m\u001b[1;33m\u001b[0m\u001b[0m\n",
      "\u001b[1;32m~\\Anaconda3\\envs\\insight\\lib\\site-packages\\sklearn\\compose\\_column_transformer.py\u001b[0m in \u001b[0;36m_get_column\u001b[1;34m(X, key)\u001b[0m\n\u001b[0;32m    609\u001b[0m             \u001b[1;32mreturn\u001b[0m \u001b[0mX\u001b[0m\u001b[1;33m.\u001b[0m\u001b[0mloc\u001b[0m\u001b[1;33m[\u001b[0m\u001b[1;33m:\u001b[0m\u001b[1;33m,\u001b[0m \u001b[0mkey\u001b[0m\u001b[1;33m]\u001b[0m\u001b[1;33m\u001b[0m\u001b[1;33m\u001b[0m\u001b[0m\n\u001b[0;32m    610\u001b[0m         \u001b[1;32melse\u001b[0m\u001b[1;33m:\u001b[0m\u001b[1;33m\u001b[0m\u001b[1;33m\u001b[0m\u001b[0m\n\u001b[1;32m--> 611\u001b[1;33m             raise ValueError(\"Specifying the columns using strings is only \"\n\u001b[0m\u001b[0;32m    612\u001b[0m                              \"supported for pandas DataFrames\")\n\u001b[0;32m    613\u001b[0m     \u001b[1;32melse\u001b[0m\u001b[1;33m:\u001b[0m\u001b[1;33m\u001b[0m\u001b[1;33m\u001b[0m\u001b[0m\n",
      "\u001b[1;31mValueError\u001b[0m: Specifying the columns using strings is only supported for pandas DataFrames"
     ]
    }
   ],
   "source": [
    "# X_sub = test_data\n",
    "X_sub_log_reg = feat_selector.transform(preprocess.transform(X_sub))\n",
    "y_test_pred_log_red = logreg.predict_proba(X_sub_log_reg)[:, 1]\n",
    "y_test_pred_log_red"
   ]
  },
  {
   "cell_type": "code",
   "execution_count": 370,
   "metadata": {},
   "outputs": [
    {
     "name": "stdout",
     "output_type": "stream",
     "text": [
      "Submission saved to submission_2019-11-15_18-32-42.csv\n"
     ]
    },
    {
     "data": {
      "text/html": [
       "<div>\n",
       "<style scoped>\n",
       "    .dataframe tbody tr th:only-of-type {\n",
       "        vertical-align: middle;\n",
       "    }\n",
       "\n",
       "    .dataframe tbody tr th {\n",
       "        vertical-align: top;\n",
       "    }\n",
       "\n",
       "    .dataframe thead th {\n",
       "        text-align: right;\n",
       "    }\n",
       "</style>\n",
       "<table border=\"1\" class=\"dataframe\">\n",
       "  <thead>\n",
       "    <tr style=\"text-align: right;\">\n",
       "      <th></th>\n",
       "      <th>radiant_win_prob</th>\n",
       "    </tr>\n",
       "    <tr>\n",
       "      <th>match_id_hash</th>\n",
       "      <th></th>\n",
       "    </tr>\n",
       "  </thead>\n",
       "  <tbody>\n",
       "    <tr>\n",
       "      <th>30cc2d778dca82f2edb568ce9b585caa</th>\n",
       "      <td>0.285957</td>\n",
       "    </tr>\n",
       "    <tr>\n",
       "      <th>70e5ba30f367cea48793b9003fab9d38</th>\n",
       "      <td>0.963710</td>\n",
       "    </tr>\n",
       "    <tr>\n",
       "      <th>4d9ef74d3a2025d79e9423105fd73d41</th>\n",
       "      <td>0.868812</td>\n",
       "    </tr>\n",
       "    <tr>\n",
       "      <th>2bb79e0c1eaac1608e5a09c8e0c6a555</th>\n",
       "      <td>0.821172</td>\n",
       "    </tr>\n",
       "    <tr>\n",
       "      <th>bec17f099b01d67edc82dfb5ce735a43</th>\n",
       "      <td>0.248324</td>\n",
       "    </tr>\n",
       "    <tr>\n",
       "      <th>038acbb47d9eb54c11962d07cce8d829</th>\n",
       "      <td>0.129400</td>\n",
       "    </tr>\n",
       "    <tr>\n",
       "      <th>b891f03bb2a86d78b84043437fc95e04</th>\n",
       "      <td>0.957244</td>\n",
       "    </tr>\n",
       "    <tr>\n",
       "      <th>ff898afdb5bb5c7163bde45a009503f7</th>\n",
       "      <td>0.078063</td>\n",
       "    </tr>\n",
       "    <tr>\n",
       "      <th>72e6b1c31c718c0806f9aaeb8b7290a9</th>\n",
       "      <td>0.699101</td>\n",
       "    </tr>\n",
       "    <tr>\n",
       "      <th>abd97ab60ceca3ae6f00a28baea8a43c</th>\n",
       "      <td>0.747113</td>\n",
       "    </tr>\n",
       "  </tbody>\n",
       "</table>\n",
       "</div>"
      ],
      "text/plain": [
       "                                  radiant_win_prob\n",
       "match_id_hash                                     \n",
       "30cc2d778dca82f2edb568ce9b585caa          0.285957\n",
       "70e5ba30f367cea48793b9003fab9d38          0.963710\n",
       "4d9ef74d3a2025d79e9423105fd73d41          0.868812\n",
       "2bb79e0c1eaac1608e5a09c8e0c6a555          0.821172\n",
       "bec17f099b01d67edc82dfb5ce735a43          0.248324\n",
       "038acbb47d9eb54c11962d07cce8d829          0.129400\n",
       "b891f03bb2a86d78b84043437fc95e04          0.957244\n",
       "ff898afdb5bb5c7163bde45a009503f7          0.078063\n",
       "72e6b1c31c718c0806f9aaeb8b7290a9          0.699101\n",
       "abd97ab60ceca3ae6f00a28baea8a43c          0.747113"
      ]
     },
     "execution_count": 370,
     "metadata": {},
     "output_type": "execute_result"
    }
   ],
   "source": [
    "df_submission = pd.DataFrame({'radiant_win_prob': y_test_pred},index=test_data.index)\n",
    "\n",
    "import datetime\n",
    "submission_filename = 'submission_{}.csv'.format(datetime.datetime.now().strftime('%Y-%m-%d_%H-%M-%S'))\n",
    "df_submission.to_csv(submission_filename)\n",
    "\n",
    "print('Submission saved to {}'.format(submission_filename))\n",
    "df_submission.head(10)"
   ]
  },
  {
   "cell_type": "markdown",
   "metadata": {},
   "source": [
    "# Smaller Dataset, Logistic Regression, no Feature Selector"
   ]
  },
  {
   "cell_type": "code",
   "execution_count": 548,
   "metadata": {},
   "outputs": [
    {
     "data": {
      "text/html": [
       "<div>\n",
       "<style scoped>\n",
       "    .dataframe tbody tr th:only-of-type {\n",
       "        vertical-align: middle;\n",
       "    }\n",
       "\n",
       "    .dataframe tbody tr th {\n",
       "        vertical-align: top;\n",
       "    }\n",
       "\n",
       "    .dataframe thead th {\n",
       "        text-align: right;\n",
       "    }\n",
       "</style>\n",
       "<table border=\"1\" class=\"dataframe\">\n",
       "  <thead>\n",
       "    <tr style=\"text-align: right;\">\n",
       "      <th></th>\n",
       "      <th>d_dead</th>\n",
       "      <th>r_dead</th>\n",
       "      <th>d_health_avg</th>\n",
       "      <th>r_health_avg</th>\n",
       "      <th>r1_in_d_base</th>\n",
       "      <th>d1_in_r_base</th>\n",
       "      <th>r1_in_r_base</th>\n",
       "      <th>d1_in_d_base</th>\n",
       "      <th>r2_in_d_base</th>\n",
       "      <th>d2_in_r_base</th>\n",
       "      <th>...</th>\n",
       "      <th>log_r_creeps_stacked</th>\n",
       "      <th>log_d_creeps_stacked</th>\n",
       "      <th>log_r_camps_stacked</th>\n",
       "      <th>log_d_camps_stacked</th>\n",
       "      <th>log_r_rune_pickups</th>\n",
       "      <th>log_d_rune_pickups</th>\n",
       "      <th>log_r_sen_placed</th>\n",
       "      <th>log_d_sen_placed</th>\n",
       "      <th>log_chat_len</th>\n",
       "      <th>log_game_time</th>\n",
       "    </tr>\n",
       "    <tr>\n",
       "      <th>match_id_hash</th>\n",
       "      <th></th>\n",
       "      <th></th>\n",
       "      <th></th>\n",
       "      <th></th>\n",
       "      <th></th>\n",
       "      <th></th>\n",
       "      <th></th>\n",
       "      <th></th>\n",
       "      <th></th>\n",
       "      <th></th>\n",
       "      <th></th>\n",
       "      <th></th>\n",
       "      <th></th>\n",
       "      <th></th>\n",
       "      <th></th>\n",
       "      <th></th>\n",
       "      <th></th>\n",
       "      <th></th>\n",
       "      <th></th>\n",
       "      <th></th>\n",
       "      <th></th>\n",
       "    </tr>\n",
       "  </thead>\n",
       "  <tbody>\n",
       "    <tr>\n",
       "      <th>a400b8f29dece5f4d266f49f1ae2e98a</th>\n",
       "      <td>0</td>\n",
       "      <td>0</td>\n",
       "      <td>0.954967</td>\n",
       "      <td>0.715500</td>\n",
       "      <td>0</td>\n",
       "      <td>0</td>\n",
       "      <td>0</td>\n",
       "      <td>0</td>\n",
       "      <td>0</td>\n",
       "      <td>0</td>\n",
       "      <td>...</td>\n",
       "      <td>0.000000</td>\n",
       "      <td>0.000000</td>\n",
       "      <td>0.000000</td>\n",
       "      <td>0.000000</td>\n",
       "      <td>1.098612</td>\n",
       "      <td>2.079442</td>\n",
       "      <td>0.000000</td>\n",
       "      <td>0.000000</td>\n",
       "      <td>2.484907</td>\n",
       "      <td>5.049856</td>\n",
       "    </tr>\n",
       "    <tr>\n",
       "      <th>b9c57c450ce74a2af79c9ce96fac144d</th>\n",
       "      <td>0</td>\n",
       "      <td>0</td>\n",
       "      <td>0.764778</td>\n",
       "      <td>0.846735</td>\n",
       "      <td>0</td>\n",
       "      <td>0</td>\n",
       "      <td>1</td>\n",
       "      <td>0</td>\n",
       "      <td>0</td>\n",
       "      <td>0</td>\n",
       "      <td>...</td>\n",
       "      <td>1.098612</td>\n",
       "      <td>1.386294</td>\n",
       "      <td>0.693147</td>\n",
       "      <td>1.098612</td>\n",
       "      <td>2.639057</td>\n",
       "      <td>2.708050</td>\n",
       "      <td>1.386294</td>\n",
       "      <td>1.098612</td>\n",
       "      <td>2.397895</td>\n",
       "      <td>6.490724</td>\n",
       "    </tr>\n",
       "    <tr>\n",
       "      <th>6db558535151ea18ca70a6892197db41</th>\n",
       "      <td>0</td>\n",
       "      <td>0</td>\n",
       "      <td>0.989032</td>\n",
       "      <td>0.989333</td>\n",
       "      <td>0</td>\n",
       "      <td>0</td>\n",
       "      <td>0</td>\n",
       "      <td>1</td>\n",
       "      <td>0</td>\n",
       "      <td>0</td>\n",
       "      <td>...</td>\n",
       "      <td>0.000000</td>\n",
       "      <td>0.000000</td>\n",
       "      <td>0.000000</td>\n",
       "      <td>0.000000</td>\n",
       "      <td>1.386294</td>\n",
       "      <td>0.693147</td>\n",
       "      <td>0.000000</td>\n",
       "      <td>0.000000</td>\n",
       "      <td>0.000000</td>\n",
       "      <td>3.091042</td>\n",
       "    </tr>\n",
       "    <tr>\n",
       "      <th>46a0ddce8f7ed2a8d9bd5edcbb925682</th>\n",
       "      <td>0</td>\n",
       "      <td>0</td>\n",
       "      <td>0.869557</td>\n",
       "      <td>0.955818</td>\n",
       "      <td>0</td>\n",
       "      <td>0</td>\n",
       "      <td>0</td>\n",
       "      <td>0</td>\n",
       "      <td>0</td>\n",
       "      <td>0</td>\n",
       "      <td>...</td>\n",
       "      <td>0.000000</td>\n",
       "      <td>1.945910</td>\n",
       "      <td>0.000000</td>\n",
       "      <td>1.098612</td>\n",
       "      <td>2.639057</td>\n",
       "      <td>2.484907</td>\n",
       "      <td>0.000000</td>\n",
       "      <td>0.000000</td>\n",
       "      <td>1.609438</td>\n",
       "      <td>6.357842</td>\n",
       "    </tr>\n",
       "    <tr>\n",
       "      <th>b1b35ff97723d9b7ade1c9c3cf48f770</th>\n",
       "      <td>0</td>\n",
       "      <td>0</td>\n",
       "      <td>0.808481</td>\n",
       "      <td>0.735127</td>\n",
       "      <td>0</td>\n",
       "      <td>0</td>\n",
       "      <td>0</td>\n",
       "      <td>0</td>\n",
       "      <td>0</td>\n",
       "      <td>0</td>\n",
       "      <td>...</td>\n",
       "      <td>0.000000</td>\n",
       "      <td>1.098612</td>\n",
       "      <td>0.000000</td>\n",
       "      <td>0.693147</td>\n",
       "      <td>2.484907</td>\n",
       "      <td>2.197225</td>\n",
       "      <td>0.000000</td>\n",
       "      <td>0.000000</td>\n",
       "      <td>1.386294</td>\n",
       "      <td>6.118097</td>\n",
       "    </tr>\n",
       "  </tbody>\n",
       "</table>\n",
       "<p>5 rows × 116 columns</p>\n",
       "</div>"
      ],
      "text/plain": [
       "                                  d_dead  r_dead  d_health_avg  r_health_avg  \\\n",
       "match_id_hash                                                                  \n",
       "a400b8f29dece5f4d266f49f1ae2e98a       0       0      0.954967      0.715500   \n",
       "b9c57c450ce74a2af79c9ce96fac144d       0       0      0.764778      0.846735   \n",
       "6db558535151ea18ca70a6892197db41       0       0      0.989032      0.989333   \n",
       "46a0ddce8f7ed2a8d9bd5edcbb925682       0       0      0.869557      0.955818   \n",
       "b1b35ff97723d9b7ade1c9c3cf48f770       0       0      0.808481      0.735127   \n",
       "\n",
       "                                  r1_in_d_base  d1_in_r_base  r1_in_r_base  \\\n",
       "match_id_hash                                                                \n",
       "a400b8f29dece5f4d266f49f1ae2e98a             0             0             0   \n",
       "b9c57c450ce74a2af79c9ce96fac144d             0             0             1   \n",
       "6db558535151ea18ca70a6892197db41             0             0             0   \n",
       "46a0ddce8f7ed2a8d9bd5edcbb925682             0             0             0   \n",
       "b1b35ff97723d9b7ade1c9c3cf48f770             0             0             0   \n",
       "\n",
       "                                  d1_in_d_base  r2_in_d_base  d2_in_r_base  \\\n",
       "match_id_hash                                                                \n",
       "a400b8f29dece5f4d266f49f1ae2e98a             0             0             0   \n",
       "b9c57c450ce74a2af79c9ce96fac144d             0             0             0   \n",
       "6db558535151ea18ca70a6892197db41             1             0             0   \n",
       "46a0ddce8f7ed2a8d9bd5edcbb925682             0             0             0   \n",
       "b1b35ff97723d9b7ade1c9c3cf48f770             0             0             0   \n",
       "\n",
       "                                  ...  log_r_creeps_stacked  \\\n",
       "match_id_hash                     ...                         \n",
       "a400b8f29dece5f4d266f49f1ae2e98a  ...              0.000000   \n",
       "b9c57c450ce74a2af79c9ce96fac144d  ...              1.098612   \n",
       "6db558535151ea18ca70a6892197db41  ...              0.000000   \n",
       "46a0ddce8f7ed2a8d9bd5edcbb925682  ...              0.000000   \n",
       "b1b35ff97723d9b7ade1c9c3cf48f770  ...              0.000000   \n",
       "\n",
       "                                  log_d_creeps_stacked  log_r_camps_stacked  \\\n",
       "match_id_hash                                                                 \n",
       "a400b8f29dece5f4d266f49f1ae2e98a              0.000000             0.000000   \n",
       "b9c57c450ce74a2af79c9ce96fac144d              1.386294             0.693147   \n",
       "6db558535151ea18ca70a6892197db41              0.000000             0.000000   \n",
       "46a0ddce8f7ed2a8d9bd5edcbb925682              1.945910             0.000000   \n",
       "b1b35ff97723d9b7ade1c9c3cf48f770              1.098612             0.000000   \n",
       "\n",
       "                                  log_d_camps_stacked  log_r_rune_pickups  \\\n",
       "match_id_hash                                                               \n",
       "a400b8f29dece5f4d266f49f1ae2e98a             0.000000            1.098612   \n",
       "b9c57c450ce74a2af79c9ce96fac144d             1.098612            2.639057   \n",
       "6db558535151ea18ca70a6892197db41             0.000000            1.386294   \n",
       "46a0ddce8f7ed2a8d9bd5edcbb925682             1.098612            2.639057   \n",
       "b1b35ff97723d9b7ade1c9c3cf48f770             0.693147            2.484907   \n",
       "\n",
       "                                  log_d_rune_pickups  log_r_sen_placed  \\\n",
       "match_id_hash                                                            \n",
       "a400b8f29dece5f4d266f49f1ae2e98a            2.079442          0.000000   \n",
       "b9c57c450ce74a2af79c9ce96fac144d            2.708050          1.386294   \n",
       "6db558535151ea18ca70a6892197db41            0.693147          0.000000   \n",
       "46a0ddce8f7ed2a8d9bd5edcbb925682            2.484907          0.000000   \n",
       "b1b35ff97723d9b7ade1c9c3cf48f770            2.197225          0.000000   \n",
       "\n",
       "                                  log_d_sen_placed  log_chat_len  \\\n",
       "match_id_hash                                                      \n",
       "a400b8f29dece5f4d266f49f1ae2e98a          0.000000      2.484907   \n",
       "b9c57c450ce74a2af79c9ce96fac144d          1.098612      2.397895   \n",
       "6db558535151ea18ca70a6892197db41          0.000000      0.000000   \n",
       "46a0ddce8f7ed2a8d9bd5edcbb925682          0.000000      1.609438   \n",
       "b1b35ff97723d9b7ade1c9c3cf48f770          0.000000      1.386294   \n",
       "\n",
       "                                  log_game_time  \n",
       "match_id_hash                                    \n",
       "a400b8f29dece5f4d266f49f1ae2e98a       5.049856  \n",
       "b9c57c450ce74a2af79c9ce96fac144d       6.490724  \n",
       "6db558535151ea18ca70a6892197db41       3.091042  \n",
       "46a0ddce8f7ed2a8d9bd5edcbb925682       6.357842  \n",
       "b1b35ff97723d9b7ade1c9c3cf48f770       6.118097  \n",
       "\n",
       "[5 rows x 116 columns]"
      ]
     },
     "execution_count": 548,
     "metadata": {},
     "output_type": "execute_result"
    }
   ],
   "source": [
    "data_log_reg = pd.read_csv(r'C:\\Users\\Tatiana\\Documents\\Programming\\MLcourse competition\\new_feat_train_small.csv', index_col ='match_id_hash')\n",
    "\n",
    "# #small set\n",
    "#data = pd.read_csv(r'C:\\Users\\Tatiana\\Documents\\Programming\\MLcourse competition\\new_feat_train_small.csv', index_col ='match_id_hash')\n",
    "target = pd.read_csv(r'C:\\Users\\Tatiana\\Documents\\Programming\\MLcourse competition\\train_targets.csv', index_col = 'match_id_hash')\n",
    "y = target['radiant_win']\n",
    "y = y.apply(lambda x: int(x))\n",
    "# data = data.drop(columns = ['positions'])\n",
    "data_log_reg.head()"
   ]
  },
  {
   "cell_type": "code",
   "execution_count": 549,
   "metadata": {},
   "outputs": [],
   "source": [
    "# smaller dataset\n",
    "\n",
    "col_to_drop = ['r_deaths', 'd_deaths'] \n",
    "cat_feats = ['game_mode','lobby_type', 'r_in_d_base', 'd_in_r_base','r_firstblood_claimed','d_firstblood_claimed', 'r_in_r_base', 'd_in_d_base']\n",
    "# boolean_cols = ['boolean_r_ability_level','boolean_d_ability_level','boolean_r_kills','boolean_d_kills',\n",
    "#                 'boolean_r_assists','boolean_d_assists','boolean_r_deaths','boolean_d_deaths','boolean_r_sen_placed',\n",
    "#                'boolean_d_sen_placed']\n",
    "# cat_feats += boolean_cols\n",
    "\n",
    "num_feats = [col for col in data_log_reg.columns if col not in cat_feats]\n",
    "numerical_columns =[]\n",
    "for j in range(len(data_log_reg.columns)):\n",
    "    if data_log_reg.columns[j] in num_feats:\n",
    "        numerical_columns.append(j)"
   ]
  },
  {
   "cell_type": "code",
   "execution_count": 550,
   "metadata": {},
   "outputs": [
    {
     "data": {
      "text/plain": [
       "(27772, 116)"
      ]
     },
     "execution_count": 550,
     "metadata": {},
     "output_type": "execute_result"
    }
   ],
   "source": [
    "from sklearn.model_selection import train_test_split\n",
    "\n",
    "X_log_reg = data_log_reg\n",
    "\n",
    "X_train, X_test, y_train, y_test = train_test_split(X_log_reg, y, test_size=0.30, random_state=150)\n",
    "X_train.shape"
   ]
  },
  {
   "cell_type": "code",
   "execution_count": 551,
   "metadata": {},
   "outputs": [],
   "source": [
    "from sklearn.preprocessing import StandardScaler\n",
    "from sklearn.preprocessing import OneHotEncoder\n",
    "from sklearn.pipeline import Pipeline, FeatureUnion, make_pipeline\n",
    "\n",
    "from sklearn.compose import ColumnTransformer, make_column_transformer\n",
    "\n",
    "preprocess = make_column_transformer(\n",
    "    (StandardScaler(), num_feats),\n",
    "    (OneHotEncoder(),cat_feats))\n",
    "\n",
    "from sklearn.linear_model import LogisticRegression\n",
    "from sklearn.model_selection import cross_val_predict\n",
    "from sklearn.metrics import accuracy_score, roc_auc_score\n",
    "\n",
    "\n",
    "logreg = LogisticRegression(C = 10,penalty = 'l1',random_state = 150 )\n",
    "\n",
    "pipe = make_pipeline(preprocess, logreg)"
   ]
  },
  {
   "cell_type": "code",
   "execution_count": 552,
   "metadata": {},
   "outputs": [
    {
     "data": {
      "text/plain": [
       "Pipeline(memory=None,\n",
       "     steps=[('columntransformer', ColumnTransformer(n_jobs=None, remainder='drop', sparse_threshold=0.3,\n",
       "         transformer_weights=None,\n",
       "         transformers=[('standardscaler', StandardScaler(copy=True, with_mean=True, with_std=True), ['d_dead', 'r_dead', 'd_health_avg', 'r_health_avg', 'r1_in_d_bas... penalty='l1', random_state=150, solver='warn',\n",
       "          tol=0.0001, verbose=0, warm_start=False))])"
      ]
     },
     "execution_count": 552,
     "metadata": {},
     "output_type": "execute_result"
    }
   ],
   "source": [
    "pipe.fit(X_train,y_train)"
   ]
  },
  {
   "cell_type": "code",
   "execution_count": 553,
   "metadata": {},
   "outputs": [
    {
     "name": "stdout",
     "output_type": "stream",
     "text": [
      "0.7545996807527514\n",
      "0.7531655121174597\n"
     ]
    }
   ],
   "source": [
    "predicted_log_reg = pipe.predict(X_test)\n",
    "print(accuracy_score(y_test, predicted_log_reg))\n",
    "print(roc_auc_score(y_test,predicted_log_reg))"
   ]
  },
  {
   "cell_type": "code",
   "execution_count": 555,
   "metadata": {},
   "outputs": [
    {
     "data": {
      "text/plain": [
       "Pipeline(memory=None,\n",
       "     steps=[('columntransformer', ColumnTransformer(n_jobs=None, remainder='drop', sparse_threshold=0.3,\n",
       "         transformer_weights=None,\n",
       "         transformers=[('standardscaler', StandardScaler(copy=True, with_mean=True, with_std=True), ['d_dead', 'r_dead', 'd_health_avg', 'r_health_avg', 'r1_in_d_bas... penalty='l1', random_state=150, solver='warn',\n",
       "          tol=0.0001, verbose=0, warm_start=False))])"
      ]
     },
     "execution_count": 555,
     "metadata": {},
     "output_type": "execute_result"
    }
   ],
   "source": [
    "pipe.fit(X_log_reg,y)"
   ]
  },
  {
   "cell_type": "code",
   "execution_count": 556,
   "metadata": {},
   "outputs": [
    {
     "data": {
      "text/plain": [
       "Text(0.5, 0, 'coefficients of regression')"
      ]
     },
     "execution_count": 556,
     "metadata": {},
     "output_type": "execute_result"
    },
    {
     "data": {
      "image/png": "[encoded data removed]",
      "text/plain": [
       "<Figure size 432x288 with 1 Axes>"
      ]
     },
     "metadata": {
      "needs_background": "light"
     },
     "output_type": "display_data"
    }
   ],
   "source": [
    "c = logreg.coef_\n",
    "plt.plot(c[0])\n",
    "plt.xlabel('coefficients of regression')"
   ]
  },
  {
   "cell_type": "code",
   "execution_count": 557,
   "metadata": {},
   "outputs": [
    {
     "data": {
      "text/plain": [
       "(10000, 116)"
      ]
     },
     "execution_count": 557,
     "metadata": {},
     "output_type": "execute_result"
    }
   ],
   "source": [
    "test_data =  pd.read_csv(r'C:\\Users\\Tatiana\\Documents\\Programming\\MLcourse competition\\new_feat_test_small.csv', index_col ='match_id_hash')\n",
    "test_data.shape"
   ]
  },
  {
   "cell_type": "code",
   "execution_count": 558,
   "metadata": {},
   "outputs": [
    {
     "data": {
      "text/plain": [
       "array([0.38360925, 0.98405493, 0.93870545, ..., 0.40728977, 0.87807082,\n",
       "       0.12910378])"
      ]
     },
     "execution_count": 558,
     "metadata": {},
     "output_type": "execute_result"
    }
   ],
   "source": [
    "X_sub_log_reg = test_data\n",
    "y_test_pred_log_reg = pipe.predict_proba(X_sub_log_reg)[:, 1]\n",
    "y_test_pred_log_reg"
   ]
  },
  {
   "cell_type": "code",
   "execution_count": 559,
   "metadata": {},
   "outputs": [
    {
     "name": "stdout",
     "output_type": "stream",
     "text": [
      "Submission saved to submission_2019-11-15_22-22-31.csv\n"
     ]
    },
    {
     "data": {
      "text/html": [
       "<div>\n",
       "<style scoped>\n",
       "    .dataframe tbody tr th:only-of-type {\n",
       "        vertical-align: middle;\n",
       "    }\n",
       "\n",
       "    .dataframe tbody tr th {\n",
       "        vertical-align: top;\n",
       "    }\n",
       "\n",
       "    .dataframe thead th {\n",
       "        text-align: right;\n",
       "    }\n",
       "</style>\n",
       "<table border=\"1\" class=\"dataframe\">\n",
       "  <thead>\n",
       "    <tr style=\"text-align: right;\">\n",
       "      <th></th>\n",
       "      <th>radiant_win_prob</th>\n",
       "    </tr>\n",
       "    <tr>\n",
       "      <th>match_id_hash</th>\n",
       "      <th></th>\n",
       "    </tr>\n",
       "  </thead>\n",
       "  <tbody>\n",
       "    <tr>\n",
       "      <th>30cc2d778dca82f2edb568ce9b585caa</th>\n",
       "      <td>0.383609</td>\n",
       "    </tr>\n",
       "    <tr>\n",
       "      <th>70e5ba30f367cea48793b9003fab9d38</th>\n",
       "      <td>0.984055</td>\n",
       "    </tr>\n",
       "    <tr>\n",
       "      <th>4d9ef74d3a2025d79e9423105fd73d41</th>\n",
       "      <td>0.938705</td>\n",
       "    </tr>\n",
       "    <tr>\n",
       "      <th>2bb79e0c1eaac1608e5a09c8e0c6a555</th>\n",
       "      <td>0.802060</td>\n",
       "    </tr>\n",
       "    <tr>\n",
       "      <th>bec17f099b01d67edc82dfb5ce735a43</th>\n",
       "      <td>0.206650</td>\n",
       "    </tr>\n",
       "    <tr>\n",
       "      <th>038acbb47d9eb54c11962d07cce8d829</th>\n",
       "      <td>0.076086</td>\n",
       "    </tr>\n",
       "    <tr>\n",
       "      <th>b891f03bb2a86d78b84043437fc95e04</th>\n",
       "      <td>0.952668</td>\n",
       "    </tr>\n",
       "    <tr>\n",
       "      <th>ff898afdb5bb5c7163bde45a009503f7</th>\n",
       "      <td>0.078463</td>\n",
       "    </tr>\n",
       "    <tr>\n",
       "      <th>72e6b1c31c718c0806f9aaeb8b7290a9</th>\n",
       "      <td>0.569190</td>\n",
       "    </tr>\n",
       "    <tr>\n",
       "      <th>abd97ab60ceca3ae6f00a28baea8a43c</th>\n",
       "      <td>0.645430</td>\n",
       "    </tr>\n",
       "  </tbody>\n",
       "</table>\n",
       "</div>"
      ],
      "text/plain": [
       "                                  radiant_win_prob\n",
       "match_id_hash                                     \n",
       "30cc2d778dca82f2edb568ce9b585caa          0.383609\n",
       "70e5ba30f367cea48793b9003fab9d38          0.984055\n",
       "4d9ef74d3a2025d79e9423105fd73d41          0.938705\n",
       "2bb79e0c1eaac1608e5a09c8e0c6a555          0.802060\n",
       "bec17f099b01d67edc82dfb5ce735a43          0.206650\n",
       "038acbb47d9eb54c11962d07cce8d829          0.076086\n",
       "b891f03bb2a86d78b84043437fc95e04          0.952668\n",
       "ff898afdb5bb5c7163bde45a009503f7          0.078463\n",
       "72e6b1c31c718c0806f9aaeb8b7290a9          0.569190\n",
       "abd97ab60ceca3ae6f00a28baea8a43c          0.645430"
      ]
     },
     "execution_count": 559,
     "metadata": {},
     "output_type": "execute_result"
    }
   ],
   "source": [
    "df_submission = pd.DataFrame({'radiant_win_prob': y_test_pred_log_reg},index=test_data.index)\n",
    "\n",
    "import datetime\n",
    "submission_filename = 'submission_{}.csv'.format(\n",
    "    datetime.datetime.now().strftime('%Y-%m-%d_%H-%M-%S'))\n",
    "df_submission.to_csv(submission_filename)\n",
    "print('Submission saved to {}'.format(submission_filename))\n",
    "\n",
    "df_submission.head(10)"
   ]
  },
  {
   "cell_type": "code",
   "execution_count": 36,
   "metadata": {},
   "outputs": [
    {
     "data": {
      "text/plain": [
       "(10000, 1)"
      ]
     },
     "execution_count": 36,
     "metadata": {},
     "output_type": "execute_result"
    }
   ],
   "source": [
    "df_submission.shape"
   ]
  },
  {
   "cell_type": "markdown",
   "metadata": {},
   "source": [
    "# Full data set"
   ]
  },
  {
   "cell_type": "code",
   "execution_count": 390,
   "metadata": {},
   "outputs": [
    {
     "data": {
      "text/html": [
       "<div>\n",
       "<style scoped>\n",
       "    .dataframe tbody tr th:only-of-type {\n",
       "        vertical-align: middle;\n",
       "    }\n",
       "\n",
       "    .dataframe tbody tr th {\n",
       "        vertical-align: top;\n",
       "    }\n",
       "\n",
       "    .dataframe thead th {\n",
       "        text-align: right;\n",
       "    }\n",
       "</style>\n",
       "<table border=\"1\" class=\"dataframe\">\n",
       "  <thead>\n",
       "    <tr style=\"text-align: right;\">\n",
       "      <th></th>\n",
       "      <th>d_dead</th>\n",
       "      <th>r_dead</th>\n",
       "      <th>d_health_avg</th>\n",
       "      <th>r_health_avg</th>\n",
       "      <th>r_in_d_base</th>\n",
       "      <th>d_in_r_base</th>\n",
       "      <th>r_in_r_base</th>\n",
       "      <th>d_in_d_base</th>\n",
       "      <th>r_hero_id</th>\n",
       "      <th>r_kills</th>\n",
       "      <th>...</th>\n",
       "      <th>log_r_purchase_count</th>\n",
       "      <th>log_d_purchase_count</th>\n",
       "      <th>log_r_count_ability_use</th>\n",
       "      <th>log_d_count_ability_use</th>\n",
       "      <th>log_r_damage_dealt</th>\n",
       "      <th>log_d_damage_dealt</th>\n",
       "      <th>log_r_damage_received</th>\n",
       "      <th>log_d_damage_received</th>\n",
       "      <th>log_chat_len</th>\n",
       "      <th>log_game_time</th>\n",
       "    </tr>\n",
       "    <tr>\n",
       "      <th>match_id_hash</th>\n",
       "      <th></th>\n",
       "      <th></th>\n",
       "      <th></th>\n",
       "      <th></th>\n",
       "      <th></th>\n",
       "      <th></th>\n",
       "      <th></th>\n",
       "      <th></th>\n",
       "      <th></th>\n",
       "      <th></th>\n",
       "      <th></th>\n",
       "      <th></th>\n",
       "      <th></th>\n",
       "      <th></th>\n",
       "      <th></th>\n",
       "      <th></th>\n",
       "      <th></th>\n",
       "      <th></th>\n",
       "      <th></th>\n",
       "      <th></th>\n",
       "      <th></th>\n",
       "    </tr>\n",
       "  </thead>\n",
       "  <tbody>\n",
       "    <tr>\n",
       "      <th>a400b8f29dece5f4d266f49f1ae2e98a</th>\n",
       "      <td>0</td>\n",
       "      <td>0</td>\n",
       "      <td>0.954967</td>\n",
       "      <td>0.715500</td>\n",
       "      <td>0</td>\n",
       "      <td>0</td>\n",
       "      <td>0</td>\n",
       "      <td>0</td>\n",
       "      <td>-355</td>\n",
       "      <td>0</td>\n",
       "      <td>...</td>\n",
       "      <td>3.526361</td>\n",
       "      <td>3.583519</td>\n",
       "      <td>2.079442</td>\n",
       "      <td>2.484907</td>\n",
       "      <td>9.075322</td>\n",
       "      <td>9.153347</td>\n",
       "      <td>8.353026</td>\n",
       "      <td>7.349874</td>\n",
       "      <td>2.484907</td>\n",
       "      <td>5.049856</td>\n",
       "    </tr>\n",
       "    <tr>\n",
       "      <th>b9c57c450ce74a2af79c9ce96fac144d</th>\n",
       "      <td>0</td>\n",
       "      <td>0</td>\n",
       "      <td>0.764778</td>\n",
       "      <td>0.846735</td>\n",
       "      <td>0</td>\n",
       "      <td>0</td>\n",
       "      <td>1</td>\n",
       "      <td>1</td>\n",
       "      <td>341</td>\n",
       "      <td>16</td>\n",
       "      <td>...</td>\n",
       "      <td>4.653960</td>\n",
       "      <td>4.488636</td>\n",
       "      <td>4.553877</td>\n",
       "      <td>4.634729</td>\n",
       "      <td>11.152902</td>\n",
       "      <td>10.754044</td>\n",
       "      <td>9.961945</td>\n",
       "      <td>10.104794</td>\n",
       "      <td>2.397895</td>\n",
       "      <td>6.490724</td>\n",
       "    </tr>\n",
       "    <tr>\n",
       "      <th>6db558535151ea18ca70a6892197db41</th>\n",
       "      <td>0</td>\n",
       "      <td>0</td>\n",
       "      <td>0.989032</td>\n",
       "      <td>0.989333</td>\n",
       "      <td>0</td>\n",
       "      <td>0</td>\n",
       "      <td>0</td>\n",
       "      <td>2</td>\n",
       "      <td>3</td>\n",
       "      <td>0</td>\n",
       "      <td>...</td>\n",
       "      <td>3.091042</td>\n",
       "      <td>2.944439</td>\n",
       "      <td>0.693147</td>\n",
       "      <td>0.693147</td>\n",
       "      <td>4.262680</td>\n",
       "      <td>4.234107</td>\n",
       "      <td>4.234107</td>\n",
       "      <td>4.262680</td>\n",
       "      <td>0.000000</td>\n",
       "      <td>3.091042</td>\n",
       "    </tr>\n",
       "    <tr>\n",
       "      <th>46a0ddce8f7ed2a8d9bd5edcbb925682</th>\n",
       "      <td>0</td>\n",
       "      <td>0</td>\n",
       "      <td>0.869557</td>\n",
       "      <td>0.955818</td>\n",
       "      <td>0</td>\n",
       "      <td>0</td>\n",
       "      <td>0</td>\n",
       "      <td>0</td>\n",
       "      <td>559</td>\n",
       "      <td>6</td>\n",
       "      <td>...</td>\n",
       "      <td>4.276666</td>\n",
       "      <td>4.304065</td>\n",
       "      <td>4.753590</td>\n",
       "      <td>4.418841</td>\n",
       "      <td>10.827389</td>\n",
       "      <td>11.142325</td>\n",
       "      <td>9.632138</td>\n",
       "      <td>10.034910</td>\n",
       "      <td>1.609438</td>\n",
       "      <td>6.357842</td>\n",
       "    </tr>\n",
       "    <tr>\n",
       "      <th>b1b35ff97723d9b7ade1c9c3cf48f770</th>\n",
       "      <td>0</td>\n",
       "      <td>0</td>\n",
       "      <td>0.808481</td>\n",
       "      <td>0.735127</td>\n",
       "      <td>0</td>\n",
       "      <td>0</td>\n",
       "      <td>0</td>\n",
       "      <td>0</td>\n",
       "      <td>735</td>\n",
       "      <td>2</td>\n",
       "      <td>...</td>\n",
       "      <td>3.784190</td>\n",
       "      <td>3.713572</td>\n",
       "      <td>4.477337</td>\n",
       "      <td>4.262680</td>\n",
       "      <td>10.543076</td>\n",
       "      <td>10.900879</td>\n",
       "      <td>9.672060</td>\n",
       "      <td>9.148997</td>\n",
       "      <td>1.386294</td>\n",
       "      <td>6.118097</td>\n",
       "    </tr>\n",
       "  </tbody>\n",
       "</table>\n",
       "<p>5 rows × 471 columns</p>\n",
       "</div>"
      ],
      "text/plain": [
       "                                  d_dead  r_dead  d_health_avg  r_health_avg  \\\n",
       "match_id_hash                                                                  \n",
       "a400b8f29dece5f4d266f49f1ae2e98a       0       0      0.954967      0.715500   \n",
       "b9c57c450ce74a2af79c9ce96fac144d       0       0      0.764778      0.846735   \n",
       "6db558535151ea18ca70a6892197db41       0       0      0.989032      0.989333   \n",
       "46a0ddce8f7ed2a8d9bd5edcbb925682       0       0      0.869557      0.955818   \n",
       "b1b35ff97723d9b7ade1c9c3cf48f770       0       0      0.808481      0.735127   \n",
       "\n",
       "                                  r_in_d_base  d_in_r_base  r_in_r_base  \\\n",
       "match_id_hash                                                             \n",
       "a400b8f29dece5f4d266f49f1ae2e98a            0            0            0   \n",
       "b9c57c450ce74a2af79c9ce96fac144d            0            0            1   \n",
       "6db558535151ea18ca70a6892197db41            0            0            0   \n",
       "46a0ddce8f7ed2a8d9bd5edcbb925682            0            0            0   \n",
       "b1b35ff97723d9b7ade1c9c3cf48f770            0            0            0   \n",
       "\n",
       "                                  d_in_d_base  r_hero_id  r_kills  ...  \\\n",
       "match_id_hash                                                      ...   \n",
       "a400b8f29dece5f4d266f49f1ae2e98a            0       -355        0  ...   \n",
       "b9c57c450ce74a2af79c9ce96fac144d            1        341       16  ...   \n",
       "6db558535151ea18ca70a6892197db41            2          3        0  ...   \n",
       "46a0ddce8f7ed2a8d9bd5edcbb925682            0        559        6  ...   \n",
       "b1b35ff97723d9b7ade1c9c3cf48f770            0        735        2  ...   \n",
       "\n",
       "                                  log_r_purchase_count  log_d_purchase_count  \\\n",
       "match_id_hash                                                                  \n",
       "a400b8f29dece5f4d266f49f1ae2e98a              3.526361              3.583519   \n",
       "b9c57c450ce74a2af79c9ce96fac144d              4.653960              4.488636   \n",
       "6db558535151ea18ca70a6892197db41              3.091042              2.944439   \n",
       "46a0ddce8f7ed2a8d9bd5edcbb925682              4.276666              4.304065   \n",
       "b1b35ff97723d9b7ade1c9c3cf48f770              3.784190              3.713572   \n",
       "\n",
       "                                  log_r_count_ability_use  \\\n",
       "match_id_hash                                               \n",
       "a400b8f29dece5f4d266f49f1ae2e98a                 2.079442   \n",
       "b9c57c450ce74a2af79c9ce96fac144d                 4.553877   \n",
       "6db558535151ea18ca70a6892197db41                 0.693147   \n",
       "46a0ddce8f7ed2a8d9bd5edcbb925682                 4.753590   \n",
       "b1b35ff97723d9b7ade1c9c3cf48f770                 4.477337   \n",
       "\n",
       "                                  log_d_count_ability_use  log_r_damage_dealt  \\\n",
       "match_id_hash                                                                   \n",
       "a400b8f29dece5f4d266f49f1ae2e98a                 2.484907            9.075322   \n",
       "b9c57c450ce74a2af79c9ce96fac144d                 4.634729           11.152902   \n",
       "6db558535151ea18ca70a6892197db41                 0.693147            4.262680   \n",
       "46a0ddce8f7ed2a8d9bd5edcbb925682                 4.418841           10.827389   \n",
       "b1b35ff97723d9b7ade1c9c3cf48f770                 4.262680           10.543076   \n",
       "\n",
       "                                  log_d_damage_dealt  log_r_damage_received  \\\n",
       "match_id_hash                                                                 \n",
       "a400b8f29dece5f4d266f49f1ae2e98a            9.153347               8.353026   \n",
       "b9c57c450ce74a2af79c9ce96fac144d           10.754044               9.961945   \n",
       "6db558535151ea18ca70a6892197db41            4.234107               4.234107   \n",
       "46a0ddce8f7ed2a8d9bd5edcbb925682           11.142325               9.632138   \n",
       "b1b35ff97723d9b7ade1c9c3cf48f770           10.900879               9.672060   \n",
       "\n",
       "                                  log_d_damage_received  log_chat_len  \\\n",
       "match_id_hash                                                           \n",
       "a400b8f29dece5f4d266f49f1ae2e98a               7.349874      2.484907   \n",
       "b9c57c450ce74a2af79c9ce96fac144d              10.104794      2.397895   \n",
       "6db558535151ea18ca70a6892197db41               4.262680      0.000000   \n",
       "46a0ddce8f7ed2a8d9bd5edcbb925682              10.034910      1.609438   \n",
       "b1b35ff97723d9b7ade1c9c3cf48f770               9.148997      1.386294   \n",
       "\n",
       "                                  log_game_time  \n",
       "match_id_hash                                    \n",
       "a400b8f29dece5f4d266f49f1ae2e98a       5.049856  \n",
       "b9c57c450ce74a2af79c9ce96fac144d       6.490724  \n",
       "6db558535151ea18ca70a6892197db41       3.091042  \n",
       "46a0ddce8f7ed2a8d9bd5edcbb925682       6.357842  \n",
       "b1b35ff97723d9b7ade1c9c3cf48f770       6.118097  \n",
       "\n",
       "[5 rows x 471 columns]"
      ]
     },
     "execution_count": 390,
     "metadata": {},
     "output_type": "execute_result"
    }
   ],
   "source": [
    "data_log_reg = pd.read_csv(r'C:\\Users\\Tatiana\\Documents\\Programming\\MLcourse competition\\new_feat_train.csv', index_col ='match_id_hash')\n",
    "\n",
    "# #small set\n",
    "#data = pd.read_csv(r'C:\\Users\\Tatiana\\Documents\\Programming\\MLcourse competition\\new_feat_train_small.csv', index_col ='match_id_hash')\n",
    "target = pd.read_csv(r'C:\\Users\\Tatiana\\Documents\\Programming\\MLcourse competition\\train_targets.csv', index_col = 'match_id_hash')\n",
    "y = target['radiant_win']\n",
    "y = y.apply(lambda x: int(x))\n",
    "\n",
    "data_log_reg.head()"
   ]
  },
  {
   "cell_type": "code",
   "execution_count": 391,
   "metadata": {},
   "outputs": [],
   "source": [
    "# determine the columns of the numerical data for further normalization\n",
    "\n",
    "first_blood_claimed = ['r{}_firstblood_claimed'.format(x) for x in range(1,6)]+['d{}_firstblood_claimed'.format(x) for x in range(1,6)]+['r_firstblood_claimed','d_firstblood_claimed']\n",
    "base = ['r{}_in_d_base'.format(x) for x in range(1,6)]+['d{}_in_d_base'.format(x) for x in range(1,6)]+['r_in_d_base','d_in_d_base']\n",
    "base += ['r{}_in_r_base'.format(x) for x in range(1,6)]+['d{}_in_r_base'.format(x) for x in range(1,6)]+['r_in_r_base','d_in_r_base']\n",
    "cat_feats = ['game_mode','lobby_type', 'r_in_d_base', 'd_in_r_base']+base+first_blood_claimed\n",
    "num_feats = [col for col in data_log_reg.columns if col not in cat_feats]\n",
    "# numerical"
   ]
  },
  {
   "cell_type": "code",
   "execution_count": 392,
   "metadata": {},
   "outputs": [],
   "source": [
    "numerical_columns =[]\n",
    "for j in range(len(data_log_reg.columns)):\n",
    "    if data_log_reg.columns[j] in num_feats:\n",
    "        numerical_columns.append(j)"
   ]
  },
  {
   "cell_type": "code",
   "execution_count": 421,
   "metadata": {},
   "outputs": [],
   "source": [
    "from sklearn.model_selection import train_test_split\n",
    "X = data_log_reg\n",
    "X_train, X_test, y_train, y_test = train_test_split(X, y, test_size=0.30, random_state=150)"
   ]
  },
  {
   "cell_type": "code",
   "execution_count": 410,
   "metadata": {},
   "outputs": [],
   "source": [
    "from sklearn.preprocessing import StandardScaler\n",
    "from sklearn.preprocessing import OneHotEncoder\n",
    "from sklearn.pipeline import Pipeline, FeatureUnion, make_pipeline\n",
    "\n",
    "from sklearn.compose import ColumnTransformer, make_column_transformer\n",
    "\n",
    "preprocess = make_column_transformer(\n",
    "    (StandardScaler(), num_feats),\n",
    "    (OneHotEncoder(),cat_feats))\n",
    "\n",
    "from sklearn.linear_model import LogisticRegression\n",
    "from sklearn.model_selection import cross_val_predict\n",
    "from sklearn.metrics import accuracy_score, roc_auc_score\n",
    "\n",
    "\n",
    "logreg = LogisticRegression(C = 1,penalty = 'l2',random_state = 150 )\n",
    "\n",
    "pipe = make_pipeline(preprocess, logreg)"
   ]
  },
  {
   "cell_type": "code",
   "execution_count": 427,
   "metadata": {},
   "outputs": [],
   "source": [
    "\n",
    "\n",
    "X_trans = preprocess.fit_transform(X_train)\n"
   ]
  },
  {
   "cell_type": "code",
   "execution_count": null,
   "metadata": {},
   "outputs": [],
   "source": [
    "from sklearn.feature_selection import RFECV\n",
    "feat_selector = RFECV(logreg, step = 20, cv = 5, min_features_to_select = 50)\n",
    "feat_selector = feat_selector.fit(X_trans, y_train)"
   ]
  },
  {
   "cell_type": "code",
   "execution_count": 406,
   "metadata": {},
   "outputs": [
    {
     "data": {
      "text/plain": [
       "[<matplotlib.lines.Line2D at 0x1cc3674c438>]"
      ]
     },
     "execution_count": 406,
     "metadata": {},
     "output_type": "execute_result"
    },
    {
     "data": {
      "image/png": "[encoded data removed]",
      "text/plain": [
       "<Figure size 432x288 with 1 Axes>"
      ]
     },
     "metadata": {
      "needs_background": "light"
     },
     "output_type": "display_data"
    }
   ],
   "source": [
    "# select only the matrix of meaningfull features\n",
    "X_train_new = feat_selector.transform(X_trans)\n",
    "X_test_new = feat_selector.transform(preprocess.transform(X_test))\n",
    "plt.plot(range(1, len(feat_selector.grid_scores_) + 1), feat_selector.grid_scores_)"
   ]
  },
  {
   "cell_type": "code",
   "execution_count": 411,
   "metadata": {},
   "outputs": [
    {
     "name": "stdout",
     "output_type": "stream",
     "text": [
      "0.7529194320759472\n",
      "0.7514894746152486\n"
     ]
    },
    {
     "data": {
      "text/plain": [
       "Text(0.5, 0, 'coefficients of regression')"
      ]
     },
     "execution_count": 411,
     "metadata": {},
     "output_type": "execute_result"
    },
    {
     "data": {
      "image/png": "[encoded data removed]",
      "text/plain": [
       "<Figure size 432x288 with 1 Axes>"
      ]
     },
     "metadata": {
      "needs_background": "light"
     },
     "output_type": "display_data"
    }
   ],
   "source": [
    "logreg.fit(X_train_new,y_train)\n",
    "predicted = logreg.predict(X_test_new)\n",
    "print(accuracy_score(y_test, predicted))\n",
    "print(roc_auc_score(y_test,predicted))\n",
    "c = logreg.coef_\n",
    "plt.plot(c[0])\n",
    "plt.xlabel('coefficients of regression')"
   ]
  },
  {
   "cell_type": "code",
   "execution_count": 429,
   "metadata": {},
   "outputs": [
    {
     "data": {
      "text/plain": [
       "LogisticRegression(C=1, class_weight=None, dual=False, fit_intercept=True,\n",
       "          intercept_scaling=1, max_iter=100, multi_class='warn',\n",
       "          n_jobs=None, penalty='l2', random_state=150, solver='warn',\n",
       "          tol=0.0001, verbose=0, warm_start=False)"
      ]
     },
     "execution_count": 429,
     "metadata": {},
     "output_type": "execute_result"
    }
   ],
   "source": [
    "X_trans =  feat_selector.transform(preprocess.transform(X))\n",
    "logreg.fit(X_trans,y)"
   ]
  },
  {
   "cell_type": "code",
   "execution_count": 403,
   "metadata": {},
   "outputs": [
    {
     "data": {
      "text/plain": [
       "Pipeline(memory=None,\n",
       "     steps=[('columntransformer', ColumnTransformer(n_jobs=None, remainder='drop', sparse_threshold=0.3,\n",
       "         transformer_weights=None,\n",
       "         transformers=[('standardscaler', StandardScaler(copy=True, with_mean=True, with_std=True), ['d_dead', 'r_dead', 'd_health_avg', 'r_health_avg', 'r_hero_id',... penalty='l1', random_state=150, solver='warn',\n",
       "          tol=0.0001, verbose=0, warm_start=False))])"
      ]
     },
     "execution_count": 403,
     "metadata": {},
     "output_type": "execute_result"
    }
   ],
   "source": [
    "pipe.fit(X_train,y_train)"
   ]
  },
  {
   "cell_type": "code",
   "execution_count": 404,
   "metadata": {},
   "outputs": [
    {
     "name": "stdout",
     "output_type": "stream",
     "text": [
      "0.7515752331345039\n",
      "0.750234820449319\n"
     ]
    }
   ],
   "source": [
    "predicted_log_reg = pipe.predict(X_test)\n",
    "print(accuracy_score(y_test, predicted_log_reg))\n",
    "print(roc_auc_score(y_test,predicted_log_reg))"
   ]
  },
  {
   "cell_type": "code",
   "execution_count": 145,
   "metadata": {},
   "outputs": [
    {
     "data": {
      "text/plain": [
       "Pipeline(memory=None,\n",
       "     steps=[('columntransformer', ColumnTransformer(n_jobs=None, remainder='drop', sparse_threshold=0.3,\n",
       "         transformer_weights=None,\n",
       "         transformers=[('standardscaler', StandardScaler(copy=True, with_mean=True, with_std=True), ['r_hero_id', 'r_kills', 'r_deaths', 'r_assists', 'r_denies', 'r_..., penalty='l1', random_state=50, solver='warn',\n",
       "          tol=0.0001, verbose=0, warm_start=False))])"
      ]
     },
     "execution_count": 145,
     "metadata": {},
     "output_type": "execute_result"
    }
   ],
   "source": [
    "pipe.fit(X,y)"
   ]
  },
  {
   "cell_type": "code",
   "execution_count": 430,
   "metadata": {},
   "outputs": [
    {
     "data": {
      "text/plain": [
       "Text(0.5, 0, 'coefficients of regression')"
      ]
     },
     "execution_count": 430,
     "metadata": {},
     "output_type": "execute_result"
    },
    {
     "data": {
      "image/png": "[encoded data removed]",
      "text/plain": [
       "<Figure size 432x288 with 1 Axes>"
      ]
     },
     "metadata": {
      "needs_background": "light"
     },
     "output_type": "display_data"
    }
   ],
   "source": [
    "c = logreg.coef_\n",
    "plt.plot(c[0])\n",
    "plt.xlabel('coefficients of regression')"
   ]
  },
  {
   "cell_type": "code",
   "execution_count": 432,
   "metadata": {},
   "outputs": [
    {
     "name": "stdout",
     "output_type": "stream",
     "text": [
      "(10000, 471)\n"
     ]
    }
   ],
   "source": [
    "test_data = pd.read_csv(r'C:\\Users\\Tatiana\\Documents\\Programming\\MLcourse competition\\new_feat_test.csv', index_col ='match_id_hash')\n",
    "print(test_data.shape)\n"
   ]
  },
  {
   "cell_type": "code",
   "execution_count": 148,
   "metadata": {},
   "outputs": [
    {
     "data": {
      "text/plain": [
       "array([0.34202548, 0.97225934, 0.96722677, ..., 0.34132535, 0.87918068,\n",
       "       0.10081824])"
      ]
     },
     "execution_count": 148,
     "metadata": {},
     "output_type": "execute_result"
    }
   ],
   "source": [
    "X_sub = test_data\n",
    "y_test_pred = pipe.predict_proba(X_sub)[:, 1]\n",
    "y_test_pred"
   ]
  },
  {
   "cell_type": "code",
   "execution_count": 433,
   "metadata": {},
   "outputs": [
    {
     "data": {
      "text/plain": [
       "array([0.36671222, 0.9828056 , 0.93526609, ..., 0.31991433, 0.82086005,\n",
       "       0.13639757])"
      ]
     },
     "execution_count": 433,
     "metadata": {},
     "output_type": "execute_result"
    }
   ],
   "source": [
    "X_sub = feat_selector.transform(preprocess.transform(test_data))\n",
    "y_test_pred = logreg.predict_proba(X_sub)[:, 1]\n",
    "y_test_pred"
   ]
  },
  {
   "cell_type": "code",
   "execution_count": 434,
   "metadata": {},
   "outputs": [
    {
     "name": "stdout",
     "output_type": "stream",
     "text": [
      "Submission saved to submission_2019-11-15_21-00-18.csv\n"
     ]
    },
    {
     "data": {
      "text/html": [
       "<div>\n",
       "<style scoped>\n",
       "    .dataframe tbody tr th:only-of-type {\n",
       "        vertical-align: middle;\n",
       "    }\n",
       "\n",
       "    .dataframe tbody tr th {\n",
       "        vertical-align: top;\n",
       "    }\n",
       "\n",
       "    .dataframe thead th {\n",
       "        text-align: right;\n",
       "    }\n",
       "</style>\n",
       "<table border=\"1\" class=\"dataframe\">\n",
       "  <thead>\n",
       "    <tr style=\"text-align: right;\">\n",
       "      <th></th>\n",
       "      <th>radiant_win_prob</th>\n",
       "    </tr>\n",
       "    <tr>\n",
       "      <th>match_id_hash</th>\n",
       "      <th></th>\n",
       "    </tr>\n",
       "  </thead>\n",
       "  <tbody>\n",
       "    <tr>\n",
       "      <th>30cc2d778dca82f2edb568ce9b585caa</th>\n",
       "      <td>0.366712</td>\n",
       "    </tr>\n",
       "    <tr>\n",
       "      <th>70e5ba30f367cea48793b9003fab9d38</th>\n",
       "      <td>0.982806</td>\n",
       "    </tr>\n",
       "    <tr>\n",
       "      <th>4d9ef74d3a2025d79e9423105fd73d41</th>\n",
       "      <td>0.935266</td>\n",
       "    </tr>\n",
       "    <tr>\n",
       "      <th>2bb79e0c1eaac1608e5a09c8e0c6a555</th>\n",
       "      <td>0.814289</td>\n",
       "    </tr>\n",
       "    <tr>\n",
       "      <th>bec17f099b01d67edc82dfb5ce735a43</th>\n",
       "      <td>0.194403</td>\n",
       "    </tr>\n",
       "    <tr>\n",
       "      <th>038acbb47d9eb54c11962d07cce8d829</th>\n",
       "      <td>0.083764</td>\n",
       "    </tr>\n",
       "    <tr>\n",
       "      <th>b891f03bb2a86d78b84043437fc95e04</th>\n",
       "      <td>0.948981</td>\n",
       "    </tr>\n",
       "    <tr>\n",
       "      <th>ff898afdb5bb5c7163bde45a009503f7</th>\n",
       "      <td>0.092533</td>\n",
       "    </tr>\n",
       "    <tr>\n",
       "      <th>72e6b1c31c718c0806f9aaeb8b7290a9</th>\n",
       "      <td>0.602461</td>\n",
       "    </tr>\n",
       "    <tr>\n",
       "      <th>abd97ab60ceca3ae6f00a28baea8a43c</th>\n",
       "      <td>0.595744</td>\n",
       "    </tr>\n",
       "  </tbody>\n",
       "</table>\n",
       "</div>"
      ],
      "text/plain": [
       "                                  radiant_win_prob\n",
       "match_id_hash                                     \n",
       "30cc2d778dca82f2edb568ce9b585caa          0.366712\n",
       "70e5ba30f367cea48793b9003fab9d38          0.982806\n",
       "4d9ef74d3a2025d79e9423105fd73d41          0.935266\n",
       "2bb79e0c1eaac1608e5a09c8e0c6a555          0.814289\n",
       "bec17f099b01d67edc82dfb5ce735a43          0.194403\n",
       "038acbb47d9eb54c11962d07cce8d829          0.083764\n",
       "b891f03bb2a86d78b84043437fc95e04          0.948981\n",
       "ff898afdb5bb5c7163bde45a009503f7          0.092533\n",
       "72e6b1c31c718c0806f9aaeb8b7290a9          0.602461\n",
       "abd97ab60ceca3ae6f00a28baea8a43c          0.595744"
      ]
     },
     "execution_count": 434,
     "metadata": {},
     "output_type": "execute_result"
    }
   ],
   "source": [
    "df_submission = pd.DataFrame({'radiant_win_prob': y_test_pred},index=test_data.index)\n",
    "\n",
    "import datetime\n",
    "submission_filename = 'submission_{}.csv'.format(\n",
    "    datetime.datetime.now().strftime('%Y-%m-%d_%H-%M-%S'))\n",
    "df_submission.to_csv(submission_filename)\n",
    "print('Submission saved to {}'.format(submission_filename))\n",
    "\n",
    "df_submission.head(10)"
   ]
  },
  {
   "cell_type": "markdown",
   "metadata": {},
   "source": [
    "# Random Forest"
   ]
  },
  {
   "cell_type": "code",
   "execution_count": 560,
   "metadata": {},
   "outputs": [
    {
     "data": {
      "text/html": [
       "<div>\n",
       "<style scoped>\n",
       "    .dataframe tbody tr th:only-of-type {\n",
       "        vertical-align: middle;\n",
       "    }\n",
       "\n",
       "    .dataframe tbody tr th {\n",
       "        vertical-align: top;\n",
       "    }\n",
       "\n",
       "    .dataframe thead th {\n",
       "        text-align: right;\n",
       "    }\n",
       "</style>\n",
       "<table border=\"1\" class=\"dataframe\">\n",
       "  <thead>\n",
       "    <tr style=\"text-align: right;\">\n",
       "      <th></th>\n",
       "      <th>game_time</th>\n",
       "      <th>game_mode</th>\n",
       "      <th>lobby_type</th>\n",
       "      <th>objectives_len</th>\n",
       "      <th>chat_len</th>\n",
       "      <th>r1_hero_id</th>\n",
       "      <th>r1_kills</th>\n",
       "      <th>r1_deaths</th>\n",
       "      <th>r1_assists</th>\n",
       "      <th>r1_denies</th>\n",
       "      <th>...</th>\n",
       "      <th>d5_towers_killed</th>\n",
       "      <th>d5_roshans_killed</th>\n",
       "      <th>d5_obs_placed</th>\n",
       "      <th>d5_sen_placed</th>\n",
       "      <th>d5_ability_level</th>\n",
       "      <th>d5_max_hero_hit</th>\n",
       "      <th>d5_purchase_count</th>\n",
       "      <th>d5_count_ability_use</th>\n",
       "      <th>d5_damage_dealt</th>\n",
       "      <th>d5_damage_received</th>\n",
       "    </tr>\n",
       "    <tr>\n",
       "      <th>match_id_hash</th>\n",
       "      <th></th>\n",
       "      <th></th>\n",
       "      <th></th>\n",
       "      <th></th>\n",
       "      <th></th>\n",
       "      <th></th>\n",
       "      <th></th>\n",
       "      <th></th>\n",
       "      <th></th>\n",
       "      <th></th>\n",
       "      <th></th>\n",
       "      <th></th>\n",
       "      <th></th>\n",
       "      <th></th>\n",
       "      <th></th>\n",
       "      <th></th>\n",
       "      <th></th>\n",
       "      <th></th>\n",
       "      <th></th>\n",
       "      <th></th>\n",
       "      <th></th>\n",
       "    </tr>\n",
       "  </thead>\n",
       "  <tbody>\n",
       "    <tr>\n",
       "      <th>a400b8f29dece5f4d266f49f1ae2e98a</th>\n",
       "      <td>155</td>\n",
       "      <td>22</td>\n",
       "      <td>7</td>\n",
       "      <td>1</td>\n",
       "      <td>11</td>\n",
       "      <td>-549</td>\n",
       "      <td>0</td>\n",
       "      <td>0</td>\n",
       "      <td>0</td>\n",
       "      <td>0</td>\n",
       "      <td>...</td>\n",
       "      <td>0</td>\n",
       "      <td>0</td>\n",
       "      <td>0</td>\n",
       "      <td>0</td>\n",
       "      <td>0</td>\n",
       "      <td>164</td>\n",
       "      <td>6</td>\n",
       "      <td>4</td>\n",
       "      <td>2332</td>\n",
       "      <td>681</td>\n",
       "    </tr>\n",
       "    <tr>\n",
       "      <th>b9c57c450ce74a2af79c9ce96fac144d</th>\n",
       "      <td>658</td>\n",
       "      <td>4</td>\n",
       "      <td>0</td>\n",
       "      <td>3</td>\n",
       "      <td>10</td>\n",
       "      <td>-71</td>\n",
       "      <td>7</td>\n",
       "      <td>2</td>\n",
       "      <td>0</td>\n",
       "      <td>7</td>\n",
       "      <td>...</td>\n",
       "      <td>0</td>\n",
       "      <td>0</td>\n",
       "      <td>0</td>\n",
       "      <td>0</td>\n",
       "      <td>4</td>\n",
       "      <td>164</td>\n",
       "      <td>11</td>\n",
       "      <td>7</td>\n",
       "      <td>2308</td>\n",
       "      <td>2154</td>\n",
       "    </tr>\n",
       "    <tr>\n",
       "      <th>6db558535151ea18ca70a6892197db41</th>\n",
       "      <td>21</td>\n",
       "      <td>23</td>\n",
       "      <td>0</td>\n",
       "      <td>0</td>\n",
       "      <td>0</td>\n",
       "      <td>147</td>\n",
       "      <td>0</td>\n",
       "      <td>0</td>\n",
       "      <td>0</td>\n",
       "      <td>0</td>\n",
       "      <td>...</td>\n",
       "      <td>0</td>\n",
       "      <td>0</td>\n",
       "      <td>0</td>\n",
       "      <td>0</td>\n",
       "      <td>0</td>\n",
       "      <td>0</td>\n",
       "      <td>4</td>\n",
       "      <td>0</td>\n",
       "      <td>0</td>\n",
       "      <td>0</td>\n",
       "    </tr>\n",
       "    <tr>\n",
       "      <th>46a0ddce8f7ed2a8d9bd5edcbb925682</th>\n",
       "      <td>576</td>\n",
       "      <td>22</td>\n",
       "      <td>7</td>\n",
       "      <td>1</td>\n",
       "      <td>4</td>\n",
       "      <td>188</td>\n",
       "      <td>1</td>\n",
       "      <td>0</td>\n",
       "      <td>3</td>\n",
       "      <td>1</td>\n",
       "      <td>...</td>\n",
       "      <td>0</td>\n",
       "      <td>0</td>\n",
       "      <td>2</td>\n",
       "      <td>0</td>\n",
       "      <td>3</td>\n",
       "      <td>135</td>\n",
       "      <td>13</td>\n",
       "      <td>19</td>\n",
       "      <td>3955</td>\n",
       "      <td>3317</td>\n",
       "    </tr>\n",
       "    <tr>\n",
       "      <th>b1b35ff97723d9b7ade1c9c3cf48f770</th>\n",
       "      <td>453</td>\n",
       "      <td>22</td>\n",
       "      <td>7</td>\n",
       "      <td>1</td>\n",
       "      <td>3</td>\n",
       "      <td>627</td>\n",
       "      <td>0</td>\n",
       "      <td>1</td>\n",
       "      <td>1</td>\n",
       "      <td>0</td>\n",
       "      <td>...</td>\n",
       "      <td>0</td>\n",
       "      <td>0</td>\n",
       "      <td>0</td>\n",
       "      <td>0</td>\n",
       "      <td>2</td>\n",
       "      <td>67</td>\n",
       "      <td>7</td>\n",
       "      <td>9</td>\n",
       "      <td>10739</td>\n",
       "      <td>2785</td>\n",
       "    </tr>\n",
       "  </tbody>\n",
       "</table>\n",
       "<p>5 rows × 305 columns</p>\n",
       "</div>"
      ],
      "text/plain": [
       "                                  game_time  game_mode  lobby_type  \\\n",
       "match_id_hash                                                        \n",
       "a400b8f29dece5f4d266f49f1ae2e98a        155         22           7   \n",
       "b9c57c450ce74a2af79c9ce96fac144d        658          4           0   \n",
       "6db558535151ea18ca70a6892197db41         21         23           0   \n",
       "46a0ddce8f7ed2a8d9bd5edcbb925682        576         22           7   \n",
       "b1b35ff97723d9b7ade1c9c3cf48f770        453         22           7   \n",
       "\n",
       "                                  objectives_len  chat_len  r1_hero_id  \\\n",
       "match_id_hash                                                            \n",
       "a400b8f29dece5f4d266f49f1ae2e98a               1        11        -549   \n",
       "b9c57c450ce74a2af79c9ce96fac144d               3        10         -71   \n",
       "6db558535151ea18ca70a6892197db41               0         0         147   \n",
       "46a0ddce8f7ed2a8d9bd5edcbb925682               1         4         188   \n",
       "b1b35ff97723d9b7ade1c9c3cf48f770               1         3         627   \n",
       "\n",
       "                                  r1_kills  r1_deaths  r1_assists  r1_denies  \\\n",
       "match_id_hash                                                                  \n",
       "a400b8f29dece5f4d266f49f1ae2e98a         0          0           0          0   \n",
       "b9c57c450ce74a2af79c9ce96fac144d         7          2           0          7   \n",
       "6db558535151ea18ca70a6892197db41         0          0           0          0   \n",
       "46a0ddce8f7ed2a8d9bd5edcbb925682         1          0           3          1   \n",
       "b1b35ff97723d9b7ade1c9c3cf48f770         0          1           1          0   \n",
       "\n",
       "                                  ...  d5_towers_killed  d5_roshans_killed  \\\n",
       "match_id_hash                     ...                                        \n",
       "a400b8f29dece5f4d266f49f1ae2e98a  ...                 0                  0   \n",
       "b9c57c450ce74a2af79c9ce96fac144d  ...                 0                  0   \n",
       "6db558535151ea18ca70a6892197db41  ...                 0                  0   \n",
       "46a0ddce8f7ed2a8d9bd5edcbb925682  ...                 0                  0   \n",
       "b1b35ff97723d9b7ade1c9c3cf48f770  ...                 0                  0   \n",
       "\n",
       "                                  d5_obs_placed  d5_sen_placed  \\\n",
       "match_id_hash                                                    \n",
       "a400b8f29dece5f4d266f49f1ae2e98a              0              0   \n",
       "b9c57c450ce74a2af79c9ce96fac144d              0              0   \n",
       "6db558535151ea18ca70a6892197db41              0              0   \n",
       "46a0ddce8f7ed2a8d9bd5edcbb925682              2              0   \n",
       "b1b35ff97723d9b7ade1c9c3cf48f770              0              0   \n",
       "\n",
       "                                  d5_ability_level  d5_max_hero_hit  \\\n",
       "match_id_hash                                                         \n",
       "a400b8f29dece5f4d266f49f1ae2e98a                 0              164   \n",
       "b9c57c450ce74a2af79c9ce96fac144d                 4              164   \n",
       "6db558535151ea18ca70a6892197db41                 0                0   \n",
       "46a0ddce8f7ed2a8d9bd5edcbb925682                 3              135   \n",
       "b1b35ff97723d9b7ade1c9c3cf48f770                 2               67   \n",
       "\n",
       "                                  d5_purchase_count  d5_count_ability_use  \\\n",
       "match_id_hash                                                               \n",
       "a400b8f29dece5f4d266f49f1ae2e98a                  6                     4   \n",
       "b9c57c450ce74a2af79c9ce96fac144d                 11                     7   \n",
       "6db558535151ea18ca70a6892197db41                  4                     0   \n",
       "46a0ddce8f7ed2a8d9bd5edcbb925682                 13                    19   \n",
       "b1b35ff97723d9b7ade1c9c3cf48f770                  7                     9   \n",
       "\n",
       "                                  d5_damage_dealt  d5_damage_received  \n",
       "match_id_hash                                                          \n",
       "a400b8f29dece5f4d266f49f1ae2e98a             2332                 681  \n",
       "b9c57c450ce74a2af79c9ce96fac144d             2308                2154  \n",
       "6db558535151ea18ca70a6892197db41                0                   0  \n",
       "46a0ddce8f7ed2a8d9bd5edcbb925682             3955                3317  \n",
       "b1b35ff97723d9b7ade1c9c3cf48f770            10739                2785  \n",
       "\n",
       "[5 rows x 305 columns]"
      ]
     },
     "execution_count": 560,
     "metadata": {},
     "output_type": "execute_result"
    }
   ],
   "source": [
    "data = pd.read_csv(r'C:\\Users\\Tatiana\\Documents\\Programming\\MLcourse competition\\new_feat_train.csv', index_col ='match_id_hash')\n",
    "target = pd.read_csv(r'C:\\Users\\Tatiana\\Documents\\Programming\\MLcourse competition\\train_targets.csv', index_col = 'match_id_hash')\n",
    "y = target['radiant_win']\n",
    "y = y.apply(lambda x: int(x))\n",
    "data.head()"
   ]
  },
  {
   "cell_type": "code",
   "execution_count": 561,
   "metadata": {},
   "outputs": [],
   "source": [
    "test_data_rf = pd.read_csv(r'C:\\Users\\Tatiana\\Documents\\Programming\\MLcourse competition\\new_feat_test.csv', index_col ='match_id_hash')"
   ]
  },
  {
   "cell_type": "code",
   "execution_count": 183,
   "metadata": {},
   "outputs": [
    {
     "data": {
      "text/html": [
       "<div>\n",
       "<style scoped>\n",
       "    .dataframe tbody tr th:only-of-type {\n",
       "        vertical-align: middle;\n",
       "    }\n",
       "\n",
       "    .dataframe tbody tr th {\n",
       "        vertical-align: top;\n",
       "    }\n",
       "\n",
       "    .dataframe thead th {\n",
       "        text-align: right;\n",
       "    }\n",
       "</style>\n",
       "<table border=\"1\" class=\"dataframe\">\n",
       "  <thead>\n",
       "    <tr style=\"text-align: right;\">\n",
       "      <th></th>\n",
       "      <th>r1_x</th>\n",
       "      <th>r2_x</th>\n",
       "      <th>r3_x</th>\n",
       "      <th>r4_x</th>\n",
       "      <th>r5_x</th>\n",
       "      <th>d1_x</th>\n",
       "      <th>d2_x</th>\n",
       "      <th>d3_x</th>\n",
       "      <th>d4_x</th>\n",
       "      <th>d5_x</th>\n",
       "      <th>...</th>\n",
       "      <th>r2_max_hero_hit</th>\n",
       "      <th>r3_max_hero_hit</th>\n",
       "      <th>r4_max_hero_hit</th>\n",
       "      <th>r5_max_hero_hit</th>\n",
       "      <th>d1_max_hero_hit</th>\n",
       "      <th>d2_max_hero_hit</th>\n",
       "      <th>d3_max_hero_hit</th>\n",
       "      <th>d4_max_hero_hit</th>\n",
       "      <th>d5_max_hero_hit</th>\n",
       "      <th>game_mode</th>\n",
       "    </tr>\n",
       "    <tr>\n",
       "      <th>match_id_hash</th>\n",
       "      <th></th>\n",
       "      <th></th>\n",
       "      <th></th>\n",
       "      <th></th>\n",
       "      <th></th>\n",
       "      <th></th>\n",
       "      <th></th>\n",
       "      <th></th>\n",
       "      <th></th>\n",
       "      <th></th>\n",
       "      <th></th>\n",
       "      <th></th>\n",
       "      <th></th>\n",
       "      <th></th>\n",
       "      <th></th>\n",
       "      <th></th>\n",
       "      <th></th>\n",
       "      <th></th>\n",
       "      <th></th>\n",
       "      <th></th>\n",
       "      <th></th>\n",
       "    </tr>\n",
       "  </thead>\n",
       "  <tbody>\n",
       "    <tr>\n",
       "      <th>a400b8f29dece5f4d266f49f1ae2e98a</th>\n",
       "      <td>116</td>\n",
       "      <td>124</td>\n",
       "      <td>70</td>\n",
       "      <td>170</td>\n",
       "      <td>120</td>\n",
       "      <td>82</td>\n",
       "      <td>174</td>\n",
       "      <td>180</td>\n",
       "      <td>90</td>\n",
       "      <td>128</td>\n",
       "      <td>...</td>\n",
       "      <td>0</td>\n",
       "      <td>4</td>\n",
       "      <td>42</td>\n",
       "      <td>0</td>\n",
       "      <td>76</td>\n",
       "      <td>50</td>\n",
       "      <td>68</td>\n",
       "      <td>62</td>\n",
       "      <td>164</td>\n",
       "      <td>22</td>\n",
       "    </tr>\n",
       "    <tr>\n",
       "      <th>b9c57c450ce74a2af79c9ce96fac144d</th>\n",
       "      <td>76</td>\n",
       "      <td>78</td>\n",
       "      <td>156</td>\n",
       "      <td>154</td>\n",
       "      <td>150</td>\n",
       "      <td>88</td>\n",
       "      <td>156</td>\n",
       "      <td>124</td>\n",
       "      <td>124</td>\n",
       "      <td>180</td>\n",
       "      <td>...</td>\n",
       "      <td>247</td>\n",
       "      <td>153</td>\n",
       "      <td>201</td>\n",
       "      <td>152</td>\n",
       "      <td>114</td>\n",
       "      <td>182</td>\n",
       "      <td>226</td>\n",
       "      <td>78</td>\n",
       "      <td>164</td>\n",
       "      <td>4</td>\n",
       "    </tr>\n",
       "  </tbody>\n",
       "</table>\n",
       "<p>2 rows × 101 columns</p>\n",
       "</div>"
      ],
      "text/plain": [
       "                                  r1_x  r2_x  r3_x  r4_x  r5_x  d1_x  d2_x  \\\n",
       "match_id_hash                                                                \n",
       "a400b8f29dece5f4d266f49f1ae2e98a   116   124    70   170   120    82   174   \n",
       "b9c57c450ce74a2af79c9ce96fac144d    76    78   156   154   150    88   156   \n",
       "\n",
       "                                  d3_x  d4_x  d5_x  ...  r2_max_hero_hit  \\\n",
       "match_id_hash                                       ...                    \n",
       "a400b8f29dece5f4d266f49f1ae2e98a   180    90   128  ...                0   \n",
       "b9c57c450ce74a2af79c9ce96fac144d   124   124   180  ...              247   \n",
       "\n",
       "                                  r3_max_hero_hit  r4_max_hero_hit  \\\n",
       "match_id_hash                                                        \n",
       "a400b8f29dece5f4d266f49f1ae2e98a                4               42   \n",
       "b9c57c450ce74a2af79c9ce96fac144d              153              201   \n",
       "\n",
       "                                  r5_max_hero_hit  d1_max_hero_hit  \\\n",
       "match_id_hash                                                        \n",
       "a400b8f29dece5f4d266f49f1ae2e98a                0               76   \n",
       "b9c57c450ce74a2af79c9ce96fac144d              152              114   \n",
       "\n",
       "                                  d2_max_hero_hit  d3_max_hero_hit  \\\n",
       "match_id_hash                                                        \n",
       "a400b8f29dece5f4d266f49f1ae2e98a               50               68   \n",
       "b9c57c450ce74a2af79c9ce96fac144d              182              226   \n",
       "\n",
       "                                  d4_max_hero_hit  d5_max_hero_hit  game_mode  \n",
       "match_id_hash                                                                  \n",
       "a400b8f29dece5f4d266f49f1ae2e98a               62              164         22  \n",
       "b9c57c450ce74a2af79c9ce96fac144d               78              164          4  \n",
       "\n",
       "[2 rows x 101 columns]"
      ]
     },
     "execution_count": 183,
     "metadata": {},
     "output_type": "execute_result"
    }
   ],
   "source": [
    "\n",
    "x_c = ['r{}_x'.format(x) for x in range(1,6)] +['d{}_x'.format(x) for x in range(1,6)]\n",
    "y_c = ['r{}_y'.format(x) for x in range(1,6)] +['d{}_y'.format(x) for x in range(1,6)]\n",
    "hero_id = ['r{}_hero_id'.format(x) for x in range(1,6)] +['d{}_hero_id'.format(x) for x in range(1,6)]\n",
    "health = ['r{}_health'.format(x) for x in range(1,6)] +['d{}_health'.format(x) for x in range(1,6)]\n",
    "max_health = ['r{}_health'.format(x) for x in range(1,6)] +['d{}_health'.format(x) for x in range(1,6)]\n",
    "xp = ['r{}_xp'.format(x) for x in range(1,6)] +['d{}_xp'.format(x) for x in range(1,6)]\n",
    "gold = ['r{}_gold'.format(x) for x in range(1,6)] +['d{}_gold'.format(x) for x in range(1,6)]\n",
    "damage_dealt = ['r{}_damage_dealt'.format(x) for x in range(1,6)] +['d{}_damage_dealt'.format(x) for x in range(1,6)]\n",
    "damage_received = ['r{}_damage_received'.format(x) for x in range(1,6)] +['d{}_damage_received'.format(x) for x in range(1,6)]\n",
    "max_hero_hit = ['r{}_max_hero_hit'.format(x) for x in range(1,6)] +['d{}_max_hero_hit'.format(x) for x in range(1,6)]\n",
    "# ability_level = ['r{}_ability_level'.format(x) for x in range(1,6)] +['d{}_ability_level'.format(x) for x in range(1,6)]\n",
    "\n",
    "train_positions = data[x_c+y_c+hero_id+health+max_health+xp+gold+damage_dealt+damage_received+max_hero_hit+['game_mode']]\n",
    "train_positions.head(2)"
   ]
  },
  {
   "cell_type": "code",
   "execution_count": 562,
   "metadata": {},
   "outputs": [],
   "source": [
    "from sklearn.model_selection import train_test_split\n",
    "\n",
    "# X_rf = train_positions.values\n",
    "X_rf = data.values\n",
    "X_train, X_test, y_train, y_test = train_test_split(X_rf, y, test_size=0.30, random_state=150)\n"
   ]
  },
  {
   "cell_type": "code",
   "execution_count": 568,
   "metadata": {},
   "outputs": [
    {
     "data": {
      "text/plain": [
       "RandomForestClassifier(bootstrap=True, class_weight=None, criterion='gini',\n",
       "            max_depth=30, max_features='sqrt', max_leaf_nodes=None,\n",
       "            min_impurity_decrease=0.0, min_impurity_split=None,\n",
       "            min_samples_leaf=2, min_samples_split=2,\n",
       "            min_weight_fraction_leaf=0.0, n_estimators=2000, n_jobs=None,\n",
       "            oob_score=False, random_state=50, verbose=0, warm_start=False)"
      ]
     },
     "execution_count": 568,
     "metadata": {},
     "output_type": "execute_result"
    }
   ],
   "source": [
    "from sklearn.ensemble import RandomForestClassifier\n",
    "\n",
    "cls = RandomForestClassifier(max_features = 'sqrt', max_depth = 30, n_estimators = 2000, min_samples_leaf=2, random_state=50)\n",
    "cls.fit(X_train,y_train)"
   ]
  },
  {
   "cell_type": "code",
   "execution_count": 569,
   "metadata": {},
   "outputs": [
    {
     "name": "stdout",
     "output_type": "stream",
     "text": [
      "accuracy_score: 0.7220028564227505\n",
      "roc_auc_score: 0.8010677657880771\n"
     ]
    }
   ],
   "source": [
    "print('accuracy_score: {}'.format(cls.score(X_test,y_test)))\n",
    "from sklearn.metrics import accuracy_score, roc_auc_score\n",
    "predicted_rf = cls.predict_proba(X_test)[:,1]\n",
    "print('roc_auc_score: {}'.format(roc_auc_score(y_test,predicted_rf)))\n"
   ]
  },
  {
   "cell_type": "code",
   "execution_count": 575,
   "metadata": {},
   "outputs": [
    {
     "name": "stdout",
     "output_type": "stream",
     "text": [
      "0 0.7531655121174597\n",
      "0.2 0.8226753086856536\n",
      "0.3 0.8226753369892092\n",
      "0.4 0.8226753228374314\n",
      "0.5 0.8226753228374315\n",
      "0.6 0.8226752520785423\n",
      "0.7 0.8226538545904829\n",
      "0.8 0.822097109499381\n",
      "1 0.8010677657880771\n"
     ]
    }
   ],
   "source": [
    "# combination of logreg and RF\n",
    "alphas = [ 0,  0.2, 0.3, 0.4,0.5,0.6,0.7,0.8,1]\n",
    "for alpha in alphas:\n",
    "    predicted = (alpha*predicted_rf + (1-alpha)*predicted_log_reg)*0.5\n",
    "    print(alpha,roc_auc_score(y_test,predicted))"
   ]
  },
  {
   "cell_type": "code",
   "execution_count": 576,
   "metadata": {},
   "outputs": [
    {
     "data": {
      "text/plain": [
       "RandomForestClassifier(bootstrap=True, class_weight=None, criterion='gini',\n",
       "            max_depth=30, max_features='sqrt', max_leaf_nodes=None,\n",
       "            min_impurity_decrease=0.0, min_impurity_split=None,\n",
       "            min_samples_leaf=2, min_samples_split=2,\n",
       "            min_weight_fraction_leaf=0.0, n_estimators=2000, n_jobs=None,\n",
       "            oob_score=False, random_state=50, verbose=0, warm_start=False)"
      ]
     },
     "execution_count": 576,
     "metadata": {},
     "output_type": "execute_result"
    }
   ],
   "source": [
    "# fit on full data and predict for submission\n",
    "cls.fit(X_rf,y)"
   ]
  },
  {
   "cell_type": "code",
   "execution_count": 578,
   "metadata": {},
   "outputs": [
    {
     "data": {
      "text/plain": [
       "array([0.50164207, 0.87354039, 0.7160869 , ..., 0.47145021, 0.83008882,\n",
       "       0.27250143])"
      ]
     },
     "execution_count": 578,
     "metadata": {},
     "output_type": "execute_result"
    }
   ],
   "source": [
    "# X_sub_rf = test_data_rf[x_c+y_c+hero_id+health+max_health+xp+gold+damage_dealt+damage_received+max_hero_hit+['game_mode']]\n",
    "X_sub_rf = test_data_rf\n",
    "y_test_pred_rf = cls.predict_proba(X_sub_rf)[:, 1]\n",
    "y_test_pred_rf"
   ]
  },
  {
   "cell_type": "code",
   "execution_count": 579,
   "metadata": {},
   "outputs": [],
   "source": [
    "y_test_pred = 0.5*(y_test_pred_rf+y_test_pred_log_reg)"
   ]
  },
  {
   "cell_type": "code",
   "execution_count": 580,
   "metadata": {},
   "outputs": [
    {
     "name": "stdout",
     "output_type": "stream",
     "text": [
      "Submission saved to submission_2019-11-15_23-23-28.csv\n"
     ]
    },
    {
     "data": {
      "text/html": [
       "<div>\n",
       "<style scoped>\n",
       "    .dataframe tbody tr th:only-of-type {\n",
       "        vertical-align: middle;\n",
       "    }\n",
       "\n",
       "    .dataframe tbody tr th {\n",
       "        vertical-align: top;\n",
       "    }\n",
       "\n",
       "    .dataframe thead th {\n",
       "        text-align: right;\n",
       "    }\n",
       "</style>\n",
       "<table border=\"1\" class=\"dataframe\">\n",
       "  <thead>\n",
       "    <tr style=\"text-align: right;\">\n",
       "      <th></th>\n",
       "      <th>radiant_win_prob</th>\n",
       "    </tr>\n",
       "    <tr>\n",
       "      <th>match_id_hash</th>\n",
       "      <th></th>\n",
       "    </tr>\n",
       "  </thead>\n",
       "  <tbody>\n",
       "    <tr>\n",
       "      <th>30cc2d778dca82f2edb568ce9b585caa</th>\n",
       "      <td>0.442626</td>\n",
       "    </tr>\n",
       "    <tr>\n",
       "      <th>70e5ba30f367cea48793b9003fab9d38</th>\n",
       "      <td>0.928798</td>\n",
       "    </tr>\n",
       "    <tr>\n",
       "      <th>4d9ef74d3a2025d79e9423105fd73d41</th>\n",
       "      <td>0.827396</td>\n",
       "    </tr>\n",
       "    <tr>\n",
       "      <th>2bb79e0c1eaac1608e5a09c8e0c6a555</th>\n",
       "      <td>0.699071</td>\n",
       "    </tr>\n",
       "    <tr>\n",
       "      <th>bec17f099b01d67edc82dfb5ce735a43</th>\n",
       "      <td>0.322366</td>\n",
       "    </tr>\n",
       "    <tr>\n",
       "      <th>038acbb47d9eb54c11962d07cce8d829</th>\n",
       "      <td>0.157229</td>\n",
       "    </tr>\n",
       "    <tr>\n",
       "      <th>b891f03bb2a86d78b84043437fc95e04</th>\n",
       "      <td>0.909203</td>\n",
       "    </tr>\n",
       "    <tr>\n",
       "      <th>ff898afdb5bb5c7163bde45a009503f7</th>\n",
       "      <td>0.111151</td>\n",
       "    </tr>\n",
       "    <tr>\n",
       "      <th>72e6b1c31c718c0806f9aaeb8b7290a9</th>\n",
       "      <td>0.558920</td>\n",
       "    </tr>\n",
       "    <tr>\n",
       "      <th>abd97ab60ceca3ae6f00a28baea8a43c</th>\n",
       "      <td>0.578657</td>\n",
       "    </tr>\n",
       "  </tbody>\n",
       "</table>\n",
       "</div>"
      ],
      "text/plain": [
       "                                  radiant_win_prob\n",
       "match_id_hash                                     \n",
       "30cc2d778dca82f2edb568ce9b585caa          0.442626\n",
       "70e5ba30f367cea48793b9003fab9d38          0.928798\n",
       "4d9ef74d3a2025d79e9423105fd73d41          0.827396\n",
       "2bb79e0c1eaac1608e5a09c8e0c6a555          0.699071\n",
       "bec17f099b01d67edc82dfb5ce735a43          0.322366\n",
       "038acbb47d9eb54c11962d07cce8d829          0.157229\n",
       "b891f03bb2a86d78b84043437fc95e04          0.909203\n",
       "ff898afdb5bb5c7163bde45a009503f7          0.111151\n",
       "72e6b1c31c718c0806f9aaeb8b7290a9          0.558920\n",
       "abd97ab60ceca3ae6f00a28baea8a43c          0.578657"
      ]
     },
     "execution_count": 580,
     "metadata": {},
     "output_type": "execute_result"
    }
   ],
   "source": [
    "df_submission = pd.DataFrame({'radiant_win_prob': y_test_pred},index=test_data.index)\n",
    "\n",
    "import datetime\n",
    "submission_filename = 'submission_{}.csv'.format(\n",
    "    datetime.datetime.now().strftime('%Y-%m-%d_%H-%M-%S'))\n",
    "df_submission.to_csv(submission_filename)\n",
    "print('Submission saved to {}'.format(submission_filename))\n",
    "\n",
    "df_submission.head(10)"
   ]
  },
  {
   "cell_type": "markdown",
   "metadata": {},
   "source": [
    "# SVM "
   ]
  },
  {
   "cell_type": "markdown",
   "metadata": {},
   "source": [
    "Gives the worst predictions out of all alther models."
   ]
  },
  {
   "cell_type": "code",
   "execution_count": 332,
   "metadata": {},
   "outputs": [
    {
     "data": {
      "text/html": [
       "<div>\n",
       "<style scoped>\n",
       "    .dataframe tbody tr th:only-of-type {\n",
       "        vertical-align: middle;\n",
       "    }\n",
       "\n",
       "    .dataframe tbody tr th {\n",
       "        vertical-align: top;\n",
       "    }\n",
       "\n",
       "    .dataframe thead th {\n",
       "        text-align: right;\n",
       "    }\n",
       "</style>\n",
       "<table border=\"1\" class=\"dataframe\">\n",
       "  <thead>\n",
       "    <tr style=\"text-align: right;\">\n",
       "      <th></th>\n",
       "      <th>d_dead</th>\n",
       "      <th>r_dead</th>\n",
       "      <th>d_health_avg</th>\n",
       "      <th>r_health_avg</th>\n",
       "      <th>r_in_d_base</th>\n",
       "      <th>d_in_r_base</th>\n",
       "      <th>r_in_r_base</th>\n",
       "      <th>d_in_d_base</th>\n",
       "      <th>r_hero_id</th>\n",
       "      <th>r_kills</th>\n",
       "      <th>...</th>\n",
       "      <th>r_in_d_base_hero_id</th>\n",
       "      <th>d_in_r_base_hero_id</th>\n",
       "      <th>r_in_d_base_count_ability_use</th>\n",
       "      <th>d_in_r_base_count_ability_use</th>\n",
       "      <th>r_in_d_max_hero_hit</th>\n",
       "      <th>d_in_r_max_hero_hit</th>\n",
       "      <th>r_in_d_damage_dealt</th>\n",
       "      <th>d_in_r_damage_dealt</th>\n",
       "      <th>r_in_r_damage_received</th>\n",
       "      <th>d_in_d_damage_received</th>\n",
       "    </tr>\n",
       "    <tr>\n",
       "      <th>match_id_hash</th>\n",
       "      <th></th>\n",
       "      <th></th>\n",
       "      <th></th>\n",
       "      <th></th>\n",
       "      <th></th>\n",
       "      <th></th>\n",
       "      <th></th>\n",
       "      <th></th>\n",
       "      <th></th>\n",
       "      <th></th>\n",
       "      <th></th>\n",
       "      <th></th>\n",
       "      <th></th>\n",
       "      <th></th>\n",
       "      <th></th>\n",
       "      <th></th>\n",
       "      <th></th>\n",
       "      <th></th>\n",
       "      <th></th>\n",
       "      <th></th>\n",
       "      <th></th>\n",
       "    </tr>\n",
       "  </thead>\n",
       "  <tbody>\n",
       "    <tr>\n",
       "      <th>a400b8f29dece5f4d266f49f1ae2e98a</th>\n",
       "      <td>0</td>\n",
       "      <td>0</td>\n",
       "      <td>0.954967</td>\n",
       "      <td>0.715500</td>\n",
       "      <td>0</td>\n",
       "      <td>0</td>\n",
       "      <td>0</td>\n",
       "      <td>0</td>\n",
       "      <td>-355</td>\n",
       "      <td>0</td>\n",
       "      <td>...</td>\n",
       "      <td>0</td>\n",
       "      <td>0</td>\n",
       "      <td>0</td>\n",
       "      <td>0</td>\n",
       "      <td>0</td>\n",
       "      <td>0</td>\n",
       "      <td>0</td>\n",
       "      <td>0</td>\n",
       "      <td>0</td>\n",
       "      <td>0</td>\n",
       "    </tr>\n",
       "    <tr>\n",
       "      <th>b9c57c450ce74a2af79c9ce96fac144d</th>\n",
       "      <td>0</td>\n",
       "      <td>0</td>\n",
       "      <td>0.764778</td>\n",
       "      <td>0.846735</td>\n",
       "      <td>0</td>\n",
       "      <td>0</td>\n",
       "      <td>1</td>\n",
       "      <td>1</td>\n",
       "      <td>341</td>\n",
       "      <td>16</td>\n",
       "      <td>...</td>\n",
       "      <td>0</td>\n",
       "      <td>0</td>\n",
       "      <td>0</td>\n",
       "      <td>0</td>\n",
       "      <td>0</td>\n",
       "      <td>0</td>\n",
       "      <td>0</td>\n",
       "      <td>0</td>\n",
       "      <td>4857</td>\n",
       "      <td>2154</td>\n",
       "    </tr>\n",
       "    <tr>\n",
       "      <th>6db558535151ea18ca70a6892197db41</th>\n",
       "      <td>0</td>\n",
       "      <td>0</td>\n",
       "      <td>0.989032</td>\n",
       "      <td>0.989333</td>\n",
       "      <td>0</td>\n",
       "      <td>0</td>\n",
       "      <td>0</td>\n",
       "      <td>2</td>\n",
       "      <td>3</td>\n",
       "      <td>0</td>\n",
       "      <td>...</td>\n",
       "      <td>0</td>\n",
       "      <td>0</td>\n",
       "      <td>0</td>\n",
       "      <td>0</td>\n",
       "      <td>0</td>\n",
       "      <td>0</td>\n",
       "      <td>0</td>\n",
       "      <td>0</td>\n",
       "      <td>0</td>\n",
       "      <td>0</td>\n",
       "    </tr>\n",
       "    <tr>\n",
       "      <th>46a0ddce8f7ed2a8d9bd5edcbb925682</th>\n",
       "      <td>0</td>\n",
       "      <td>0</td>\n",
       "      <td>0.869557</td>\n",
       "      <td>0.955818</td>\n",
       "      <td>0</td>\n",
       "      <td>0</td>\n",
       "      <td>0</td>\n",
       "      <td>0</td>\n",
       "      <td>559</td>\n",
       "      <td>6</td>\n",
       "      <td>...</td>\n",
       "      <td>0</td>\n",
       "      <td>0</td>\n",
       "      <td>0</td>\n",
       "      <td>0</td>\n",
       "      <td>0</td>\n",
       "      <td>0</td>\n",
       "      <td>0</td>\n",
       "      <td>0</td>\n",
       "      <td>0</td>\n",
       "      <td>0</td>\n",
       "    </tr>\n",
       "    <tr>\n",
       "      <th>b1b35ff97723d9b7ade1c9c3cf48f770</th>\n",
       "      <td>0</td>\n",
       "      <td>0</td>\n",
       "      <td>0.808481</td>\n",
       "      <td>0.735127</td>\n",
       "      <td>0</td>\n",
       "      <td>0</td>\n",
       "      <td>0</td>\n",
       "      <td>0</td>\n",
       "      <td>735</td>\n",
       "      <td>2</td>\n",
       "      <td>...</td>\n",
       "      <td>0</td>\n",
       "      <td>0</td>\n",
       "      <td>0</td>\n",
       "      <td>0</td>\n",
       "      <td>0</td>\n",
       "      <td>0</td>\n",
       "      <td>0</td>\n",
       "      <td>0</td>\n",
       "      <td>0</td>\n",
       "      <td>0</td>\n",
       "    </tr>\n",
       "  </tbody>\n",
       "</table>\n",
       "<p>5 rows × 120 columns</p>\n",
       "</div>"
      ],
      "text/plain": [
       "                                  d_dead  r_dead  d_health_avg  r_health_avg  \\\n",
       "match_id_hash                                                                  \n",
       "a400b8f29dece5f4d266f49f1ae2e98a       0       0      0.954967      0.715500   \n",
       "b9c57c450ce74a2af79c9ce96fac144d       0       0      0.764778      0.846735   \n",
       "6db558535151ea18ca70a6892197db41       0       0      0.989032      0.989333   \n",
       "46a0ddce8f7ed2a8d9bd5edcbb925682       0       0      0.869557      0.955818   \n",
       "b1b35ff97723d9b7ade1c9c3cf48f770       0       0      0.808481      0.735127   \n",
       "\n",
       "                                  r_in_d_base  d_in_r_base  r_in_r_base  \\\n",
       "match_id_hash                                                             \n",
       "a400b8f29dece5f4d266f49f1ae2e98a            0            0            0   \n",
       "b9c57c450ce74a2af79c9ce96fac144d            0            0            1   \n",
       "6db558535151ea18ca70a6892197db41            0            0            0   \n",
       "46a0ddce8f7ed2a8d9bd5edcbb925682            0            0            0   \n",
       "b1b35ff97723d9b7ade1c9c3cf48f770            0            0            0   \n",
       "\n",
       "                                  d_in_d_base  r_hero_id  r_kills  ...  \\\n",
       "match_id_hash                                                      ...   \n",
       "a400b8f29dece5f4d266f49f1ae2e98a            0       -355        0  ...   \n",
       "b9c57c450ce74a2af79c9ce96fac144d            1        341       16  ...   \n",
       "6db558535151ea18ca70a6892197db41            2          3        0  ...   \n",
       "46a0ddce8f7ed2a8d9bd5edcbb925682            0        559        6  ...   \n",
       "b1b35ff97723d9b7ade1c9c3cf48f770            0        735        2  ...   \n",
       "\n",
       "                                  r_in_d_base_hero_id  d_in_r_base_hero_id  \\\n",
       "match_id_hash                                                                \n",
       "a400b8f29dece5f4d266f49f1ae2e98a                    0                    0   \n",
       "b9c57c450ce74a2af79c9ce96fac144d                    0                    0   \n",
       "6db558535151ea18ca70a6892197db41                    0                    0   \n",
       "46a0ddce8f7ed2a8d9bd5edcbb925682                    0                    0   \n",
       "b1b35ff97723d9b7ade1c9c3cf48f770                    0                    0   \n",
       "\n",
       "                                  r_in_d_base_count_ability_use  \\\n",
       "match_id_hash                                                     \n",
       "a400b8f29dece5f4d266f49f1ae2e98a                              0   \n",
       "b9c57c450ce74a2af79c9ce96fac144d                              0   \n",
       "6db558535151ea18ca70a6892197db41                              0   \n",
       "46a0ddce8f7ed2a8d9bd5edcbb925682                              0   \n",
       "b1b35ff97723d9b7ade1c9c3cf48f770                              0   \n",
       "\n",
       "                                  d_in_r_base_count_ability_use  \\\n",
       "match_id_hash                                                     \n",
       "a400b8f29dece5f4d266f49f1ae2e98a                              0   \n",
       "b9c57c450ce74a2af79c9ce96fac144d                              0   \n",
       "6db558535151ea18ca70a6892197db41                              0   \n",
       "46a0ddce8f7ed2a8d9bd5edcbb925682                              0   \n",
       "b1b35ff97723d9b7ade1c9c3cf48f770                              0   \n",
       "\n",
       "                                  r_in_d_max_hero_hit  d_in_r_max_hero_hit  \\\n",
       "match_id_hash                                                                \n",
       "a400b8f29dece5f4d266f49f1ae2e98a                    0                    0   \n",
       "b9c57c450ce74a2af79c9ce96fac144d                    0                    0   \n",
       "6db558535151ea18ca70a6892197db41                    0                    0   \n",
       "46a0ddce8f7ed2a8d9bd5edcbb925682                    0                    0   \n",
       "b1b35ff97723d9b7ade1c9c3cf48f770                    0                    0   \n",
       "\n",
       "                                  r_in_d_damage_dealt  d_in_r_damage_dealt  \\\n",
       "match_id_hash                                                                \n",
       "a400b8f29dece5f4d266f49f1ae2e98a                    0                    0   \n",
       "b9c57c450ce74a2af79c9ce96fac144d                    0                    0   \n",
       "6db558535151ea18ca70a6892197db41                    0                    0   \n",
       "46a0ddce8f7ed2a8d9bd5edcbb925682                    0                    0   \n",
       "b1b35ff97723d9b7ade1c9c3cf48f770                    0                    0   \n",
       "\n",
       "                                  r_in_r_damage_received  \\\n",
       "match_id_hash                                              \n",
       "a400b8f29dece5f4d266f49f1ae2e98a                       0   \n",
       "b9c57c450ce74a2af79c9ce96fac144d                    4857   \n",
       "6db558535151ea18ca70a6892197db41                       0   \n",
       "46a0ddce8f7ed2a8d9bd5edcbb925682                       0   \n",
       "b1b35ff97723d9b7ade1c9c3cf48f770                       0   \n",
       "\n",
       "                                  d_in_d_damage_received  \n",
       "match_id_hash                                             \n",
       "a400b8f29dece5f4d266f49f1ae2e98a                       0  \n",
       "b9c57c450ce74a2af79c9ce96fac144d                    2154  \n",
       "6db558535151ea18ca70a6892197db41                       0  \n",
       "46a0ddce8f7ed2a8d9bd5edcbb925682                       0  \n",
       "b1b35ff97723d9b7ade1c9c3cf48f770                       0  \n",
       "\n",
       "[5 rows x 120 columns]"
      ]
     },
     "execution_count": 332,
     "metadata": {},
     "output_type": "execute_result"
    }
   ],
   "source": [
    "data_svm = pd.read_csv(r'C:\\Users\\Tatiana\\Documents\\Programming\\MLcourse competition\\new_feat_train_small.csv', index_col ='match_id_hash')\n",
    "\n",
    "# #small set\n",
    "#data = pd.read_csv(r'C:\\Users\\Tatiana\\Documents\\Programming\\MLcourse competition\\new_feat_train_small.csv', index_col ='match_id_hash')\n",
    "target = pd.read_csv(r'C:\\Users\\Tatiana\\Documents\\Programming\\MLcourse competition\\train_targets.csv', index_col = 'match_id_hash')\n",
    "y = target['radiant_win']\n",
    "y = y.apply(lambda x: int(x))\n",
    "# data = data.drop(columns = ['positions'])\n",
    "data_svm.head()"
   ]
  },
  {
   "cell_type": "code",
   "execution_count": 333,
   "metadata": {},
   "outputs": [],
   "source": [
    "# smaller dataset\n",
    "\n",
    "col_to_drop = ['r_deaths', 'd_deaths'] \n",
    "cat_feats = ['game_mode','lobby_type', 'r_in_d_base', 'd_in_r_base','r_firstblood_claimed','d_firstblood_claimed', 'r_in_r_base', 'd_in_d_base']\n",
    "num_feats = [col for col in data_svm.columns if col not in cat_feats]\n",
    "numerical_columns =[]\n",
    "for j in range(len(data_svm.columns)):\n",
    "    if data_svm.columns[j] in num_feats:\n",
    "        numerical_columns.append(j)"
   ]
  },
  {
   "cell_type": "code",
   "execution_count": 334,
   "metadata": {},
   "outputs": [
    {
     "data": {
      "text/plain": [
       "(27772, 120)"
      ]
     },
     "execution_count": 334,
     "metadata": {},
     "output_type": "execute_result"
    }
   ],
   "source": [
    "from sklearn.model_selection import train_test_split\n",
    "\n",
    "X_svm = data_svm\n",
    "\n",
    "X_train, X_test, y_train, y_test = train_test_split(X_log_reg, y, test_size=0.30, random_state=150)\n",
    "X_train.shape"
   ]
  },
  {
   "cell_type": "code",
   "execution_count": 335,
   "metadata": {},
   "outputs": [],
   "source": [
    "from sklearn.preprocessing import StandardScaler\n",
    "from sklearn.preprocessing import OneHotEncoder\n",
    "from sklearn.pipeline import Pipeline, FeatureUnion, make_pipeline\n",
    "\n",
    "from sklearn.compose import ColumnTransformer, make_column_transformer\n",
    "\n",
    "preprocess = make_column_transformer(\n",
    "    (StandardScaler(), num_feats),\n",
    "    (OneHotEncoder(),cat_feats))\n",
    "\n",
    "from sklearn.svm import LinearSVC\n",
    "\n",
    "svm = LinearSVC(max_iter = 4000)\n",
    "\n",
    "pipe_svm = make_pipeline(preprocess, svm)"
   ]
  },
  {
   "cell_type": "code",
   "execution_count": 336,
   "metadata": {},
   "outputs": [
    {
     "data": {
      "text/plain": [
       "Pipeline(memory=None,\n",
       "     steps=[('columntransformer', ColumnTransformer(n_jobs=None, remainder='drop', sparse_threshold=0.3,\n",
       "         transformer_weights=None,\n",
       "         transformers=[('standardscaler', StandardScaler(copy=True, with_mean=True, with_std=True), ['d_dead', 'r_dead', 'd_health_avg', 'r_health_avg', 'r_hero_id',...ax_iter=4000,\n",
       "     multi_class='ovr', penalty='l2', random_state=None, tol=0.0001,\n",
       "     verbose=0))])"
      ]
     },
     "execution_count": 336,
     "metadata": {},
     "output_type": "execute_result"
    }
   ],
   "source": [
    "pipe_svm.fit(X_train, y_train)\n"
   ]
  },
  {
   "cell_type": "code",
   "execution_count": 337,
   "metadata": {},
   "outputs": [
    {
     "name": "stdout",
     "output_type": "stream",
     "text": [
      "accuracy_score: 0.7545996807527514\n",
      "roc_auc_score: 0.5473836334689545\n"
     ]
    }
   ],
   "source": [
    "from sklearn.metrics import accuracy_score, roc_auc_score\n",
    "y_pred_svm = pipe_svm.predict(X_test)\n",
    "print('accuracy_score: {}'.format(pipe_svm.score(X_test,y_test)))\n",
    "# predicted_svm = pipe_svm.predict_proba(X_test)[:,1]\n",
    "print('roc_auc_score: {}'.format(roc_auc_score(y_test,predicted_svm)))\n"
   ]
  },
  {
   "cell_type": "code",
   "execution_count": 339,
   "metadata": {},
   "outputs": [
    {
     "data": {
      "text/plain": [
       "Pipeline(memory=None,\n",
       "     steps=[('columntransformer', ColumnTransformer(n_jobs=None, remainder='drop', sparse_threshold=0.3,\n",
       "         transformer_weights=None,\n",
       "         transformers=[('standardscaler', StandardScaler(copy=True, with_mean=True, with_std=True), ['d_dead', 'r_dead', 'd_health_avg', 'r_health_avg', 'r_hero_id',...ax_iter=4000,\n",
       "     multi_class='ovr', penalty='l2', random_state=None, tol=0.0001,\n",
       "     verbose=0))])"
      ]
     },
     "execution_count": 339,
     "metadata": {},
     "output_type": "execute_result"
    }
   ],
   "source": [
    "pipe_svm.fit(X_svm, y)"
   ]
  },
  {
   "cell_type": "code",
   "execution_count": 338,
   "metadata": {},
   "outputs": [
    {
     "name": "stdout",
     "output_type": "stream",
     "text": [
      "0.8205922235980896\n"
     ]
    }
   ],
   "source": [
    "predicted = (predicted_rf + predicted_log_reg+y_pred_svm)/3\n",
    "print(roc_auc_score(y_test,predicted))"
   ]
  },
  {
   "cell_type": "code",
   "execution_count": 344,
   "metadata": {},
   "outputs": [
    {
     "name": "stdout",
     "output_type": "stream",
     "text": [
      "(10000, 120)\n"
     ]
    },
    {
     "data": {
      "text/plain": [
       "array([0, 1, 1, ..., 0, 1, 0], dtype=int64)"
      ]
     },
     "execution_count": 344,
     "metadata": {},
     "output_type": "execute_result"
    }
   ],
   "source": [
    "test_data = pd.read_csv(r'C:\\Users\\Tatiana\\Documents\\Programming\\MLcourse competition\\new_feat_test_small.csv', index_col ='match_id_hash')\n",
    "print(test_data.shape)\n",
    "X_sub = test_data\n",
    "y_test_pred_svm = pipe_svm.predict(X_sub)\n",
    "y_test_pred_svm"
   ]
  },
  {
   "cell_type": "code",
   "execution_count": 345,
   "metadata": {},
   "outputs": [],
   "source": [
    "y_test_pred = (y_test_pred_rf+y_test_pred_log_reg+y_test_pred_svm)/3"
   ]
  },
  {
   "cell_type": "code",
   "execution_count": 346,
   "metadata": {},
   "outputs": [
    {
     "name": "stdout",
     "output_type": "stream",
     "text": [
      "Submission saved to submission_2019-11-15_18-14-32.csv\n"
     ]
    },
    {
     "data": {
      "text/html": [
       "<div>\n",
       "<style scoped>\n",
       "    .dataframe tbody tr th:only-of-type {\n",
       "        vertical-align: middle;\n",
       "    }\n",
       "\n",
       "    .dataframe tbody tr th {\n",
       "        vertical-align: top;\n",
       "    }\n",
       "\n",
       "    .dataframe thead th {\n",
       "        text-align: right;\n",
       "    }\n",
       "</style>\n",
       "<table border=\"1\" class=\"dataframe\">\n",
       "  <thead>\n",
       "    <tr style=\"text-align: right;\">\n",
       "      <th></th>\n",
       "      <th>radiant_win_prob</th>\n",
       "    </tr>\n",
       "    <tr>\n",
       "      <th>match_id_hash</th>\n",
       "      <th></th>\n",
       "    </tr>\n",
       "  </thead>\n",
       "  <tbody>\n",
       "    <tr>\n",
       "      <th>30cc2d778dca82f2edb568ce9b585caa</th>\n",
       "      <td>0.285957</td>\n",
       "    </tr>\n",
       "    <tr>\n",
       "      <th>70e5ba30f367cea48793b9003fab9d38</th>\n",
       "      <td>0.963710</td>\n",
       "    </tr>\n",
       "    <tr>\n",
       "      <th>4d9ef74d3a2025d79e9423105fd73d41</th>\n",
       "      <td>0.868812</td>\n",
       "    </tr>\n",
       "    <tr>\n",
       "      <th>2bb79e0c1eaac1608e5a09c8e0c6a555</th>\n",
       "      <td>0.821172</td>\n",
       "    </tr>\n",
       "    <tr>\n",
       "      <th>bec17f099b01d67edc82dfb5ce735a43</th>\n",
       "      <td>0.248324</td>\n",
       "    </tr>\n",
       "    <tr>\n",
       "      <th>038acbb47d9eb54c11962d07cce8d829</th>\n",
       "      <td>0.129400</td>\n",
       "    </tr>\n",
       "    <tr>\n",
       "      <th>b891f03bb2a86d78b84043437fc95e04</th>\n",
       "      <td>0.957244</td>\n",
       "    </tr>\n",
       "    <tr>\n",
       "      <th>ff898afdb5bb5c7163bde45a009503f7</th>\n",
       "      <td>0.078063</td>\n",
       "    </tr>\n",
       "    <tr>\n",
       "      <th>72e6b1c31c718c0806f9aaeb8b7290a9</th>\n",
       "      <td>0.699101</td>\n",
       "    </tr>\n",
       "    <tr>\n",
       "      <th>abd97ab60ceca3ae6f00a28baea8a43c</th>\n",
       "      <td>0.747113</td>\n",
       "    </tr>\n",
       "  </tbody>\n",
       "</table>\n",
       "</div>"
      ],
      "text/plain": [
       "                                  radiant_win_prob\n",
       "match_id_hash                                     \n",
       "30cc2d778dca82f2edb568ce9b585caa          0.285957\n",
       "70e5ba30f367cea48793b9003fab9d38          0.963710\n",
       "4d9ef74d3a2025d79e9423105fd73d41          0.868812\n",
       "2bb79e0c1eaac1608e5a09c8e0c6a555          0.821172\n",
       "bec17f099b01d67edc82dfb5ce735a43          0.248324\n",
       "038acbb47d9eb54c11962d07cce8d829          0.129400\n",
       "b891f03bb2a86d78b84043437fc95e04          0.957244\n",
       "ff898afdb5bb5c7163bde45a009503f7          0.078063\n",
       "72e6b1c31c718c0806f9aaeb8b7290a9          0.699101\n",
       "abd97ab60ceca3ae6f00a28baea8a43c          0.747113"
      ]
     },
     "execution_count": 346,
     "metadata": {},
     "output_type": "execute_result"
    }
   ],
   "source": [
    "df_submission = pd.DataFrame({'radiant_win_prob': y_test_pred},index=test_data.index)\n",
    "\n",
    "import datetime\n",
    "submission_filename = 'submission_{}.csv'.format(\n",
    "    datetime.datetime.now().strftime('%Y-%m-%d_%H-%M-%S'))\n",
    "df_submission.to_csv(submission_filename)\n",
    "print('Submission saved to {}'.format(submission_filename))\n",
    "\n",
    "df_submission.head(10)"
   ]
  },
  {
   "cell_type": "code",
   "execution_count": null,
   "metadata": {},
   "outputs": [],
   "source": []
  }
 ],
 "metadata": {
  "kernelspec": {
   "display_name": "Python 3",
   "language": "python",
   "name": "python3"
  },
  "language_info": {
   "codemirror_mode": {
    "name": "ipython",
    "version": 3
   },
   "file_extension": ".py",
   "mimetype": "text/x-python",
   "name": "python",
   "nbconvert_exporter": "python",
   "pygments_lexer": "ipython3",
   "version": "3.7.3"
  }
 },
 "nbformat": 4,
 "nbformat_minor": 2
}
