{
 "cells": [
  {
   "cell_type": "code",
   "execution_count": 7,
   "metadata": {},
   "outputs": [],
   "source": [
    "import pandas as pd\n",
    "import numpy as np\n",
    "import matplotlib.pyplot as plt\n",
    "plt.rcParams['figure.dpi']= 100\n",
    "import seaborn as sns\n",
    "import warnings\n",
    "warnings.filterwarnings('ignore')"
   ]
  },
  {
   "cell_type": "code",
   "execution_count": 18,
   "metadata": {},
   "outputs": [
    {
     "data": {
      "text/html": [
       "<div>\n",
       "<style scoped>\n",
       "    .dataframe tbody tr th:only-of-type {\n",
       "        vertical-align: middle;\n",
       "    }\n",
       "\n",
       "    .dataframe tbody tr th {\n",
       "        vertical-align: top;\n",
       "    }\n",
       "\n",
       "    .dataframe thead th {\n",
       "        text-align: right;\n",
       "    }\n",
       "</style>\n",
       "<table border=\"1\" class=\"dataframe\">\n",
       "  <thead>\n",
       "    <tr style=\"text-align: right;\">\n",
       "      <th></th>\n",
       "      <th>r_kills</th>\n",
       "      <th>r_deaths</th>\n",
       "      <th>r_assists</th>\n",
       "      <th>r_denies</th>\n",
       "      <th>r_gold</th>\n",
       "      <th>r_lh</th>\n",
       "      <th>r_xp</th>\n",
       "      <th>r_max_mana</th>\n",
       "      <th>r_stuns</th>\n",
       "      <th>r_creeps_stacked</th>\n",
       "      <th>...</th>\n",
       "      <th>log_r5_sen_placed</th>\n",
       "      <th>log_d1_sen_placed</th>\n",
       "      <th>log_d2_sen_placed</th>\n",
       "      <th>log_d3_sen_placed</th>\n",
       "      <th>log_d4_sen_placed</th>\n",
       "      <th>log_d5_sen_placed</th>\n",
       "      <th>log_r_sen_placed</th>\n",
       "      <th>log_d_sen_placed</th>\n",
       "      <th>log_chat_len</th>\n",
       "      <th>log_game_time</th>\n",
       "    </tr>\n",
       "    <tr>\n",
       "      <th>match_id_hash</th>\n",
       "      <th></th>\n",
       "      <th></th>\n",
       "      <th></th>\n",
       "      <th></th>\n",
       "      <th></th>\n",
       "      <th></th>\n",
       "      <th></th>\n",
       "      <th></th>\n",
       "      <th></th>\n",
       "      <th></th>\n",
       "      <th></th>\n",
       "      <th></th>\n",
       "      <th></th>\n",
       "      <th></th>\n",
       "      <th></th>\n",
       "      <th></th>\n",
       "      <th></th>\n",
       "      <th></th>\n",
       "      <th></th>\n",
       "      <th></th>\n",
       "      <th></th>\n",
       "    </tr>\n",
       "  </thead>\n",
       "  <tbody>\n",
       "    <tr>\n",
       "      <th>a400b8f29dece5f4d266f49f1ae2e98a</th>\n",
       "      <td>0</td>\n",
       "      <td>1</td>\n",
       "      <td>0</td>\n",
       "      <td>4</td>\n",
       "      <td>2037</td>\n",
       "      <td>25</td>\n",
       "      <td>1991</td>\n",
       "      <td>1490.68891</td>\n",
       "      <td>0.000000</td>\n",
       "      <td>0</td>\n",
       "      <td>...</td>\n",
       "      <td>0.0</td>\n",
       "      <td>0.0</td>\n",
       "      <td>0.000000</td>\n",
       "      <td>0.0</td>\n",
       "      <td>0.0</td>\n",
       "      <td>0.0</td>\n",
       "      <td>0.000000</td>\n",
       "      <td>0.000000</td>\n",
       "      <td>2.484907</td>\n",
       "      <td>5.049856</td>\n",
       "    </tr>\n",
       "    <tr>\n",
       "      <th>b9c57c450ce74a2af79c9ce96fac144d</th>\n",
       "      <td>16</td>\n",
       "      <td>4</td>\n",
       "      <td>14</td>\n",
       "      <td>28</td>\n",
       "      <td>18172</td>\n",
       "      <td>127</td>\n",
       "      <td>17566</td>\n",
       "      <td>2414.68981</td>\n",
       "      <td>42.060296</td>\n",
       "      <td>2</td>\n",
       "      <td>...</td>\n",
       "      <td>0.0</td>\n",
       "      <td>0.0</td>\n",
       "      <td>1.098612</td>\n",
       "      <td>0.0</td>\n",
       "      <td>0.0</td>\n",
       "      <td>0.0</td>\n",
       "      <td>1.386294</td>\n",
       "      <td>1.098612</td>\n",
       "      <td>2.397895</td>\n",
       "      <td>6.490724</td>\n",
       "    </tr>\n",
       "    <tr>\n",
       "      <th>6db558535151ea18ca70a6892197db41</th>\n",
       "      <td>0</td>\n",
       "      <td>0</td>\n",
       "      <td>0</td>\n",
       "      <td>0</td>\n",
       "      <td>880</td>\n",
       "      <td>0</td>\n",
       "      <td>0</td>\n",
       "      <td>1670.68912</td>\n",
       "      <td>0.000000</td>\n",
       "      <td>0</td>\n",
       "      <td>...</td>\n",
       "      <td>0.0</td>\n",
       "      <td>0.0</td>\n",
       "      <td>0.000000</td>\n",
       "      <td>0.0</td>\n",
       "      <td>0.0</td>\n",
       "      <td>0.0</td>\n",
       "      <td>0.000000</td>\n",
       "      <td>0.000000</td>\n",
       "      <td>0.000000</td>\n",
       "      <td>3.091042</td>\n",
       "    </tr>\n",
       "    <tr>\n",
       "      <th>46a0ddce8f7ed2a8d9bd5edcbb925682</th>\n",
       "      <td>6</td>\n",
       "      <td>2</td>\n",
       "      <td>8</td>\n",
       "      <td>43</td>\n",
       "      <td>13348</td>\n",
       "      <td>131</td>\n",
       "      <td>14663</td>\n",
       "      <td>2474.68982</td>\n",
       "      <td>11.397237</td>\n",
       "      <td>0</td>\n",
       "      <td>...</td>\n",
       "      <td>0.0</td>\n",
       "      <td>0.0</td>\n",
       "      <td>0.000000</td>\n",
       "      <td>0.0</td>\n",
       "      <td>0.0</td>\n",
       "      <td>0.0</td>\n",
       "      <td>0.000000</td>\n",
       "      <td>0.000000</td>\n",
       "      <td>1.609438</td>\n",
       "      <td>6.357842</td>\n",
       "    </tr>\n",
       "    <tr>\n",
       "      <th>b1b35ff97723d9b7ade1c9c3cf48f770</th>\n",
       "      <td>2</td>\n",
       "      <td>4</td>\n",
       "      <td>3</td>\n",
       "      <td>0</td>\n",
       "      <td>8079</td>\n",
       "      <td>62</td>\n",
       "      <td>9762</td>\n",
       "      <td>2364.68977</td>\n",
       "      <td>15.262940</td>\n",
       "      <td>0</td>\n",
       "      <td>...</td>\n",
       "      <td>0.0</td>\n",
       "      <td>0.0</td>\n",
       "      <td>0.000000</td>\n",
       "      <td>0.0</td>\n",
       "      <td>0.0</td>\n",
       "      <td>0.0</td>\n",
       "      <td>0.000000</td>\n",
       "      <td>0.000000</td>\n",
       "      <td>1.386294</td>\n",
       "      <td>6.118097</td>\n",
       "    </tr>\n",
       "  </tbody>\n",
       "</table>\n",
       "<p>5 rows × 407 columns</p>\n",
       "</div>"
      ],
      "text/plain": [
       "                                  r_kills  r_deaths  r_assists  r_denies  \\\n",
       "match_id_hash                                                              \n",
       "a400b8f29dece5f4d266f49f1ae2e98a        0         1          0         4   \n",
       "b9c57c450ce74a2af79c9ce96fac144d       16         4         14        28   \n",
       "6db558535151ea18ca70a6892197db41        0         0          0         0   \n",
       "46a0ddce8f7ed2a8d9bd5edcbb925682        6         2          8        43   \n",
       "b1b35ff97723d9b7ade1c9c3cf48f770        2         4          3         0   \n",
       "\n",
       "                                  r_gold  r_lh   r_xp  r_max_mana    r_stuns  \\\n",
       "match_id_hash                                                                  \n",
       "a400b8f29dece5f4d266f49f1ae2e98a    2037    25   1991  1490.68891   0.000000   \n",
       "b9c57c450ce74a2af79c9ce96fac144d   18172   127  17566  2414.68981  42.060296   \n",
       "6db558535151ea18ca70a6892197db41     880     0      0  1670.68912   0.000000   \n",
       "46a0ddce8f7ed2a8d9bd5edcbb925682   13348   131  14663  2474.68982  11.397237   \n",
       "b1b35ff97723d9b7ade1c9c3cf48f770    8079    62   9762  2364.68977  15.262940   \n",
       "\n",
       "                                  r_creeps_stacked  ...  log_r5_sen_placed  \\\n",
       "match_id_hash                                       ...                      \n",
       "a400b8f29dece5f4d266f49f1ae2e98a                 0  ...                0.0   \n",
       "b9c57c450ce74a2af79c9ce96fac144d                 2  ...                0.0   \n",
       "6db558535151ea18ca70a6892197db41                 0  ...                0.0   \n",
       "46a0ddce8f7ed2a8d9bd5edcbb925682                 0  ...                0.0   \n",
       "b1b35ff97723d9b7ade1c9c3cf48f770                 0  ...                0.0   \n",
       "\n",
       "                                  log_d1_sen_placed  log_d2_sen_placed  \\\n",
       "match_id_hash                                                            \n",
       "a400b8f29dece5f4d266f49f1ae2e98a                0.0           0.000000   \n",
       "b9c57c450ce74a2af79c9ce96fac144d                0.0           1.098612   \n",
       "6db558535151ea18ca70a6892197db41                0.0           0.000000   \n",
       "46a0ddce8f7ed2a8d9bd5edcbb925682                0.0           0.000000   \n",
       "b1b35ff97723d9b7ade1c9c3cf48f770                0.0           0.000000   \n",
       "\n",
       "                                  log_d3_sen_placed  log_d4_sen_placed  \\\n",
       "match_id_hash                                                            \n",
       "a400b8f29dece5f4d266f49f1ae2e98a                0.0                0.0   \n",
       "b9c57c450ce74a2af79c9ce96fac144d                0.0                0.0   \n",
       "6db558535151ea18ca70a6892197db41                0.0                0.0   \n",
       "46a0ddce8f7ed2a8d9bd5edcbb925682                0.0                0.0   \n",
       "b1b35ff97723d9b7ade1c9c3cf48f770                0.0                0.0   \n",
       "\n",
       "                                  log_d5_sen_placed  log_r_sen_placed  \\\n",
       "match_id_hash                                                           \n",
       "a400b8f29dece5f4d266f49f1ae2e98a                0.0          0.000000   \n",
       "b9c57c450ce74a2af79c9ce96fac144d                0.0          1.386294   \n",
       "6db558535151ea18ca70a6892197db41                0.0          0.000000   \n",
       "46a0ddce8f7ed2a8d9bd5edcbb925682                0.0          0.000000   \n",
       "b1b35ff97723d9b7ade1c9c3cf48f770                0.0          0.000000   \n",
       "\n",
       "                                  log_d_sen_placed  log_chat_len  \\\n",
       "match_id_hash                                                      \n",
       "a400b8f29dece5f4d266f49f1ae2e98a          0.000000      2.484907   \n",
       "b9c57c450ce74a2af79c9ce96fac144d          1.098612      2.397895   \n",
       "6db558535151ea18ca70a6892197db41          0.000000      0.000000   \n",
       "46a0ddce8f7ed2a8d9bd5edcbb925682          0.000000      1.609438   \n",
       "b1b35ff97723d9b7ade1c9c3cf48f770          0.000000      1.386294   \n",
       "\n",
       "                                  log_game_time  \n",
       "match_id_hash                                    \n",
       "a400b8f29dece5f4d266f49f1ae2e98a       5.049856  \n",
       "b9c57c450ce74a2af79c9ce96fac144d       6.490724  \n",
       "6db558535151ea18ca70a6892197db41       3.091042  \n",
       "46a0ddce8f7ed2a8d9bd5edcbb925682       6.357842  \n",
       "b1b35ff97723d9b7ade1c9c3cf48f770       6.118097  \n",
       "\n",
       "[5 rows x 407 columns]"
      ]
     },
     "execution_count": 18,
     "metadata": {},
     "output_type": "execute_result"
    }
   ],
   "source": [
    "data = pd.read_csv(r'C:\\Users\\Tatiana\\Documents\\Programming\\MLcourse competition\\new_feat_train.csv', index_col ='match_id_hash')\n",
    "target = pd.read_csv(r'C:\\Users\\Tatiana\\Documents\\Programming\\MLcourse competition\\train_targets.csv', index_col = 'match_id_hash')\n",
    "y = target['radiant_win']\n",
    "y = y.apply(lambda x: int(x))\n",
    "data.head()"
   ]
  },
  {
   "cell_type": "code",
   "execution_count": 73,
   "metadata": {},
   "outputs": [
    {
     "data": {
      "text/plain": [
       "<matplotlib.axes._subplots.AxesSubplot at 0x270959cedd8>"
      ]
     },
     "execution_count": 73,
     "metadata": {},
     "output_type": "execute_result"
    },
    {
     "data": {
      "image/png": "[encoded data removed]",
      "text/plain": [
       "<Figure size 600x400 with 1 Axes>"
      ]
     },
     "metadata": {
      "needs_background": "light"
     },
     "output_type": "display_data"
    }
   ],
   "source": [
    "data.log_r_rune_pickups.hist(bins=100)"
   ]
  },
  {
   "cell_type": "code",
   "execution_count": 85,
   "metadata": {},
   "outputs": [
    {
     "data": {
      "text/plain": [
       "(407,)"
      ]
     },
     "execution_count": 85,
     "metadata": {},
     "output_type": "execute_result"
    }
   ],
   "source": [
    "data.columns.shape\n"
   ]
  },
  {
   "cell_type": "code",
   "execution_count": null,
   "metadata": {},
   "outputs": [],
   "source": [
    "col_to_drop = ['r_deaths', 'd_deaths'] "
   ]
  },
  {
   "cell_type": "code",
   "execution_count": 23,
   "metadata": {},
   "outputs": [],
   "source": [
    "# determine the columns of the numerical data for further normalization\n",
    "first_blood_claimed = ['r{}_firstblood_claimed'.format(x) for x in range(1,6)]+['d{}_firstblood_claimed'.format(x) for x in range(1,6)]+['r_firstblood_claimed','d_firstblood_claimed']\n",
    "cat_feats = ['game_mode','lobby_type', 'r_in_d_base', 'd_in_r_base']+first_blood_claimed\n",
    "num_feats = [col for col in data.columns if col not in cat_feats]\n",
    "# numerical"
   ]
  },
  {
   "cell_type": "code",
   "execution_count": 24,
   "metadata": {},
   "outputs": [],
   "source": [
    "numerical_columns =[]\n",
    "for j in range(len(data.columns)):\n",
    "    if data.columns[j] in num_feats:\n",
    "        numerical_columns.append(j)"
   ]
  },
  {
   "cell_type": "code",
   "execution_count": 25,
   "metadata": {},
   "outputs": [],
   "source": [
    "from sklearn.model_selection import train_test_split\n",
    "\n",
    "X = data\n",
    "\n",
    "\n",
    "X_train, X_test, y_train, y_test = train_test_split(X, y, test_size=0.30, random_state=150)"
   ]
  },
  {
   "cell_type": "code",
   "execution_count": 87,
   "metadata": {},
   "outputs": [
    {
     "data": {
      "text/plain": [
       "(27772, 407)"
      ]
     },
     "execution_count": 87,
     "metadata": {},
     "output_type": "execute_result"
    }
   ],
   "source": [
    "X_train.shape"
   ]
  },
  {
   "cell_type": "code",
   "execution_count": 99,
   "metadata": {},
   "outputs": [
    {
     "data": {
      "text/plain": [
       "<2x21 sparse matrix of type '<class 'numpy.float64'>'\n",
       "\twith 32 stored elements in Compressed Sparse Row format>"
      ]
     },
     "execution_count": 99,
     "metadata": {},
     "output_type": "execute_result"
    }
   ],
   "source": [
    "from sklearn.preprocessing import StandardScaler\n",
    "from sklearn.preprocessing import OneHotEncoder\n",
    "from sklearn.pipeline import Pipeline, FeatureUnion, make_pipeline\n",
    "\n",
    "from sklearn.compose import ColumnTransformer, make_column_transformer\n",
    "\n",
    "preprocess = make_column_transformer(\n",
    "    (StandardScaler(), num_feats),\n",
    "    (OneHotEncoder(),cat_feats))\n",
    "\n",
    "\n",
    "# scaler = StandardScaler()\n",
    "# X_train[:,numerical_columns] = scaler.fit_transform(X_train[:,numerical_columns])\n",
    "# X_test[:,numerical_columns] = scaler.transform(X_test[:,numerical_columns])\n",
    "X_small = X.iloc[1:3, :]\n",
    "X_small = OneHotEncoder().fit_transform(X_small[cat_feats])\n",
    "X_small"
   ]
  },
  {
   "cell_type": "code",
   "execution_count": 77,
   "metadata": {},
   "outputs": [],
   "source": [
    "from sklearn.linear_model import LogisticRegression\n",
    "from sklearn.model_selection import cross_val_predict\n",
    "from sklearn.metrics import accuracy_score, roc_auc_score\n",
    "\n",
    "\n",
    "logreg = LogisticRegression(C = 1,penalty = 'l1'  )\n",
    "pipe = make_pipeline(preprocess, logreg)\n",
    "\n"
   ]
  },
  {
   "cell_type": "code",
   "execution_count": 80,
   "metadata": {},
   "outputs": [
    {
     "name": "stdout",
     "output_type": "stream",
     "text": [
      "Cross validation AUC 0.8173\n"
     ]
    }
   ],
   "source": [
    "cv_pred = cross_val_predict(pipe, \n",
    "                             X_train, \n",
    "                             y_train, \n",
    "                             cv=5,\n",
    "                             method=\"predict_proba\")\n",
    "print(\"Cross validation AUC {:.4f}\".format(roc_auc_score(y_train, cv_pred[:,1])))"
   ]
  },
  {
   "cell_type": "code",
   "execution_count": 78,
   "metadata": {},
   "outputs": [
    {
     "data": {
      "text/plain": [
       "Pipeline(memory=None,\n",
       "     steps=[('columntransformer', ColumnTransformer(n_jobs=None, remainder='drop', sparse_threshold=0.3,\n",
       "         transformer_weights=None,\n",
       "         transformers=[('standardscaler', StandardScaler(copy=True, with_mean=True, with_std=True), ['r_kills', 'r_deaths', 'r_assists', 'r_denies', 'r_gold', 'r_lh'...penalty='l1', random_state=None, solver='warn',\n",
       "          tol=0.0001, verbose=0, warm_start=False))])"
      ]
     },
     "execution_count": 78,
     "metadata": {},
     "output_type": "execute_result"
    }
   ],
   "source": [
    "pipe.fit(X_train,y_train)"
   ]
  },
  {
   "cell_type": "code",
   "execution_count": 100,
   "metadata": {},
   "outputs": [
    {
     "name": "stdout",
     "output_type": "stream",
     "text": [
      "0.7299000252037302\n",
      "0.7279135467893154\n"
     ]
    }
   ],
   "source": [
    "predicted = pipe.predict(X_test)\n",
    "print(accuracy_score(y_test, predicted))\n",
    "print(roc_auc_score(y_test,predicted))"
   ]
  },
  {
   "cell_type": "code",
   "execution_count": null,
   "metadata": {},
   "outputs": [],
   "source": [
    "score1 = logreg.score(X_test, y_test)\n",
    "y_pred = logreg.predict_proba(X_test)[:,1]\n",
    "\n",
    "score2 = roc_auc_score(y_test, y_pred)\n",
    "\n",
    "print('First baseline:')\n",
    "print('score', score1)\n",
    "\n",
    "print('roc_auc', score2)\n"
   ]
  },
  {
   "cell_type": "code",
   "execution_count": 81,
   "metadata": {},
   "outputs": [
    {
     "data": {
      "text/plain": [
       "[<matplotlib.lines.Line2D at 0x27095b72588>]"
      ]
     },
     "execution_count": 81,
     "metadata": {},
     "output_type": "execute_result"
    },
    {
     "data": {
      "image/png": "[encoded data removed]",
      "text/plain": [
       "<Figure size 600x400 with 1 Axes>"
      ]
     },
     "metadata": {
      "needs_background": "light"
     },
     "output_type": "display_data"
    }
   ],
   "source": [
    "c = logreg.coef_\n",
    "plt.plot(c[0])"
   ]
  },
  {
   "cell_type": "code",
   "execution_count": 101,
   "metadata": {},
   "outputs": [],
   "source": [
    "test_data = data = pd.read_csv(r'C:\\Users\\Tatiana\\Documents\\Programming\\MLcourse competition\\new_feat_test.csv', index_col ='match_id_hash')"
   ]
  },
  {
   "cell_type": "code",
   "execution_count": 102,
   "metadata": {},
   "outputs": [
    {
     "data": {
      "text/plain": [
       "(10000, 407)"
      ]
     },
     "execution_count": 102,
     "metadata": {},
     "output_type": "execute_result"
    }
   ],
   "source": [
    "test_data.shape"
   ]
  },
  {
   "cell_type": "code",
   "execution_count": 104,
   "metadata": {},
   "outputs": [],
   "source": [
    "X_sub = test_data\n",
    "# X_sub[:,numerical_columns] = scaler.transform(X_sub[:,numerical_columns])"
   ]
  },
  {
   "cell_type": "code",
   "execution_count": 105,
   "metadata": {},
   "outputs": [],
   "source": [
    "y_test_pred = pipe.predict_proba(X_sub)[:, 1]"
   ]
  },
  {
   "cell_type": "code",
   "execution_count": 106,
   "metadata": {},
   "outputs": [
    {
     "data": {
      "text/plain": [
       "array([0.52334646, 0.95720716, 0.94450167, ..., 0.35903634, 0.70211159,\n",
       "       0.09579287])"
      ]
     },
     "execution_count": 106,
     "metadata": {},
     "output_type": "execute_result"
    }
   ],
   "source": [
    "y_test_pred"
   ]
  },
  {
   "cell_type": "code",
   "execution_count": 108,
   "metadata": {},
   "outputs": [],
   "source": [
    "\n",
    "\n",
    "df_submission = pd.DataFrame({'radiant_win_prob': y_test_pred}, \n",
    "                                 index=test_data.index)"
   ]
  },
  {
   "cell_type": "code",
   "execution_count": 109,
   "metadata": {},
   "outputs": [
    {
     "name": "stdout",
     "output_type": "stream",
     "text": [
      "Submission saved to submission_2019-11-07_22-50-53.csv\n"
     ]
    }
   ],
   "source": [
    "import datetime\n",
    "submission_filename = 'submission_{}.csv'.format(\n",
    "    datetime.datetime.now().strftime('%Y-%m-%d_%H-%M-%S'))\n",
    "df_submission.to_csv(submission_filename)\n",
    "print('Submission saved to {}'.format(submission_filename))"
   ]
  },
  {
   "cell_type": "code",
   "execution_count": 110,
   "metadata": {},
   "outputs": [
    {
     "data": {
      "text/html": [
       "<div>\n",
       "<style scoped>\n",
       "    .dataframe tbody tr th:only-of-type {\n",
       "        vertical-align: middle;\n",
       "    }\n",
       "\n",
       "    .dataframe tbody tr th {\n",
       "        vertical-align: top;\n",
       "    }\n",
       "\n",
       "    .dataframe thead th {\n",
       "        text-align: right;\n",
       "    }\n",
       "</style>\n",
       "<table border=\"1\" class=\"dataframe\">\n",
       "  <thead>\n",
       "    <tr style=\"text-align: right;\">\n",
       "      <th></th>\n",
       "      <th>radiant_win_prob</th>\n",
       "    </tr>\n",
       "    <tr>\n",
       "      <th>match_id_hash</th>\n",
       "      <th></th>\n",
       "    </tr>\n",
       "  </thead>\n",
       "  <tbody>\n",
       "    <tr>\n",
       "      <th>30cc2d778dca82f2edb568ce9b585caa</th>\n",
       "      <td>0.523346</td>\n",
       "    </tr>\n",
       "    <tr>\n",
       "      <th>70e5ba30f367cea48793b9003fab9d38</th>\n",
       "      <td>0.957207</td>\n",
       "    </tr>\n",
       "    <tr>\n",
       "      <th>4d9ef74d3a2025d79e9423105fd73d41</th>\n",
       "      <td>0.944502</td>\n",
       "    </tr>\n",
       "    <tr>\n",
       "      <th>2bb79e0c1eaac1608e5a09c8e0c6a555</th>\n",
       "      <td>0.713829</td>\n",
       "    </tr>\n",
       "    <tr>\n",
       "      <th>bec17f099b01d67edc82dfb5ce735a43</th>\n",
       "      <td>0.463981</td>\n",
       "    </tr>\n",
       "  </tbody>\n",
       "</table>\n",
       "</div>"
      ],
      "text/plain": [
       "                                  radiant_win_prob\n",
       "match_id_hash                                     \n",
       "30cc2d778dca82f2edb568ce9b585caa          0.523346\n",
       "70e5ba30f367cea48793b9003fab9d38          0.957207\n",
       "4d9ef74d3a2025d79e9423105fd73d41          0.944502\n",
       "2bb79e0c1eaac1608e5a09c8e0c6a555          0.713829\n",
       "bec17f099b01d67edc82dfb5ce735a43          0.463981"
      ]
     },
     "execution_count": 110,
     "metadata": {},
     "output_type": "execute_result"
    }
   ],
   "source": [
    "df_submission.head()\n"
   ]
  },
  {
   "cell_type": "code",
   "execution_count": 111,
   "metadata": {},
   "outputs": [
    {
     "data": {
      "text/plain": [
       "(10000, 1)"
      ]
     },
     "execution_count": 111,
     "metadata": {},
     "output_type": "execute_result"
    }
   ],
   "source": [
    "df_submission.shape"
   ]
  },
  {
   "cell_type": "code",
   "execution_count": null,
   "metadata": {},
   "outputs": [],
   "source": []
  }
 ],
 "metadata": {
  "kernelspec": {
   "display_name": "Python 3",
   "language": "python",
   "name": "python3"
  },
  "language_info": {
   "codemirror_mode": {
    "name": "ipython",
    "version": 3
   },
   "file_extension": ".py",
   "mimetype": "text/x-python",
   "name": "python",
   "nbconvert_exporter": "python",
   "pygments_lexer": "ipython3",
   "version": "3.7.3"
  }
 },
 "nbformat": 4,
 "nbformat_minor": 2
}
