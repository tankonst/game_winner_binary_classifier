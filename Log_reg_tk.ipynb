{
 "cells": [
  {
   "cell_type": "code",
   "execution_count": 95,
   "metadata": {},
   "outputs": [],
   "source": [
    "import pandas as pd\n",
    "import numpy as np\n",
    "import matplotlib.pyplot as plt\n",
    "plt.rcParams['figure.dpi']= 100\n",
    "import seaborn as sns\n",
    "import warnings\n",
    "warnings.filterwarnings('ignore')"
   ]
  },
  {
   "cell_type": "code",
   "execution_count": 167,
   "metadata": {},
   "outputs": [
    {
     "data": {
      "text/html": [
       "<div>\n",
       "<style scoped>\n",
       "    .dataframe tbody tr th:only-of-type {\n",
       "        vertical-align: middle;\n",
       "    }\n",
       "\n",
       "    .dataframe tbody tr th {\n",
       "        vertical-align: top;\n",
       "    }\n",
       "\n",
       "    .dataframe thead th {\n",
       "        text-align: right;\n",
       "    }\n",
       "</style>\n",
       "<table border=\"1\" class=\"dataframe\">\n",
       "  <thead>\n",
       "    <tr style=\"text-align: right;\">\n",
       "      <th></th>\n",
       "      <th>positions</th>\n",
       "      <th>r_kills</th>\n",
       "      <th>r_deaths</th>\n",
       "      <th>r_assists</th>\n",
       "      <th>r_denies</th>\n",
       "      <th>r_gold</th>\n",
       "      <th>r_lh</th>\n",
       "      <th>r_xp</th>\n",
       "      <th>r_max_mana</th>\n",
       "      <th>r_stuns</th>\n",
       "      <th>...</th>\n",
       "      <th>log_r_creeps_stacked</th>\n",
       "      <th>log_d_creeps_stacked</th>\n",
       "      <th>log_r_camps_stacked</th>\n",
       "      <th>log_d_camps_stacked</th>\n",
       "      <th>log_r_rune_pickups</th>\n",
       "      <th>log_d_rune_pickups</th>\n",
       "      <th>log_r_sen_placed</th>\n",
       "      <th>log_d_sen_placed</th>\n",
       "      <th>log_chat_len</th>\n",
       "      <th>log_game_time</th>\n",
       "    </tr>\n",
       "    <tr>\n",
       "      <th>match_id_hash</th>\n",
       "      <th></th>\n",
       "      <th></th>\n",
       "      <th></th>\n",
       "      <th></th>\n",
       "      <th></th>\n",
       "      <th></th>\n",
       "      <th></th>\n",
       "      <th></th>\n",
       "      <th></th>\n",
       "      <th></th>\n",
       "      <th></th>\n",
       "      <th></th>\n",
       "      <th></th>\n",
       "      <th></th>\n",
       "      <th></th>\n",
       "      <th></th>\n",
       "      <th></th>\n",
       "      <th></th>\n",
       "      <th></th>\n",
       "      <th></th>\n",
       "      <th></th>\n",
       "    </tr>\n",
       "  </thead>\n",
       "  <tbody>\n",
       "    <tr>\n",
       "      <th>a400b8f29dece5f4d266f49f1ae2e98a</th>\n",
       "      <td>0.486581</td>\n",
       "      <td>0</td>\n",
       "      <td>1</td>\n",
       "      <td>0</td>\n",
       "      <td>4</td>\n",
       "      <td>2037</td>\n",
       "      <td>25</td>\n",
       "      <td>1991</td>\n",
       "      <td>1490.68891</td>\n",
       "      <td>0.000000</td>\n",
       "      <td>...</td>\n",
       "      <td>0.000000</td>\n",
       "      <td>0.000000</td>\n",
       "      <td>0.000000</td>\n",
       "      <td>0.000000</td>\n",
       "      <td>1.098612</td>\n",
       "      <td>2.079442</td>\n",
       "      <td>0.000000</td>\n",
       "      <td>0.000000</td>\n",
       "      <td>2.484907</td>\n",
       "      <td>5.049856</td>\n",
       "    </tr>\n",
       "    <tr>\n",
       "      <th>b9c57c450ce74a2af79c9ce96fac144d</th>\n",
       "      <td>0.712940</td>\n",
       "      <td>16</td>\n",
       "      <td>4</td>\n",
       "      <td>14</td>\n",
       "      <td>28</td>\n",
       "      <td>18172</td>\n",
       "      <td>127</td>\n",
       "      <td>17566</td>\n",
       "      <td>2414.68981</td>\n",
       "      <td>42.060296</td>\n",
       "      <td>...</td>\n",
       "      <td>1.098612</td>\n",
       "      <td>1.386294</td>\n",
       "      <td>0.693147</td>\n",
       "      <td>1.098612</td>\n",
       "      <td>2.639057</td>\n",
       "      <td>2.708050</td>\n",
       "      <td>1.386294</td>\n",
       "      <td>1.098612</td>\n",
       "      <td>2.397895</td>\n",
       "      <td>6.490724</td>\n",
       "    </tr>\n",
       "    <tr>\n",
       "      <th>6db558535151ea18ca70a6892197db41</th>\n",
       "      <td>0.614771</td>\n",
       "      <td>0</td>\n",
       "      <td>0</td>\n",
       "      <td>0</td>\n",
       "      <td>0</td>\n",
       "      <td>880</td>\n",
       "      <td>0</td>\n",
       "      <td>0</td>\n",
       "      <td>1670.68912</td>\n",
       "      <td>0.000000</td>\n",
       "      <td>...</td>\n",
       "      <td>0.000000</td>\n",
       "      <td>0.000000</td>\n",
       "      <td>0.000000</td>\n",
       "      <td>0.000000</td>\n",
       "      <td>1.386294</td>\n",
       "      <td>0.693147</td>\n",
       "      <td>0.000000</td>\n",
       "      <td>0.000000</td>\n",
       "      <td>0.000000</td>\n",
       "      <td>3.091042</td>\n",
       "    </tr>\n",
       "    <tr>\n",
       "      <th>46a0ddce8f7ed2a8d9bd5edcbb925682</th>\n",
       "      <td>0.616914</td>\n",
       "      <td>6</td>\n",
       "      <td>2</td>\n",
       "      <td>8</td>\n",
       "      <td>43</td>\n",
       "      <td>13348</td>\n",
       "      <td>131</td>\n",
       "      <td>14663</td>\n",
       "      <td>2474.68982</td>\n",
       "      <td>11.397237</td>\n",
       "      <td>...</td>\n",
       "      <td>0.000000</td>\n",
       "      <td>1.945910</td>\n",
       "      <td>0.000000</td>\n",
       "      <td>1.098612</td>\n",
       "      <td>2.639057</td>\n",
       "      <td>2.484907</td>\n",
       "      <td>0.000000</td>\n",
       "      <td>0.000000</td>\n",
       "      <td>1.609438</td>\n",
       "      <td>6.357842</td>\n",
       "    </tr>\n",
       "    <tr>\n",
       "      <th>b1b35ff97723d9b7ade1c9c3cf48f770</th>\n",
       "      <td>0.543453</td>\n",
       "      <td>2</td>\n",
       "      <td>4</td>\n",
       "      <td>3</td>\n",
       "      <td>0</td>\n",
       "      <td>8079</td>\n",
       "      <td>62</td>\n",
       "      <td>9762</td>\n",
       "      <td>2364.68977</td>\n",
       "      <td>15.262940</td>\n",
       "      <td>...</td>\n",
       "      <td>0.000000</td>\n",
       "      <td>1.098612</td>\n",
       "      <td>0.000000</td>\n",
       "      <td>0.693147</td>\n",
       "      <td>2.484907</td>\n",
       "      <td>2.197225</td>\n",
       "      <td>0.000000</td>\n",
       "      <td>0.000000</td>\n",
       "      <td>1.386294</td>\n",
       "      <td>6.118097</td>\n",
       "    </tr>\n",
       "  </tbody>\n",
       "</table>\n",
       "<p>5 rows × 75 columns</p>\n",
       "</div>"
      ],
      "text/plain": [
       "                                  positions  r_kills  r_deaths  r_assists  \\\n",
       "match_id_hash                                                               \n",
       "a400b8f29dece5f4d266f49f1ae2e98a   0.486581        0         1          0   \n",
       "b9c57c450ce74a2af79c9ce96fac144d   0.712940       16         4         14   \n",
       "6db558535151ea18ca70a6892197db41   0.614771        0         0          0   \n",
       "46a0ddce8f7ed2a8d9bd5edcbb925682   0.616914        6         2          8   \n",
       "b1b35ff97723d9b7ade1c9c3cf48f770   0.543453        2         4          3   \n",
       "\n",
       "                                  r_denies  r_gold  r_lh   r_xp  r_max_mana  \\\n",
       "match_id_hash                                                                 \n",
       "a400b8f29dece5f4d266f49f1ae2e98a         4    2037    25   1991  1490.68891   \n",
       "b9c57c450ce74a2af79c9ce96fac144d        28   18172   127  17566  2414.68981   \n",
       "6db558535151ea18ca70a6892197db41         0     880     0      0  1670.68912   \n",
       "46a0ddce8f7ed2a8d9bd5edcbb925682        43   13348   131  14663  2474.68982   \n",
       "b1b35ff97723d9b7ade1c9c3cf48f770         0    8079    62   9762  2364.68977   \n",
       "\n",
       "                                    r_stuns  ...  log_r_creeps_stacked  \\\n",
       "match_id_hash                                ...                         \n",
       "a400b8f29dece5f4d266f49f1ae2e98a   0.000000  ...              0.000000   \n",
       "b9c57c450ce74a2af79c9ce96fac144d  42.060296  ...              1.098612   \n",
       "6db558535151ea18ca70a6892197db41   0.000000  ...              0.000000   \n",
       "46a0ddce8f7ed2a8d9bd5edcbb925682  11.397237  ...              0.000000   \n",
       "b1b35ff97723d9b7ade1c9c3cf48f770  15.262940  ...              0.000000   \n",
       "\n",
       "                                  log_d_creeps_stacked  log_r_camps_stacked  \\\n",
       "match_id_hash                                                                 \n",
       "a400b8f29dece5f4d266f49f1ae2e98a              0.000000             0.000000   \n",
       "b9c57c450ce74a2af79c9ce96fac144d              1.386294             0.693147   \n",
       "6db558535151ea18ca70a6892197db41              0.000000             0.000000   \n",
       "46a0ddce8f7ed2a8d9bd5edcbb925682              1.945910             0.000000   \n",
       "b1b35ff97723d9b7ade1c9c3cf48f770              1.098612             0.000000   \n",
       "\n",
       "                                  log_d_camps_stacked  log_r_rune_pickups  \\\n",
       "match_id_hash                                                               \n",
       "a400b8f29dece5f4d266f49f1ae2e98a             0.000000            1.098612   \n",
       "b9c57c450ce74a2af79c9ce96fac144d             1.098612            2.639057   \n",
       "6db558535151ea18ca70a6892197db41             0.000000            1.386294   \n",
       "46a0ddce8f7ed2a8d9bd5edcbb925682             1.098612            2.639057   \n",
       "b1b35ff97723d9b7ade1c9c3cf48f770             0.693147            2.484907   \n",
       "\n",
       "                                  log_d_rune_pickups  log_r_sen_placed  \\\n",
       "match_id_hash                                                            \n",
       "a400b8f29dece5f4d266f49f1ae2e98a            2.079442          0.000000   \n",
       "b9c57c450ce74a2af79c9ce96fac144d            2.708050          1.386294   \n",
       "6db558535151ea18ca70a6892197db41            0.693147          0.000000   \n",
       "46a0ddce8f7ed2a8d9bd5edcbb925682            2.484907          0.000000   \n",
       "b1b35ff97723d9b7ade1c9c3cf48f770            2.197225          0.000000   \n",
       "\n",
       "                                  log_d_sen_placed  log_chat_len  \\\n",
       "match_id_hash                                                      \n",
       "a400b8f29dece5f4d266f49f1ae2e98a          0.000000      2.484907   \n",
       "b9c57c450ce74a2af79c9ce96fac144d          1.098612      2.397895   \n",
       "6db558535151ea18ca70a6892197db41          0.000000      0.000000   \n",
       "46a0ddce8f7ed2a8d9bd5edcbb925682          0.000000      1.609438   \n",
       "b1b35ff97723d9b7ade1c9c3cf48f770          0.000000      1.386294   \n",
       "\n",
       "                                  log_game_time  \n",
       "match_id_hash                                    \n",
       "a400b8f29dece5f4d266f49f1ae2e98a       5.049856  \n",
       "b9c57c450ce74a2af79c9ce96fac144d       6.490724  \n",
       "6db558535151ea18ca70a6892197db41       3.091042  \n",
       "46a0ddce8f7ed2a8d9bd5edcbb925682       6.357842  \n",
       "b1b35ff97723d9b7ade1c9c3cf48f770       6.118097  \n",
       "\n",
       "[5 rows x 75 columns]"
      ]
     },
     "execution_count": 167,
     "metadata": {},
     "output_type": "execute_result"
    }
   ],
   "source": [
    "data = pd.read_csv(r'C:\\Users\\Tatiana\\Documents\\Programming\\MLcourse competition\\new_feat_train.csv', index_col ='match_id_hash')\n",
    "target = pd.read_csv(r'C:\\Users\\Tatiana\\Documents\\Programming\\MLcourse competition\\train_targets.csv', index_col = 'match_id_hash')\n",
    "y = target['radiant_win']\n",
    "y = y.apply(lambda x: int(x))\n",
    "data.head()"
   ]
  },
  {
   "cell_type": "code",
   "execution_count": 168,
   "metadata": {},
   "outputs": [],
   "source": [
    "data['r_gold_sq'] = data['r_gold'].apply(lambda x: x**2)\n",
    "data['d_gold_sq'] = data['d_gold'].apply(lambda x: x**2)"
   ]
  },
  {
   "cell_type": "code",
   "execution_count": 169,
   "metadata": {},
   "outputs": [],
   "source": [
    "# smaller dataset\n",
    "\n",
    "col_to_drop = ['r_deaths', 'd_deaths'] \n",
    "cat_feats = ['game_mode','lobby_type', 'r_in_d_base', 'd_in_r_base','r_firstblood_claimed','d_firstblood_claimed']\n",
    "num_feats = [col for col in data.columns if col not in cat_feats]"
   ]
  },
  {
   "cell_type": "code",
   "execution_count": 137,
   "metadata": {},
   "outputs": [],
   "source": [
    "# determine the columns of the numerical data for further normalization\n",
    "first_blood_claimed = ['r{}_firstblood_claimed'.format(x) for x in range(1,6)]+['d{}_firstblood_claimed'.format(x) for x in range(1,6)]+['r_firstblood_claimed','d_firstblood_claimed']\n",
    "cat_feats = ['game_mode','lobby_type', 'r_in_d_base', 'd_in_r_base']+first_blood_claimed\n",
    "num_feats = [col for col in data.columns if col not in cat_feats]\n",
    "# numerical"
   ]
  },
  {
   "cell_type": "code",
   "execution_count": 170,
   "metadata": {},
   "outputs": [],
   "source": [
    "numerical_columns =[]\n",
    "for j in range(len(data.columns)):\n",
    "    if data.columns[j] in num_feats:\n",
    "        numerical_columns.append(j)"
   ]
  },
  {
   "cell_type": "code",
   "execution_count": 171,
   "metadata": {},
   "outputs": [],
   "source": [
    "from sklearn.model_selection import train_test_split\n",
    "\n",
    "X = data\n",
    "\n",
    "\n",
    "X_train, X_test, y_train, y_test = train_test_split(X, y, test_size=0.30, random_state=150)"
   ]
  },
  {
   "cell_type": "code",
   "execution_count": 172,
   "metadata": {},
   "outputs": [
    {
     "data": {
      "text/plain": [
       "(27772, 77)"
      ]
     },
     "execution_count": 172,
     "metadata": {},
     "output_type": "execute_result"
    }
   ],
   "source": [
    "X_train.shape"
   ]
  },
  {
   "cell_type": "code",
   "execution_count": 173,
   "metadata": {},
   "outputs": [],
   "source": [
    "from sklearn.preprocessing import StandardScaler\n",
    "from sklearn.preprocessing import OneHotEncoder\n",
    "from sklearn.pipeline import Pipeline, FeatureUnion, make_pipeline\n",
    "\n",
    "from sklearn.compose import ColumnTransformer, make_column_transformer\n",
    "\n",
    "preprocess = make_column_transformer(\n",
    "    (StandardScaler(), num_feats),\n",
    "    (OneHotEncoder(),cat_feats))\n",
    "\n",
    "\n",
    "# scaler = StandardScaler()\n",
    "# X_train[:,numerical_columns] = scaler.fit_transform(X_train[:,numerical_columns])\n",
    "# X_test[:,numerical_columns] = scaler.transform(X_test[:,numerical_columns])\n"
   ]
  },
  {
   "cell_type": "code",
   "execution_count": 216,
   "metadata": {},
   "outputs": [],
   "source": [
    "from sklearn.linear_model import LogisticRegression\n",
    "from sklearn.model_selection import cross_val_predict\n",
    "from sklearn.metrics import accuracy_score, roc_auc_score\n",
    "\n",
    "\n",
    "logreg = LogisticRegression(C = 0.0001,penalty = 'l2',random_state = 50 )\n",
    "pipe = make_pipeline(preprocess, logreg)\n",
    "\n"
   ]
  },
  {
   "cell_type": "code",
   "execution_count": 217,
   "metadata": {},
   "outputs": [
    {
     "name": "stdout",
     "output_type": "stream",
     "text": [
      "Cross validation AUC 0.8970\n"
     ]
    }
   ],
   "source": [
    "cv_pred = cross_val_predict(pipe, \n",
    "                             X_train, \n",
    "                             y_train, \n",
    "                             cv=5,\n",
    "                             method=\"predict_proba\")\n",
    "print(\"Cross validation AUC {:.4f}\".format(roc_auc_score(y_train, cv_pred[:,1])))"
   ]
  },
  {
   "cell_type": "code",
   "execution_count": 218,
   "metadata": {},
   "outputs": [
    {
     "data": {
      "text/plain": [
       "Pipeline(memory=None,\n",
       "     steps=[('columntransformer', ColumnTransformer(n_jobs=None, remainder='drop', sparse_threshold=0.3,\n",
       "         transformer_weights=None,\n",
       "         transformers=[('standardscaler', StandardScaler(copy=True, with_mean=True, with_std=True), ['positions', 'r_kills', 'r_deaths', 'r_assists', 'r_denies', 'r_..., penalty='l2', random_state=50,\n",
       "          solver='warn', tol=0.0001, verbose=0, warm_start=False))])"
      ]
     },
     "execution_count": 218,
     "metadata": {},
     "output_type": "execute_result"
    }
   ],
   "source": [
    "pipe.fit(X_train,y_train)"
   ]
  },
  {
   "cell_type": "code",
   "execution_count": 219,
   "metadata": {},
   "outputs": [
    {
     "name": "stdout",
     "output_type": "stream",
     "text": [
      "0.7131815508695287\n",
      "0.70894359808951\n"
     ]
    }
   ],
   "source": [
    "predicted = pipe.predict(X_test)\n",
    "print(accuracy_score(y_test, predicted))\n",
    "print(roc_auc_score(y_test,predicted))"
   ]
  },
  {
   "cell_type": "code",
   "execution_count": 220,
   "metadata": {},
   "outputs": [
    {
     "data": {
      "text/plain": [
       "Pipeline(memory=None,\n",
       "     steps=[('columntransformer', ColumnTransformer(n_jobs=None, remainder='drop', sparse_threshold=0.3,\n",
       "         transformer_weights=None,\n",
       "         transformers=[('standardscaler', StandardScaler(copy=True, with_mean=True, with_std=True), ['positions', 'r_kills', 'r_deaths', 'r_assists', 'r_denies', 'r_..., penalty='l2', random_state=50,\n",
       "          solver='warn', tol=0.0001, verbose=0, warm_start=False))])"
      ]
     },
     "execution_count": 220,
     "metadata": {},
     "output_type": "execute_result"
    }
   ],
   "source": [
    "pipe.fit(X,y)"
   ]
  },
  {
   "cell_type": "code",
   "execution_count": 221,
   "metadata": {},
   "outputs": [
    {
     "data": {
      "text/plain": [
       "Text(0.5, 0, 'coefficinets of regression')"
      ]
     },
     "execution_count": 221,
     "metadata": {},
     "output_type": "execute_result"
    },
    {
     "data": {
      "image/png": "[encoded data removed]",
      "text/plain": [
       "<Figure size 600x400 with 1 Axes>"
      ]
     },
     "metadata": {
      "needs_background": "light"
     },
     "output_type": "display_data"
    }
   ],
   "source": [
    "c = logreg.coef_\n",
    "plt.plot(c[0])\n",
    "plt.xlabel('coefficinets of regression')"
   ]
  },
  {
   "cell_type": "code",
   "execution_count": 222,
   "metadata": {},
   "outputs": [],
   "source": [
    "test_data = data = pd.read_csv(r'C:\\Users\\Tatiana\\Documents\\Programming\\MLcourse competition\\new_feat_test.csv', index_col ='match_id_hash')"
   ]
  },
  {
   "cell_type": "code",
   "execution_count": 223,
   "metadata": {},
   "outputs": [],
   "source": [
    "test_data['r_gold_sq'] = test_data['r_gold'].apply(lambda x: x**2)\n",
    "test_data['d_gold_sq'] = test_data['d_gold'].apply(lambda x: x**2)"
   ]
  },
  {
   "cell_type": "code",
   "execution_count": 224,
   "metadata": {},
   "outputs": [
    {
     "data": {
      "text/plain": [
       "(10000, 77)"
      ]
     },
     "execution_count": 224,
     "metadata": {},
     "output_type": "execute_result"
    }
   ],
   "source": [
    "test_data.shape"
   ]
  },
  {
   "cell_type": "code",
   "execution_count": 225,
   "metadata": {},
   "outputs": [],
   "source": [
    "X_sub = test_data\n",
    "# X_sub[:,numerical_columns] = scaler.transform(X_sub[:,numerical_columns])"
   ]
  },
  {
   "cell_type": "code",
   "execution_count": 226,
   "metadata": {},
   "outputs": [],
   "source": [
    "y_test_pred = pipe.predict_proba(X_sub)[:, 1]"
   ]
  },
  {
   "cell_type": "code",
   "execution_count": 227,
   "metadata": {},
   "outputs": [
    {
     "data": {
      "text/plain": [
       "array([0.52419796, 0.87133209, 0.75645381, ..., 0.49385077, 0.79829933,\n",
       "       0.22362423])"
      ]
     },
     "execution_count": 227,
     "metadata": {},
     "output_type": "execute_result"
    }
   ],
   "source": [
    "y_test_pred"
   ]
  },
  {
   "cell_type": "code",
   "execution_count": 228,
   "metadata": {},
   "outputs": [],
   "source": [
    "\n",
    "\n",
    "df_submission = pd.DataFrame({'radiant_win_prob': y_test_pred}, \n",
    "                                 index=test_data.index)"
   ]
  },
  {
   "cell_type": "code",
   "execution_count": 229,
   "metadata": {},
   "outputs": [
    {
     "name": "stdout",
     "output_type": "stream",
     "text": [
      "Submission saved to submission_2019-11-08_20-28-36.csv\n"
     ]
    }
   ],
   "source": [
    "import datetime\n",
    "submission_filename = 'submission_{}.csv'.format(\n",
    "    datetime.datetime.now().strftime('%Y-%m-%d_%H-%M-%S'))\n",
    "df_submission.to_csv(submission_filename)\n",
    "print('Submission saved to {}'.format(submission_filename))"
   ]
  },
  {
   "cell_type": "code",
   "execution_count": 230,
   "metadata": {},
   "outputs": [
    {
     "data": {
      "text/html": [
       "<div>\n",
       "<style scoped>\n",
       "    .dataframe tbody tr th:only-of-type {\n",
       "        vertical-align: middle;\n",
       "    }\n",
       "\n",
       "    .dataframe tbody tr th {\n",
       "        vertical-align: top;\n",
       "    }\n",
       "\n",
       "    .dataframe thead th {\n",
       "        text-align: right;\n",
       "    }\n",
       "</style>\n",
       "<table border=\"1\" class=\"dataframe\">\n",
       "  <thead>\n",
       "    <tr style=\"text-align: right;\">\n",
       "      <th></th>\n",
       "      <th>radiant_win_prob</th>\n",
       "    </tr>\n",
       "    <tr>\n",
       "      <th>match_id_hash</th>\n",
       "      <th></th>\n",
       "    </tr>\n",
       "  </thead>\n",
       "  <tbody>\n",
       "    <tr>\n",
       "      <th>30cc2d778dca82f2edb568ce9b585caa</th>\n",
       "      <td>0.524198</td>\n",
       "    </tr>\n",
       "    <tr>\n",
       "      <th>70e5ba30f367cea48793b9003fab9d38</th>\n",
       "      <td>0.871332</td>\n",
       "    </tr>\n",
       "    <tr>\n",
       "      <th>4d9ef74d3a2025d79e9423105fd73d41</th>\n",
       "      <td>0.756454</td>\n",
       "    </tr>\n",
       "    <tr>\n",
       "      <th>2bb79e0c1eaac1608e5a09c8e0c6a555</th>\n",
       "      <td>0.597384</td>\n",
       "    </tr>\n",
       "    <tr>\n",
       "      <th>bec17f099b01d67edc82dfb5ce735a43</th>\n",
       "      <td>0.506539</td>\n",
       "    </tr>\n",
       "    <tr>\n",
       "      <th>038acbb47d9eb54c11962d07cce8d829</th>\n",
       "      <td>0.218430</td>\n",
       "    </tr>\n",
       "    <tr>\n",
       "      <th>b891f03bb2a86d78b84043437fc95e04</th>\n",
       "      <td>0.846944</td>\n",
       "    </tr>\n",
       "    <tr>\n",
       "      <th>ff898afdb5bb5c7163bde45a009503f7</th>\n",
       "      <td>0.113243</td>\n",
       "    </tr>\n",
       "    <tr>\n",
       "      <th>72e6b1c31c718c0806f9aaeb8b7290a9</th>\n",
       "      <td>0.492546</td>\n",
       "    </tr>\n",
       "    <tr>\n",
       "      <th>abd97ab60ceca3ae6f00a28baea8a43c</th>\n",
       "      <td>0.568003</td>\n",
       "    </tr>\n",
       "  </tbody>\n",
       "</table>\n",
       "</div>"
      ],
      "text/plain": [
       "                                  radiant_win_prob\n",
       "match_id_hash                                     \n",
       "30cc2d778dca82f2edb568ce9b585caa          0.524198\n",
       "70e5ba30f367cea48793b9003fab9d38          0.871332\n",
       "4d9ef74d3a2025d79e9423105fd73d41          0.756454\n",
       "2bb79e0c1eaac1608e5a09c8e0c6a555          0.597384\n",
       "bec17f099b01d67edc82dfb5ce735a43          0.506539\n",
       "038acbb47d9eb54c11962d07cce8d829          0.218430\n",
       "b891f03bb2a86d78b84043437fc95e04          0.846944\n",
       "ff898afdb5bb5c7163bde45a009503f7          0.113243\n",
       "72e6b1c31c718c0806f9aaeb8b7290a9          0.492546\n",
       "abd97ab60ceca3ae6f00a28baea8a43c          0.568003"
      ]
     },
     "execution_count": 230,
     "metadata": {},
     "output_type": "execute_result"
    }
   ],
   "source": [
    "df_submission.head(10)\n"
   ]
  },
  {
   "cell_type": "code",
   "execution_count": 111,
   "metadata": {},
   "outputs": [
    {
     "data": {
      "text/plain": [
       "(10000, 1)"
      ]
     },
     "execution_count": 111,
     "metadata": {},
     "output_type": "execute_result"
    }
   ],
   "source": [
    "df_submission.shape"
   ]
  },
  {
   "cell_type": "code",
   "execution_count": null,
   "metadata": {},
   "outputs": [],
   "source": []
  }
 ],
 "metadata": {
  "kernelspec": {
   "display_name": "Python 3",
   "language": "python",
   "name": "python3"
  },
  "language_info": {
   "codemirror_mode": {
    "name": "ipython",
    "version": 3
   },
   "file_extension": ".py",
   "mimetype": "text/x-python",
   "name": "python",
   "nbconvert_exporter": "python",
   "pygments_lexer": "ipython3",
   "version": "3.7.3"
  }
 },
 "nbformat": 4,
 "nbformat_minor": 2
}
