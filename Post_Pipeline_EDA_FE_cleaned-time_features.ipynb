{
 "cells": [
  {
   "cell_type": "code",
   "execution_count": 1,
   "metadata": {},
   "outputs": [],
   "source": [
    "import pandas as pd\n",
    "import numpy as np\n",
    "import matplotlib.pyplot as plt\n",
    "plt.rcParams['figure.dpi']= 100\n",
    "import seaborn as sns\n",
    "import warnings\n",
    "warnings.filterwarnings('ignore')\n",
    "def warn(*args, **kwargs):\n",
    "    pass\n",
    "import warnings\n",
    "warnings.warn = warn\n",
    "import ujson as json\n",
    "import os\n",
    "from tqdm import tqdm_notebook"
   ]
  },
  {
   "cell_type": "markdown",
   "metadata": {},
   "source": [
    "\n",
    "IDs: MB 307; TK 337 \\\n",
    "https://docs.google.com/spreadsheets/d/15e1K0tg5ponA5R6YQkZfihrShTDLAKf5qeKaoVCiuhQ/edit#gid=0"
   ]
  },
  {
   "cell_type": "code",
   "execution_count": 2,
   "metadata": {},
   "outputs": [],
   "source": [
    "#Team name, using IDs above: mlcourse_ai_fall2019_team_<id1>_…<id4> "
   ]
  },
  {
   "cell_type": "code",
   "execution_count": 3,
   "metadata": {},
   "outputs": [],
   "source": [
    "train_X = pd.read_csv('/Users/m/Insight/MLcourse/Dota/train_features_plus.csv', index_col='match_id_hash')\n",
    "test_X = pd.read_csv('/Users/m/Insight/MLcourse/Dota/test_features_plus.csv', index_col='match_id_hash')\n",
    "target =  pd.read_csv('/Users/m/Insight/MLcourse/Dota/targets_plus.csv', index_col='match_id_hash')\n",
    "y = target['radiant_win']"
   ]
  },
  {
   "cell_type": "code",
   "execution_count": 4,
   "metadata": {},
   "outputs": [],
   "source": [
    "train_X_ability = pd.read_csv('/Users/m/Insight/MLcourse/Dota/train_features_ability.csv', index_col = 'match_id_hash')\n",
    "test_X_ability = pd.read_csv('/Users/m/Insight/MLcourse/Dota/test_features_ability.csv', index_col = 'match_id_hash')"
   ]
  },
  {
   "cell_type": "code",
   "execution_count": 5,
   "metadata": {},
   "outputs": [],
   "source": [
    "train_X = train_X.merge(train_X_ability, how='outer', left_index=True, right_index = True)\n",
    "test_X = test_X.merge(test_X_ability, how='outer', left_index=True, right_index = True)"
   ]
  },
  {
   "cell_type": "code",
   "execution_count": 6,
   "metadata": {},
   "outputs": [
    {
     "data": {
      "text/plain": [
       "(39675, 406)"
      ]
     },
     "execution_count": 6,
     "metadata": {},
     "output_type": "execute_result"
    }
   ],
   "source": [
    "full_df = train_X.merge(pd.DataFrame(y), how='outer', left_index=True, right_index=True)\n",
    "full_df.shape"
   ]
  },
  {
   "cell_type": "code",
   "execution_count": 7,
   "metadata": {},
   "outputs": [],
   "source": [
    "full_df_copy = full_df.copy()\n",
    "test_X_copy = test_X.copy()"
   ]
  },
  {
   "cell_type": "code",
   "execution_count": 8,
   "metadata": {},
   "outputs": [],
   "source": [
    "#features columns\n",
    "ls_feature_cols = list(train_X.columns.values)"
   ]
  },
  {
   "cell_type": "code",
   "execution_count": 10,
   "metadata": {},
   "outputs": [],
   "source": [
    "ls_feature_cols;"
   ]
  },
  {
   "cell_type": "code",
   "execution_count": 11,
   "metadata": {},
   "outputs": [],
   "source": [
    "ls_feature_remove = []"
   ]
  },
  {
   "cell_type": "code",
   "execution_count": 12,
   "metadata": {},
   "outputs": [],
   "source": [
    "#hero id columns names\n",
    "ls_r_hero_id = ['r{}_hero_id'.format(i) for i in range(1,6)]\n",
    "ls_d_hero_id = ['d{}_hero_id'.format(i) for i in range(1,6)]\n",
    "ls_hero_id = ls_r_hero_id + ls_d_hero_id"
   ]
  },
  {
   "cell_type": "code",
   "execution_count": 13,
   "metadata": {},
   "outputs": [],
   "source": [
    "hero_ids = full_df[ls_hero_id +['radiant_win']]\n",
    "hero_ids_rad_win = hero_ids[hero_ids['radiant_win'] == True]\n",
    "hero_ids_rad_lose = hero_ids[hero_ids['radiant_win'] == False]\n",
    "#hero_ids_rad_win.shape[0] + hero_ids_rad_lose.shape[0]"
   ]
  },
  {
   "cell_type": "code",
   "execution_count": 14,
   "metadata": {},
   "outputs": [],
   "source": [
    "winning_hero_ids1 = hero_ids_rad_win[ls_r_hero_id]\n",
    "winning_hero_ids2 = hero_ids_rad_lose[ls_d_hero_id]\n",
    "#winning_hero_ids1.shape[0] + winning_hero_ids2.shape[0]"
   ]
  },
  {
   "cell_type": "code",
   "execution_count": 15,
   "metadata": {},
   "outputs": [],
   "source": [
    "losing_hero_ids1 = hero_ids_rad_win[ls_d_hero_id]\n",
    "losing_hero_ids2 = hero_ids_rad_lose[ls_r_hero_id]"
   ]
  },
  {
   "cell_type": "code",
   "execution_count": 16,
   "metadata": {},
   "outputs": [],
   "source": [
    "winning_hero_ids1.rename(columns = {'r1_hero_id':'1_id', 'r2_hero_id':'2_id', \n",
    "                              'r3_hero_id':'3_id','r4_hero_id':'4_id',\n",
    "                                    'r5_hero_id':'5_id'}, inplace = True)\n",
    "winning_hero_ids2.rename(columns = {'d1_hero_id':'1_id', 'd2_hero_id':'2_id', \n",
    "                              'd3_hero_id':'3_id','d4_hero_id':'4_id',\n",
    "                                    'd5_hero_id':'5_id'}, inplace = True)"
   ]
  },
  {
   "cell_type": "code",
   "execution_count": 17,
   "metadata": {},
   "outputs": [],
   "source": [
    "losing_hero_ids1.rename(columns = {'d1_hero_id':'1_id', 'd2_hero_id':'2_id', \n",
    "                              'd3_hero_id':'3_id','d4_hero_id':'4_id',\n",
    "                                    'd5_hero_id':'5_id'}, inplace = True)\n",
    "losing_hero_ids2.rename(columns = {'r1_hero_id':'1_id', 'r2_hero_id':'2_id', \n",
    "                              'r3_hero_id':'3_id','r4_hero_id':'4_id',\n",
    "                                    'r5_hero_id':'5_id'}, inplace = True)"
   ]
  },
  {
   "cell_type": "code",
   "execution_count": 18,
   "metadata": {},
   "outputs": [
    {
     "data": {
      "text/plain": [
       "(39675, 5)"
      ]
     },
     "execution_count": 18,
     "metadata": {},
     "output_type": "execute_result"
    }
   ],
   "source": [
    "winning_hero_ids = pd.concat([winning_hero_ids1, winning_hero_ids2], axis=0)\n",
    "winning_hero_ids.shape"
   ]
  },
  {
   "cell_type": "code",
   "execution_count": 19,
   "metadata": {},
   "outputs": [
    {
     "data": {
      "text/plain": [
       "(39675, 5)"
      ]
     },
     "execution_count": 19,
     "metadata": {},
     "output_type": "execute_result"
    }
   ],
   "source": [
    "losing_hero_ids = pd.concat([losing_hero_ids1, losing_hero_ids2], axis=0)\n",
    "losing_hero_ids.shape"
   ]
  },
  {
   "cell_type": "code",
   "execution_count": 20,
   "metadata": {},
   "outputs": [],
   "source": [
    "winning_hero_counts = winning_hero_ids['1_id'].value_counts().sort_index() + winning_hero_ids['2_id'].value_counts().sort_index() + winning_hero_ids['3_id'].value_counts().sort_index() + winning_hero_ids['4_id'].value_counts().sort_index() + winning_hero_ids['5_id'].value_counts().sort_index()"
   ]
  },
  {
   "cell_type": "code",
   "execution_count": 21,
   "metadata": {},
   "outputs": [],
   "source": [
    "losing_hero_counts = losing_hero_ids['1_id'].value_counts().sort_index() + losing_hero_ids['2_id'].value_counts().sort_index() + losing_hero_ids['3_id'].value_counts().sort_index() + losing_hero_ids['4_id'].value_counts().sort_index() + losing_hero_ids['5_id'].value_counts().sort_index()"
   ]
  },
  {
   "cell_type": "code",
   "execution_count": 22,
   "metadata": {},
   "outputs": [],
   "source": [
    "winning_hero_counts = winning_hero_counts.sort_values()\n",
    "winning_hero_dict = winning_hero_counts.to_dict()"
   ]
  },
  {
   "cell_type": "code",
   "execution_count": 23,
   "metadata": {},
   "outputs": [],
   "source": [
    "losing_hero_counts = losing_hero_counts.sort_values()\n",
    "losing_hero_dict = losing_hero_counts.to_dict()"
   ]
  },
  {
   "cell_type": "code",
   "execution_count": 24,
   "metadata": {},
   "outputs": [],
   "source": [
    "hero_counts_win_minus_lose = winning_hero_counts.sort_index() - losing_hero_counts.sort_index()\n",
    "diff_hero_dict = hero_counts_win_minus_lose.to_dict()"
   ]
  },
  {
   "cell_type": "code",
   "execution_count": 25,
   "metadata": {},
   "outputs": [],
   "source": [
    "from collections import Counter\n",
    "total_games_dict = Counter(winning_hero_dict) + Counter(losing_hero_dict)\n",
    "hero_id_normalize_dict = {k: (diff_hero_dict[k] / total_games_dict[k]) for k in diff_hero_dict}"
   ]
  },
  {
   "cell_type": "code",
   "execution_count": 26,
   "metadata": {},
   "outputs": [],
   "source": [
    "#run this cell only once! or else NaNs\n",
    "for col in ls_hero_id:\n",
    "    if col not in ls_feature_cols:\n",
    "        ls_feature_cols.append(col+'_bool')\n",
    "    ls_feature_cols.append(col+'success')\n",
    "    full_df[col+'success'] = full_df[col].map(diff_hero_dict)\n",
    "    train_X[col+'success'] = train_X[col].map(diff_hero_dict)\n",
    "    test_X[col+'success'] = test_X[col].map(diff_hero_dict)"
   ]
  },
  {
   "cell_type": "code",
   "execution_count": 27,
   "metadata": {},
   "outputs": [],
   "source": [
    "#run only once!\n",
    "for col in ls_hero_id:\n",
    "    if col not in ls_feature_cols:\n",
    "        ls_feature_cols.append(col+'_bool')\n",
    "    ls_feature_cols.append(col+'norm')\n",
    "    full_df[col+'norm'] = full_df[col].map(hero_id_normalize_dict)\n",
    "    train_X[col+'norm'] = train_X[col].map(hero_id_normalize_dict)\n",
    "    test_X[col+'norm'] = test_X[col].map(hero_id_normalize_dict)"
   ]
  },
  {
   "cell_type": "code",
   "execution_count": 28,
   "metadata": {},
   "outputs": [
    {
     "data": {
      "image/png": "[encoded data removed]",
      "text/plain": [
       "<Figure size 432x288 with 1 Axes>"
      ]
     },
     "metadata": {
      "needs_background": "light"
     },
     "output_type": "display_data"
    }
   ],
   "source": [
    "plt.bar(list(diff_hero_dict.keys()), diff_hero_dict.values(), color='g')\n",
    "plt.show()"
   ]
  },
  {
   "cell_type": "code",
   "execution_count": 29,
   "metadata": {},
   "outputs": [
    {
     "data": {
      "image/png": "[encoded data removed]",
      "text/plain": [
       "<Figure size 432x288 with 1 Axes>"
      ]
     },
     "metadata": {
      "needs_background": "light"
     },
     "output_type": "display_data"
    }
   ],
   "source": [
    "plt.bar(list(hero_id_normalize_dict.keys()), hero_id_normalize_dict.values(), color='g')\n",
    "plt.show()"
   ]
  },
  {
   "cell_type": "code",
   "execution_count": 30,
   "metadata": {},
   "outputs": [],
   "source": [
    "ls_top_heros = [k for k,v in hero_id_normalize_dict.items() if v > 0.1] + [k for k,v in diff_hero_dict.items() if v > 500]"
   ]
  },
  {
   "cell_type": "code",
   "execution_count": 31,
   "metadata": {},
   "outputs": [],
   "source": [
    "ls_bottom_heros = [k for k,v in hero_id_normalize_dict.items() if v < -0.09] + [k for k,v in diff_hero_dict.items() if v < -500]"
   ]
  },
  {
   "cell_type": "code",
   "execution_count": 32,
   "metadata": {},
   "outputs": [
    {
     "data": {
      "text/plain": [
       "[13, 19, 45, 46, 53, 65, 72, 73, 80, 82, 91, 98, 106, 107, 113, 11, 19]"
      ]
     },
     "execution_count": 32,
     "metadata": {},
     "output_type": "execute_result"
    }
   ],
   "source": [
    "ls_bottom_heros"
   ]
  },
  {
   "cell_type": "code",
   "execution_count": 32,
   "metadata": {},
   "outputs": [],
   "source": [
    "for col in ls_hero_id:\n",
    "    if col not in ls_feature_cols:\n",
    "        ls_feature_cols.append(col+'_bool')\n",
    "    full_df[col+'_bool'] = np.where(full_df[col].astype(int).isin(ls_top_heros),2,np.where(full_df[col].isin(ls_bottom_heros),0,1))\n",
    "    train_X[col+'_bool'] = np.where(train_X[col].astype(int).isin(ls_top_heros),2,np.where(train_X[col].isin(ls_bottom_heros),0,1))\n",
    "    test_X[col+'_bool'] = np.where(test_X[col].astype(int).isin(ls_top_heros),2,np.where(test_X[col].isin(ls_bottom_heros),0,1))"
   ]
  },
  {
   "cell_type": "markdown",
   "metadata": {},
   "source": [
    "If using one-hot encoder, need nonnegative values, so 2 = top, 0 = bottom, 1 = none of these"
   ]
  },
  {
   "cell_type": "code",
   "execution_count": 33,
   "metadata": {},
   "outputs": [
    {
     "data": {
      "text/plain": [
       "(39675, 435)"
      ]
     },
     "execution_count": 33,
     "metadata": {},
     "output_type": "execute_result"
    }
   ],
   "source": [
    "train_X.shape"
   ]
  },
  {
   "cell_type": "code",
   "execution_count": 34,
   "metadata": {},
   "outputs": [
    {
     "data": {
      "text/plain": [
       "(39675, 436)"
      ]
     },
     "execution_count": 34,
     "metadata": {},
     "output_type": "execute_result"
    }
   ],
   "source": [
    "full_df.shape"
   ]
  },
  {
   "cell_type": "code",
   "execution_count": 35,
   "metadata": {},
   "outputs": [
    {
     "data": {
      "text/plain": [
       "(10000, 435)"
      ]
     },
     "execution_count": 35,
     "metadata": {},
     "output_type": "execute_result"
    }
   ],
   "source": [
    "test_X.shape"
   ]
  },
  {
   "cell_type": "code",
   "execution_count": 36,
   "metadata": {},
   "outputs": [],
   "source": [
    "ls_feature_cols.append('r_hero_idnorm')\n",
    "full_df['r_hero_idnorm'] = full_df[['r{}_hero_idnorm'.format(i) for i in range(1,6)]].sum(axis=1)\n",
    "train_X['r_hero_idnorm'] = train_X[['r{}_hero_idnorm'.format(i) for i in range(1,6)]].sum(axis=1)\n",
    "test_X['r_hero_idnorm'] = test_X[['r{}_hero_idnorm'.format(i) for i in range(1,6)]].sum(axis=1)"
   ]
  },
  {
   "cell_type": "code",
   "execution_count": 37,
   "metadata": {},
   "outputs": [],
   "source": [
    "ls_feature_cols.append('d_hero_idnorm')\n",
    "full_df['d_hero_idnorm'] = full_df[['d{}_hero_idnorm'.format(i) for i in range(1,6)]].sum(axis=1)\n",
    "train_X['d_hero_idnorm'] = train_X[['d{}_hero_idnorm'.format(i) for i in range(1,6)]].sum(axis=1)\n",
    "test_X['d_hero_idnorm'] = test_X[['d{}_hero_idnorm'.format(i) for i in range(1,6)]].sum(axis=1)"
   ]
  },
  {
   "cell_type": "markdown",
   "metadata": {},
   "source": [
    "### Look at hero success, taken k heros per team\n",
    "\n",
    "Heros are numbered from 1 to 120."
   ]
  },
  {
   "cell_type": "markdown",
   "metadata": {},
   "source": [
    "### k=2 at a time"
   ]
  },
  {
   "cell_type": "code",
   "execution_count": 38,
   "metadata": {},
   "outputs": [],
   "source": [
    "import itertools"
   ]
  },
  {
   "cell_type": "code",
   "execution_count": 39,
   "metadata": {},
   "outputs": [],
   "source": [
    "heros_df_r_win = hero_ids[hero_ids['radiant_win']==True]\n",
    "heros_df_r_lose = hero_ids[hero_ids['radiant_win']==False]"
   ]
  },
  {
   "cell_type": "code",
   "execution_count": 40,
   "metadata": {},
   "outputs": [],
   "source": [
    "r_heros_df_r_win = heros_df_r_win[ls_r_hero_id]\n",
    "r_heros_df_r_lose = heros_df_r_lose[ls_r_hero_id]\n",
    "d_heros_df_r_win = heros_df_r_win[ls_d_hero_id]\n",
    "d_heros_df_r_lose = heros_df_r_lose[ls_d_hero_id]"
   ]
  },
  {
   "cell_type": "code",
   "execution_count": 41,
   "metadata": {},
   "outputs": [],
   "source": [
    "r_heros_df_r_win.values.sort()\n",
    "r_heros_df_r_lose.values.sort()\n",
    "d_heros_df_r_win.values.sort()\n",
    "d_heros_df_r_lose.values.sort()"
   ]
  },
  {
   "cell_type": "code",
   "execution_count": 42,
   "metadata": {},
   "outputs": [],
   "source": [
    "def make_2tuple(df,x,hero_id_list):\n",
    "    df['{}_hero_2tuple_1'.format(x)] = list(zip(df.loc[:,'{}1_hero_id'.format(x)],df.loc[:,'{}2_hero_id'.format(x)]))\n",
    "    df['{}_hero_2tuple_2'.format(x)] = list(zip(df.loc[:,'{}1_hero_id'.format(x)],df.loc[:,'{}3_hero_id'.format(x)]))\n",
    "    df['{}_hero_2tuple_3'.format(x)] = list(zip(df.loc[:,'{}1_hero_id'.format(x)],df.loc[:,'{}4_hero_id'.format(x)]))\n",
    "    df['{}_hero_2tuple_4'.format(x)] = list(zip(df.loc[:,'{}1_hero_id'.format(x)],df.loc[:,'{}5_hero_id'.format(x)]))\n",
    "    df['{}_hero_2tuple_5'.format(x)] = list(zip(df.loc[:,'{}2_hero_id'.format(x)],df.loc[:,'{}3_hero_id'.format(x)]))\n",
    "    df['{}_hero_2tuple_6'.format(x)] = list(zip(df.loc[:,'{}2_hero_id'.format(x)],df.loc[:,'{}4_hero_id'.format(x)]))\n",
    "    df['{}_hero_2tuple_7'.format(x)] = list(zip(df.loc[:,'{}2_hero_id'.format(x)],df.loc[:,'{}5_hero_id'.format(x)]))\n",
    "    df['{}_hero_2tuple_8'.format(x)] = list(zip(df.loc[:,'{}3_hero_id'.format(x)],df.loc[:,'{}4_hero_id'.format(x)]))\n",
    "    df['{}_hero_2tuple_9'.format(x)] = list(zip(df.loc[:,'{}3_hero_id'.format(x)],df.loc[:,'{}5_hero_id'.format(x)]))\n",
    "    df['{}_hero_2tuple_10'.format(x)] = list(zip(df.loc[:,'{}4_hero_id'.format(x)],df.loc[:,'{}5_hero_id'.format(x)]))\n",
    "    for col in hero_id_list:\n",
    "        if col in df.columns.values and col.startswith(x):\n",
    "            df.drop(col,axis=1,inplace=True)\n",
    "    return df"
   ]
  },
  {
   "cell_type": "code",
   "execution_count": 43,
   "metadata": {},
   "outputs": [],
   "source": [
    "r_heros_df_r_win = make_2tuple(r_heros_df_r_win,'r',ls_hero_id);\n",
    "r_heros_df_r_lose = make_2tuple(r_heros_df_r_lose,'r',ls_hero_id);\n",
    "d_heros_df_r_win = make_2tuple(d_heros_df_r_win,'d',ls_hero_id);\n",
    "d_heros_df_r_lose = make_2tuple(d_heros_df_r_lose,'d',ls_hero_id);"
   ]
  },
  {
   "cell_type": "code",
   "execution_count": 44,
   "metadata": {},
   "outputs": [],
   "source": [
    "d_heros_df_r_lose.columns;"
   ]
  },
  {
   "cell_type": "code",
   "execution_count": 45,
   "metadata": {},
   "outputs": [],
   "source": [
    "ls_tuple_cols_r = ['r_hero_2tuple_{}'.format(i) for i in range(1,11)]\n",
    "ls_tuple_cols_d = ['d_hero_2tuple_{}'.format(i) for i in range(1,11)]\n",
    "ls_tuple_cols = ls_tuple_cols_r + ls_tuple_cols_d"
   ]
  },
  {
   "cell_type": "code",
   "execution_count": 46,
   "metadata": {},
   "outputs": [],
   "source": [
    "dict_2heros = {}\n",
    "for i in range(r_heros_df_r_win.shape[0]):\n",
    "    for j in ls_tuple_cols_r:\n",
    "        if r_heros_df_r_win[j].iloc[i] not in dict_2heros:\n",
    "            dict_2heros[r_heros_df_r_win[j].iloc[i]] = 1\n",
    "        else:\n",
    "            dict_2heros[r_heros_df_r_win[j].iloc[i]] +=1\n",
    "for i in range(r_heros_df_r_lose.shape[0]):\n",
    "    for j in ls_tuple_cols_r:\n",
    "        if r_heros_df_r_lose[j].iloc[i] not in dict_2heros:\n",
    "            dict_2heros[r_heros_df_r_lose[j].iloc[i]] = -1\n",
    "        else:\n",
    "            dict_2heros[r_heros_df_r_lose[j].iloc[i]] += -1\n",
    "for i in range(d_heros_df_r_win.shape[0]):\n",
    "    for j in ls_tuple_cols_d:\n",
    "        if d_heros_df_r_win[j].iloc[i] not in dict_2heros:\n",
    "            dict_2heros[d_heros_df_r_win[j].iloc[i]] = 1\n",
    "        else:\n",
    "            dict_2heros[d_heros_df_r_win[j].iloc[i]] += -1\n",
    "for i in range(d_heros_df_r_lose.shape[0]):\n",
    "    for j in ls_tuple_cols_d:\n",
    "        if d_heros_df_r_lose[j].iloc[i] not in dict_2heros:\n",
    "            dict_2heros[d_heros_df_r_lose[j].iloc[i]] = -1\n",
    "        else:\n",
    "            dict_2heros[d_heros_df_r_lose[j].iloc[i]] += 1"
   ]
  },
  {
   "cell_type": "code",
   "execution_count": 47,
   "metadata": {},
   "outputs": [
    {
     "data": {
      "text/plain": [
       "-111"
      ]
     },
     "execution_count": 47,
     "metadata": {},
     "output_type": "execute_result"
    }
   ],
   "source": [
    "max(dict_2heros.values())\n",
    "min(dict_2heros.values())"
   ]
  },
  {
   "cell_type": "code",
   "execution_count": 48,
   "metadata": {},
   "outputs": [
    {
     "data": {
      "text/plain": [
       "6555"
      ]
     },
     "execution_count": 48,
     "metadata": {},
     "output_type": "execute_result"
    }
   ],
   "source": [
    "len(list(dict_2heros.keys()))"
   ]
  },
  {
   "cell_type": "code",
   "execution_count": 49,
   "metadata": {},
   "outputs": [
    {
     "data": {
      "image/png": "[encoded data removed]",
      "text/plain": [
       "<Figure size 432x288 with 1 Axes>"
      ]
     },
     "metadata": {
      "needs_background": "light"
     },
     "output_type": "display_data"
    }
   ],
   "source": [
    "plt.hist(list(dict_2heros.values()), color='g',bins=50)\n",
    "plt.show()"
   ]
  },
  {
   "cell_type": "code",
   "execution_count": 50,
   "metadata": {},
   "outputs": [],
   "source": [
    "dict_2heros_total_games = {}\n",
    "for i in range(r_heros_df_r_win.shape[0]):\n",
    "    for j in ls_tuple_cols_r:\n",
    "        if r_heros_df_r_win[j].iloc[i] not in dict_2heros_total_games:\n",
    "            dict_2heros_total_games[r_heros_df_r_win[j].iloc[i]] = 1\n",
    "        else:\n",
    "            dict_2heros_total_games[r_heros_df_r_win[j].iloc[i]] +=1\n",
    "for i in range(r_heros_df_r_lose.shape[0]):\n",
    "    for j in ls_tuple_cols_r:\n",
    "        if r_heros_df_r_lose[j].iloc[i] not in dict_2heros_total_games:\n",
    "            dict_2heros_total_games[r_heros_df_r_lose[j].iloc[i]] = 1\n",
    "        else:\n",
    "            dict_2heros_total_games[r_heros_df_r_lose[j].iloc[i]] += 1\n",
    "for i in range(d_heros_df_r_win.shape[0]):\n",
    "    for j in ls_tuple_cols_d:\n",
    "        if d_heros_df_r_win[j].iloc[i] not in dict_2heros_total_games:\n",
    "            dict_2heros_total_games[d_heros_df_r_win[j].iloc[i]] = 1\n",
    "        else:\n",
    "            dict_2heros_total_games[d_heros_df_r_win[j].iloc[i]] += 1\n",
    "for i in range(d_heros_df_r_lose.shape[0]):\n",
    "    for j in ls_tuple_cols_d:\n",
    "        if d_heros_df_r_lose[j].iloc[i] not in dict_2heros_total_games:\n",
    "            dict_2heros_total_games[d_heros_df_r_lose[j].iloc[i]] = 1\n",
    "        else:\n",
    "            dict_2heros_total_games[d_heros_df_r_lose[j].iloc[i]] += 1"
   ]
  },
  {
   "cell_type": "code",
   "execution_count": 51,
   "metadata": {},
   "outputs": [
    {
     "data": {
      "image/png": "[encoded data removed]",
      "text/plain": [
       "<Figure size 432x288 with 1 Axes>"
      ]
     },
     "metadata": {
      "needs_background": "light"
     },
     "output_type": "display_data"
    }
   ],
   "source": [
    "plt.hist(list(dict_2heros_total_games.values()), color='g',bins=50)\n",
    "plt.show()"
   ]
  },
  {
   "cell_type": "code",
   "execution_count": 52,
   "metadata": {},
   "outputs": [],
   "source": [
    "dict_2heros_norm = {k: dict_2heros[k]/dict_2heros_total_games[k] for k in dict_2heros}"
   ]
  },
  {
   "cell_type": "code",
   "execution_count": 53,
   "metadata": {},
   "outputs": [
    {
     "data": {
      "image/png": "[encoded data removed]",
      "text/plain": [
       "<Figure size 432x288 with 1 Axes>"
      ]
     },
     "metadata": {
      "needs_background": "light"
     },
     "output_type": "display_data"
    }
   ],
   "source": [
    "plt.hist(list(dict_2heros_norm.values()), color='g',bins=50)\n",
    "plt.show()"
   ]
  },
  {
   "cell_type": "code",
   "execution_count": 54,
   "metadata": {},
   "outputs": [],
   "source": [
    "ls_top_tuples_net2 = [k for k,v in dict_2heros.items() if v >=30]\n",
    "ls_top_tuples_norm2 = [k for k,v in dict_2heros_norm.items() if v >=0.30]\n",
    "ls_top_tuples2 = list(set(ls_top_tuples_net2).intersection(set(ls_top_tuples_norm2)))"
   ]
  },
  {
   "cell_type": "code",
   "execution_count": 55,
   "metadata": {},
   "outputs": [],
   "source": [
    "ls_bottom_tuples_net2 = [k for k,v in dict_2heros.items() if v <= -30]\n",
    "ls_bottom_tuples_norm2 = [k for k,v in dict_2heros_norm.items() if v <= -0.30]\n",
    "ls_bottom_tuples2 = list(set(ls_bottom_tuples_net2).intersection(set(ls_bottom_tuples_norm2)))"
   ]
  },
  {
   "cell_type": "code",
   "execution_count": 56,
   "metadata": {},
   "outputs": [
    {
     "data": {
      "text/plain": [
       "25"
      ]
     },
     "execution_count": 56,
     "metadata": {},
     "output_type": "execute_result"
    }
   ],
   "source": [
    "len(ls_top_tuples2)"
   ]
  },
  {
   "cell_type": "code",
   "execution_count": 57,
   "metadata": {},
   "outputs": [],
   "source": [
    "def make_2tuple_no_drop(df,x):\n",
    "    df['{}_hero_2tuple_1'.format(x)] = list(zip(df.loc[:,'{}1_hero_id'.format(x)],df.loc[:,'{}2_hero_id'.format(x)]))\n",
    "    df['{}_hero_2tuple_2'.format(x)] = list(zip(df.loc[:,'{}1_hero_id'.format(x)],df.loc[:,'{}3_hero_id'.format(x)]))\n",
    "    df['{}_hero_2tuple_3'.format(x)] = list(zip(df.loc[:,'{}1_hero_id'.format(x)],df.loc[:,'{}4_hero_id'.format(x)]))\n",
    "    df['{}_hero_2tuple_4'.format(x)] = list(zip(df.loc[:,'{}1_hero_id'.format(x)],df.loc[:,'{}5_hero_id'.format(x)]))\n",
    "    df['{}_hero_2tuple_5'.format(x)] = list(zip(df.loc[:,'{}2_hero_id'.format(x)],df.loc[:,'{}3_hero_id'.format(x)]))\n",
    "    df['{}_hero_2tuple_6'.format(x)] = list(zip(df.loc[:,'{}2_hero_id'.format(x)],df.loc[:,'{}4_hero_id'.format(x)]))\n",
    "    df['{}_hero_2tuple_7'.format(x)] = list(zip(df.loc[:,'{}2_hero_id'.format(x)],df.loc[:,'{}5_hero_id'.format(x)]))\n",
    "    df['{}_hero_2tuple_8'.format(x)] = list(zip(df.loc[:,'{}3_hero_id'.format(x)],df.loc[:,'{}4_hero_id'.format(x)]))\n",
    "    df['{}_hero_2tuple_9'.format(x)] = list(zip(df.loc[:,'{}3_hero_id'.format(x)],df.loc[:,'{}5_hero_id'.format(x)]))\n",
    "    df['{}_hero_2tuple_10'.format(x)] = list(zip(df.loc[:,'{}4_hero_id'.format(x)],df.loc[:,'{}5_hero_id'.format(x)]))\n",
    "    return df"
   ]
  },
  {
   "cell_type": "code",
   "execution_count": 58,
   "metadata": {},
   "outputs": [],
   "source": [
    "full_df = make_2tuple_no_drop(full_df,'r')\n",
    "train_X = make_2tuple_no_drop(train_X,'r')\n",
    "test_X = make_2tuple_no_drop(test_X,'r')"
   ]
  },
  {
   "cell_type": "code",
   "execution_count": 59,
   "metadata": {},
   "outputs": [],
   "source": [
    "full_df = make_2tuple_no_drop(full_df,'d')\n",
    "train_X = make_2tuple_no_drop(train_X,'d')\n",
    "test_X = make_2tuple_no_drop(test_X,'d')"
   ]
  },
  {
   "cell_type": "code",
   "execution_count": 60,
   "metadata": {},
   "outputs": [],
   "source": [
    "for col in ls_tuple_cols:\n",
    "    if col not in ls_tuple_cols:\n",
    "        ls_feature_cols.append(col+'_bool')\n",
    "    full_df[col+'_bool'] = np.where(full_df[col].isin(ls_top_tuples2),2,np.where(full_df[col].isin(ls_bottom_tuples2),0,1))\n",
    "    train_X[col+'_bool'] = np.where(train_X[col].isin(ls_top_tuples2),2,np.where(train_X[col].isin(ls_bottom_tuples2),0,1))\n",
    "    test_X[col+'_bool'] = np.where(test_X[col].isin(ls_top_tuples2),2,np.where(test_X[col].isin(ls_bottom_tuples2),0,1))"
   ]
  },
  {
   "cell_type": "code",
   "execution_count": 61,
   "metadata": {},
   "outputs": [],
   "source": [
    "#run only once or else nans, or maybe don't run at all (noise)\n",
    "#for col in ls_tuple_cols:\n",
    "#    ls_feature_cols.append(col+'_map')\n",
    "#    full_df[col+'_map'] = full_df[col].map(dict_2heros)\n",
    "#    train_X[col+'_map'] = train_X[col].map(dict_2heros)\n",
    "#    test_X[col+'_map'] = test_X[col].map(dict_2heros)"
   ]
  },
  {
   "cell_type": "code",
   "execution_count": 62,
   "metadata": {},
   "outputs": [],
   "source": [
    "ls_feature_cols.append(ls_tuple_cols)"
   ]
  },
  {
   "cell_type": "code",
   "execution_count": 63,
   "metadata": {},
   "outputs": [
    {
     "data": {
      "text/plain": [
       "(39675, 478)"
      ]
     },
     "execution_count": 63,
     "metadata": {},
     "output_type": "execute_result"
    }
   ],
   "source": [
    "full_df.shape"
   ]
  },
  {
   "cell_type": "code",
   "execution_count": 64,
   "metadata": {},
   "outputs": [
    {
     "data": {
      "text/plain": [
       "(39675, 477)"
      ]
     },
     "execution_count": 64,
     "metadata": {},
     "output_type": "execute_result"
    }
   ],
   "source": [
    "train_X.shape"
   ]
  },
  {
   "cell_type": "code",
   "execution_count": 65,
   "metadata": {},
   "outputs": [
    {
     "data": {
      "text/plain": [
       "(10000, 477)"
      ]
     },
     "execution_count": 65,
     "metadata": {},
     "output_type": "execute_result"
    }
   ],
   "source": [
    "test_X.shape"
   ]
  },
  {
   "cell_type": "markdown",
   "metadata": {},
   "source": [
    "### k=3 at a time"
   ]
  },
  {
   "cell_type": "code",
   "execution_count": 66,
   "metadata": {},
   "outputs": [],
   "source": [
    "r_heros_df_r_win3 = heros_df_r_win[ls_r_hero_id]\n",
    "r_heros_df_r_lose3 = heros_df_r_lose[ls_r_hero_id]\n",
    "d_heros_df_r_win3 = heros_df_r_win[ls_d_hero_id]\n",
    "d_heros_df_r_lose3 = heros_df_r_lose[ls_d_hero_id]\n",
    "r_heros_df_r_win3.values.sort()\n",
    "r_heros_df_r_lose3.values.sort()\n",
    "d_heros_df_r_win3.values.sort()\n",
    "d_heros_df_r_lose3.values.sort()"
   ]
  },
  {
   "cell_type": "code",
   "execution_count": 67,
   "metadata": {},
   "outputs": [],
   "source": [
    "from itertools import combinations"
   ]
  },
  {
   "cell_type": "code",
   "execution_count": 68,
   "metadata": {},
   "outputs": [],
   "source": [
    "def make_3tuple(df,x,hero_id_list):\n",
    "    combs = list(combinations([i for i in range(1,6)],3))\n",
    "    i = 0\n",
    "    for comb in combs:\n",
    "        df['{}_hero_3tuple_{}'.format(x,i+1)] = \\\n",
    "                list(zip(df.loc[:,'{}{}_hero_id'.format(x,combs[i][0])],\\\n",
    "                         df.loc[:,'{}{}_hero_id'.format(x,combs[i][1])],\n",
    "                        df.loc[:,'{}{}_hero_id'.format(x,combs[i][2])]))\n",
    "        i += 1\n",
    "    for col in hero_id_list:\n",
    "        if col in df.columns.values and col.startswith(x):\n",
    "            df.drop(col,axis=1,inplace=True)\n",
    "    return df"
   ]
  },
  {
   "cell_type": "code",
   "execution_count": 69,
   "metadata": {},
   "outputs": [
    {
     "data": {
      "text/plain": [
       "Index(['d_hero_3tuple_1', 'd_hero_3tuple_2', 'd_hero_3tuple_3',\n",
       "       'd_hero_3tuple_4', 'd_hero_3tuple_5', 'd_hero_3tuple_6',\n",
       "       'd_hero_3tuple_7', 'd_hero_3tuple_8', 'd_hero_3tuple_9',\n",
       "       'd_hero_3tuple_10'],\n",
       "      dtype='object')"
      ]
     },
     "execution_count": 69,
     "metadata": {},
     "output_type": "execute_result"
    }
   ],
   "source": [
    "#run once\n",
    "r_heros_df_r_win3 = make_3tuple(r_heros_df_r_win3,'r',ls_hero_id);\n",
    "r_heros_df_r_lose3 = make_3tuple(r_heros_df_r_lose3,'r',ls_hero_id);\n",
    "d_heros_df_r_win3 = make_3tuple(d_heros_df_r_win3,'d',ls_hero_id);\n",
    "d_heros_df_r_lose3 = make_3tuple(d_heros_df_r_lose3,'d',ls_hero_id);\n",
    "d_heros_df_r_lose3.columns"
   ]
  },
  {
   "cell_type": "code",
   "execution_count": 70,
   "metadata": {},
   "outputs": [],
   "source": [
    "ls_tuple_cols_r3 = ['r_hero_3tuple_{}'.format(i) for i in range(1,11)]\n",
    "ls_tuple_cols_d3 = ['d_hero_3tuple_{}'.format(i) for i in range(1,11)]\n",
    "ls_tuple_cols3 = ls_tuple_cols_r3 + ls_tuple_cols_d3"
   ]
  },
  {
   "cell_type": "code",
   "execution_count": 71,
   "metadata": {},
   "outputs": [],
   "source": [
    "dict_3heros = {}\n",
    "for i in range(r_heros_df_r_win3.shape[0]):\n",
    "    for j in ls_tuple_cols_r3:\n",
    "        if r_heros_df_r_win3[j].iloc[i] not in dict_3heros:\n",
    "            dict_3heros[r_heros_df_r_win3[j].iloc[i]] = 1\n",
    "        else:\n",
    "            dict_3heros[r_heros_df_r_win3[j].iloc[i]] +=1\n",
    "for i in range(r_heros_df_r_lose3.shape[0]):\n",
    "    for j in ls_tuple_cols_r3:\n",
    "        if r_heros_df_r_lose3[j].iloc[i] not in dict_3heros:\n",
    "            dict_3heros[r_heros_df_r_lose3[j].iloc[i]] = -1\n",
    "        else:\n",
    "            dict_3heros[r_heros_df_r_lose3[j].iloc[i]] += -1\n",
    "for i in range(d_heros_df_r_win3.shape[0]):\n",
    "    for j in ls_tuple_cols_d3:\n",
    "        if d_heros_df_r_win3[j].iloc[i] not in dict_3heros:\n",
    "            dict_3heros[d_heros_df_r_win3[j].iloc[i]] = 1\n",
    "        else:\n",
    "            dict_3heros[d_heros_df_r_win3[j].iloc[i]] += -1\n",
    "for i in range(d_heros_df_r_lose3.shape[0]):\n",
    "    for j in ls_tuple_cols_d3:\n",
    "        if d_heros_df_r_lose3[j].iloc[i] not in dict_3heros:\n",
    "            dict_3heros[d_heros_df_r_lose3[j].iloc[i]] = -1\n",
    "        else:\n",
    "            dict_3heros[d_heros_df_r_lose3[j].iloc[i]] += 1"
   ]
  },
  {
   "cell_type": "code",
   "execution_count": 72,
   "metadata": {},
   "outputs": [
    {
     "name": "stdout",
     "output_type": "stream",
     "text": [
      "32\n",
      "-24\n",
      "178259\n"
     ]
    }
   ],
   "source": [
    "print(max(dict_3heros.values()))\n",
    "print(min(dict_3heros.values()))\n",
    "print(len(list(dict_3heros.keys())))"
   ]
  },
  {
   "cell_type": "code",
   "execution_count": 78,
   "metadata": {},
   "outputs": [
    {
     "data": {
      "image/png": "[encoded data removed]",
      "text/plain": [
       "<Figure size 432x288 with 1 Axes>"
      ]
     },
     "metadata": {
      "needs_background": "light"
     },
     "output_type": "display_data"
    }
   ],
   "source": [
    "plt.hist(list(dict_3heros.values()), color='g',bins=50)\n",
    "plt.show()"
   ]
  },
  {
   "cell_type": "code",
   "execution_count": 79,
   "metadata": {},
   "outputs": [],
   "source": [
    "dict_3heros_total_games = {}\n",
    "for i in range(r_heros_df_r_win.shape[0]):\n",
    "    for j in ls_tuple_cols_r3:\n",
    "        if r_heros_df_r_win3[j].iloc[i] not in dict_3heros_total_games:\n",
    "            dict_3heros_total_games[r_heros_df_r_win3[j].iloc[i]] = 1\n",
    "        else:\n",
    "            dict_3heros_total_games[r_heros_df_r_win3[j].iloc[i]] +=1\n",
    "for i in range(r_heros_df_r_lose3.shape[0]):\n",
    "    for j in ls_tuple_cols_r3:\n",
    "        if r_heros_df_r_lose3[j].iloc[i] not in dict_3heros_total_games:\n",
    "            dict_3heros_total_games[r_heros_df_r_lose3[j].iloc[i]] = 1\n",
    "        else:\n",
    "            dict_3heros_total_games[r_heros_df_r_lose3[j].iloc[i]] += 1\n",
    "for i in range(d_heros_df_r_win3.shape[0]):\n",
    "    for j in ls_tuple_cols_d3:\n",
    "        if d_heros_df_r_win3[j].iloc[i] not in dict_3heros_total_games:\n",
    "            dict_3heros_total_games[d_heros_df_r_win3[j].iloc[i]] = 1\n",
    "        else:\n",
    "            dict_3heros_total_games[d_heros_df_r_win3[j].iloc[i]] += 1\n",
    "for i in range(d_heros_df_r_lose3.shape[0]):\n",
    "    for j in ls_tuple_cols_d3:\n",
    "        if d_heros_df_r_lose3[j].iloc[i] not in dict_3heros_total_games:\n",
    "            dict_3heros_total_games[d_heros_df_r_lose3[j].iloc[i]] = 1\n",
    "        else:\n",
    "            dict_3heros_total_games[d_heros_df_r_lose3[j].iloc[i]] += 1"
   ]
  },
  {
   "cell_type": "code",
   "execution_count": 80,
   "metadata": {},
   "outputs": [],
   "source": [
    "dict_3heros_norm = {k: dict_3heros[k]/dict_3heros_total_games[k] for k in dict_3heros}"
   ]
  },
  {
   "cell_type": "code",
   "execution_count": 81,
   "metadata": {},
   "outputs": [
    {
     "data": {
      "text/plain": [
       "117"
      ]
     },
     "execution_count": 81,
     "metadata": {},
     "output_type": "execute_result"
    }
   ],
   "source": [
    "ls_top_tuples_net3 = [k for k,v in dict_3heros.items() if v >=15]\n",
    "ls_top_tuples_norm3 = [k for k,v in dict_3heros_norm.items() if v >=0.15]\n",
    "ls_top_tuples3 = list(set(ls_top_tuples_net3).intersection(set(ls_top_tuples_norm3)))\n",
    "len(ls_top_tuples3)"
   ]
  },
  {
   "cell_type": "code",
   "execution_count": 82,
   "metadata": {},
   "outputs": [
    {
     "data": {
      "text/plain": [
       "120"
      ]
     },
     "execution_count": 82,
     "metadata": {},
     "output_type": "execute_result"
    }
   ],
   "source": [
    "ls_bottom_tuples_net3 = [k for k,v in dict_3heros.items() if v <= -12]\n",
    "ls_bottom_tuples_norm3 = [k for k,v in dict_3heros_norm.items() if v <= -0.12]\n",
    "ls_bottom_tuples3 = list(set(ls_bottom_tuples_net3).intersection(set(ls_bottom_tuples_norm3)))\n",
    "len(ls_bottom_tuples3)"
   ]
  },
  {
   "cell_type": "code",
   "execution_count": 83,
   "metadata": {},
   "outputs": [],
   "source": [
    "def make_3tuple_no_drop(df,x):\n",
    "    combs = list(combinations([i for i in range(1,6)],3))\n",
    "    i = 0\n",
    "    for comb in combs:\n",
    "        df['{}_hero_3tuple_{}'.format(x,i+1)] = \\\n",
    "                list(zip(df.loc[:,'{}{}_hero_id'.format(x,combs[i][0])],\\\n",
    "                         df.loc[:,'{}{}_hero_id'.format(x,combs[i][1])],\n",
    "                        df.loc[:,'{}{}_hero_id'.format(x,combs[i][2])]))\n",
    "        i += 1\n",
    "    return df\n",
    "\n",
    "full_df = make_3tuple_no_drop(full_df,'r')\n",
    "train_X = make_3tuple_no_drop(train_X,'r')\n",
    "test_X = make_3tuple_no_drop(test_X,'r')\n",
    "\n",
    "full_df = make_3tuple_no_drop(full_df,'d')\n",
    "train_X = make_3tuple_no_drop(train_X,'d')\n",
    "test_X = make_3tuple_no_drop(test_X,'d')"
   ]
  },
  {
   "cell_type": "code",
   "execution_count": 84,
   "metadata": {},
   "outputs": [],
   "source": [
    "for col in ls_tuple_cols3:\n",
    "    if col not in ls_tuple_cols3:\n",
    "        ls_feature_cols.append(col+'_bool')\n",
    "    full_df[col+'_bool'] = np.where(full_df[col].isin(ls_top_tuples3),2,np.where(full_df[col].isin(ls_bottom_tuples3),0,1))\n",
    "    train_X[col+'_bool'] = np.where(train_X[col].isin(ls_top_tuples3),2,np.where(train_X[col].isin(ls_bottom_tuples3),0,1))\n",
    "    test_X[col+'_bool'] = np.where(test_X[col].isin(ls_top_tuples3),2,np.where(test_X[col].isin(ls_bottom_tuples3),0,1))"
   ]
  },
  {
   "cell_type": "code",
   "execution_count": 85,
   "metadata": {},
   "outputs": [],
   "source": [
    "ls_tuple_cols_bool = [col+'_bool' for col in ls_tuple_cols]\n",
    "ls_tuple_cols_bool3 = [col+'_bool' for col in ls_tuple_cols3]"
   ]
  },
  {
   "cell_type": "code",
   "execution_count": 86,
   "metadata": {},
   "outputs": [],
   "source": [
    "ls_tuple_cols_bool_r = ls_tuple_cols_bool[0:10]\n",
    "ls_tuple_cols_bool_d = ls_tuple_cols_bool[10:20]\n",
    "ls_tuple_cols_bool3_r = ls_tuple_cols_bool3[0:10]\n",
    "ls_tuple_cols_bool3_d = ls_tuple_cols_bool3[10:20]"
   ]
  },
  {
   "cell_type": "code",
   "execution_count": 87,
   "metadata": {},
   "outputs": [],
   "source": [
    "full_df['r_2tuple_bool_sum'] = full_df[ls_tuple_cols_bool_r].sum(axis=1)\n",
    "train_X['r_2tuple_bool_sum'] = train_X[ls_tuple_cols_bool_r].sum(axis=1)\n",
    "test_X['r_2tuple_bool_sum'] = test_X[ls_tuple_cols_bool_r].sum(axis=1)"
   ]
  },
  {
   "cell_type": "code",
   "execution_count": 88,
   "metadata": {},
   "outputs": [],
   "source": [
    "full_df['d_2tuple_bool_sum'] = full_df[ls_tuple_cols_bool_d].sum(axis=1)\n",
    "train_X['d_2tuple_bool_sum'] = train_X[ls_tuple_cols_bool_d].sum(axis=1)\n",
    "test_X['d_2tuple_bool_sum'] = test_X[ls_tuple_cols_bool_d].sum(axis=1)"
   ]
  },
  {
   "cell_type": "code",
   "execution_count": 89,
   "metadata": {},
   "outputs": [],
   "source": [
    "full_df['r_3tuple_bool_sum'] = full_df[ls_tuple_cols_bool3_r].sum(axis=1)\n",
    "train_X['r_3tuple_bool_sum'] = train_X[ls_tuple_cols_bool3_r].sum(axis=1)\n",
    "test_X['r_3tuple_bool_sum'] = test_X[ls_tuple_cols_bool3_r].sum(axis=1)"
   ]
  },
  {
   "cell_type": "code",
   "execution_count": 90,
   "metadata": {},
   "outputs": [],
   "source": [
    "full_df['d_3tuple_bool_sum'] = full_df[ls_tuple_cols_bool3_d].sum(axis=1)\n",
    "train_X['d_3tuple_bool_sum'] = train_X[ls_tuple_cols_bool3_d].sum(axis=1)\n",
    "test_X['d_3tuple_bool_sum'] = test_X[ls_tuple_cols_bool3_d].sum(axis=1)"
   ]
  },
  {
   "cell_type": "code",
   "execution_count": 91,
   "metadata": {},
   "outputs": [],
   "source": [
    "#run only once or else nans; actually, don't run at all to avoid overfitting\n",
    "#for col in ls_tuple_cols3:\n",
    "#    ls_feature_cols.append(col+'_map')\n",
    "#    full_df[col+'_map'] = full_df[col].map(dict_3heros)\n",
    "#    train_X[col+'_map'] = train_X[col].map(dict_3heros)\n",
    "#    test_X[col+'_map'] = test_X[col].map(dict_3heros)\n",
    "\n",
    "#ls_feature_cols.append(ls_tuple_cols3)"
   ]
  },
  {
   "cell_type": "code",
   "execution_count": 92,
   "metadata": {},
   "outputs": [
    {
     "data": {
      "text/plain": [
       "(39675, 522)"
      ]
     },
     "execution_count": 92,
     "metadata": {},
     "output_type": "execute_result"
    }
   ],
   "source": [
    "full_df.shape"
   ]
  },
  {
   "cell_type": "code",
   "execution_count": 93,
   "metadata": {},
   "outputs": [
    {
     "data": {
      "text/plain": [
       "(39675, 521)"
      ]
     },
     "execution_count": 93,
     "metadata": {},
     "output_type": "execute_result"
    }
   ],
   "source": [
    "train_X.shape"
   ]
  },
  {
   "cell_type": "code",
   "execution_count": 94,
   "metadata": {},
   "outputs": [
    {
     "data": {
      "text/plain": [
       "(10000, 521)"
      ]
     },
     "execution_count": 94,
     "metadata": {},
     "output_type": "execute_result"
    }
   ],
   "source": [
    "test_X.shape"
   ]
  },
  {
   "cell_type": "markdown",
   "metadata": {},
   "source": [
    "Also add feature of normalized hero id (divide by total games for each hero)"
   ]
  },
  {
   "cell_type": "markdown",
   "metadata": {},
   "source": [
    "Now have mapped hero id's to how often they participate in winning games, so will now be a numeric feature and can also use sum of this as a new feature."
   ]
  },
  {
   "cell_type": "markdown",
   "metadata": {},
   "source": [
    "## Using json files for new features: already collected, do not re-run"
   ]
  },
  {
   "cell_type": "code",
   "execution_count": 94,
   "metadata": {},
   "outputs": [],
   "source": [
    "with open(os.path.join('/Users/m/Insight/MLcourse/Dota/train_matches.jsonl')) as fin:\n",
    "    # read the 18-th line\n",
    "    for i in range(14,18):\n",
    "        line = fin.readline()\n",
    "    \n",
    "    # read JSON into a Python object \n",
    "    match = json.loads(line)"
   ]
  },
  {
   "cell_type": "code",
   "execution_count": 95,
   "metadata": {},
   "outputs": [
    {
     "data": {
      "text/plain": [
       "dict_keys(['game_time', 'match_id_hash', 'teamfights', 'objectives', 'chat', 'game_mode', 'lobby_type', 'players', 'targets'])"
      ]
     },
     "execution_count": 95,
     "metadata": {},
     "output_type": "execute_result"
    }
   ],
   "source": [
    "match.keys()"
   ]
  },
  {
   "cell_type": "code",
   "execution_count": 154,
   "metadata": {},
   "outputs": [
    {
     "data": {
      "text/plain": [
       "{'player_slot': 0,\n",
       " 'hero_id': 14,\n",
       " 'hero_name': 'npc_dota_hero_pudge',\n",
       " 'account_id_hash': '1c2500195e6ab646fc9371344724aa77',\n",
       " 'ability_upgrades': [{'ability': 5075, 'time': 249, 'level': 1},\n",
       "  {'ability': 5076, 'time': 378, 'level': 2},\n",
       "  {'ability': 5075, 'time': 448, 'level': 3},\n",
       "  {'ability': 5076, 'time': 595, 'level': 4},\n",
       "  {'ability': 5075, 'time': 744, 'level': 5},\n",
       "  {'ability': 5077, 'time': 959, 'level': 6},\n",
       "  {'ability': 5074, 'time': 1086, 'level': 7},\n",
       "  {'ability': 5075, 'time': 1384, 'level': 8},\n",
       "  {'ability': 5076, 'time': 1386, 'level': 9}],\n",
       " 'obs_placed': 0,\n",
       " 'sen_placed': 0,\n",
       " 'creeps_stacked': 0,\n",
       " 'camps_stacked': 0,\n",
       " 'rune_pickups': 12,\n",
       " 'firstblood_claimed': 0,\n",
       " 'teamfight_participation': 0.45,\n",
       " 'towers_killed': 0,\n",
       " 'roshans_killed': 0,\n",
       " 'observers_placed': 0,\n",
       " 'stuns': 40.49,\n",
       " 'max_hero_hit': {'type': 'max_hero_hit',\n",
       "  'time': 1177.413,\n",
       "  'max': True,\n",
       "  'inflictor': 'pudge_meat_hook',\n",
       "  'unit': 'npc_dota_hero_pudge',\n",
       "  'key': 'npc_dota_hero_huskar',\n",
       "  'value': 366,\n",
       "  'slot': 0,\n",
       "  'player_slot': 0},\n",
       " 'times': [0,\n",
       "  60,\n",
       "  120,\n",
       "  180,\n",
       "  240,\n",
       "  300,\n",
       "  360,\n",
       "  420,\n",
       "  480,\n",
       "  540,\n",
       "  600,\n",
       "  660,\n",
       "  720,\n",
       "  780,\n",
       "  840,\n",
       "  900,\n",
       "  960,\n",
       "  1020,\n",
       "  1080,\n",
       "  1140,\n",
       "  1200,\n",
       "  1260,\n",
       "  1320,\n",
       "  1380,\n",
       "  1440,\n",
       "  1500],\n",
       " 'gold_t': [41,\n",
       "  309,\n",
       "  439,\n",
       "  530,\n",
       "  621,\n",
       "  829,\n",
       "  920,\n",
       "  1342,\n",
       "  1433,\n",
       "  1636,\n",
       "  2001,\n",
       "  2091,\n",
       "  2406,\n",
       "  3131,\n",
       "  3222,\n",
       "  3676,\n",
       "  3767,\n",
       "  4106,\n",
       "  4584,\n",
       "  4939,\n",
       "  5030,\n",
       "  5451,\n",
       "  5832,\n",
       "  6318,\n",
       "  6409,\n",
       "  7201],\n",
       " 'lh_t': [0,\n",
       "  3,\n",
       "  4,\n",
       "  4,\n",
       "  4,\n",
       "  5,\n",
       "  5,\n",
       "  5,\n",
       "  5,\n",
       "  6,\n",
       "  12,\n",
       "  12,\n",
       "  12,\n",
       "  12,\n",
       "  12,\n",
       "  12,\n",
       "  12,\n",
       "  12,\n",
       "  13,\n",
       "  13,\n",
       "  13,\n",
       "  13,\n",
       "  13,\n",
       "  13,\n",
       "  13,\n",
       "  14],\n",
       " 'dn_t': [0,\n",
       "  1,\n",
       "  1,\n",
       "  1,\n",
       "  1,\n",
       "  2,\n",
       "  2,\n",
       "  2,\n",
       "  2,\n",
       "  2,\n",
       "  4,\n",
       "  4,\n",
       "  4,\n",
       "  4,\n",
       "  4,\n",
       "  4,\n",
       "  4,\n",
       "  4,\n",
       "  4,\n",
       "  4,\n",
       "  4,\n",
       "  4,\n",
       "  4,\n",
       "  4,\n",
       "  4,\n",
       "  4],\n",
       " 'xp_t': [0,\n",
       "  268,\n",
       "  567,\n",
       "  978,\n",
       "  997,\n",
       "  1200,\n",
       "  1324,\n",
       "  1695,\n",
       "  1767,\n",
       "  1767,\n",
       "  2221,\n",
       "  2419,\n",
       "  2665,\n",
       "  3110,\n",
       "  3110,\n",
       "  3337,\n",
       "  3353,\n",
       "  3353,\n",
       "  4460,\n",
       "  4488,\n",
       "  4488,\n",
       "  5500,\n",
       "  5508,\n",
       "  6209,\n",
       "  6209,\n",
       "  7949],\n",
       " 'obs_log': [],\n",
       " 'sen_log': [],\n",
       " 'obs_left_log': [],\n",
       " 'sen_left_log': [],\n",
       " 'purchase_log': [{'time': -89.555, 'key': 'wind_lace'},\n",
       "  {'time': -89.555, 'key': 'tango'},\n",
       "  {'time': -89.555, 'key': 'enchanted_mango'},\n",
       "  {'time': -89.555, 'key': 'enchanted_mango'},\n",
       "  {'time': -89.555, 'key': 'tpscroll'},\n",
       "  {'time': 129.968, 'key': 'flask'},\n",
       "  {'time': 130.735, 'key': 'enchanted_mango'},\n",
       "  {'time': 255.538, 'key': 'boots'},\n",
       "  {'time': 369.743, 'key': 'ring_of_regen'},\n",
       "  {'time': 381.507, 'key': 'flask'},\n",
       "  {'time': 388.938, 'key': 'clarity'},\n",
       "  {'time': 404.035, 'key': 'tranquil_boots'},\n",
       "  {'time': 457.688, 'key': 'tpscroll'},\n",
       "  {'time': 585.357, 'key': 'bottle'},\n",
       "  {'time': 604.852, 'key': 'tpscroll'},\n",
       "  {'time': 741.986, 'key': 'tpscroll'},\n",
       "  {'time': 777.577, 'key': 'tpscroll'},\n",
       "  {'time': 1102.364, 'key': 'blink'},\n",
       "  {'time': 1162.383, 'key': 'tpscroll'},\n",
       "  {'time': 1266.324, 'key': 'chainmail'},\n",
       "  {'time': 1348.671, 'key': 'tpscroll'},\n",
       "  {'time': 1468.775, 'key': 'broadsword'},\n",
       "  {'time': 1518.429, 'key': 'robe'},\n",
       "  {'time': 1519.929, 'key': 'tpscroll'}],\n",
       " 'kills_log': [{'time': 367.277, 'key': 'npc_dota_hero_dazzle'},\n",
       "  {'tracked_death': True,\n",
       "   'tracked_sourcename': 'npc_dota_hero_bounty_hunter',\n",
       "   'time': 729.988,\n",
       "   'key': 'npc_dota_hero_dazzle'},\n",
       "  {'time': 759.348, 'key': 'npc_dota_hero_pangolier'},\n",
       "  {'time': 1369.532, 'key': 'npc_dota_hero_rattletrap'},\n",
       "  {'time': 1464.109, 'key': 'npc_dota_hero_pangolier'}],\n",
       " 'buyback_log': [],\n",
       " 'runes_log': [{'time': 254.005, 'key': 5},\n",
       "  {'time': 481.249, 'key': 5},\n",
       "  {'time': 722.39, 'key': 5},\n",
       "  {'time': 852.092, 'key': 5},\n",
       "  {'time': 960.332, 'key': 5},\n",
       "  {'time': 965.864, 'key': 5},\n",
       "  {'time': 1081.036, 'key': 5},\n",
       "  {'time': 1086.301, 'key': 5},\n",
       "  {'time': 1276.855, 'key': 5},\n",
       "  {'time': 1282.587, 'key': 5},\n",
       "  {'time': 1516.596, 'key': 5},\n",
       "  {'time': 1522.295, 'key': 5}],\n",
       " 'obs': {},\n",
       " 'sen': {},\n",
       " 'actions': {'1': 3326,\n",
       "  '2': 51,\n",
       "  '4': 184,\n",
       "  '5': 51,\n",
       "  '6': 15,\n",
       "  '7': 3,\n",
       "  '8': 46,\n",
       "  '9': 57,\n",
       "  '10': 5,\n",
       "  '11': 12,\n",
       "  '15': 27,\n",
       "  '16': 24,\n",
       "  '17': 1,\n",
       "  '19': 4,\n",
       "  '24': 2,\n",
       "  '33': 5},\n",
       " 'pings': {'0': 123},\n",
       " 'purchase': {'wind_lace': 1,\n",
       "  'tango': 1,\n",
       "  'enchanted_mango': 3,\n",
       "  'tpscroll': 8,\n",
       "  'flask': 2,\n",
       "  'boots': 1,\n",
       "  'ring_of_regen': 1,\n",
       "  'clarity': 1,\n",
       "  'tranquil_boots': 1,\n",
       "  'bottle': 1,\n",
       "  'blink': 1,\n",
       "  'chainmail': 1,\n",
       "  'broadsword': 1,\n",
       "  'robe': 1},\n",
       " 'gold_reasons': {'0': 2216, '1': -1015, '11': 240, '12': 3119, '13': 581},\n",
       " 'xp_reasons': {'0': 54, '1': 4743, '2': 3629},\n",
       " 'killed': {'npc_dota_creep_badguys_melee': 562,\n",
       "  'npc_dota_creep_goodguys_melee': 288,\n",
       "  'npc_dota_creep_badguys_ranged': 187,\n",
       "  'npc_dota_hero_dazzle': 281,\n",
       "  'npc_dota_rattletrap_cog': 1,\n",
       "  'npc_dota_creep_goodguys_ranged': 67,\n",
       "  'npc_dota_hero_pangolier': 67,\n",
       "  'npc_dota_hero_rattletrap': 366},\n",
       " 'item_uses': {'tango': 3,\n",
       "  'enchanted_mango': 3,\n",
       "  'flask': 2,\n",
       "  'tpscroll': 7,\n",
       "  'clarity': 1,\n",
       "  'bottle': 37,\n",
       "  'blink': 13},\n",
       " 'ability_uses': {'pudge_meat_hook': 29,\n",
       "  'pudge_rot': 52,\n",
       "  'pudge_dismember': 11},\n",
       " 'hero_hits': {'pudge_meat_hook': 15,\n",
       "  'pudge_rot': 919,\n",
       "  'null': 21,\n",
       "  'pudge_dismember': 25},\n",
       " 'damage': {'npc_dota_creep_badguys_melee': 3110,\n",
       "  'npc_dota_creep_goodguys_melee': 456,\n",
       "  'npc_dota_creep_badguys_ranged': 1031,\n",
       "  'npc_dota_hero_huskar': 2577,\n",
       "  'npc_dota_hero_pudge': 4759,\n",
       "  'npc_dota_badguys_siege': 182,\n",
       "  'npc_dota_hero_dazzle': 2318,\n",
       "  'npc_dota_hero_morphling': 1873,\n",
       "  'npc_dota_creep_goodguys_ranged': 67,\n",
       "  'npc_dota_hero_pangolier': 2756,\n",
       "  'npc_dota_hero_rattletrap': 1443},\n",
       " 'damage_taken': {'npc_dota_hero_huskar': 6370,\n",
       "  'npc_dota_creep_badguys_melee': 382,\n",
       "  'npc_dota_creep_badguys_ranged': 386,\n",
       "  'npc_dota_hero_pudge': 4759,\n",
       "  'npc_dota_hero_rattletrap': 2669,\n",
       "  'npc_dota_hero_dazzle': 1042,\n",
       "  'npc_dota_badguys_siege': 117,\n",
       "  'npc_dota_hero_morphling': 1810,\n",
       "  'npc_dota_hero_pangolier': 1695,\n",
       "  'npc_dota_badguys_tower1_mid': 87},\n",
       " 'damage_inflictor': {'pudge_meat_hook': 4149,\n",
       "  'pudge_rot': 4337,\n",
       "  'null': 1027,\n",
       "  'pudge_dismember': 1454},\n",
       " 'runes': {'5': 12},\n",
       " 'killed_by': {'npc_dota_hero_huskar': 5,\n",
       "  'npc_dota_hero_rattletrap': 1,\n",
       "  'npc_dota_hero_morphling': 1},\n",
       " 'kill_streaks': {},\n",
       " 'multi_kills': {},\n",
       " 'life_state': {'0': 2691, '1': 37, '2': 378},\n",
       " 'healing': {'npc_dota_hero_pudge': 2712},\n",
       " 'damage_inflictor_received': {'null': 6375,\n",
       "  'huskar_burning_spear': 1188,\n",
       "  'rattletrap_rocket_flare': 414,\n",
       "  'dazzle_shadow_wave': 776,\n",
       "  'morphling_waveform': 886,\n",
       "  'pangolier_swashbuckle': 1058,\n",
       "  'pangolier_shield_crash': 388,\n",
       "  'rattletrap_battery_assault': 606,\n",
       "  'rattletrap_power_cogs': 91,\n",
       "  'huskar_life_break': 826,\n",
       "  'blade_mail': 641,\n",
       "  'rattletrap_hookshot': 54,\n",
       "  'morphling_adaptive_strike_agi': 173,\n",
       "  'dazzle_poison_touch': 110},\n",
       " 'randomed': False,\n",
       " 'pred_vict': False,\n",
       " 'gold': 7909,\n",
       " 'lh': 14,\n",
       " 'xp': 8422,\n",
       " 'x': 180,\n",
       " 'y': 104,\n",
       " 'hero_inventory': [{'id': 'item_tranquil_boots', 'cooldown': 0},\n",
       "  {'id': 'item_bottle', 'num_charges': 2, 'cooldown': 0},\n",
       "  {'id': 'item_blink', 'cooldown': 9.8},\n",
       "  {'id': 'item_chainmail', 'cooldown': 0},\n",
       "  {'id': 'item_broadsword', 'cooldown': 0}],\n",
       " 'hero_stash': [{'id': 'item_robe', 'cooldown': 0},\n",
       "  {'id': 'item_tpscroll', 'num_charges': 1, 'cooldown': 0}],\n",
       " 'health': 1730,\n",
       " 'max_health': 1800,\n",
       " 'max_mana': 458.938,\n",
       " 'level': 13,\n",
       " 'kills': 5,\n",
       " 'deaths': 7,\n",
       " 'assists': 4,\n",
       " 'denies': 5,\n",
       " 'nearby_creep_death_count': 137}"
      ]
     },
     "execution_count": 154,
     "metadata": {},
     "output_type": "execute_result"
    }
   ],
   "source": [
    "match['players'][0]"
   ]
  },
  {
   "cell_type": "markdown",
   "metadata": {},
   "source": [
    "## New json feats"
   ]
  },
  {
   "cell_type": "code",
   "execution_count": 143,
   "metadata": {},
   "outputs": [
    {
     "name": "stdout",
     "output_type": "stream",
     "text": [
      "26 26 26 26 26\n",
      "26 26 26 26 26\n",
      "26 26 26 26 26\n",
      "26 26 26 26 26\n",
      "26 26 26 26 26\n",
      "26 26 26 26 26\n",
      "26 26 26 26 26\n",
      "26 26 26 26 26\n",
      "26 26 26 26 26\n",
      "26 26 26 26 26\n"
     ]
    }
   ],
   "source": [
    "for player in match['players']:\n",
    "    print(len(player['times']),len(player['gold_t']),len(player['lh_t']),len(player['dn_t']),len(player['xp_t']))\n",
    "#times are same for each player"
   ]
  },
  {
   "cell_type": "code",
   "execution_count": 144,
   "metadata": {},
   "outputs": [],
   "source": [
    "import collections\n",
    "def read_matches(matches_file):\n",
    "    \n",
    "    MATCHES_COUNT = {\n",
    "        'test_matches.jsonl': 10000,\n",
    "        'train_matches.jsonl': 39675,\n",
    "    }\n",
    "    _, filename = os.path.split(matches_file)\n",
    "    total_matches = MATCHES_COUNT.get(filename)\n",
    "    \n",
    "    with open(matches_file) as fin:\n",
    "        for line in tqdm_notebook(fin, total=total_matches):\n",
    "            yield json.loads(line)\n",
    "            \n",
    "matches_file = '/Users/m/Insight/MLcourse/Dota/train_matches.jsonl'\n",
    "\n",
    "def extract_features_t(match):\n",
    "    row = [\n",
    "        ('match_id_hash', match['match_id_hash']),\n",
    "    ]\n",
    "    \n",
    "    for slot, player in enumerate(match['players']):\n",
    "        if slot < 5:\n",
    "            player_name = 'r%d' % (slot + 1)\n",
    "        else:\n",
    "            player_name = 'd%d' % (slot - 4)\n",
    "            \n",
    "        time = player['times']\n",
    "        gold = player['gold_t']\n",
    "        lh = player['lh_t']\n",
    "        dn = player['dn_t']\n",
    "        xp = player['xp_t']\n",
    "        \n",
    "        row.append((f'{player_name}_time', time))\n",
    "        row.append((f'{player_name}_gold', gold))\n",
    "        row.append((f'{player_name}_lh', lh))\n",
    "        row.append((f'{player_name}_dn', dn))\n",
    "        row.append((f'{player_name}_xp', xp))\n",
    "    return collections.OrderedDict(row)"
   ]
  },
  {
   "cell_type": "code",
   "execution_count": 145,
   "metadata": {},
   "outputs": [
    {
     "data": {
      "application/vnd.jupyter.widget-view+json": {
       "model_id": "7a064591aad243c28306d2abb80d12d1",
       "version_major": 2,
       "version_minor": 0
      },
      "text/plain": [
       "HBox(children=(IntProgress(value=0, max=39675), HTML(value='')))"
      ]
     },
     "metadata": {},
     "output_type": "display_data"
    },
    {
     "name": "stdout",
     "output_type": "stream",
     "text": [
      "\n"
     ]
    },
    {
     "data": {
      "application/vnd.jupyter.widget-view+json": {
       "model_id": "4ea1d819eb544324a775de5b2cf8c166",
       "version_major": 2,
       "version_minor": 0
      },
      "text/plain": [
       "HBox(children=(IntProgress(value=0, max=10000), HTML(value='')))"
      ]
     },
     "metadata": {},
     "output_type": "display_data"
    },
    {
     "name": "stdout",
     "output_type": "stream",
     "text": [
      "\n"
     ]
    }
   ],
   "source": [
    "json_feats_t = []\n",
    "for match in read_matches(matches_file):\n",
    "    match_id_hash = match['match_id_hash']\n",
    "    features = extract_features_t(match)\n",
    "    json_feats_t.append(features)\n",
    "#df_json_feats_t = pd.DataFrame(json_feats_t).set_index('match_id_hash')\n",
    "\n",
    "matches_file_test = '/Users/m/Insight/MLcourse/Dota/test_matches.jsonl'\n",
    "\n",
    "json_feats_test_t = []\n",
    "for match in read_matches(matches_file_test):\n",
    "    match_id_hash = match['match_id_hash']\n",
    "    features = extract_features_t(match)\n",
    "    json_feats_test_t.append(features)\n",
    "#df_json_feats_test_t = pd.DataFrame(json_feats_test_t).set_index('match_id_hash')"
   ]
  },
  {
   "cell_type": "code",
   "execution_count": 158,
   "metadata": {},
   "outputs": [
    {
     "data": {
      "text/plain": [
       "odict_keys(['match_id_hash', 'r1_time', 'r1_gold', 'r1_lh', 'r1_dn', 'r1_xp', 'r2_time', 'r2_gold', 'r2_lh', 'r2_dn', 'r2_xp', 'r3_time', 'r3_gold', 'r3_lh', 'r3_dn', 'r3_xp', 'r4_time', 'r4_gold', 'r4_lh', 'r4_dn', 'r4_xp', 'r5_time', 'r5_gold', 'r5_lh', 'r5_dn', 'r5_xp', 'd1_time', 'd1_gold', 'd1_lh', 'd1_dn', 'd1_xp', 'd2_time', 'd2_gold', 'd2_lh', 'd2_dn', 'd2_xp', 'd3_time', 'd3_gold', 'd3_lh', 'd3_dn', 'd3_xp', 'd4_time', 'd4_gold', 'd4_lh', 'd4_dn', 'd4_xp', 'd5_time', 'd5_gold', 'd5_lh', 'd5_dn', 'd5_xp'])"
      ]
     },
     "execution_count": 158,
     "metadata": {},
     "output_type": "execute_result"
    }
   ],
   "source": [
    "json_feats_t[5].keys()"
   ]
  },
  {
   "cell_type": "code",
   "execution_count": 155,
   "metadata": {},
   "outputs": [],
   "source": [
    "train_X_time = pd.DataFrame(index = train_X.index)\n",
    "test_X_time = pd.DataFrame(index = test_X.index)"
   ]
  },
  {
   "cell_type": "code",
   "execution_count": 191,
   "metadata": {},
   "outputs": [],
   "source": [
    "train_X_time['r_gold_last2'] = np.nan\n",
    "train_X_time['d_gold_last2'] = np.nan\n",
    "test_X_time['r_gold_last2'] = np.nan\n",
    "test_X_time['d_gold_last2'] = np.nan\n",
    "ls_gold_names_r = ['r{}_gold'.format(i) for i in range(1,6)]\n",
    "ls_gold_names_d = ['d{}_gold'.format(i) for i in range(1,6)]\n",
    "\n",
    "for i in range(len(json_feats_t)):\n",
    "#for i in range(2):\n",
    "    try:\n",
    "#first average over last two entries per player\n",
    "#then average over players\n",
    "        ls_ave_r = []\n",
    "        ls_ave_d = []\n",
    "        for j in range(5):\n",
    "            ls_ave_r.append(json_feats_t[i][ls_gold_names_r[j]][-2])\n",
    "            ls_ave_r.append(json_feats_t[i][ls_gold_names_r[j]][-1])\n",
    "            ls_ave_d.append(json_feats_t[i][ls_gold_names_d[j]][-2])\n",
    "            ls_ave_d.append(json_feats_t[i][ls_gold_names_d[j]][-1])\n",
    "\n",
    "        ave2_r = sum(ls_ave_r)/len(ls_ave_r)\n",
    "        ave2_d = sum(ls_ave_d)/len(ls_ave_d)\n",
    "        train_X_time.loc[json_feats_t[i]['match_id_hash'],'r_gold_last2'] = ave2_r\n",
    "        train_X_time.loc[json_feats_t[i]['match_id_hash'],'d_gold_last2'] = ave2_d\n",
    "    except:\n",
    "        try:\n",
    "            ls_ave_r = []\n",
    "            ls_ave_d = []\n",
    "            for j in range(5):\n",
    "                ls_ave_r.append(json_feats_t[i][ls_gold_names_r[j]][-1:])\n",
    "                ls_ave_d.append(json_feats_t[i][ls_gold_names_d[j]][-1:])\n",
    "            ave2_r = sum(ls_ave_r)/len(ls_ave_r)\n",
    "            ave2_d = sum(ls_ave_d)/len(ls_ave_d)\n",
    "            train_X_time.loc[json_feats_t[i]['match_id_hash'],'r_gold_last2'] = ave2_r\n",
    "            train_X_time.loc[json_feats_t[i]['match_id_hash'],'d_gold_last2'] = ave2_d\n",
    "        except:\n",
    "            train_X_time.loc[json_feats_t[i]['match_id_hash'],'r_gold_last2'] = 0\n",
    "            train_X_time.loc[json_feats_t[i]['match_id_hash'],'d_gold_last2'] = 0"
   ]
  },
  {
   "cell_type": "code",
   "execution_count": 203,
   "metadata": {},
   "outputs": [
    {
     "data": {
      "text/plain": [
       "<matplotlib.legend.Legend at 0x13089eeb8>"
      ]
     },
     "execution_count": 203,
     "metadata": {},
     "output_type": "execute_result"
    },
    {
     "data": {
      "image/png": "[encoded data removed]",
      "text/plain": [
       "<Figure size 432x288 with 1 Axes>"
      ]
     },
     "metadata": {
      "needs_background": "light"
     },
     "output_type": "display_data"
    }
   ],
   "source": [
    "full_time_rwin = full_time[full_time['radiant_win']==True]\n",
    "full_time_rlose = full_time[full_time['radiant_win']==False]\n",
    "\n",
    "sns.distplot(full_time_rwin['d_gold_last2'], bins=50, label='R won')\n",
    "sns.distplot(full_time_rlose['d_gold_last2'], bins=50, label='R lost')\n",
    "#plt.xlim(1900, 2020)\n",
    "plt.legend()"
   ]
  },
  {
   "cell_type": "code",
   "execution_count": 204,
   "metadata": {},
   "outputs": [],
   "source": [
    "train_X_time['r_gold_last3'] = np.nan\n",
    "train_X_time['d_gold_last3'] = np.nan\n",
    "test_X_time['r_gold_last3'] = np.nan\n",
    "test_X_time['d_gold_last3'] = np.nan\n",
    "ls_gold_names_r = ['r{}_gold'.format(i) for i in range(1,6)]\n",
    "ls_gold_names_d = ['d{}_gold'.format(i) for i in range(1,6)]\n",
    "\n",
    "for i in range(len(json_feats_t)):\n",
    "#for i in range(2):\n",
    "    try:\n",
    "        ls_ave_r = []\n",
    "        ls_ave_d = []\n",
    "        for j in range(5):\n",
    "            ls_ave_r.append(json_feats_t[i][ls_gold_names_r[j]][-3])\n",
    "            ls_ave_r.append(json_feats_t[i][ls_gold_names_r[j]][-2])\n",
    "            ls_ave_r.append(json_feats_t[i][ls_gold_names_r[j]][-1])\n",
    "            ls_ave_d.append(json_feats_t[i][ls_gold_names_d[j]][-3])\n",
    "            ls_ave_d.append(json_feats_t[i][ls_gold_names_d[j]][-2])\n",
    "            ls_ave_d.append(json_feats_t[i][ls_gold_names_d[j]][-1])\n",
    "\n",
    "            ave2_r = sum(ls_ave_r)/len(ls_ave_r)\n",
    "            ave2_d = sum(ls_ave_d)/len(ls_ave_d)\n",
    "            train_X_time.loc[json_feats_t[i]['match_id_hash'],'r_gold_last3'] = ave2_r\n",
    "            train_X_time.loc[json_feats_t[i]['match_id_hash'],'d_gold_last3'] = ave2_d\n",
    "        \n",
    "    except:\n",
    "        try:\n",
    "    #first average over last two entries per player\n",
    "    #then average over players\n",
    "            ls_ave_r = []\n",
    "            ls_ave_d = []\n",
    "            for j in range(5):\n",
    "                ls_ave_r.append(json_feats_t[i][ls_gold_names_r[j]][-2])\n",
    "                ls_ave_r.append(json_feats_t[i][ls_gold_names_r[j]][-1])\n",
    "                ls_ave_d.append(json_feats_t[i][ls_gold_names_d[j]][-2])\n",
    "                ls_ave_d.append(json_feats_t[i][ls_gold_names_d[j]][-1])\n",
    "\n",
    "            ave2_r = sum(ls_ave_r)/len(ls_ave_r)\n",
    "            ave2_d = sum(ls_ave_d)/len(ls_ave_d)\n",
    "            train_X_time.loc[json_feats_t[i]['match_id_hash'],'r_gold_last3'] = ave2_r\n",
    "            train_X_time.loc[json_feats_t[i]['match_id_hash'],'d_gold_last3'] = ave2_d\n",
    "        except:\n",
    "            try:\n",
    "                ls_ave_r = []\n",
    "                ls_ave_d = []\n",
    "                for j in range(5):\n",
    "                    ls_ave_r.append(json_feats_t[i][ls_gold_names_r[j]][-1:])\n",
    "                    ls_ave_d.append(json_feats_t[i][ls_gold_names_d[j]][-1:])\n",
    "                ave2_r = sum(ls_ave_r)/len(ls_ave_r)\n",
    "                ave2_d = sum(ls_ave_d)/len(ls_ave_d)\n",
    "                train_X_time.loc[json_feats_t[i]['match_id_hash'],'r_gold_last3'] = ave2_r\n",
    "                train_X_time.loc[json_feats_t[i]['match_id_hash'],'d_gold_last3'] = ave2_d\n",
    "            except:\n",
    "                train_X_time.loc[json_feats_t[i]['match_id_hash'],'r_gold_last3'] = 0\n",
    "                train_X_time.loc[json_feats_t[i]['match_id_hash'],'d_gold_last3'] = 0"
   ]
  },
  {
   "cell_type": "code",
   "execution_count": 205,
   "metadata": {},
   "outputs": [
    {
     "data": {
      "text/html": [
       "<div>\n",
       "<style scoped>\n",
       "    .dataframe tbody tr th:only-of-type {\n",
       "        vertical-align: middle;\n",
       "    }\n",
       "\n",
       "    .dataframe tbody tr th {\n",
       "        vertical-align: top;\n",
       "    }\n",
       "\n",
       "    .dataframe thead th {\n",
       "        text-align: right;\n",
       "    }\n",
       "</style>\n",
       "<table border=\"1\" class=\"dataframe\">\n",
       "  <thead>\n",
       "    <tr style=\"text-align: right;\">\n",
       "      <th></th>\n",
       "      <th>r_gold_last2</th>\n",
       "      <th>d_gold_last2</th>\n",
       "      <th>r_gold_last3</th>\n",
       "      <th>d_gold_last3</th>\n",
       "    </tr>\n",
       "    <tr>\n",
       "      <th>match_id_hash</th>\n",
       "      <th></th>\n",
       "      <th></th>\n",
       "      <th></th>\n",
       "      <th></th>\n",
       "    </tr>\n",
       "  </thead>\n",
       "  <tbody>\n",
       "    <tr>\n",
       "      <th>a400b8f29dece5f4d266f49f1ae2e98a</th>\n",
       "      <td>187.4</td>\n",
       "      <td>417.2</td>\n",
       "      <td>125.266667</td>\n",
       "      <td>278.466667</td>\n",
       "    </tr>\n",
       "    <tr>\n",
       "      <th>b9c57c450ce74a2af79c9ce96fac144d</th>\n",
       "      <td>3024.4</td>\n",
       "      <td>2061.8</td>\n",
       "      <td>2813.066667</td>\n",
       "      <td>1915.800000</td>\n",
       "    </tr>\n",
       "  </tbody>\n",
       "</table>\n",
       "</div>"
      ],
      "text/plain": [
       "                                  r_gold_last2  d_gold_last2  r_gold_last3  \\\n",
       "match_id_hash                                                                \n",
       "a400b8f29dece5f4d266f49f1ae2e98a         187.4         417.2    125.266667   \n",
       "b9c57c450ce74a2af79c9ce96fac144d        3024.4        2061.8   2813.066667   \n",
       "\n",
       "                                  d_gold_last3  \n",
       "match_id_hash                                   \n",
       "a400b8f29dece5f4d266f49f1ae2e98a    278.466667  \n",
       "b9c57c450ce74a2af79c9ce96fac144d   1915.800000  "
      ]
     },
     "execution_count": 205,
     "metadata": {},
     "output_type": "execute_result"
    }
   ],
   "source": [
    "train_X_time.head(2)"
   ]
  },
  {
   "cell_type": "code",
   "execution_count": 207,
   "metadata": {},
   "outputs": [
    {
     "data": {
      "text/plain": [
       "<matplotlib.legend.Legend at 0x130aaa198>"
      ]
     },
     "execution_count": 207,
     "metadata": {},
     "output_type": "execute_result"
    },
    {
     "data": {
      "image/png": "[encoded data removed]",
      "text/plain": [
       "<Figure size 432x288 with 1 Axes>"
      ]
     },
     "metadata": {
      "needs_background": "light"
     },
     "output_type": "display_data"
    }
   ],
   "source": [
    "full_time_rwin = full_time[full_time['radiant_win']==True]\n",
    "full_time_rlose = full_time[full_time['radiant_win']==False]\n",
    "\n",
    "sns.distplot(full_time_rwin['d_gold_last3'], bins=50, label='R won')\n",
    "sns.distplot(full_time_rlose['d_gold_last3'], bins=50, label='R lost')\n",
    "#plt.xlim(1900, 2020)\n",
    "plt.legend()"
   ]
  },
  {
   "cell_type": "markdown",
   "metadata": {},
   "source": [
    "Same for `lh`"
   ]
  },
  {
   "cell_type": "code",
   "execution_count": 208,
   "metadata": {},
   "outputs": [],
   "source": [
    "train_X_time['r_lh_last2'] = np.nan\n",
    "train_X_time['d_lh_last2'] = np.nan\n",
    "test_X_time['r_lh_last2'] = np.nan\n",
    "test_X_time['d_lh_last2'] = np.nan\n",
    "ls_lh_names_r = ['r{}_lh'.format(i) for i in range(1,6)]\n",
    "ls_lh_names_d = ['d{}_lh'.format(i) for i in range(1,6)]\n",
    "\n",
    "for i in range(len(json_feats_t)):\n",
    "#for i in range(2):\n",
    "    try:\n",
    "#first average over last two entries per player\n",
    "#then average over players\n",
    "        ls_ave_r = []\n",
    "        ls_ave_d = []\n",
    "        for j in range(5):\n",
    "            ls_ave_r.append(json_feats_t[i][ls_lh_names_r[j]][-2])\n",
    "            ls_ave_r.append(json_feats_t[i][ls_lh_names_r[j]][-1])\n",
    "            ls_ave_d.append(json_feats_t[i][ls_lh_names_d[j]][-2])\n",
    "            ls_ave_d.append(json_feats_t[i][ls_lh_names_d[j]][-1])\n",
    "\n",
    "        ave2_r = sum(ls_ave_r)/len(ls_ave_r)\n",
    "        ave2_d = sum(ls_ave_d)/len(ls_ave_d)\n",
    "        train_X_time.loc[json_feats_t[i]['match_id_hash'],'r_lh_last2'] = ave2_r\n",
    "        train_X_time.loc[json_feats_t[i]['match_id_hash'],'d_lh_last2'] = ave2_d\n",
    "    except:\n",
    "        try:\n",
    "            ls_ave_r = []\n",
    "            ls_ave_d = []\n",
    "            for j in range(5):\n",
    "                ls_ave_r.append(json_feats_t[i][ls_lh_names_r[j]][-1:])\n",
    "                ls_ave_d.append(json_feats_t[i][ls_lh_names_d[j]][-1:])\n",
    "            ave2_r = sum(ls_ave_r)/len(ls_ave_r)\n",
    "            ave2_d = sum(ls_ave_d)/len(ls_ave_d)\n",
    "            train_X_time.loc[json_feats_t[i]['match_id_hash'],'r_lh_last2'] = ave2_r\n",
    "            train_X_time.loc[json_feats_t[i]['match_id_hash'],'d_lh_last2'] = ave2_d\n",
    "        except:\n",
    "            train_X_time.loc[json_feats_t[i]['match_id_hash'],'r_lh_last2'] = 0\n",
    "            train_X_time.loc[json_feats_t[i]['match_id_hash'],'d_lh_last2'] = 0\n",
    "            \n",
    "            \n",
    "train_X_time['r_lh_last3'] = np.nan\n",
    "train_X_time['d_lh_last3'] = np.nan\n",
    "test_X_time['r_lh_last3'] = np.nan\n",
    "test_X_time['d_lh_last3'] = np.nan\n",
    "ls_lh_names_r = ['r{}_lh'.format(i) for i in range(1,6)]\n",
    "ls_lh_names_d = ['d{}_lh'.format(i) for i in range(1,6)]\n",
    "\n",
    "for i in range(len(json_feats_t)):\n",
    "#for i in range(2):\n",
    "    try:\n",
    "        ls_ave_r = []\n",
    "        ls_ave_d = []\n",
    "        for j in range(5):\n",
    "            ls_ave_r.append(json_feats_t[i][ls_lh_names_r[j]][-3])\n",
    "            ls_ave_r.append(json_feats_t[i][ls_lh_names_r[j]][-2])\n",
    "            ls_ave_r.append(json_feats_t[i][ls_lh_names_r[j]][-1])\n",
    "            ls_ave_d.append(json_feats_t[i][ls_lh_names_d[j]][-3])\n",
    "            ls_ave_d.append(json_feats_t[i][ls_lh_names_d[j]][-2])\n",
    "            ls_ave_d.append(json_feats_t[i][ls_lh_names_d[j]][-1])\n",
    "\n",
    "            ave2_r = sum(ls_ave_r)/len(ls_ave_r)\n",
    "            ave2_d = sum(ls_ave_d)/len(ls_ave_d)\n",
    "            train_X_time.loc[json_feats_t[i]['match_id_hash'],'r_lh_last3'] = ave2_r\n",
    "            train_X_time.loc[json_feats_t[i]['match_id_hash'],'d_lh_last3'] = ave2_d\n",
    "        \n",
    "    except:\n",
    "        try:\n",
    "    #first average over last two entries per player\n",
    "    #then average over players\n",
    "            ls_ave_r = []\n",
    "            ls_ave_d = []\n",
    "            for j in range(5):\n",
    "                ls_ave_r.append(json_feats_t[i][ls_lh_names_r[j]][-2])\n",
    "                ls_ave_r.append(json_feats_t[i][ls_lh_names_r[j]][-1])\n",
    "                ls_ave_d.append(json_feats_t[i][ls_lh_names_d[j]][-2])\n",
    "                ls_ave_d.append(json_feats_t[i][ls_lh_names_d[j]][-1])\n",
    "\n",
    "            ave2_r = sum(ls_ave_r)/len(ls_ave_r)\n",
    "            ave2_d = sum(ls_ave_d)/len(ls_ave_d)\n",
    "            train_X_time.loc[json_feats_t[i]['match_id_hash'],'r_lh_last3'] = ave2_r\n",
    "            train_X_time.loc[json_feats_t[i]['match_id_hash'],'d_lh_last3'] = ave2_d\n",
    "        except:\n",
    "            try:\n",
    "                ls_ave_r = []\n",
    "                ls_ave_d = []\n",
    "                for j in range(5):\n",
    "                    ls_ave_r.append(json_feats_t[i][ls_lh_names_r[j]][-1:])\n",
    "                    ls_ave_d.append(json_feats_t[i][ls_lh_names_d[j]][-1:])\n",
    "                ave2_r = sum(ls_ave_r)/len(ls_ave_r)\n",
    "                ave2_d = sum(ls_ave_d)/len(ls_ave_d)\n",
    "                train_X_time.loc[json_feats_t[i]['match_id_hash'],'r_lh_last3'] = ave2_r\n",
    "                train_X_time.loc[json_feats_t[i]['match_id_hash'],'d_lh_last3'] = ave2_d\n",
    "            except:\n",
    "                train_X_time.loc[json_feats_t[i]['match_id_hash'],'r_lh_last3'] = 0\n",
    "                train_X_time.loc[json_feats_t[i]['match_id_hash'],'d_lh_last3'] = 0"
   ]
  },
  {
   "cell_type": "code",
   "execution_count": null,
   "metadata": {},
   "outputs": [],
   "source": []
  },
  {
   "cell_type": "markdown",
   "metadata": {},
   "source": [
    "same for dn"
   ]
  },
  {
   "cell_type": "code",
   "execution_count": 210,
   "metadata": {},
   "outputs": [],
   "source": [
    "train_X_time['r_dn_last2'] = np.nan\n",
    "train_X_time['d_dn_last2'] = np.nan\n",
    "test_X_time['r_dn_last2'] = np.nan\n",
    "test_X_time['d_dn_last2'] = np.nan\n",
    "ls_dn_names_r = ['r{}_dn'.format(i) for i in range(1,6)]\n",
    "ls_dn_names_d = ['d{}_dn'.format(i) for i in range(1,6)]\n",
    "\n",
    "for i in range(len(json_feats_t)):\n",
    "#for i in range(2):\n",
    "    try:\n",
    "#first average over last two entries per player\n",
    "#then average over players\n",
    "        ls_ave_r = []\n",
    "        ls_ave_d = []\n",
    "        for j in range(5):\n",
    "            ls_ave_r.append(json_feats_t[i][ls_dn_names_r[j]][-2])\n",
    "            ls_ave_r.append(json_feats_t[i][ls_dn_names_r[j]][-1])\n",
    "            ls_ave_d.append(json_feats_t[i][ls_dn_names_d[j]][-2])\n",
    "            ls_ave_d.append(json_feats_t[i][ls_dn_names_d[j]][-1])\n",
    "\n",
    "        ave2_r = sum(ls_ave_r)/len(ls_ave_r)\n",
    "        ave2_d = sum(ls_ave_d)/len(ls_ave_d)\n",
    "        train_X_time.loc[json_feats_t[i]['match_id_hash'],'r_dn_last2'] = ave2_r\n",
    "        train_X_time.loc[json_feats_t[i]['match_id_hash'],'d_dn_last2'] = ave2_d\n",
    "    except:\n",
    "        try:\n",
    "            ls_ave_r = []\n",
    "            ls_ave_d = []\n",
    "            for j in range(5):\n",
    "                ls_ave_r.append(json_feats_t[i][ls_dn_names_r[j]][-1:])\n",
    "                ls_ave_d.append(json_feats_t[i][ls_dn_names_d[j]][-1:])\n",
    "            ave2_r = sum(ls_ave_r)/len(ls_ave_r)\n",
    "            ave2_d = sum(ls_ave_d)/len(ls_ave_d)\n",
    "            train_X_time.loc[json_feats_t[i]['match_id_hash'],'r_dn_last2'] = ave2_r\n",
    "            train_X_time.loc[json_feats_t[i]['match_id_hash'],'d_dn_last2'] = ave2_d\n",
    "        except:\n",
    "            train_X_time.loc[json_feats_t[i]['match_id_hash'],'r_dn_last2'] = 0\n",
    "            train_X_time.loc[json_feats_t[i]['match_id_hash'],'d_dn_last2'] = 0\n",
    "            \n",
    "            \n",
    "train_X_time['r_dn_last3'] = np.nan\n",
    "train_X_time['d_dn_last3'] = np.nan\n",
    "test_X_time['r_dn_last3'] = np.nan\n",
    "test_X_time['d_dn_last3'] = np.nan\n",
    "ls_dn_names_r = ['r{}_dn'.format(i) for i in range(1,6)]\n",
    "ls_dn_names_d = ['d{}_dn'.format(i) for i in range(1,6)]\n",
    "\n",
    "for i in range(len(json_feats_t)):\n",
    "#for i in range(2):\n",
    "    try:\n",
    "        ls_ave_r = []\n",
    "        ls_ave_d = []\n",
    "        for j in range(5):\n",
    "            ls_ave_r.append(json_feats_t[i][ls_dn_names_r[j]][-3])\n",
    "            ls_ave_r.append(json_feats_t[i][ls_dn_names_r[j]][-2])\n",
    "            ls_ave_r.append(json_feats_t[i][ls_dn_names_r[j]][-1])\n",
    "            ls_ave_d.append(json_feats_t[i][ls_dn_names_d[j]][-3])\n",
    "            ls_ave_d.append(json_feats_t[i][ls_dn_names_d[j]][-2])\n",
    "            ls_ave_d.append(json_feats_t[i][ls_dn_names_d[j]][-1])\n",
    "\n",
    "            ave2_r = sum(ls_ave_r)/len(ls_ave_r)\n",
    "            ave2_d = sum(ls_ave_d)/len(ls_ave_d)\n",
    "            train_X_time.loc[json_feats_t[i]['match_id_hash'],'r_dn_last3'] = ave2_r\n",
    "            train_X_time.loc[json_feats_t[i]['match_id_hash'],'d_dn_last3'] = ave2_d\n",
    "        \n",
    "    except:\n",
    "        try:\n",
    "    #first average over last two entries per player\n",
    "    #then average over players\n",
    "            ls_ave_r = []\n",
    "            ls_ave_d = []\n",
    "            for j in range(5):\n",
    "                ls_ave_r.append(json_feats_t[i][ls_dn_names_r[j]][-2])\n",
    "                ls_ave_r.append(json_feats_t[i][ls_dn_names_r[j]][-1])\n",
    "                ls_ave_d.append(json_feats_t[i][ls_dn_names_d[j]][-2])\n",
    "                ls_ave_d.append(json_feats_t[i][ls_dn_names_d[j]][-1])\n",
    "\n",
    "            ave2_r = sum(ls_ave_r)/len(ls_ave_r)\n",
    "            ave2_d = sum(ls_ave_d)/len(ls_ave_d)\n",
    "            train_X_time.loc[json_feats_t[i]['match_id_hash'],'r_dn_last3'] = ave2_r\n",
    "            train_X_time.loc[json_feats_t[i]['match_id_hash'],'d_dn_last3'] = ave2_d\n",
    "        except:\n",
    "            try:\n",
    "                ls_ave_r = []\n",
    "                ls_ave_d = []\n",
    "                for j in range(5):\n",
    "                    ls_ave_r.append(json_feats_t[i][ls_dn_names_r[j]][-1:])\n",
    "                    ls_ave_d.append(json_feats_t[i][ls_dn_names_d[j]][-1:])\n",
    "                ave2_r = sum(ls_ave_r)/len(ls_ave_r)\n",
    "                ave2_d = sum(ls_ave_d)/len(ls_ave_d)\n",
    "                train_X_time.loc[json_feats_t[i]['match_id_hash'],'r_dn_last3'] = ave2_r\n",
    "                train_X_time.loc[json_feats_t[i]['match_id_hash'],'d_dn_last3'] = ave2_d\n",
    "            except:\n",
    "                train_X_time.loc[json_feats_t[i]['match_id_hash'],'r_dn_last3'] = 0\n",
    "                train_X_time.loc[json_feats_t[i]['match_id_hash'],'d_dn_last3'] = 0"
   ]
  },
  {
   "cell_type": "markdown",
   "metadata": {},
   "source": [
    "same for xp"
   ]
  },
  {
   "cell_type": "code",
   "execution_count": 209,
   "metadata": {},
   "outputs": [],
   "source": [
    "train_X_time['r_xp_last2'] = np.nan\n",
    "train_X_time['d_xp_last2'] = np.nan\n",
    "test_X_time['r_xp_last2'] = np.nan\n",
    "test_X_time['d_xp_last2'] = np.nan\n",
    "ls_xp_names_r = ['r{}_xp'.format(i) for i in range(1,6)]\n",
    "ls_xp_names_d = ['d{}_xp'.format(i) for i in range(1,6)]\n",
    "\n",
    "for i in range(len(json_feats_t)):\n",
    "#for i in range(2):\n",
    "    try:\n",
    "#first average over last two entries per player\n",
    "#then average over players\n",
    "        ls_ave_r = []\n",
    "        ls_ave_d = []\n",
    "        for j in range(5):\n",
    "            ls_ave_r.append(json_feats_t[i][ls_xp_names_r[j]][-2])\n",
    "            ls_ave_r.append(json_feats_t[i][ls_xp_names_r[j]][-1])\n",
    "            ls_ave_d.append(json_feats_t[i][ls_xp_names_d[j]][-2])\n",
    "            ls_ave_d.append(json_feats_t[i][ls_xp_names_d[j]][-1])\n",
    "\n",
    "        ave2_r = sum(ls_ave_r)/len(ls_ave_r)\n",
    "        ave2_d = sum(ls_ave_d)/len(ls_ave_d)\n",
    "        train_X_time.loc[json_feats_t[i]['match_id_hash'],'r_xp_last2'] = ave2_r\n",
    "        train_X_time.loc[json_feats_t[i]['match_id_hash'],'d_xp_last2'] = ave2_d\n",
    "    except:\n",
    "        try:\n",
    "            ls_ave_r = []\n",
    "            ls_ave_d = []\n",
    "            for j in range(5):\n",
    "                ls_ave_r.append(json_feats_t[i][ls_xp_names_r[j]][-1:])\n",
    "                ls_ave_d.append(json_feats_t[i][ls_xp_names_d[j]][-1:])\n",
    "            ave2_r = sum(ls_ave_r)/len(ls_ave_r)\n",
    "            ave2_d = sum(ls_ave_d)/len(ls_ave_d)\n",
    "            train_X_time.loc[json_feats_t[i]['match_id_hash'],'r_xp_last2'] = ave2_r\n",
    "            train_X_time.loc[json_feats_t[i]['match_id_hash'],'d_xp_last2'] = ave2_d\n",
    "        except:\n",
    "            train_X_time.loc[json_feats_t[i]['match_id_hash'],'r_xp_last2'] = 0\n",
    "            train_X_time.loc[json_feats_t[i]['match_id_hash'],'d_xp_last2'] = 0\n",
    "            \n",
    "            \n",
    "train_X_time['r_xp_last3'] = np.nan\n",
    "train_X_time['d_xp_last3'] = np.nan\n",
    "test_X_time['r_xp_last3'] = np.nan\n",
    "test_X_time['d_xp_last3'] = np.nan\n",
    "ls_xp_names_r = ['r{}_xp'.format(i) for i in range(1,6)]\n",
    "ls_xp_names_d = ['d{}_xp'.format(i) for i in range(1,6)]\n",
    "\n",
    "for i in range(len(json_feats_t)):\n",
    "#for i in range(2):\n",
    "    try:\n",
    "        ls_ave_r = []\n",
    "        ls_ave_d = []\n",
    "        for j in range(5):\n",
    "            ls_ave_r.append(json_feats_t[i][ls_xp_names_r[j]][-3])\n",
    "            ls_ave_r.append(json_feats_t[i][ls_xp_names_r[j]][-2])\n",
    "            ls_ave_r.append(json_feats_t[i][ls_xp_names_r[j]][-1])\n",
    "            ls_ave_d.append(json_feats_t[i][ls_xp_names_d[j]][-3])\n",
    "            ls_ave_d.append(json_feats_t[i][ls_xp_names_d[j]][-2])\n",
    "            ls_ave_d.append(json_feats_t[i][ls_xp_names_d[j]][-1])\n",
    "\n",
    "            ave2_r = sum(ls_ave_r)/len(ls_ave_r)\n",
    "            ave2_d = sum(ls_ave_d)/len(ls_ave_d)\n",
    "            train_X_time.loc[json_feats_t[i]['match_id_hash'],'r_xp_last3'] = ave2_r\n",
    "            train_X_time.loc[json_feats_t[i]['match_id_hash'],'d_xp_last3'] = ave2_d\n",
    "        \n",
    "    except:\n",
    "        try:\n",
    "    #first average over last two entries per player\n",
    "    #then average over players\n",
    "            ls_ave_r = []\n",
    "            ls_ave_d = []\n",
    "            for j in range(5):\n",
    "                ls_ave_r.append(json_feats_t[i][ls_xp_names_r[j]][-2])\n",
    "                ls_ave_r.append(json_feats_t[i][ls_xp_names_r[j]][-1])\n",
    "                ls_ave_d.append(json_feats_t[i][ls_xp_names_d[j]][-2])\n",
    "                ls_ave_d.append(json_feats_t[i][ls_xp_names_d[j]][-1])\n",
    "\n",
    "            ave2_r = sum(ls_ave_r)/len(ls_ave_r)\n",
    "            ave2_d = sum(ls_ave_d)/len(ls_ave_d)\n",
    "            train_X_time.loc[json_feats_t[i]['match_id_hash'],'r_xp_last3'] = ave2_r\n",
    "            train_X_time.loc[json_feats_t[i]['match_id_hash'],'d_xp_last3'] = ave2_d\n",
    "        except:\n",
    "            try:\n",
    "                ls_ave_r = []\n",
    "                ls_ave_d = []\n",
    "                for j in range(5):\n",
    "                    ls_ave_r.append(json_feats_t[i][ls_xp_names_r[j]][-1:])\n",
    "                    ls_ave_d.append(json_feats_t[i][ls_xp_names_d[j]][-1:])\n",
    "                ave2_r = sum(ls_ave_r)/len(ls_ave_r)\n",
    "                ave2_d = sum(ls_ave_d)/len(ls_ave_d)\n",
    "                train_X_time.loc[json_feats_t[i]['match_id_hash'],'r_xp_last3'] = ave2_r\n",
    "                train_X_time.loc[json_feats_t[i]['match_id_hash'],'d_xp_last3'] = ave2_d\n",
    "            except:\n",
    "                train_X_time.loc[json_feats_t[i]['match_id_hash'],'r_xp_last3'] = 0\n",
    "                train_X_time.loc[json_feats_t[i]['match_id_hash'],'d_xp_last3'] = 0"
   ]
  },
  {
   "cell_type": "code",
   "execution_count": 212,
   "metadata": {},
   "outputs": [],
   "source": [
    "full_time = train_X_time.merge(pd.DataFrame(y),how='outer',left_index=True,right_index=True)"
   ]
  },
  {
   "cell_type": "code",
   "execution_count": 213,
   "metadata": {},
   "outputs": [
    {
     "data": {
      "text/html": [
       "<div>\n",
       "<style scoped>\n",
       "    .dataframe tbody tr th:only-of-type {\n",
       "        vertical-align: middle;\n",
       "    }\n",
       "\n",
       "    .dataframe tbody tr th {\n",
       "        vertical-align: top;\n",
       "    }\n",
       "\n",
       "    .dataframe thead th {\n",
       "        text-align: right;\n",
       "    }\n",
       "</style>\n",
       "<table border=\"1\" class=\"dataframe\">\n",
       "  <thead>\n",
       "    <tr style=\"text-align: right;\">\n",
       "      <th></th>\n",
       "      <th>r_gold_last2</th>\n",
       "      <th>d_gold_last2</th>\n",
       "      <th>r_gold_last3</th>\n",
       "      <th>d_gold_last3</th>\n",
       "      <th>r_lh_last2</th>\n",
       "      <th>d_lh_last2</th>\n",
       "      <th>r_lh_last3</th>\n",
       "      <th>d_lh_last3</th>\n",
       "      <th>r_xp_last2</th>\n",
       "      <th>d_xp_last2</th>\n",
       "      <th>r_xp_last3</th>\n",
       "      <th>d_xp_last3</th>\n",
       "      <th>r_dn_last2</th>\n",
       "      <th>d_dn_last2</th>\n",
       "      <th>r_dn_last3</th>\n",
       "      <th>d_dn_last3</th>\n",
       "      <th>radiant_win</th>\n",
       "    </tr>\n",
       "    <tr>\n",
       "      <th>match_id_hash</th>\n",
       "      <th></th>\n",
       "      <th></th>\n",
       "      <th></th>\n",
       "      <th></th>\n",
       "      <th></th>\n",
       "      <th></th>\n",
       "      <th></th>\n",
       "      <th></th>\n",
       "      <th></th>\n",
       "      <th></th>\n",
       "      <th></th>\n",
       "      <th></th>\n",
       "      <th></th>\n",
       "      <th></th>\n",
       "      <th></th>\n",
       "      <th></th>\n",
       "      <th></th>\n",
       "    </tr>\n",
       "  </thead>\n",
       "  <tbody>\n",
       "    <tr>\n",
       "      <th>a400b8f29dece5f4d266f49f1ae2e98a</th>\n",
       "      <td>187.4</td>\n",
       "      <td>417.2</td>\n",
       "      <td>125.266667</td>\n",
       "      <td>278.466667</td>\n",
       "      <td>1.5</td>\n",
       "      <td>2.8</td>\n",
       "      <td>1.000000</td>\n",
       "      <td>1.866667</td>\n",
       "      <td>170.2</td>\n",
       "      <td>255.9</td>\n",
       "      <td>113.466667</td>\n",
       "      <td>170.600000</td>\n",
       "      <td>0.4</td>\n",
       "      <td>2.2</td>\n",
       "      <td>0.266667</td>\n",
       "      <td>1.466667</td>\n",
       "      <td>False</td>\n",
       "    </tr>\n",
       "    <tr>\n",
       "      <th>b9c57c450ce74a2af79c9ce96fac144d</th>\n",
       "      <td>3024.4</td>\n",
       "      <td>2061.8</td>\n",
       "      <td>2813.066667</td>\n",
       "      <td>1915.800000</td>\n",
       "      <td>21.9</td>\n",
       "      <td>16.5</td>\n",
       "      <td>20.533333</td>\n",
       "      <td>15.866667</td>\n",
       "      <td>3038.9</td>\n",
       "      <td>2102.7</td>\n",
       "      <td>2856.866667</td>\n",
       "      <td>1984.066667</td>\n",
       "      <td>5.4</td>\n",
       "      <td>2.6</td>\n",
       "      <td>5.200000</td>\n",
       "      <td>2.400000</td>\n",
       "      <td>True</td>\n",
       "    </tr>\n",
       "    <tr>\n",
       "      <th>6db558535151ea18ca70a6892197db41</th>\n",
       "      <td>0.0</td>\n",
       "      <td>0.0</td>\n",
       "      <td>0.000000</td>\n",
       "      <td>0.000000</td>\n",
       "      <td>0.0</td>\n",
       "      <td>0.0</td>\n",
       "      <td>0.000000</td>\n",
       "      <td>0.000000</td>\n",
       "      <td>0.0</td>\n",
       "      <td>0.0</td>\n",
       "      <td>0.000000</td>\n",
       "      <td>0.000000</td>\n",
       "      <td>0.0</td>\n",
       "      <td>0.0</td>\n",
       "      <td>0.000000</td>\n",
       "      <td>0.000000</td>\n",
       "      <td>True</td>\n",
       "    </tr>\n",
       "    <tr>\n",
       "      <th>46a0ddce8f7ed2a8d9bd5edcbb925682</th>\n",
       "      <td>2288.7</td>\n",
       "      <td>2032.5</td>\n",
       "      <td>2145.066667</td>\n",
       "      <td>1925.800000</td>\n",
       "      <td>22.3</td>\n",
       "      <td>26.2</td>\n",
       "      <td>21.000000</td>\n",
       "      <td>24.400000</td>\n",
       "      <td>2542.8</td>\n",
       "      <td>2162.0</td>\n",
       "      <td>2363.466667</td>\n",
       "      <td>2045.266667</td>\n",
       "      <td>7.5</td>\n",
       "      <td>2.0</td>\n",
       "      <td>7.133333</td>\n",
       "      <td>1.866667</td>\n",
       "      <td>True</td>\n",
       "    </tr>\n",
       "    <tr>\n",
       "      <th>b1b35ff97723d9b7ade1c9c3cf48f770</th>\n",
       "      <td>1327.6</td>\n",
       "      <td>1575.6</td>\n",
       "      <td>1227.666667</td>\n",
       "      <td>1454.866667</td>\n",
       "      <td>10.6</td>\n",
       "      <td>16.0</td>\n",
       "      <td>9.600000</td>\n",
       "      <td>14.533333</td>\n",
       "      <td>1598.0</td>\n",
       "      <td>1830.8</td>\n",
       "      <td>1455.733333</td>\n",
       "      <td>1685.800000</td>\n",
       "      <td>0.0</td>\n",
       "      <td>2.1</td>\n",
       "      <td>0.000000</td>\n",
       "      <td>1.933333</td>\n",
       "      <td>False</td>\n",
       "    </tr>\n",
       "  </tbody>\n",
       "</table>\n",
       "</div>"
      ],
      "text/plain": [
       "                                  r_gold_last2  d_gold_last2  r_gold_last3  \\\n",
       "match_id_hash                                                                \n",
       "a400b8f29dece5f4d266f49f1ae2e98a         187.4         417.2    125.266667   \n",
       "b9c57c450ce74a2af79c9ce96fac144d        3024.4        2061.8   2813.066667   \n",
       "6db558535151ea18ca70a6892197db41           0.0           0.0      0.000000   \n",
       "46a0ddce8f7ed2a8d9bd5edcbb925682        2288.7        2032.5   2145.066667   \n",
       "b1b35ff97723d9b7ade1c9c3cf48f770        1327.6        1575.6   1227.666667   \n",
       "\n",
       "                                  d_gold_last3  r_lh_last2  d_lh_last2  \\\n",
       "match_id_hash                                                            \n",
       "a400b8f29dece5f4d266f49f1ae2e98a    278.466667         1.5         2.8   \n",
       "b9c57c450ce74a2af79c9ce96fac144d   1915.800000        21.9        16.5   \n",
       "6db558535151ea18ca70a6892197db41      0.000000         0.0         0.0   \n",
       "46a0ddce8f7ed2a8d9bd5edcbb925682   1925.800000        22.3        26.2   \n",
       "b1b35ff97723d9b7ade1c9c3cf48f770   1454.866667        10.6        16.0   \n",
       "\n",
       "                                  r_lh_last3  d_lh_last3  r_xp_last2  \\\n",
       "match_id_hash                                                          \n",
       "a400b8f29dece5f4d266f49f1ae2e98a    1.000000    1.866667       170.2   \n",
       "b9c57c450ce74a2af79c9ce96fac144d   20.533333   15.866667      3038.9   \n",
       "6db558535151ea18ca70a6892197db41    0.000000    0.000000         0.0   \n",
       "46a0ddce8f7ed2a8d9bd5edcbb925682   21.000000   24.400000      2542.8   \n",
       "b1b35ff97723d9b7ade1c9c3cf48f770    9.600000   14.533333      1598.0   \n",
       "\n",
       "                                  d_xp_last2   r_xp_last3   d_xp_last3  \\\n",
       "match_id_hash                                                            \n",
       "a400b8f29dece5f4d266f49f1ae2e98a       255.9   113.466667   170.600000   \n",
       "b9c57c450ce74a2af79c9ce96fac144d      2102.7  2856.866667  1984.066667   \n",
       "6db558535151ea18ca70a6892197db41         0.0     0.000000     0.000000   \n",
       "46a0ddce8f7ed2a8d9bd5edcbb925682      2162.0  2363.466667  2045.266667   \n",
       "b1b35ff97723d9b7ade1c9c3cf48f770      1830.8  1455.733333  1685.800000   \n",
       "\n",
       "                                  r_dn_last2  d_dn_last2  r_dn_last3  \\\n",
       "match_id_hash                                                          \n",
       "a400b8f29dece5f4d266f49f1ae2e98a         0.4         2.2    0.266667   \n",
       "b9c57c450ce74a2af79c9ce96fac144d         5.4         2.6    5.200000   \n",
       "6db558535151ea18ca70a6892197db41         0.0         0.0    0.000000   \n",
       "46a0ddce8f7ed2a8d9bd5edcbb925682         7.5         2.0    7.133333   \n",
       "b1b35ff97723d9b7ade1c9c3cf48f770         0.0         2.1    0.000000   \n",
       "\n",
       "                                  d_dn_last3  radiant_win  \n",
       "match_id_hash                                              \n",
       "a400b8f29dece5f4d266f49f1ae2e98a    1.466667        False  \n",
       "b9c57c450ce74a2af79c9ce96fac144d    2.400000         True  \n",
       "6db558535151ea18ca70a6892197db41    0.000000         True  \n",
       "46a0ddce8f7ed2a8d9bd5edcbb925682    1.866667         True  \n",
       "b1b35ff97723d9b7ade1c9c3cf48f770    1.933333        False  "
      ]
     },
     "execution_count": 213,
     "metadata": {},
     "output_type": "execute_result"
    }
   ],
   "source": [
    "full_time.head()"
   ]
  },
  {
   "cell_type": "code",
   "execution_count": 222,
   "metadata": {},
   "outputs": [
    {
     "data": {
      "text/plain": [
       "<matplotlib.legend.Legend at 0x14e70af28>"
      ]
     },
     "execution_count": 222,
     "metadata": {},
     "output_type": "execute_result"
    },
    {
     "data": {
      "image/png": "[encoded data removed]",
      "text/plain": [
       "<Figure size 432x288 with 1 Axes>"
      ]
     },
     "metadata": {
      "needs_background": "light"
     },
     "output_type": "display_data"
    }
   ],
   "source": [
    "full_time_rwin = full_time[full_time['radiant_win']==True]\n",
    "full_time_rlose = full_time[full_time['radiant_win']==False]\n",
    "\n",
    "sns.distplot(full_time_rwin['d_dn_last3'], bins=50, label='R won')\n",
    "sns.distplot(full_time_rlose['d_dn_last3'], bins=50, label='R lost')\n",
    "#plt.xlim(1900, 2020)\n",
    "plt.legend()"
   ]
  },
  {
   "cell_type": "code",
   "execution_count": 230,
   "metadata": {},
   "outputs": [],
   "source": [
    "export_csv = train_X_time.to_csv('train_X_time.csv', index = 'match_id_hash', header=True)\n",
    "#export_csv = test_X_time.to_csv('test_X_time.csv', index = 'match_id_hash', header=True)"
   ]
  },
  {
   "cell_type": "code",
   "execution_count": 224,
   "metadata": {},
   "outputs": [],
   "source": [
    "train_X_time['r_xp_last4'] = np.nan\n",
    "train_X_time['d_xp_last4'] = np.nan\n",
    "test_X_time['r_xp_last4'] = np.nan\n",
    "test_X_time['d_xp_last4'] = np.nan\n",
    "ls_xp_names_r = ['r{}_xp'.format(i) for i in range(1,6)]\n",
    "ls_xp_names_d = ['d{}_xp'.format(i) for i in range(1,6)]\n",
    "\n",
    "for i in range(len(json_feats_t)):\n",
    "#for i in range(2):\n",
    "    try:\n",
    "        ls_ave_r = []\n",
    "        ls_ave_d = []\n",
    "        for j in range(5):\n",
    "            ls_ave_r.append(json_feats_t[i][ls_xp_names_r[j]][-4])\n",
    "            ls_ave_r.append(json_feats_t[i][ls_xp_names_r[j]][-3])\n",
    "            ls_ave_r.append(json_feats_t[i][ls_xp_names_r[j]][-2])\n",
    "            ls_ave_r.append(json_feats_t[i][ls_xp_names_r[j]][-1])\n",
    "            ls_ave_d.append(json_feats_t[i][ls_xp_names_d[j]][-4])\n",
    "            ls_ave_d.append(json_feats_t[i][ls_xp_names_d[j]][-3])\n",
    "            ls_ave_d.append(json_feats_t[i][ls_xp_names_d[j]][-2])\n",
    "            ls_ave_d.append(json_feats_t[i][ls_xp_names_d[j]][-1])\n",
    "\n",
    "            ave2_r = sum(ls_ave_r)/len(ls_ave_r)\n",
    "            ave2_d = sum(ls_ave_d)/len(ls_ave_d)\n",
    "            train_X_time.loc[json_feats_t[i]['match_id_hash'],'r_xp_last4'] = ave2_r\n",
    "            train_X_time.loc[json_feats_t[i]['match_id_hash'],'d_xp_last4'] = ave2_d\n",
    "\n",
    "        \n",
    "    except:\n",
    "        try:\n",
    "            ls_ave_r = []\n",
    "            ls_ave_d = []\n",
    "            for j in range(5):\n",
    "                ls_ave_r.append(json_feats_t[i][ls_xp_names_r[j]][-3])\n",
    "                ls_ave_r.append(json_feats_t[i][ls_xp_names_r[j]][-2])\n",
    "                ls_ave_r.append(json_feats_t[i][ls_xp_names_r[j]][-1])\n",
    "                ls_ave_d.append(json_feats_t[i][ls_xp_names_d[j]][-3])\n",
    "                ls_ave_d.append(json_feats_t[i][ls_xp_names_d[j]][-2])\n",
    "                ls_ave_d.append(json_feats_t[i][ls_xp_names_d[j]][-1])\n",
    "\n",
    "                ave2_r = sum(ls_ave_r)/len(ls_ave_r)\n",
    "                ave2_d = sum(ls_ave_d)/len(ls_ave_d)\n",
    "                train_X_time.loc[json_feats_t[i]['match_id_hash'],'r_xp_last4'] = ave2_r\n",
    "                train_X_time.loc[json_feats_t[i]['match_id_hash'],'d_xp_last4'] = ave2_d\n",
    "\n",
    "        except:\n",
    "            try:\n",
    "        #first average over last two entries per player\n",
    "        #then average over players\n",
    "                ls_ave_r = []\n",
    "                ls_ave_d = []\n",
    "                for j in range(5):\n",
    "                    ls_ave_r.append(json_feats_t[i][ls_xp_names_r[j]][-2])\n",
    "                    ls_ave_r.append(json_feats_t[i][ls_xp_names_r[j]][-1])\n",
    "                    ls_ave_d.append(json_feats_t[i][ls_xp_names_d[j]][-2])\n",
    "                    ls_ave_d.append(json_feats_t[i][ls_xp_names_d[j]][-1])\n",
    "\n",
    "                ave2_r = sum(ls_ave_r)/len(ls_ave_r)\n",
    "                ave2_d = sum(ls_ave_d)/len(ls_ave_d)\n",
    "                train_X_time.loc[json_feats_t[i]['match_id_hash'],'r_xp_last4'] = ave2_r\n",
    "                train_X_time.loc[json_feats_t[i]['match_id_hash'],'d_xp_last4'] = ave2_d\n",
    "            except:\n",
    "                try:\n",
    "                    ls_ave_r = []\n",
    "                    ls_ave_d = []\n",
    "                    for j in range(5):\n",
    "                        ls_ave_r.append(json_feats_t[i][ls_xp_names_r[j]][-1:])\n",
    "                        ls_ave_d.append(json_feats_t[i][ls_xp_names_d[j]][-1:])\n",
    "                    ave2_r = sum(ls_ave_r)/len(ls_ave_r)\n",
    "                    ave2_d = sum(ls_ave_d)/len(ls_ave_d)\n",
    "                    train_X_time.loc[json_feats_t[i]['match_id_hash'],'r_xp_last4'] = ave2_r\n",
    "                    train_X_time.loc[json_feats_t[i]['match_id_hash'],'d_xp_last4'] = ave2_d\n",
    "                except:\n",
    "                    train_X_time.loc[json_feats_t[i]['match_id_hash'],'r_xp_last4'] = 0\n",
    "                    train_X_time.loc[json_feats_t[i]['match_id_hash'],'d_xp_last4'] = 0"
   ]
  },
  {
   "cell_type": "code",
   "execution_count": 225,
   "metadata": {},
   "outputs": [],
   "source": [
    "train_X_time['r_dn_last4'] = np.nan\n",
    "train_X_time['d_dn_last4'] = np.nan\n",
    "test_X_time['r_dn_last4'] = np.nan\n",
    "test_X_time['d_dn_last4'] = np.nan\n",
    "ls_dn_names_r = ['r{}_dn'.format(i) for i in range(1,6)]\n",
    "ls_dn_names_d = ['d{}_dn'.format(i) for i in range(1,6)]\n",
    "\n",
    "for i in range(len(json_feats_t)):\n",
    "#for i in range(2):\n",
    "    try:\n",
    "        ls_ave_r = []\n",
    "        ls_ave_d = []\n",
    "        for j in range(5):\n",
    "            ls_ave_r.append(json_feats_t[i][ls_dn_names_r[j]][-4])\n",
    "            ls_ave_r.append(json_feats_t[i][ls_dn_names_r[j]][-3])\n",
    "            ls_ave_r.append(json_feats_t[i][ls_dn_names_r[j]][-2])\n",
    "            ls_ave_r.append(json_feats_t[i][ls_dn_names_r[j]][-1])\n",
    "            ls_ave_d.append(json_feats_t[i][ls_dn_names_d[j]][-4])\n",
    "            ls_ave_d.append(json_feats_t[i][ls_dn_names_d[j]][-3])\n",
    "            ls_ave_d.append(json_feats_t[i][ls_dn_names_d[j]][-2])\n",
    "            ls_ave_d.append(json_feats_t[i][ls_dn_names_d[j]][-1])\n",
    "\n",
    "            ave2_r = sum(ls_ave_r)/len(ls_ave_r)\n",
    "            ave2_d = sum(ls_ave_d)/len(ls_ave_d)\n",
    "            train_X_time.loc[json_feats_t[i]['match_id_hash'],'r_dn_last4'] = ave2_r\n",
    "            train_X_time.loc[json_feats_t[i]['match_id_hash'],'d_dn_last4'] = ave2_d\n",
    "\n",
    "        \n",
    "    except:\n",
    "        try:\n",
    "            ls_ave_r = []\n",
    "            ls_ave_d = []\n",
    "            for j in range(5):\n",
    "                ls_ave_r.append(json_feats_t[i][ls_dn_names_r[j]][-3])\n",
    "                ls_ave_r.append(json_feats_t[i][ls_dn_names_r[j]][-2])\n",
    "                ls_ave_r.append(json_feats_t[i][ls_dn_names_r[j]][-1])\n",
    "                ls_ave_d.append(json_feats_t[i][ls_dn_names_d[j]][-3])\n",
    "                ls_ave_d.append(json_feats_t[i][ls_dn_names_d[j]][-2])\n",
    "                ls_ave_d.append(json_feats_t[i][ls_dn_names_d[j]][-1])\n",
    "\n",
    "                ave2_r = sum(ls_ave_r)/len(ls_ave_r)\n",
    "                ave2_d = sum(ls_ave_d)/len(ls_ave_d)\n",
    "                train_X_time.loc[json_feats_t[i]['match_id_hash'],'r_dn_last4'] = ave2_r\n",
    "                train_X_time.loc[json_feats_t[i]['match_id_hash'],'d_dn_last4'] = ave2_d\n",
    "\n",
    "        except:\n",
    "            try:\n",
    "        #first average over last two entries per player\n",
    "        #then average over players\n",
    "                ls_ave_r = []\n",
    "                ls_ave_d = []\n",
    "                for j in range(5):\n",
    "                    ls_ave_r.append(json_feats_t[i][ls_dn_names_r[j]][-2])\n",
    "                    ls_ave_r.append(json_feats_t[i][ls_dn_names_r[j]][-1])\n",
    "                    ls_ave_d.append(json_feats_t[i][ls_dn_names_d[j]][-2])\n",
    "                    ls_ave_d.append(json_feats_t[i][ls_dn_names_d[j]][-1])\n",
    "\n",
    "                ave2_r = sum(ls_ave_r)/len(ls_ave_r)\n",
    "                ave2_d = sum(ls_ave_d)/len(ls_ave_d)\n",
    "                train_X_time.loc[json_feats_t[i]['match_id_hash'],'r_dn_last4'] = ave2_r\n",
    "                train_X_time.loc[json_feats_t[i]['match_id_hash'],'d_dn_last4'] = ave2_d\n",
    "            except:\n",
    "                try:\n",
    "                    ls_ave_r = []\n",
    "                    ls_ave_d = []\n",
    "                    for j in range(5):\n",
    "                        ls_ave_r.append(json_feats_t[i][ls_dn_names_r[j]][-1:])\n",
    "                        ls_ave_d.append(json_feats_t[i][ls_dn_names_d[j]][-1:])\n",
    "                    ave2_r = sum(ls_ave_r)/len(ls_ave_r)\n",
    "                    ave2_d = sum(ls_ave_d)/len(ls_ave_d)\n",
    "                    train_X_time.loc[json_feats_t[i]['match_id_hash'],'r_dn_last4'] = ave2_r\n",
    "                    train_X_time.loc[json_feats_t[i]['match_id_hash'],'d_dn_last4'] = ave2_d\n",
    "                except:\n",
    "                    train_X_time.loc[json_feats_t[i]['match_id_hash'],'r_dn_last4'] = 0\n",
    "                    train_X_time.loc[json_feats_t[i]['match_id_hash'],'d_dn_last4'] = 0\n",
    "\n",
    "                    \n",
    "train_X_time['r_gold_last4'] = np.nan\n",
    "train_X_time['d_gold_last4'] = np.nan\n",
    "test_X_time['r_gold_last4'] = np.nan\n",
    "test_X_time['d_gold_last4'] = np.nan\n",
    "ls_gold_names_r = ['r{}_gold'.format(i) for i in range(1,6)]\n",
    "ls_gold_names_d = ['d{}_gold'.format(i) for i in range(1,6)]\n",
    "\n",
    "for i in range(len(json_feats_t)):\n",
    "#for i in range(2):\n",
    "    try:\n",
    "        ls_ave_r = []\n",
    "        ls_ave_d = []\n",
    "        for j in range(5):\n",
    "            ls_ave_r.append(json_feats_t[i][ls_gold_names_r[j]][-4])\n",
    "            ls_ave_r.append(json_feats_t[i][ls_gold_names_r[j]][-3])\n",
    "            ls_ave_r.append(json_feats_t[i][ls_gold_names_r[j]][-2])\n",
    "            ls_ave_r.append(json_feats_t[i][ls_gold_names_r[j]][-1])\n",
    "            ls_ave_d.append(json_feats_t[i][ls_gold_names_d[j]][-4])\n",
    "            ls_ave_d.append(json_feats_t[i][ls_gold_names_d[j]][-3])\n",
    "            ls_ave_d.append(json_feats_t[i][ls_gold_names_d[j]][-2])\n",
    "            ls_ave_d.append(json_feats_t[i][ls_gold_names_d[j]][-1])\n",
    "\n",
    "            ave2_r = sum(ls_ave_r)/len(ls_ave_r)\n",
    "            ave2_d = sum(ls_ave_d)/len(ls_ave_d)\n",
    "            train_X_time.loc[json_feats_t[i]['match_id_hash'],'r_gold_last4'] = ave2_r\n",
    "            train_X_time.loc[json_feats_t[i]['match_id_hash'],'d_gold_last4'] = ave2_d\n",
    "\n",
    "        \n",
    "    except:\n",
    "        try:\n",
    "            ls_ave_r = []\n",
    "            ls_ave_d = []\n",
    "            for j in range(5):\n",
    "                ls_ave_r.append(json_feats_t[i][ls_gold_names_r[j]][-3])\n",
    "                ls_ave_r.append(json_feats_t[i][ls_gold_names_r[j]][-2])\n",
    "                ls_ave_r.append(json_feats_t[i][ls_gold_names_r[j]][-1])\n",
    "                ls_ave_d.append(json_feats_t[i][ls_gold_names_d[j]][-3])\n",
    "                ls_ave_d.append(json_feats_t[i][ls_gold_names_d[j]][-2])\n",
    "                ls_ave_d.append(json_feats_t[i][ls_gold_names_d[j]][-1])\n",
    "\n",
    "                ave2_r = sum(ls_ave_r)/len(ls_ave_r)\n",
    "                ave2_d = sum(ls_ave_d)/len(ls_ave_d)\n",
    "                train_X_time.loc[json_feats_t[i]['match_id_hash'],'r_gold_last4'] = ave2_r\n",
    "                train_X_time.loc[json_feats_t[i]['match_id_hash'],'d_gold_last4'] = ave2_d\n",
    "\n",
    "        except:\n",
    "            try:\n",
    "        #first average over last two entries per player\n",
    "        #then average over players\n",
    "                ls_ave_r = []\n",
    "                ls_ave_d = []\n",
    "                for j in range(5):\n",
    "                    ls_ave_r.append(json_feats_t[i][ls_gold_names_r[j]][-2])\n",
    "                    ls_ave_r.append(json_feats_t[i][ls_gold_names_r[j]][-1])\n",
    "                    ls_ave_d.append(json_feats_t[i][ls_gold_names_d[j]][-2])\n",
    "                    ls_ave_d.append(json_feats_t[i][ls_gold_names_d[j]][-1])\n",
    "\n",
    "                ave2_r = sum(ls_ave_r)/len(ls_ave_r)\n",
    "                ave2_d = sum(ls_ave_d)/len(ls_ave_d)\n",
    "                train_X_time.loc[json_feats_t[i]['match_id_hash'],'r_gold_last4'] = ave2_r\n",
    "                train_X_time.loc[json_feats_t[i]['match_id_hash'],'d_gold_last4'] = ave2_d\n",
    "            except:\n",
    "                try:\n",
    "                    ls_ave_r = []\n",
    "                    ls_ave_d = []\n",
    "                    for j in range(5):\n",
    "                        ls_ave_r.append(json_feats_t[i][ls_gold_names_r[j]][-1:])\n",
    "                        ls_ave_d.append(json_feats_t[i][ls_gold_names_d[j]][-1:])\n",
    "                    ave2_r = sum(ls_ave_r)/len(ls_ave_r)\n",
    "                    ave2_d = sum(ls_ave_d)/len(ls_ave_d)\n",
    "                    train_X_time.loc[json_feats_t[i]['match_id_hash'],'r_gold_last4'] = ave2_r\n",
    "                    train_X_time.loc[json_feats_t[i]['match_id_hash'],'d_gold_last4'] = ave2_d\n",
    "                except:\n",
    "                    train_X_time.loc[json_feats_t[i]['match_id_hash'],'r_gold_last4'] = 0\n",
    "                    train_X_time.loc[json_feats_t[i]['match_id_hash'],'d_gold_last4'] = 0\n",
    "                    \n",
    "                    \n",
    "train_X_time['r_lh_last4'] = np.nan\n",
    "train_X_time['d_lh_last4'] = np.nan\n",
    "test_X_time['r_lh_last4'] = np.nan\n",
    "test_X_time['d_lh_last4'] = np.nan\n",
    "ls_lh_names_r = ['r{}_lh'.format(i) for i in range(1,6)]\n",
    "ls_lh_names_d = ['d{}_lh'.format(i) for i in range(1,6)]\n",
    "\n",
    "for i in range(len(json_feats_t)):\n",
    "#for i in range(2):\n",
    "    try:\n",
    "        ls_ave_r = []\n",
    "        ls_ave_d = []\n",
    "        for j in range(5):\n",
    "            ls_ave_r.append(json_feats_t[i][ls_lh_names_r[j]][-4])\n",
    "            ls_ave_r.append(json_feats_t[i][ls_lh_names_r[j]][-3])\n",
    "            ls_ave_r.append(json_feats_t[i][ls_lh_names_r[j]][-2])\n",
    "            ls_ave_r.append(json_feats_t[i][ls_lh_names_r[j]][-1])\n",
    "            ls_ave_d.append(json_feats_t[i][ls_lh_names_d[j]][-4])\n",
    "            ls_ave_d.append(json_feats_t[i][ls_lh_names_d[j]][-3])\n",
    "            ls_ave_d.append(json_feats_t[i][ls_lh_names_d[j]][-2])\n",
    "            ls_ave_d.append(json_feats_t[i][ls_lh_names_d[j]][-1])\n",
    "\n",
    "            ave2_r = sum(ls_ave_r)/len(ls_ave_r)\n",
    "            ave2_d = sum(ls_ave_d)/len(ls_ave_d)\n",
    "            train_X_time.loc[json_feats_t[i]['match_id_hash'],'r_lh_last4'] = ave2_r\n",
    "            train_X_time.loc[json_feats_t[i]['match_id_hash'],'d_lh_last4'] = ave2_d\n",
    "\n",
    "        \n",
    "    except:\n",
    "        try:\n",
    "            ls_ave_r = []\n",
    "            ls_ave_d = []\n",
    "            for j in range(5):\n",
    "                ls_ave_r.append(json_feats_t[i][ls_lh_names_r[j]][-3])\n",
    "                ls_ave_r.append(json_feats_t[i][ls_lh_names_r[j]][-2])\n",
    "                ls_ave_r.append(json_feats_t[i][ls_lh_names_r[j]][-1])\n",
    "                ls_ave_d.append(json_feats_t[i][ls_lh_names_d[j]][-3])\n",
    "                ls_ave_d.append(json_feats_t[i][ls_lh_names_d[j]][-2])\n",
    "                ls_ave_d.append(json_feats_t[i][ls_lh_names_d[j]][-1])\n",
    "\n",
    "                ave2_r = sum(ls_ave_r)/len(ls_ave_r)\n",
    "                ave2_d = sum(ls_ave_d)/len(ls_ave_d)\n",
    "                train_X_time.loc[json_feats_t[i]['match_id_hash'],'r_lh_last4'] = ave2_r\n",
    "                train_X_time.loc[json_feats_t[i]['match_id_hash'],'d_lh_last4'] = ave2_d\n",
    "\n",
    "        except:\n",
    "            try:\n",
    "        #first average over last two entries per player\n",
    "        #then average over players\n",
    "                ls_ave_r = []\n",
    "                ls_ave_d = []\n",
    "                for j in range(5):\n",
    "                    ls_ave_r.append(json_feats_t[i][ls_lh_names_r[j]][-2])\n",
    "                    ls_ave_r.append(json_feats_t[i][ls_lh_names_r[j]][-1])\n",
    "                    ls_ave_d.append(json_feats_t[i][ls_lh_names_d[j]][-2])\n",
    "                    ls_ave_d.append(json_feats_t[i][ls_lh_names_d[j]][-1])\n",
    "\n",
    "                ave2_r = sum(ls_ave_r)/len(ls_ave_r)\n",
    "                ave2_d = sum(ls_ave_d)/len(ls_ave_d)\n",
    "                train_X_time.loc[json_feats_t[i]['match_id_hash'],'r_lh_last4'] = ave2_r\n",
    "                train_X_time.loc[json_feats_t[i]['match_id_hash'],'d_lh_last4'] = ave2_d\n",
    "            except:\n",
    "                try:\n",
    "                    ls_ave_r = []\n",
    "                    ls_ave_d = []\n",
    "                    for j in range(5):\n",
    "                        ls_ave_r.append(json_feats_t[i][ls_lh_names_r[j]][-1:])\n",
    "                        ls_ave_d.append(json_feats_t[i][ls_lh_names_d[j]][-1:])\n",
    "                    ave2_r = sum(ls_ave_r)/len(ls_ave_r)\n",
    "                    ave2_d = sum(ls_ave_d)/len(ls_ave_d)\n",
    "                    train_X_time.loc[json_feats_t[i]['match_id_hash'],'r_lh_last4'] = ave2_r\n",
    "                    train_X_time.loc[json_feats_t[i]['match_id_hash'],'d_lh_last4'] = ave2_d\n",
    "                except:\n",
    "                    train_X_time.loc[json_feats_t[i]['match_id_hash'],'r_lh_last4'] = 0\n",
    "                    train_X_time.loc[json_feats_t[i]['match_id_hash'],'d_lh_last4'] = 0"
   ]
  },
  {
   "cell_type": "code",
   "execution_count": 227,
   "metadata": {},
   "outputs": [],
   "source": [
    "full_time = train_X_time.merge(pd.DataFrame(y),how='outer',left_index=True,right_index=True)"
   ]
  },
  {
   "cell_type": "code",
   "execution_count": 250,
   "metadata": {},
   "outputs": [
    {
     "data": {
      "text/plain": [
       "<matplotlib.legend.Legend at 0x14fe5ddd8>"
      ]
     },
     "execution_count": 250,
     "metadata": {},
     "output_type": "execute_result"
    },
    {
     "data": {
      "image/png": "[encoded data removed]",
      "text/plain": [
       "<Figure size 432x288 with 1 Axes>"
      ]
     },
     "metadata": {
      "needs_background": "light"
     },
     "output_type": "display_data"
    }
   ],
   "source": [
    "full_time_rwin = full_time[full_time['radiant_win']==True]\n",
    "full_time_rlose = full_time[full_time['radiant_win']==False]\n",
    "\n",
    "sns.distplot(full_time_rwin['d_xp_last4'], bins=50, label='R won')\n",
    "sns.distplot(full_time_rlose['d_xp_last4'], bins=50, label='R lost')\n",
    "#plt.xlim(1900, 2020)\n",
    "plt.legend()"
   ]
  },
  {
   "cell_type": "code",
   "execution_count": null,
   "metadata": {},
   "outputs": [],
   "source": []
  },
  {
   "cell_type": "code",
   "execution_count": 251,
   "metadata": {},
   "outputs": [],
   "source": [
    "import collections\n",
    "\n",
    "\n",
    "def extract_features_csv(match):\n",
    "    \n",
    "    row = [\n",
    "        ('match_id_hash', match['match_id_hash']),\n",
    "    ]\n",
    "\n",
    "    for slot, player in enumerate(match['players']):\n",
    "        if slot < 5:\n",
    "            player_name = 'r%d' % (slot + 1)\n",
    "        else:\n",
    "            player_name = 'd%d' % (slot - 4)\n",
    "\n",
    "        row.append( (f'{player_name}_items', list(map(lambda x: x['id'][5:], player['hero_inventory'])) ) )\n",
    "        #here u can extract other data\n",
    "\n",
    "    return collections.OrderedDict(row)\n",
    "\n",
    "    \n",
    "def extract_targets_csv(match, targets):\n",
    "    return collections.OrderedDict([('match_id_hash', match['match_id_hash'])] + [\n",
    "        (field, targets[field])\n",
    "        for field in ['game_time', 'radiant_win', 'duration', 'time_remaining', 'next_roshan_team']\n",
    "    ])\n"
   ]
  },
  {
   "cell_type": "code",
   "execution_count": 252,
   "metadata": {},
   "outputs": [],
   "source": [
    "\n",
    "\n",
    "def create_features_from_jsonl(matches_file):\n",
    "  \n",
    "    df_new_features = []\n",
    "\n",
    "    # Process raw data and add new features\n",
    "    for match in read_matches(matches_file):\n",
    "        match_id_hash = match['match_id_hash']\n",
    "        features = extract_features_csv(match)\n",
    "\n",
    "        df_new_features.append(features)\n",
    "\n",
    "    df_new_features = pd.DataFrame.from_records(df_new_features).set_index('match_id_hash')\n",
    "    return df_new_features\n",
    "\n"
   ]
  },
  {
   "cell_type": "code",
   "execution_count": 255,
   "metadata": {},
   "outputs": [
    {
     "data": {
      "application/vnd.jupyter.widget-view+json": {
       "model_id": "571219a4bb0e4c01ab78115da5006c48",
       "version_major": 2,
       "version_minor": 0
      },
      "text/plain": [
       "HBox(children=(IntProgress(value=0, max=39675), HTML(value='')))"
      ]
     },
     "metadata": {},
     "output_type": "display_data"
    },
    {
     "name": "stdout",
     "output_type": "stream",
     "text": [
      "\n"
     ]
    },
    {
     "data": {
      "application/vnd.jupyter.widget-view+json": {
       "model_id": "19030ce9feaa4844863445996899b1e6",
       "version_major": 2,
       "version_minor": 0
      },
      "text/plain": [
       "HBox(children=(IntProgress(value=0, max=10000), HTML(value='')))"
      ]
     },
     "metadata": {},
     "output_type": "display_data"
    },
    {
     "name": "stdout",
     "output_type": "stream",
     "text": [
      "\n",
      "CPU times: user 1min 26s, sys: 21.5 s, total: 1min 48s\n",
      "Wall time: 2min 24s\n"
     ]
    }
   ],
   "source": [
    "\n",
    "\n",
    "%%time\n",
    "train_df = create_features_from_jsonl('/Users/m/Insight/MLcourse/Dota/train_matches.jsonl').fillna(0)\n",
    "test_df = create_features_from_jsonl('/Users/m/Insight/MLcourse/Dota/test_matches.jsonl').fillna(0)\n",
    "\n"
   ]
  },
  {
   "cell_type": "code",
   "execution_count": 256,
   "metadata": {},
   "outputs": [
    {
     "data": {
      "text/plain": [
       "match_id_hash\n",
       "a400b8f29dece5f4d266f49f1ae2e98a    [tango, wraith_band, enchanted_mango, clarity,...\n",
       "b9c57c450ce74a2af79c9ce96fac144d    [phase_boots, magic_wand, blade_of_alacrity, t...\n",
       "6db558535151ea18ca70a6892197db41        [null_talisman, branches, branches, tpscroll]\n",
       "46a0ddce8f7ed2a8d9bd5edcbb925682                                     [tranquil_boots]\n",
       "b1b35ff97723d9b7ade1c9c3cf48f770                                       [power_treads]\n",
       "Name: r1_items, dtype: object"
      ]
     },
     "execution_count": 256,
     "metadata": {},
     "output_type": "execute_result"
    }
   ],
   "source": [
    "train_df['r1_items'].head()"
   ]
  },
  {
   "cell_type": "code",
   "execution_count": 257,
   "metadata": {},
   "outputs": [],
   "source": [
    "def add_items_dummies(train_df, test_df):\n",
    "    \n",
    "    full_df = pd.concat([train_df, test_df], sort=False)\n",
    "    train_size = train_df.shape[0]\n",
    "\n",
    "    for team in 'r', 'd':\n",
    "        players = [f'{team}{i}' for i in range(1, 6)]\n",
    "        item_columns = [f'{player}_items' for player in players]\n",
    "\n",
    "        d = pd.get_dummies(full_df[item_columns[0]].apply(pd.Series).stack()).sum(level=0, axis=0)\n",
    "        dindexes = d.index.values\n",
    "\n",
    "        for c in item_columns[1:]:\n",
    "            d = d.add(pd.get_dummies(full_df[c].apply(pd.Series).stack()).sum(level=0, axis=0), fill_value=0)\n",
    "            d = d.ix[dindexes]\n",
    "\n",
    "        full_df = pd.concat([full_df, d.add_prefix(f'{team}_item_')], axis=1, sort=False)\n",
    "        full_df.drop(columns=item_columns, inplace=True)\n",
    "\n",
    "    train_df = full_df.iloc[:train_size, :]\n",
    "    test_df = full_df.iloc[train_size:, :]\n",
    "\n",
    "    return train_df, test_df"
   ]
  },
  {
   "cell_type": "code",
   "execution_count": 262,
   "metadata": {},
   "outputs": [],
   "source": [
    "def drop_consumble_items(train_df, test_df):\n",
    "    \n",
    "    full_df = pd.concat([train_df, test_df], sort=False)\n",
    "    train_size = train_df.shape[0]\n",
    "\n",
    "    for team in 'r', 'd':\n",
    "        consumble_columns = ['tango', 'tpscroll', \n",
    "                             'bottle', 'flask',\n",
    "                            'enchanted_mango', 'clarity',\n",
    "                            'faerie_fire', 'ward_observer',\n",
    "                            'ward_sentry']\n",
    "        \n",
    "        starts_with = f'{team}_item_'\n",
    "        consumble_columns = [starts_with + column for column in consumble_columns]\n",
    "        full_df.drop(columns=consumble_columns, inplace=True)\n",
    "\n",
    "    train_df = full_df.iloc[:train_size, :]\n",
    "    test_df = full_df.iloc[train_size:, :]\n",
    "\n",
    "    return train_df, test_df"
   ]
  },
  {
   "cell_type": "code",
   "execution_count": 264,
   "metadata": {},
   "outputs": [
    {
     "name": "stdout",
     "output_type": "stream",
     "text": [
      "CPU times: user 2min 27s, sys: 24.9 s, total: 2min 52s\n",
      "Wall time: 3min 32s\n"
     ]
    }
   ],
   "source": [
    "\n",
    "\n",
    "%%time\n",
    "new_train = train_df#pd.read_pickle('df_train.pkl')\n",
    "new_test = test_df#pd.read_pickle('df_test.pkl')\n",
    "\n",
    "new_train, new_test = add_items_dummies(new_train, new_test)\n",
    "new_train, new_test = drop_consumble_items(new_train, new_test)\n",
    "\n",
    "target = pd.DataFrame(y)\n",
    "\n"
   ]
  },
  {
   "cell_type": "code",
   "execution_count": 265,
   "metadata": {},
   "outputs": [
    {
     "data": {
      "text/plain": [
       "((39675, 384), (39675, 1), (10000, 384))"
      ]
     },
     "execution_count": 265,
     "metadata": {},
     "output_type": "execute_result"
    }
   ],
   "source": [
    "new_train.shape, target.shape, new_test.shape"
   ]
  },
  {
   "cell_type": "code",
   "execution_count": 266,
   "metadata": {},
   "outputs": [],
   "source": [
    "features = new_train.columns"
   ]
  },
  {
   "cell_type": "code",
   "execution_count": 267,
   "metadata": {},
   "outputs": [],
   "source": [
    "export_csv = new_train.to_csv('new_train.csv', index = 'match_id_hash', header=True)\n",
    "export_csv = new_test.to_csv('new_test.csv', index = 'match_id_hash', header=True)"
   ]
  },
  {
   "cell_type": "code",
   "execution_count": null,
   "metadata": {},
   "outputs": [],
   "source": []
  },
  {
   "cell_type": "code",
   "execution_count": null,
   "metadata": {},
   "outputs": [],
   "source": []
  },
  {
   "cell_type": "code",
   "execution_count": null,
   "metadata": {},
   "outputs": [],
   "source": []
  },
  {
   "cell_type": "code",
   "execution_count": null,
   "metadata": {},
   "outputs": [],
   "source": []
  },
  {
   "cell_type": "markdown",
   "metadata": {},
   "source": [
    "### Create `test_X_time` features"
   ]
  },
  {
   "cell_type": "code",
   "execution_count": null,
   "metadata": {},
   "outputs": [],
   "source": []
  },
  {
   "cell_type": "code",
   "execution_count": null,
   "metadata": {},
   "outputs": [],
   "source": []
  },
  {
   "cell_type": "code",
   "execution_count": null,
   "metadata": {},
   "outputs": [],
   "source": []
  },
  {
   "cell_type": "code",
   "execution_count": null,
   "metadata": {},
   "outputs": [],
   "source": []
  },
  {
   "cell_type": "code",
   "execution_count": 239,
   "metadata": {},
   "outputs": [],
   "source": [
    "#all series last 4 average\n",
    "test_X_time['r_xp_last4'] = np.nan\n",
    "test_X_time['d_xp_last4'] = np.nan\n",
    "test_X_time['r_xp_last4'] = np.nan\n",
    "test_X_time['d_xp_last4'] = np.nan\n",
    "ls_xp_names_r = ['r{}_xp'.format(i) for i in range(1,6)]\n",
    "ls_xp_names_d = ['d{}_xp'.format(i) for i in range(1,6)]\n",
    "\n",
    "for i in range(len(json_feats_test_t)):\n",
    "#for i in range(2):\n",
    "    try:\n",
    "        ls_ave_r = []\n",
    "        ls_ave_d = []\n",
    "        for j in range(5):\n",
    "            ls_ave_r.append(json_feats_test_t[i][ls_xp_names_r[j]][-4])\n",
    "            ls_ave_r.append(json_feats_test_t[i][ls_xp_names_r[j]][-3])\n",
    "            ls_ave_r.append(json_feats_test_t[i][ls_xp_names_r[j]][-2])\n",
    "            ls_ave_r.append(json_feats_test_t[i][ls_xp_names_r[j]][-1])\n",
    "            ls_ave_d.append(json_feats_test_t[i][ls_xp_names_d[j]][-4])\n",
    "            ls_ave_d.append(json_feats_test_t[i][ls_xp_names_d[j]][-3])\n",
    "            ls_ave_d.append(json_feats_test_t[i][ls_xp_names_d[j]][-2])\n",
    "            ls_ave_d.append(json_feats_test_t[i][ls_xp_names_d[j]][-1])\n",
    "\n",
    "            ave2_r = sum(ls_ave_r)/len(ls_ave_r)\n",
    "            ave2_d = sum(ls_ave_d)/len(ls_ave_d)\n",
    "            test_X_time.loc[json_feats_test_t[i]['match_id_hash'],'r_xp_last4'] = ave2_r\n",
    "            test_X_time.loc[json_feats_test_t[i]['match_id_hash'],'d_xp_last4'] = ave2_d\n",
    "\n",
    "        \n",
    "    except:\n",
    "        try:\n",
    "            ls_ave_r = []\n",
    "            ls_ave_d = []\n",
    "            for j in range(5):\n",
    "                ls_ave_r.append(json_feats_test_t[i][ls_xp_names_r[j]][-3])\n",
    "                ls_ave_r.append(json_feats_test_t[i][ls_xp_names_r[j]][-2])\n",
    "                ls_ave_r.append(json_feats_test_t[i][ls_xp_names_r[j]][-1])\n",
    "                ls_ave_d.append(json_feats_test_t[i][ls_xp_names_d[j]][-3])\n",
    "                ls_ave_d.append(json_feats_test_t[i][ls_xp_names_d[j]][-2])\n",
    "                ls_ave_d.append(json_feats_test_t[i][ls_xp_names_d[j]][-1])\n",
    "\n",
    "                ave2_r = sum(ls_ave_r)/len(ls_ave_r)\n",
    "                ave2_d = sum(ls_ave_d)/len(ls_ave_d)\n",
    "                test_X_time.loc[json_feats_test_t[i]['match_id_hash'],'r_xp_last4'] = ave2_r\n",
    "                test_X_time.loc[json_feats_test_t[i]['match_id_hash'],'d_xp_last4'] = ave2_d\n",
    "\n",
    "        except:\n",
    "            try:\n",
    "        #first average over last two entries per player\n",
    "        #then average over players\n",
    "                ls_ave_r = []\n",
    "                ls_ave_d = []\n",
    "                for j in range(5):\n",
    "                    ls_ave_r.append(json_feats_test_t[i][ls_xp_names_r[j]][-2])\n",
    "                    ls_ave_r.append(json_feats_test_t[i][ls_xp_names_r[j]][-1])\n",
    "                    ls_ave_d.append(json_feats_test_t[i][ls_xp_names_d[j]][-2])\n",
    "                    ls_ave_d.append(json_feats_test_t[i][ls_xp_names_d[j]][-1])\n",
    "\n",
    "                ave2_r = sum(ls_ave_r)/len(ls_ave_r)\n",
    "                ave2_d = sum(ls_ave_d)/len(ls_ave_d)\n",
    "                test_X_time.loc[json_feats_test_t[i]['match_id_hash'],'r_xp_last4'] = ave2_r\n",
    "                test_X_time.loc[json_feats_test_t[i]['match_id_hash'],'d_xp_last4'] = ave2_d\n",
    "            except:\n",
    "                try:\n",
    "                    ls_ave_r = []\n",
    "                    ls_ave_d = []\n",
    "                    for j in range(5):\n",
    "                        ls_ave_r.append(json_feats_test_t[i][ls_xp_names_r[j]][-1:])\n",
    "                        ls_ave_d.append(json_feats_test_t[i][ls_xp_names_d[j]][-1:])\n",
    "                    ave2_r = sum(ls_ave_r)/len(ls_ave_r)\n",
    "                    ave2_d = sum(ls_ave_d)/len(ls_ave_d)\n",
    "                    test_X_time.loc[json_feats_test_t[i]['match_id_hash'],'r_xp_last4'] = ave2_r\n",
    "                    test_X_time.loc[json_feats_test_t[i]['match_id_hash'],'d_xp_last4'] = ave2_d\n",
    "                except:\n",
    "                    test_X_time.loc[json_feats_test_t[i]['match_id_hash'],'r_xp_last4'] = 0\n",
    "                    test_X_time.loc[json_feats_test_t[i]['match_id_hash'],'d_xp_last4'] = 0\n",
    "\n",
    "\n",
    "test_X_time['r_dn_last4'] = np.nan\n",
    "test_X_time['d_dn_last4'] = np.nan\n",
    "test_X_time['r_dn_last4'] = np.nan\n",
    "test_X_time['d_dn_last4'] = np.nan\n",
    "ls_dn_names_r = ['r{}_dn'.format(i) for i in range(1,6)]\n",
    "ls_dn_names_d = ['d{}_dn'.format(i) for i in range(1,6)]\n",
    "\n",
    "for i in range(len(json_feats_test_t)):\n",
    "#for i in range(2):\n",
    "    try:\n",
    "        ls_ave_r = []\n",
    "        ls_ave_d = []\n",
    "        for j in range(5):\n",
    "            ls_ave_r.append(json_feats_test_t[i][ls_dn_names_r[j]][-4])\n",
    "            ls_ave_r.append(json_feats_test_t[i][ls_dn_names_r[j]][-3])\n",
    "            ls_ave_r.append(json_feats_test_t[i][ls_dn_names_r[j]][-2])\n",
    "            ls_ave_r.append(json_feats_test_t[i][ls_dn_names_r[j]][-1])\n",
    "            ls_ave_d.append(json_feats_test_t[i][ls_dn_names_d[j]][-4])\n",
    "            ls_ave_d.append(json_feats_test_t[i][ls_dn_names_d[j]][-3])\n",
    "            ls_ave_d.append(json_feats_test_t[i][ls_dn_names_d[j]][-2])\n",
    "            ls_ave_d.append(json_feats_test_t[i][ls_dn_names_d[j]][-1])\n",
    "\n",
    "            ave2_r = sum(ls_ave_r)/len(ls_ave_r)\n",
    "            ave2_d = sum(ls_ave_d)/len(ls_ave_d)\n",
    "            test_X_time.loc[json_feats_t_test[i]['match_id_hash'],'r_dn_last4'] = ave2_r\n",
    "            test_X_time.loc[json_feats_t_test[i]['match_id_hash'],'d_dn_last4'] = ave2_d\n",
    "\n",
    "        \n",
    "    except:\n",
    "        try:\n",
    "            ls_ave_r = []\n",
    "            ls_ave_d = []\n",
    "            for j in range(5):\n",
    "                ls_ave_r.append(json_feats_test_t[i][ls_dn_names_r[j]][-3])\n",
    "                ls_ave_r.append(json_feats_test_t[i][ls_dn_names_r[j]][-2])\n",
    "                ls_ave_r.append(json_feats_test_t[i][ls_dn_names_r[j]][-1])\n",
    "                ls_ave_d.append(json_feats_test_t[i][ls_dn_names_d[j]][-3])\n",
    "                ls_ave_d.append(json_feats_test_t[i][ls_dn_names_d[j]][-2])\n",
    "                ls_ave_d.append(json_feats_test_t[i][ls_dn_names_d[j]][-1])\n",
    "\n",
    "                ave2_r = sum(ls_ave_r)/len(ls_ave_r)\n",
    "                ave2_d = sum(ls_ave_d)/len(ls_ave_d)\n",
    "                test_X_time.loc[json_feats_test_t[i]['match_id_hash'],'r_dn_last4'] = ave2_r\n",
    "                test_X_time.loc[json_feats_test_t[i]['match_id_hash'],'d_dn_last4'] = ave2_d\n",
    "\n",
    "        except:\n",
    "            try:\n",
    "        #first average over last two entries per player\n",
    "        #then average over players\n",
    "                ls_ave_r = []\n",
    "                ls_ave_d = []\n",
    "                for j in range(5):\n",
    "                    ls_ave_r.append(json_feats_test_t[i][ls_dn_names_r[j]][-2])\n",
    "                    ls_ave_r.append(json_feats_test_t[i][ls_dn_names_r[j]][-1])\n",
    "                    ls_ave_d.append(json_feats_test_t[i][ls_dn_names_d[j]][-2])\n",
    "                    ls_ave_d.append(json_feats_test_t[i][ls_dn_names_d[j]][-1])\n",
    "\n",
    "                ave2_r = sum(ls_ave_r)/len(ls_ave_r)\n",
    "                ave2_d = sum(ls_ave_d)/len(ls_ave_d)\n",
    "                test_X_time.loc[json_feats_test_t[i]['match_id_hash'],'r_dn_last4'] = ave2_r\n",
    "                test_X_time.loc[json_feats_test_t[i]['match_id_hash'],'d_dn_last4'] = ave2_d\n",
    "            except:\n",
    "                try:\n",
    "                    ls_ave_r = []\n",
    "                    ls_ave_d = []\n",
    "                    for j in range(5):\n",
    "                        ls_ave_r.append(json_feats_test_t[i][ls_dn_names_r[j]][-1:])\n",
    "                        ls_ave_d.append(json_feats_test_t[i][ls_dn_names_d[j]][-1:])\n",
    "                    ave2_r = sum(ls_ave_r)/len(ls_ave_r)\n",
    "                    ave2_d = sum(ls_ave_d)/len(ls_ave_d)\n",
    "                    test_X_time.loc[json_feats_test_t[i]['match_id_hash'],'r_dn_last4'] = ave2_r\n",
    "                    test_X_time.loc[json_feats_test_t[i]['match_id_hash'],'d_dn_last4'] = ave2_d\n",
    "                except:\n",
    "                    test_X_time.loc[json_feats_test_t[i]['match_id_hash'],'r_dn_last4'] = 0\n",
    "                    test_X_time.loc[json_feats_test_t[i]['match_id_hash'],'d_dn_last4'] = 0\n",
    "\n",
    "                    \n",
    "test_X_time['r_gold_last4'] = np.nan\n",
    "test_X_time['d_gold_last4'] = np.nan\n",
    "test_X_time['r_gold_last4'] = np.nan\n",
    "test_X_time['d_gold_last4'] = np.nan\n",
    "ls_gold_names_r = ['r{}_gold'.format(i) for i in range(1,6)]\n",
    "ls_gold_names_d = ['d{}_gold'.format(i) for i in range(1,6)]\n",
    "\n",
    "for i in range(len(json_feats_test_t)):\n",
    "#for i in range(2):\n",
    "    try:\n",
    "        ls_ave_r = []\n",
    "        ls_ave_d = []\n",
    "        for j in range(5):\n",
    "            ls_ave_r.append(json_feats_test_t[i][ls_gold_names_r[j]][-4])\n",
    "            ls_ave_r.append(json_feats_test_t[i][ls_gold_names_r[j]][-3])\n",
    "            ls_ave_r.append(json_feats_test_t[i][ls_gold_names_r[j]][-2])\n",
    "            ls_ave_r.append(json_feats_test_t[i][ls_gold_names_r[j]][-1])\n",
    "            ls_ave_d.append(json_feats_test_t[i][ls_gold_names_d[j]][-4])\n",
    "            ls_ave_d.append(json_feats_test_t[i][ls_gold_names_d[j]][-3])\n",
    "            ls_ave_d.append(json_feats_test_t[i][ls_gold_names_d[j]][-2])\n",
    "            ls_ave_d.append(json_feats_test_t[i][ls_gold_names_d[j]][-1])\n",
    "\n",
    "            ave2_r = sum(ls_ave_r)/len(ls_ave_r)\n",
    "            ave2_d = sum(ls_ave_d)/len(ls_ave_d)\n",
    "            test_X_time.loc[json_feats_test_t[i]['match_id_hash'],'r_gold_last4'] = ave2_r\n",
    "            test_X_time.loc[json_feats_test_t[i]['match_id_hash'],'d_gold_last4'] = ave2_d\n",
    "\n",
    "        \n",
    "    except:\n",
    "        try:\n",
    "            ls_ave_r = []\n",
    "            ls_ave_d = []\n",
    "            for j in range(5):\n",
    "                ls_ave_r.append(json_feats_test_t[i][ls_gold_names_r[j]][-3])\n",
    "                ls_ave_r.append(json_feats_test_t[i][ls_gold_names_r[j]][-2])\n",
    "                ls_ave_r.append(json_feats_test_t[i][ls_gold_names_r[j]][-1])\n",
    "                ls_ave_d.append(json_feats_test_t[i][ls_gold_names_d[j]][-3])\n",
    "                ls_ave_d.append(json_feats_test_t[i][ls_gold_names_d[j]][-2])\n",
    "                ls_ave_d.append(json_feats_test_t[i][ls_gold_names_d[j]][-1])\n",
    "\n",
    "                ave2_r = sum(ls_ave_r)/len(ls_ave_r)\n",
    "                ave2_d = sum(ls_ave_d)/len(ls_ave_d)\n",
    "                test_X_time.loc[json_feats_test_t[i]['match_id_hash'],'r_gold_last4'] = ave2_r\n",
    "                test_X_time.loc[json_feats_test_t[i]['match_id_hash'],'d_gold_last4'] = ave2_d\n",
    "\n",
    "        except:\n",
    "            try:\n",
    "        #first average over last two entries per player\n",
    "        #then average over players\n",
    "                ls_ave_r = []\n",
    "                ls_ave_d = []\n",
    "                for j in range(5):\n",
    "                    ls_ave_r.append(json_feats_test_t[i][ls_gold_names_r[j]][-2])\n",
    "                    ls_ave_r.append(json_feats_test_t[i][ls_gold_names_r[j]][-1])\n",
    "                    ls_ave_d.append(json_feats_test_t[i][ls_gold_names_d[j]][-2])\n",
    "                    ls_ave_d.append(json_feats_test_t[i][ls_gold_names_d[j]][-1])\n",
    "\n",
    "                ave2_r = sum(ls_ave_r)/len(ls_ave_r)\n",
    "                ave2_d = sum(ls_ave_d)/len(ls_ave_d)\n",
    "                test_X_time.loc[json_feats_test_t[i]['match_id_hash'],'r_gold_last4'] = ave2_r\n",
    "                test_X_time.loc[json_feats_test_t[i]['match_id_hash'],'d_gold_last4'] = ave2_d\n",
    "            except:\n",
    "                try:\n",
    "                    ls_ave_r = []\n",
    "                    ls_ave_d = []\n",
    "                    for j in range(5):\n",
    "                        ls_ave_r.append(json_feats_test_t[i][ls_gold_names_r[j]][-1:])\n",
    "                        ls_ave_d.append(json_feats_test_t[i][ls_gold_names_d[j]][-1:])\n",
    "                    ave2_r = sum(ls_ave_r)/len(ls_ave_r)\n",
    "                    ave2_d = sum(ls_ave_d)/len(ls_ave_d)\n",
    "                    test_X_time.loc[json_feats_test_t[i]['match_id_hash'],'r_gold_last4'] = ave2_r\n",
    "                    test_X_time.loc[json_feats_test_t[i]['match_id_hash'],'d_gold_last4'] = ave2_d\n",
    "                except:\n",
    "                    test_X_time.loc[json_feats_test_t[i]['match_id_hash'],'r_gold_last4'] = 0\n",
    "                    test_X_time.loc[json_feats_test_t[i]['match_id_hash'],'d_gold_last4'] = 0\n",
    "                    \n",
    "                    \n",
    "test_X_time['r_lh_last4'] = np.nan\n",
    "test_X_time['d_lh_last4'] = np.nan\n",
    "test_X_time['r_lh_last4'] = np.nan\n",
    "test_X_time['d_lh_last4'] = np.nan\n",
    "ls_lh_names_r = ['r{}_lh'.format(i) for i in range(1,6)]\n",
    "ls_lh_names_d = ['d{}_lh'.format(i) for i in range(1,6)]\n",
    "\n",
    "for i in range(len(json_feats_test_t)):\n",
    "#for i in range(2):\n",
    "    try:\n",
    "        ls_ave_r = []\n",
    "        ls_ave_d = []\n",
    "        for j in range(5):\n",
    "            ls_ave_r.append(json_feats_test_t[i][ls_lh_names_r[j]][-4])\n",
    "            ls_ave_r.append(json_feats_test_t[i][ls_lh_names_r[j]][-3])\n",
    "            ls_ave_r.append(json_feats_test_t[i][ls_lh_names_r[j]][-2])\n",
    "            ls_ave_r.append(json_feats_test_t[i][ls_lh_names_r[j]][-1])\n",
    "            ls_ave_d.append(json_feats_test_t[i][ls_lh_names_d[j]][-4])\n",
    "            ls_ave_d.append(json_feats_test_t[i][ls_lh_names_d[j]][-3])\n",
    "            ls_ave_d.append(json_feats_test_t[i][ls_lh_names_d[j]][-2])\n",
    "            ls_ave_d.append(json_feats_test_t[i][ls_lh_names_d[j]][-1])\n",
    "\n",
    "            ave2_r = sum(ls_ave_r)/len(ls_ave_r)\n",
    "            ave2_d = sum(ls_ave_d)/len(ls_ave_d)\n",
    "            test_X_time.loc[json_feats_test_t[i]['match_id_hash'],'r_lh_last4'] = ave2_r\n",
    "            test_X_time.loc[json_feats_test_t[i]['match_id_hash'],'d_lh_last4'] = ave2_d\n",
    "\n",
    "        \n",
    "    except:\n",
    "        try:\n",
    "            ls_ave_r = []\n",
    "            ls_ave_d = []\n",
    "            for j in range(5):\n",
    "                ls_ave_r.append(json_feats_test_t[i][ls_lh_names_r[j]][-3])\n",
    "                ls_ave_r.append(json_feats_test_t[i][ls_lh_names_r[j]][-2])\n",
    "                ls_ave_r.append(json_feats_test_t[i][ls_lh_names_r[j]][-1])\n",
    "                ls_ave_d.append(json_feats_test_t[i][ls_lh_names_d[j]][-3])\n",
    "                ls_ave_d.append(json_feats_test_t[i][ls_lh_names_d[j]][-2])\n",
    "                ls_ave_d.append(json_feats_test_t[i][ls_lh_names_d[j]][-1])\n",
    "\n",
    "                ave2_r = sum(ls_ave_r)/len(ls_ave_r)\n",
    "                ave2_d = sum(ls_ave_d)/len(ls_ave_d)\n",
    "                test_X_time.loc[json_feats_test_t[i]['match_id_hash'],'r_lh_last4'] = ave2_r\n",
    "                test_X_time.loc[json_feats_test_t[i]['match_id_hash'],'d_lh_last4'] = ave2_d\n",
    "\n",
    "        except:\n",
    "            try:\n",
    "        #first average over last two entries per player\n",
    "        #then average over players\n",
    "                ls_ave_r = []\n",
    "                ls_ave_d = []\n",
    "                for j in range(5):\n",
    "                    ls_ave_r.append(json_feats_test_t[i][ls_lh_names_r[j]][-2])\n",
    "                    ls_ave_r.append(json_feats_test_t[i][ls_lh_names_r[j]][-1])\n",
    "                    ls_ave_d.append(json_feats_test_t[i][ls_lh_names_d[j]][-2])\n",
    "                    ls_ave_d.append(json_feats_test_t[i][ls_lh_names_d[j]][-1])\n",
    "\n",
    "                ave2_r = sum(ls_ave_r)/len(ls_ave_r)\n",
    "                ave2_d = sum(ls_ave_d)/len(ls_ave_d)\n",
    "                test_X_time.loc[json_feats_test_t[i]['match_id_hash'],'r_lh_last4'] = ave2_r\n",
    "                test_X_time.loc[json_feats_test_t[i]['match_id_hash'],'d_lh_last4'] = ave2_d\n",
    "            except:\n",
    "                try:\n",
    "                    ls_ave_r = []\n",
    "                    ls_ave_d = []\n",
    "                    for j in range(5):\n",
    "                        ls_ave_r.append(json_feats_test_t[i][ls_lh_names_r[j]][-1:])\n",
    "                        ls_ave_d.append(json_feats_test_t[i][ls_lh_names_d[j]][-1:])\n",
    "                    ave2_r = sum(ls_ave_r)/len(ls_ave_r)\n",
    "                    ave2_d = sum(ls_ave_d)/len(ls_ave_d)\n",
    "                    test_X_time.loc[json_feats_test_t[i]['match_id_hash'],'r_lh_last4'] = ave2_r\n",
    "                    test_X_time.loc[json_feats_test_t[i]['match_id_hash'],'d_lh_last4'] = ave2_d\n",
    "                except:\n",
    "                    test_X_time.loc[json_feats_test_t[i]['match_id_hash'],'r_lh_last4'] = 0\n",
    "                    test_X_time.loc[json_feats_test_t[i]['match_id_hash'],'d_lh_last4'] = 0"
   ]
  },
  {
   "cell_type": "code",
   "execution_count": 238,
   "metadata": {},
   "outputs": [],
   "source": [
    "#xp 2 and 3\n",
    "test_X_time['r_xp_last2'] = np.nan\n",
    "test_X_time['d_xp_last2'] = np.nan\n",
    "test_X_time['r_xp_last2'] = np.nan\n",
    "test_X_time['d_xp_last2'] = np.nan\n",
    "ls_xp_names_r = ['r{}_xp'.format(i) for i in range(1,6)]\n",
    "ls_xp_names_d = ['d{}_xp'.format(i) for i in range(1,6)]\n",
    "\n",
    "for i in range(len(json_feats_test_t)):\n",
    "#for i in range(2):\n",
    "    try:\n",
    "#first average over last two entries per player\n",
    "#then average over players\n",
    "        ls_ave_r = []\n",
    "        ls_ave_d = []\n",
    "        for j in range(5):\n",
    "            ls_ave_r.append(json_feats_test_t[i][ls_xp_names_r[j]][-2])\n",
    "            ls_ave_r.append(json_feats_test_t[i][ls_xp_names_r[j]][-1])\n",
    "            ls_ave_d.append(json_feats_test_t[i][ls_xp_names_d[j]][-2])\n",
    "            ls_ave_d.append(json_feats_test_t[i][ls_xp_names_d[j]][-1])\n",
    "\n",
    "        ave2_r = sum(ls_ave_r)/len(ls_ave_r)\n",
    "        ave2_d = sum(ls_ave_d)/len(ls_ave_d)\n",
    "        test_X_time.loc[json_feats_test_t[i]['match_id_hash'],'r_xp_last2'] = ave2_r\n",
    "        test_X_time.loc[json_feats_test_t[i]['match_id_hash'],'d_xp_last2'] = ave2_d\n",
    "    except:\n",
    "        try:\n",
    "            ls_ave_r = []\n",
    "            ls_ave_d = []\n",
    "            for j in range(5):\n",
    "                ls_ave_r.append(json_feats_test_t[i][ls_xp_names_r[j]][-1:])\n",
    "                ls_ave_d.append(json_feats_test_t[i][ls_xp_names_d[j]][-1:])\n",
    "            ave2_r = sum(ls_ave_r)/len(ls_ave_r)\n",
    "            ave2_d = sum(ls_ave_d)/len(ls_ave_d)\n",
    "            test_X_time.loc[json_feats_test_t[i]['match_id_hash'],'r_xp_last2'] = ave2_r\n",
    "            test_X_time.loc[json_feats_test_t[i]['match_id_hash'],'d_xp_last2'] = ave2_d\n",
    "        except:\n",
    "            test_X_time.loc[json_feats_test_t[i]['match_id_hash'],'r_xp_last2'] = 0\n",
    "            test_X_time.loc[json_feats_test_t[i]['match_id_hash'],'d_xp_last2'] = 0\n",
    "            \n",
    "            \n",
    "test_X_time['r_xp_last3'] = np.nan\n",
    "test_X_time['d_xp_last3'] = np.nan\n",
    "test_X_time['r_xp_last3'] = np.nan\n",
    "test_X_time['d_xp_last3'] = np.nan\n",
    "ls_xp_names_r = ['r{}_xp'.format(i) for i in range(1,6)]\n",
    "ls_xp_names_d = ['d{}_xp'.format(i) for i in range(1,6)]\n",
    "\n",
    "for i in range(len(json_feats_test_t)):\n",
    "#for i in range(2):\n",
    "    try:\n",
    "        ls_ave_r = []\n",
    "        ls_ave_d = []\n",
    "        for j in range(5):\n",
    "            ls_ave_r.append(json_feats_test_t[i][ls_xp_names_r[j]][-3])\n",
    "            ls_ave_r.append(json_feats_test_t[i][ls_xp_names_r[j]][-2])\n",
    "            ls_ave_r.append(json_feats_test_t[i][ls_xp_names_r[j]][-1])\n",
    "            ls_ave_d.append(json_feats_test_t[i][ls_xp_names_d[j]][-3])\n",
    "            ls_ave_d.append(json_feats_test_t[i][ls_xp_names_d[j]][-2])\n",
    "            ls_ave_d.append(json_feats_test_t[i][ls_xp_names_d[j]][-1])\n",
    "\n",
    "            ave2_r = sum(ls_ave_r)/len(ls_ave_r)\n",
    "            ave2_d = sum(ls_ave_d)/len(ls_ave_d)\n",
    "            test_X_time.loc[json_feats_test_t[i]['match_id_hash'],'r_xp_last3'] = ave2_r\n",
    "            test_X_time.loc[json_feats_test_t[i]['match_id_hash'],'d_xp_last3'] = ave2_d\n",
    "        \n",
    "    except:\n",
    "        try:\n",
    "    #first average over last two entries per player\n",
    "    #then average over players\n",
    "            ls_ave_r = []\n",
    "            ls_ave_d = []\n",
    "            for j in range(5):\n",
    "                ls_ave_r.append(json_feats_test_t[i][ls_xp_names_r[j]][-2])\n",
    "                ls_ave_r.append(json_feats_test_t[i][ls_xp_names_r[j]][-1])\n",
    "                ls_ave_d.append(json_feats_test_t[i][ls_xp_names_d[j]][-2])\n",
    "                ls_ave_d.append(json_feats_test_t[i][ls_xp_names_d[j]][-1])\n",
    "\n",
    "            ave2_r = sum(ls_ave_r)/len(ls_ave_r)\n",
    "            ave2_d = sum(ls_ave_d)/len(ls_ave_d)\n",
    "            test_X_time.loc[json_feats_test_t[i]['match_id_hash'],'r_xp_last3'] = ave2_r\n",
    "            test_X_time.loc[json_feats_test_t[i]['match_id_hash'],'d_xp_last3'] = ave2_d\n",
    "        except:\n",
    "            try:\n",
    "                ls_ave_r = []\n",
    "                ls_ave_d = []\n",
    "                for j in range(5):\n",
    "                    ls_ave_r.append(json_feats_test_t[i][ls_xp_names_r[j]][-1:])\n",
    "                    ls_ave_d.append(json_feats_test_t[i][ls_xp_names_d[j]][-1:])\n",
    "                ave2_r = sum(ls_ave_r)/len(ls_ave_r)\n",
    "                ave2_d = sum(ls_ave_d)/len(ls_ave_d)\n",
    "                test_X_time.loc[json_feats_test_t[i]['match_id_hash'],'r_xp_last3'] = ave2_r\n",
    "                test_X_time.loc[json_feats_test_t[i]['match_id_hash'],'d_xp_last3'] = ave2_d\n",
    "            except:\n",
    "                test_X_time.loc[json_feats_test_t[i]['match_id_hash'],'r_xp_last3'] = 0\n",
    "                test_X_time.loc[json_feats_test_t[i]['match_id_hash'],'d_xp_last3'] = 0"
   ]
  },
  {
   "cell_type": "code",
   "execution_count": 237,
   "metadata": {},
   "outputs": [],
   "source": [
    "#gold 2 and 3\n",
    "test_X_time['r_gold_last2'] = np.nan\n",
    "test_X_time['d_gold_last2'] = np.nan\n",
    "test_X_time['r_gold_last2'] = np.nan\n",
    "test_X_time['d_gold_last2'] = np.nan\n",
    "ls_gold_names_r = ['r{}_gold'.format(i) for i in range(1,6)]\n",
    "ls_gold_names_d = ['d{}_gold'.format(i) for i in range(1,6)]\n",
    "\n",
    "for i in range(len(json_feats_test_t)):\n",
    "#for i in range(2):\n",
    "    try:\n",
    "#first average over last two entries per player\n",
    "#then average over players\n",
    "        ls_ave_r = []\n",
    "        ls_ave_d = []\n",
    "        for j in range(5):\n",
    "            ls_ave_r.append(json_feats_test_t[i][ls_gold_names_r[j]][-2])\n",
    "            ls_ave_r.append(json_feats_test_t[i][ls_gold_names_r[j]][-1])\n",
    "            ls_ave_d.append(json_feats_test_t[i][ls_gold_names_d[j]][-2])\n",
    "            ls_ave_d.append(json_feats_test_t[i][ls_gold_names_d[j]][-1])\n",
    "\n",
    "        ave2_r = sum(ls_ave_r)/len(ls_ave_r)\n",
    "        ave2_d = sum(ls_ave_d)/len(ls_ave_d)\n",
    "        test_X_time.loc[json_feats_test_t[i]['match_id_hash'],'r_gold_last2'] = ave2_r\n",
    "        test_X_time.loc[json_feats_test_t[i]['match_id_hash'],'d_gold_last2'] = ave2_d\n",
    "    except:\n",
    "        try:\n",
    "            ls_ave_r = []\n",
    "            ls_ave_d = []\n",
    "            for j in range(5):\n",
    "                ls_ave_r.append(json_feats_test_t[i][ls_gold_names_r[j]][-1:])\n",
    "                ls_ave_d.append(json_feats_test_t[i][ls_gold_names_d[j]][-1:])\n",
    "            ave2_r = sum(ls_ave_r)/len(ls_ave_r)\n",
    "            ave2_d = sum(ls_ave_d)/len(ls_ave_d)\n",
    "            test_X_time.loc[json_feats_test_t[i]['match_id_hash'],'r_gold_last2'] = ave2_r\n",
    "            test_X_time.loc[json_feats_test_t[i]['match_id_hash'],'d_gold_last2'] = ave2_d\n",
    "        except:\n",
    "            test_X_time.loc[json_feats_test_t[i]['match_id_hash'],'r_gold_last2'] = 0\n",
    "            test_X_time.loc[json_feats_test_t[i]['match_id_hash'],'d_gold_last2'] = 0\n",
    "            \n",
    "            \n",
    "test_X_time['r_gold_last3'] = np.nan\n",
    "test_X_time['d_gold_last3'] = np.nan\n",
    "test_X_time['r_gold_last3'] = np.nan\n",
    "test_X_time['d_gold_last3'] = np.nan\n",
    "ls_gold_names_r = ['r{}_gold'.format(i) for i in range(1,6)]\n",
    "ls_gold_names_d = ['d{}_gold'.format(i) for i in range(1,6)]\n",
    "\n",
    "for i in range(len(json_feats_test_t)):\n",
    "#for i in range(2):\n",
    "    try:\n",
    "        ls_ave_r = []\n",
    "        ls_ave_d = []\n",
    "        for j in range(5):\n",
    "            ls_ave_r.append(json_feats_test_t[i][ls_gold_names_r[j]][-3])\n",
    "            ls_ave_r.append(json_feats_test_t[i][ls_gold_names_r[j]][-2])\n",
    "            ls_ave_r.append(json_feats_test_t[i][ls_gold_names_r[j]][-1])\n",
    "            ls_ave_d.append(json_feats_test_t[i][ls_gold_names_d[j]][-3])\n",
    "            ls_ave_d.append(json_feats_test_t[i][ls_gold_names_d[j]][-2])\n",
    "            ls_ave_d.append(json_feats_test_t[i][ls_gold_names_d[j]][-1])\n",
    "\n",
    "            ave2_r = sum(ls_ave_r)/len(ls_ave_r)\n",
    "            ave2_d = sum(ls_ave_d)/len(ls_ave_d)\n",
    "            test_X_time.loc[json_feats_test_t[i]['match_id_hash'],'r_gold_last3'] = ave2_r\n",
    "            test_X_time.loc[json_feats_test_t[i]['match_id_hash'],'d_gold_last3'] = ave2_d\n",
    "        \n",
    "    except:\n",
    "        try:\n",
    "    #first average over last two entries per player\n",
    "    #then average over players\n",
    "            ls_ave_r = []\n",
    "            ls_ave_d = []\n",
    "            for j in range(5):\n",
    "                ls_ave_r.append(json_feats_test_t[i][ls_gold_names_r[j]][-2])\n",
    "                ls_ave_r.append(json_feats_test_t[i][ls_gold_names_r[j]][-1])\n",
    "                ls_ave_d.append(json_feats_test_t[i][ls_gold_names_d[j]][-2])\n",
    "                ls_ave_d.append(json_feats_test_t[i][ls_gold_names_d[j]][-1])\n",
    "\n",
    "            ave2_r = sum(ls_ave_r)/len(ls_ave_r)\n",
    "            ave2_d = sum(ls_ave_d)/len(ls_ave_d)\n",
    "            test_X_time.loc[json_feats_test_t[i]['match_id_hash'],'r_gold_last3'] = ave2_r\n",
    "            test_X_time.loc[json_feats_test_t[i]['match_id_hash'],'d_gold_last3'] = ave2_d\n",
    "        except:\n",
    "            try:\n",
    "                ls_ave_r = []\n",
    "                ls_ave_d = []\n",
    "                for j in range(5):\n",
    "                    ls_ave_r.append(json_feats_test_t[i][ls_gold_names_r[j]][-1:])\n",
    "                    ls_ave_d.append(json_feats_test_t[i][ls_gold_names_d[j]][-1:])\n",
    "                ave2_r = sum(ls_ave_r)/len(ls_ave_r)\n",
    "                ave2_d = sum(ls_ave_d)/len(ls_ave_d)\n",
    "                test_X_time.loc[json_feats_test_t[i]['match_id_hash'],'r_gold_last3'] = ave2_r\n",
    "                test_X_time.loc[json_feats_test_t[i]['match_id_hash'],'d_gold_last3'] = ave2_d\n",
    "            except:\n",
    "                test_X_time.loc[json_feats_test_t[i]['match_id_hash'],'r_gold_last3'] = 0\n",
    "                test_X_time.loc[json_feats_test_t[i]['match_id_hash'],'d_gold_last3'] = 0\n",
    "                \n",
    "#lh 2 and 3\n",
    "test_X_time['r_lh_last2'] = np.nan\n",
    "test_X_time['d_lh_last2'] = np.nan\n",
    "test_X_time['r_lh_last2'] = np.nan\n",
    "test_X_time['d_lh_last2'] = np.nan\n",
    "ls_lh_names_r = ['r{}_lh'.format(i) for i in range(1,6)]\n",
    "ls_lh_names_d = ['d{}_lh'.format(i) for i in range(1,6)]\n",
    "\n",
    "for i in range(len(json_feats_test_t)):\n",
    "#for i in range(2):\n",
    "    try:\n",
    "#first average over last two entries per player\n",
    "#then average over players\n",
    "        ls_ave_r = []\n",
    "        ls_ave_d = []\n",
    "        for j in range(5):\n",
    "            ls_ave_r.append(json_feats_test_t[i][ls_lh_names_r[j]][-2])\n",
    "            ls_ave_r.append(json_feats_test_t[i][ls_lh_names_r[j]][-1])\n",
    "            ls_ave_d.append(json_feats_test_t[i][ls_lh_names_d[j]][-2])\n",
    "            ls_ave_d.append(json_feats_test_t[i][ls_lh_names_d[j]][-1])\n",
    "\n",
    "        ave2_r = sum(ls_ave_r)/len(ls_ave_r)\n",
    "        ave2_d = sum(ls_ave_d)/len(ls_ave_d)\n",
    "        test_X_time.loc[json_feats_test_t[i]['match_id_hash'],'r_lh_last2'] = ave2_r\n",
    "        test_X_time.loc[json_feats_test_t[i]['match_id_hash'],'d_lh_last2'] = ave2_d\n",
    "    except:\n",
    "        try:\n",
    "            ls_ave_r = []\n",
    "            ls_ave_d = []\n",
    "            for j in range(5):\n",
    "                ls_ave_r.append(json_feats_test_t[i][ls_lh_names_r[j]][-1:])\n",
    "                ls_ave_d.append(json_feats_test_t[i][ls_lh_names_d[j]][-1:])\n",
    "            ave2_r = sum(ls_ave_r)/len(ls_ave_r)\n",
    "            ave2_d = sum(ls_ave_d)/len(ls_ave_d)\n",
    "            test_X_time.loc[json_feats_test_t[i]['match_id_hash'],'r_lh_last2'] = ave2_r\n",
    "            test_X_time.loc[json_feats_test_t[i]['match_id_hash'],'d_lh_last2'] = ave2_d\n",
    "        except:\n",
    "            test_X_time.loc[json_feats_test_t[i]['match_id_hash'],'r_lh_last2'] = 0\n",
    "            test_X_time.loc[json_feats_test_t[i]['match_id_hash'],'d_lh_last2'] = 0\n",
    "            \n",
    "            \n",
    "test_X_time['r_lh_last3'] = np.nan\n",
    "test_X_time['d_lh_last3'] = np.nan\n",
    "test_X_time['r_lh_last3'] = np.nan\n",
    "test_X_time['d_lh_last3'] = np.nan\n",
    "ls_lh_names_r = ['r{}_lh'.format(i) for i in range(1,6)]\n",
    "ls_lh_names_d = ['d{}_lh'.format(i) for i in range(1,6)]\n",
    "\n",
    "for i in range(len(json_feats_test_t)):\n",
    "#for i in range(2):\n",
    "    try:\n",
    "        ls_ave_r = []\n",
    "        ls_ave_d = []\n",
    "        for j in range(5):\n",
    "            ls_ave_r.append(json_feats_test_t[i][ls_lh_names_r[j]][-3])\n",
    "            ls_ave_r.append(json_feats_test_t[i][ls_lh_names_r[j]][-2])\n",
    "            ls_ave_r.append(json_feats_test_t[i][ls_lh_names_r[j]][-1])\n",
    "            ls_ave_d.append(json_feats_test_t[i][ls_lh_names_d[j]][-3])\n",
    "            ls_ave_d.append(json_feats_test_t[i][ls_lh_names_d[j]][-2])\n",
    "            ls_ave_d.append(json_feats_test_t[i][ls_lh_names_d[j]][-1])\n",
    "\n",
    "            ave2_r = sum(ls_ave_r)/len(ls_ave_r)\n",
    "            ave2_d = sum(ls_ave_d)/len(ls_ave_d)\n",
    "            test_X_time.loc[json_feats_test_t[i]['match_id_hash'],'r_lh_last3'] = ave2_r\n",
    "            test_X_time.loc[json_feats_test_t[i]['match_id_hash'],'d_lh_last3'] = ave2_d\n",
    "        \n",
    "    except:\n",
    "        try:\n",
    "    #first average over last two entries per player\n",
    "    #then average over players\n",
    "            ls_ave_r = []\n",
    "            ls_ave_d = []\n",
    "            for j in range(5):\n",
    "                ls_ave_r.append(json_feats_test_t[i][ls_lh_names_r[j]][-2])\n",
    "                ls_ave_r.append(json_feats_test_t[i][ls_lh_names_r[j]][-1])\n",
    "                ls_ave_d.append(json_feats_test_t[i][ls_lh_names_d[j]][-2])\n",
    "                ls_ave_d.append(json_feats_test_t[i][ls_lh_names_d[j]][-1])\n",
    "\n",
    "            ave2_r = sum(ls_ave_r)/len(ls_ave_r)\n",
    "            ave2_d = sum(ls_ave_d)/len(ls_ave_d)\n",
    "            test_X_time.loc[json_feats_test_t[i]['match_id_hash'],'r_lh_last3'] = ave2_r\n",
    "            test_X_time.loc[json_feats_test_t[i]['match_id_hash'],'d_lh_last3'] = ave2_d\n",
    "        except:\n",
    "            try:\n",
    "                ls_ave_r = []\n",
    "                ls_ave_d = []\n",
    "                for j in range(5):\n",
    "                    ls_ave_r.append(json_feats_test_t[i][ls_lh_names_r[j]][-1:])\n",
    "                    ls_ave_d.append(json_feats_test_t[i][ls_lh_names_d[j]][-1:])\n",
    "                ave2_r = sum(ls_ave_r)/len(ls_ave_r)\n",
    "                ave2_d = sum(ls_ave_d)/len(ls_ave_d)\n",
    "                test_X_time.loc[json_feats_test_t[i]['match_id_hash'],'r_lh_last3'] = ave2_r\n",
    "                test_X_time.loc[json_feats_test_t[i]['match_id_hash'],'d_lh_last3'] = ave2_d\n",
    "            except:\n",
    "                test_X_time.loc[json_feats_test_t[i]['match_id_hash'],'r_lh_last3'] = 0\n",
    "                test_X_time.loc[json_feats_test_t[i]['match_id_hash'],'d_lh_last3'] = 0\n",
    "                \n",
    "#dn 2 and 3\n",
    "test_X_time['r_dn_last2'] = np.nan\n",
    "test_X_time['d_dn_last2'] = np.nan\n",
    "test_X_time['r_dn_last2'] = np.nan\n",
    "test_X_time['d_dn_last2'] = np.nan\n",
    "ls_dn_names_r = ['r{}_dn'.format(i) for i in range(1,6)]\n",
    "ls_dn_names_d = ['d{}_dn'.format(i) for i in range(1,6)]\n",
    "\n",
    "for i in range(len(json_feats_test_t)):\n",
    "#for i in range(2):\n",
    "    try:\n",
    "#first average over last two entries per player\n",
    "#then average over players\n",
    "        ls_ave_r = []\n",
    "        ls_ave_d = []\n",
    "        for j in range(5):\n",
    "            ls_ave_r.append(json_feats_test_t[i][ls_dn_names_r[j]][-2])\n",
    "            ls_ave_r.append(json_feats_test_t[i][ls_dn_names_r[j]][-1])\n",
    "            ls_ave_d.append(json_feats_test_t[i][ls_dn_names_d[j]][-2])\n",
    "            ls_ave_d.append(json_feats_test_t[i][ls_dn_names_d[j]][-1])\n",
    "\n",
    "        ave2_r = sum(ls_ave_r)/len(ls_ave_r)\n",
    "        ave2_d = sum(ls_ave_d)/len(ls_ave_d)\n",
    "        test_X_time.loc[json_feats_test_t[i]['match_id_hash'],'r_dn_last2'] = ave2_r\n",
    "        test_X_time.loc[json_feats_test_t[i]['match_id_hash'],'d_dn_last2'] = ave2_d\n",
    "    except:\n",
    "        try:\n",
    "            ls_ave_r = []\n",
    "            ls_ave_d = []\n",
    "            for j in range(5):\n",
    "                ls_ave_r.append(json_feats_test_t[i][ls_dn_names_r[j]][-1:])\n",
    "                ls_ave_d.append(json_feats_test_t[i][ls_dn_names_d[j]][-1:])\n",
    "            ave2_r = sum(ls_ave_r)/len(ls_ave_r)\n",
    "            ave2_d = sum(ls_ave_d)/len(ls_ave_d)\n",
    "            test_X_time.loc[json_feats_test_t[i]['match_id_hash'],'r_dn_last2'] = ave2_r\n",
    "            test_X_time.loc[json_feats_test_t[i]['match_id_hash'],'d_dn_last2'] = ave2_d\n",
    "        except:\n",
    "            test_X_time.loc[json_feats_test_t[i]['match_id_hash'],'r_dn_last2'] = 0\n",
    "            test_X_time.loc[json_feats_test_t[i]['match_id_hash'],'d_dn_last2'] = 0\n",
    "            \n",
    "            \n",
    "test_X_time['r_dn_last3'] = np.nan\n",
    "test_X_time['d_dn_last3'] = np.nan\n",
    "test_X_time['r_dn_last3'] = np.nan\n",
    "test_X_time['d_dn_last3'] = np.nan\n",
    "ls_dn_names_r = ['r{}_dn'.format(i) for i in range(1,6)]\n",
    "ls_dn_names_d = ['d{}_dn'.format(i) for i in range(1,6)]\n",
    "\n",
    "for i in range(len(json_feats_test_t)):\n",
    "#for i in range(2):\n",
    "    try:\n",
    "        ls_ave_r = []\n",
    "        ls_ave_d = []\n",
    "        for j in range(5):\n",
    "            ls_ave_r.append(json_feats_test_t[i][ls_dn_names_r[j]][-3])\n",
    "            ls_ave_r.append(json_feats_test_t[i][ls_dn_names_r[j]][-2])\n",
    "            ls_ave_r.append(json_feats_test_t[i][ls_dn_names_r[j]][-1])\n",
    "            ls_ave_d.append(json_feats_test_t[i][ls_dn_names_d[j]][-3])\n",
    "            ls_ave_d.append(json_feats_test_t[i][ls_dn_names_d[j]][-2])\n",
    "            ls_ave_d.append(json_feats_test_t[i][ls_dn_names_d[j]][-1])\n",
    "\n",
    "            ave2_r = sum(ls_ave_r)/len(ls_ave_r)\n",
    "            ave2_d = sum(ls_ave_d)/len(ls_ave_d)\n",
    "            test_X_time.loc[json_feats_test_t[i]['match_id_hash'],'r_dn_last3'] = ave2_r\n",
    "            test_X_time.loc[json_feats_test_t[i]['match_id_hash'],'d_dn_last3'] = ave2_d\n",
    "        \n",
    "    except:\n",
    "        try:\n",
    "    #first average over last two entries per player\n",
    "    #then average over players\n",
    "            ls_ave_r = []\n",
    "            ls_ave_d = []\n",
    "            for j in range(5):\n",
    "                ls_ave_r.append(json_feats_test_t[i][ls_dn_names_r[j]][-2])\n",
    "                ls_ave_r.append(json_feats_test_t[i][ls_dn_names_r[j]][-1])\n",
    "                ls_ave_d.append(json_feats_test_t[i][ls_dn_names_d[j]][-2])\n",
    "                ls_ave_d.append(json_feats_test_t[i][ls_dn_names_d[j]][-1])\n",
    "\n",
    "            ave2_r = sum(ls_ave_r)/len(ls_ave_r)\n",
    "            ave2_d = sum(ls_ave_d)/len(ls_ave_d)\n",
    "            test_X_time.loc[json_feats_test_t[i]['match_id_hash'],'r_dn_last3'] = ave2_r\n",
    "            test_X_time.loc[json_feats_test_t[i]['match_id_hash'],'d_dn_last3'] = ave2_d\n",
    "        except:\n",
    "            try:\n",
    "                ls_ave_r = []\n",
    "                ls_ave_d = []\n",
    "                for j in range(5):\n",
    "                    ls_ave_r.append(json_feats_test_t[i][ls_dn_names_r[j]][-1:])\n",
    "                    ls_ave_d.append(json_feats_test_t[i][ls_dn_names_d[j]][-1:])\n",
    "                ave2_r = sum(ls_ave_r)/len(ls_ave_r)\n",
    "                ave2_d = sum(ls_ave_d)/len(ls_ave_d)\n",
    "                test_X_time.loc[json_feats_test_t[i]['match_id_hash'],'r_dn_last3'] = ave2_r\n",
    "                test_X_time.loc[json_feats_test_t[i]['match_id_hash'],'d_dn_last3'] = ave2_d\n",
    "            except:\n",
    "                test_X_time.loc[json_feats_test_t[i]['match_id_hash'],'r_dn_last3'] = 0\n",
    "                test_X_time.loc[json_feats_test_t[i]['match_id_hash'],'d_dn_last3'] = 0"
   ]
  },
  {
   "cell_type": "code",
   "execution_count": 240,
   "metadata": {},
   "outputs": [],
   "source": [
    "export_csv = test_X_time.to_csv('test_X_time.csv', index = 'match_id_hash', header=True)"
   ]
  },
  {
   "cell_type": "code",
   "execution_count": 241,
   "metadata": {},
   "outputs": [
    {
     "data": {
      "text/html": [
       "<div>\n",
       "<style scoped>\n",
       "    .dataframe tbody tr th:only-of-type {\n",
       "        vertical-align: middle;\n",
       "    }\n",
       "\n",
       "    .dataframe tbody tr th {\n",
       "        vertical-align: top;\n",
       "    }\n",
       "\n",
       "    .dataframe thead th {\n",
       "        text-align: right;\n",
       "    }\n",
       "</style>\n",
       "<table border=\"1\" class=\"dataframe\">\n",
       "  <thead>\n",
       "    <tr style=\"text-align: right;\">\n",
       "      <th></th>\n",
       "      <th>r_gold_last2</th>\n",
       "      <th>d_gold_last2</th>\n",
       "      <th>r_gold_last3</th>\n",
       "      <th>d_gold_last3</th>\n",
       "      <th>r_lh_last2</th>\n",
       "      <th>d_lh_last2</th>\n",
       "      <th>r_lh_last3</th>\n",
       "      <th>d_lh_last3</th>\n",
       "      <th>r_xp_last2</th>\n",
       "      <th>d_xp_last2</th>\n",
       "      <th>...</th>\n",
       "      <th>r_dn_last3</th>\n",
       "      <th>d_dn_last3</th>\n",
       "      <th>r_xp_last4</th>\n",
       "      <th>d_xp_last4</th>\n",
       "      <th>r_dn_last4</th>\n",
       "      <th>d_dn_last4</th>\n",
       "      <th>r_gold_last4</th>\n",
       "      <th>d_gold_last4</th>\n",
       "      <th>r_lh_last4</th>\n",
       "      <th>d_lh_last4</th>\n",
       "    </tr>\n",
       "    <tr>\n",
       "      <th>match_id_hash</th>\n",
       "      <th></th>\n",
       "      <th></th>\n",
       "      <th></th>\n",
       "      <th></th>\n",
       "      <th></th>\n",
       "      <th></th>\n",
       "      <th></th>\n",
       "      <th></th>\n",
       "      <th></th>\n",
       "      <th></th>\n",
       "      <th></th>\n",
       "      <th></th>\n",
       "      <th></th>\n",
       "      <th></th>\n",
       "      <th></th>\n",
       "      <th></th>\n",
       "      <th></th>\n",
       "      <th></th>\n",
       "      <th></th>\n",
       "      <th></th>\n",
       "      <th></th>\n",
       "    </tr>\n",
       "  </thead>\n",
       "  <tbody>\n",
       "    <tr>\n",
       "      <th>30cc2d778dca82f2edb568ce9b585caa</th>\n",
       "      <td>0.0</td>\n",
       "      <td>0.0</td>\n",
       "      <td>0.000000</td>\n",
       "      <td>0.000000</td>\n",
       "      <td>0.0</td>\n",
       "      <td>0.0</td>\n",
       "      <td>0.000000</td>\n",
       "      <td>0.000000</td>\n",
       "      <td>0.0</td>\n",
       "      <td>0.0</td>\n",
       "      <td>...</td>\n",
       "      <td>0.000000</td>\n",
       "      <td>0.000000</td>\n",
       "      <td>0.00</td>\n",
       "      <td>0.00</td>\n",
       "      <td>0.000000</td>\n",
       "      <td>0.000000</td>\n",
       "      <td>0.00</td>\n",
       "      <td>0.00</td>\n",
       "      <td>0.0</td>\n",
       "      <td>0.00</td>\n",
       "    </tr>\n",
       "    <tr>\n",
       "      <th>70e5ba30f367cea48793b9003fab9d38</th>\n",
       "      <td>7061.5</td>\n",
       "      <td>5173.0</td>\n",
       "      <td>6632.200000</td>\n",
       "      <td>5021.733333</td>\n",
       "      <td>57.2</td>\n",
       "      <td>45.1</td>\n",
       "      <td>55.666667</td>\n",
       "      <td>44.066667</td>\n",
       "      <td>6772.6</td>\n",
       "      <td>5437.5</td>\n",
       "      <td>...</td>\n",
       "      <td>4.800000</td>\n",
       "      <td>9.333333</td>\n",
       "      <td>6164.40</td>\n",
       "      <td>5013.80</td>\n",
       "      <td>4.800000</td>\n",
       "      <td>9.333333</td>\n",
       "      <td>6320.50</td>\n",
       "      <td>4815.50</td>\n",
       "      <td>53.8</td>\n",
       "      <td>42.95</td>\n",
       "    </tr>\n",
       "    <tr>\n",
       "      <th>4d9ef74d3a2025d79e9423105fd73d41</th>\n",
       "      <td>6789.3</td>\n",
       "      <td>4649.7</td>\n",
       "      <td>6542.066667</td>\n",
       "      <td>4517.533333</td>\n",
       "      <td>59.2</td>\n",
       "      <td>36.7</td>\n",
       "      <td>55.533333</td>\n",
       "      <td>34.733333</td>\n",
       "      <td>6417.4</td>\n",
       "      <td>4619.7</td>\n",
       "      <td>...</td>\n",
       "      <td>11.333333</td>\n",
       "      <td>7.800000</td>\n",
       "      <td>5921.75</td>\n",
       "      <td>4383.75</td>\n",
       "      <td>11.333333</td>\n",
       "      <td>7.800000</td>\n",
       "      <td>6263.80</td>\n",
       "      <td>4399.95</td>\n",
       "      <td>52.4</td>\n",
       "      <td>33.15</td>\n",
       "    </tr>\n",
       "    <tr>\n",
       "      <th>2bb79e0c1eaac1608e5a09c8e0c6a555</th>\n",
       "      <td>2299.0</td>\n",
       "      <td>1965.1</td>\n",
       "      <td>2175.866667</td>\n",
       "      <td>1858.866667</td>\n",
       "      <td>18.7</td>\n",
       "      <td>13.0</td>\n",
       "      <td>17.666667</td>\n",
       "      <td>12.400000</td>\n",
       "      <td>2372.7</td>\n",
       "      <td>2359.0</td>\n",
       "      <td>...</td>\n",
       "      <td>1.400000</td>\n",
       "      <td>1.066667</td>\n",
       "      <td>2130.10</td>\n",
       "      <td>2136.00</td>\n",
       "      <td>1.400000</td>\n",
       "      <td>1.066667</td>\n",
       "      <td>2040.05</td>\n",
       "      <td>1732.60</td>\n",
       "      <td>16.4</td>\n",
       "      <td>11.50</td>\n",
       "    </tr>\n",
       "    <tr>\n",
       "      <th>bec17f099b01d67edc82dfb5ce735a43</th>\n",
       "      <td>8019.1</td>\n",
       "      <td>8679.3</td>\n",
       "      <td>7807.733333</td>\n",
       "      <td>8419.600000</td>\n",
       "      <td>89.8</td>\n",
       "      <td>91.6</td>\n",
       "      <td>87.266667</td>\n",
       "      <td>88.666667</td>\n",
       "      <td>9615.6</td>\n",
       "      <td>10082.7</td>\n",
       "      <td>...</td>\n",
       "      <td>6.800000</td>\n",
       "      <td>9.000000</td>\n",
       "      <td>9170.85</td>\n",
       "      <td>9480.85</td>\n",
       "      <td>6.800000</td>\n",
       "      <td>9.000000</td>\n",
       "      <td>7637.25</td>\n",
       "      <td>8140.55</td>\n",
       "      <td>85.3</td>\n",
       "      <td>86.20</td>\n",
       "    </tr>\n",
       "  </tbody>\n",
       "</table>\n",
       "<p>5 rows × 24 columns</p>\n",
       "</div>"
      ],
      "text/plain": [
       "                                  r_gold_last2  d_gold_last2  r_gold_last3  \\\n",
       "match_id_hash                                                                \n",
       "30cc2d778dca82f2edb568ce9b585caa           0.0           0.0      0.000000   \n",
       "70e5ba30f367cea48793b9003fab9d38        7061.5        5173.0   6632.200000   \n",
       "4d9ef74d3a2025d79e9423105fd73d41        6789.3        4649.7   6542.066667   \n",
       "2bb79e0c1eaac1608e5a09c8e0c6a555        2299.0        1965.1   2175.866667   \n",
       "bec17f099b01d67edc82dfb5ce735a43        8019.1        8679.3   7807.733333   \n",
       "\n",
       "                                  d_gold_last3  r_lh_last2  d_lh_last2  \\\n",
       "match_id_hash                                                            \n",
       "30cc2d778dca82f2edb568ce9b585caa      0.000000         0.0         0.0   \n",
       "70e5ba30f367cea48793b9003fab9d38   5021.733333        57.2        45.1   \n",
       "4d9ef74d3a2025d79e9423105fd73d41   4517.533333        59.2        36.7   \n",
       "2bb79e0c1eaac1608e5a09c8e0c6a555   1858.866667        18.7        13.0   \n",
       "bec17f099b01d67edc82dfb5ce735a43   8419.600000        89.8        91.6   \n",
       "\n",
       "                                  r_lh_last3  d_lh_last3  r_xp_last2  \\\n",
       "match_id_hash                                                          \n",
       "30cc2d778dca82f2edb568ce9b585caa    0.000000    0.000000         0.0   \n",
       "70e5ba30f367cea48793b9003fab9d38   55.666667   44.066667      6772.6   \n",
       "4d9ef74d3a2025d79e9423105fd73d41   55.533333   34.733333      6417.4   \n",
       "2bb79e0c1eaac1608e5a09c8e0c6a555   17.666667   12.400000      2372.7   \n",
       "bec17f099b01d67edc82dfb5ce735a43   87.266667   88.666667      9615.6   \n",
       "\n",
       "                                  d_xp_last2     ...      r_dn_last3  \\\n",
       "match_id_hash                                    ...                   \n",
       "30cc2d778dca82f2edb568ce9b585caa         0.0     ...        0.000000   \n",
       "70e5ba30f367cea48793b9003fab9d38      5437.5     ...        4.800000   \n",
       "4d9ef74d3a2025d79e9423105fd73d41      4619.7     ...       11.333333   \n",
       "2bb79e0c1eaac1608e5a09c8e0c6a555      2359.0     ...        1.400000   \n",
       "bec17f099b01d67edc82dfb5ce735a43     10082.7     ...        6.800000   \n",
       "\n",
       "                                  d_dn_last3  r_xp_last4  d_xp_last4  \\\n",
       "match_id_hash                                                          \n",
       "30cc2d778dca82f2edb568ce9b585caa    0.000000        0.00        0.00   \n",
       "70e5ba30f367cea48793b9003fab9d38    9.333333     6164.40     5013.80   \n",
       "4d9ef74d3a2025d79e9423105fd73d41    7.800000     5921.75     4383.75   \n",
       "2bb79e0c1eaac1608e5a09c8e0c6a555    1.066667     2130.10     2136.00   \n",
       "bec17f099b01d67edc82dfb5ce735a43    9.000000     9170.85     9480.85   \n",
       "\n",
       "                                  r_dn_last4  d_dn_last4  r_gold_last4  \\\n",
       "match_id_hash                                                            \n",
       "30cc2d778dca82f2edb568ce9b585caa    0.000000    0.000000          0.00   \n",
       "70e5ba30f367cea48793b9003fab9d38    4.800000    9.333333       6320.50   \n",
       "4d9ef74d3a2025d79e9423105fd73d41   11.333333    7.800000       6263.80   \n",
       "2bb79e0c1eaac1608e5a09c8e0c6a555    1.400000    1.066667       2040.05   \n",
       "bec17f099b01d67edc82dfb5ce735a43    6.800000    9.000000       7637.25   \n",
       "\n",
       "                                  d_gold_last4  r_lh_last4  d_lh_last4  \n",
       "match_id_hash                                                           \n",
       "30cc2d778dca82f2edb568ce9b585caa          0.00         0.0        0.00  \n",
       "70e5ba30f367cea48793b9003fab9d38       4815.50        53.8       42.95  \n",
       "4d9ef74d3a2025d79e9423105fd73d41       4399.95        52.4       33.15  \n",
       "2bb79e0c1eaac1608e5a09c8e0c6a555       1732.60        16.4       11.50  \n",
       "bec17f099b01d67edc82dfb5ce735a43       8140.55        85.3       86.20  \n",
       "\n",
       "[5 rows x 24 columns]"
      ]
     },
     "execution_count": 241,
     "metadata": {},
     "output_type": "execute_result"
    }
   ],
   "source": [
    "test_X_time.head()"
   ]
  },
  {
   "cell_type": "code",
   "execution_count": null,
   "metadata": {},
   "outputs": [],
   "source": [
    "_test"
   ]
  },
  {
   "cell_type": "code",
   "execution_count": null,
   "metadata": {},
   "outputs": [],
   "source": []
  },
  {
   "cell_type": "code",
   "execution_count": null,
   "metadata": {},
   "outputs": [],
   "source": []
  },
  {
   "cell_type": "markdown",
   "metadata": {},
   "source": [
    "### New json features"
   ]
  },
  {
   "cell_type": "code",
   "execution_count": 107,
   "metadata": {},
   "outputs": [
    {
     "data": {
      "text/plain": [
       "False"
      ]
     },
     "execution_count": 107,
     "metadata": {},
     "output_type": "execute_result"
    }
   ],
   "source": [
    "match['players'][0]['pred_vict']\n",
    "#for player in match['players']:\n",
    "#    print(player['pred_vict'])"
   ]
  },
  {
   "cell_type": "code",
   "execution_count": 108,
   "metadata": {},
   "outputs": [],
   "source": [
    "import collections\n",
    "def read_matches(matches_file):\n",
    "    \n",
    "    MATCHES_COUNT = {\n",
    "        'test_matches.jsonl': 10000,\n",
    "        'train_matches.jsonl': 39675,\n",
    "    }\n",
    "    _, filename = os.path.split(matches_file)\n",
    "    total_matches = MATCHES_COUNT.get(filename)\n",
    "    \n",
    "    with open(matches_file) as fin:\n",
    "        for line in tqdm_notebook(fin, total=total_matches):\n",
    "            yield json.loads(line)\n",
    "            \n",
    "matches_file = '/Users/m/Insight/MLcourse/Dota/train_matches.jsonl'\n",
    "\n",
    "def extract_features_pred_vict(match):\n",
    "    row = [\n",
    "        ('match_id_hash', match['match_id_hash']),\n",
    "    ]\n",
    "    \n",
    "    for slot, player in enumerate(match['players']):\n",
    "        if slot < 5:\n",
    "            player_name = 'r%d' % (slot + 1)\n",
    "        else:\n",
    "            player_name = 'd%d' % (slot - 4)\n",
    "            \n",
    "        pred_vict = player['pred_vict']\n",
    "        row.append((f'{player_name}_pred_vict', pred_vict))\n",
    "    return collections.OrderedDict(row)"
   ]
  },
  {
   "cell_type": "code",
   "execution_count": 109,
   "metadata": {},
   "outputs": [
    {
     "data": {
      "application/vnd.jupyter.widget-view+json": {
       "model_id": "d2deebfb88ce4c439f28e15c685238cf",
       "version_major": 2,
       "version_minor": 0
      },
      "text/plain": [
       "HBox(children=(IntProgress(value=0, max=39675), HTML(value='')))"
      ]
     },
     "metadata": {},
     "output_type": "display_data"
    },
    {
     "name": "stdout",
     "output_type": "stream",
     "text": [
      "\n"
     ]
    },
    {
     "data": {
      "application/vnd.jupyter.widget-view+json": {
       "model_id": "39609091d59e474f9027a0982aaea66a",
       "version_major": 2,
       "version_minor": 0
      },
      "text/plain": [
       "HBox(children=(IntProgress(value=0, max=10000), HTML(value='')))"
      ]
     },
     "metadata": {},
     "output_type": "display_data"
    },
    {
     "name": "stdout",
     "output_type": "stream",
     "text": [
      "\n"
     ]
    }
   ],
   "source": [
    "json_feats_pv = []\n",
    "for match in read_matches(matches_file):\n",
    "    match_id_hash = match['match_id_hash']\n",
    "    features = extract_features_pred_vict(match)\n",
    "    json_feats_pv.append(features)\n",
    "df_json_feats_pv = pd.DataFrame(json_feats_pv).set_index('match_id_hash')\n",
    "\n",
    "matches_file_test = '/Users/m/Insight/MLcourse/Dota/test_matches.jsonl'\n",
    "\n",
    "json_feats_test_pv = []\n",
    "for match in read_matches(matches_file_test):\n",
    "    match_id_hash = match['match_id_hash']\n",
    "    features = extract_features_pred_vict(match)\n",
    "    json_feats_test_pv.append(features)\n",
    "df_json_feats_test_pv = pd.DataFrame(json_feats_test_pv).set_index('match_id_hash')"
   ]
  },
  {
   "cell_type": "code",
   "execution_count": 110,
   "metadata": {},
   "outputs": [],
   "source": [
    "train_X_pv = pd.DataFrame(index = train_X.index)\n",
    "test_X_pv = pd.DataFrame(index = test_X.index)\n",
    "ls_feat_pv = [i.replace(\"1\",\"\") for i in df_json_feats_pv.columns.values if (i.startswith('r1')==1 \n",
    "                                                                    or i.startswith('d1')==1)]\n",
    "for feature in list(ls_feat_pv):\n",
    "    feat_names = [(feature[0] + '{}_'.format(i) + feature[2:]) for i in range(1,6)]\n",
    "    train_X_pv[feature] = df_json_feats_pv.loc[:,feat_names].sum(axis=1)\n",
    "    test_X_pv[feature] = df_json_feats_test_pv.loc[:,feat_names].sum(axis=1)"
   ]
  },
  {
   "cell_type": "code",
   "execution_count": 111,
   "metadata": {},
   "outputs": [
    {
     "data": {
      "text/html": [
       "<div>\n",
       "<style scoped>\n",
       "    .dataframe tbody tr th:only-of-type {\n",
       "        vertical-align: middle;\n",
       "    }\n",
       "\n",
       "    .dataframe tbody tr th {\n",
       "        vertical-align: top;\n",
       "    }\n",
       "\n",
       "    .dataframe thead th {\n",
       "        text-align: right;\n",
       "    }\n",
       "</style>\n",
       "<table border=\"1\" class=\"dataframe\">\n",
       "  <thead>\n",
       "    <tr style=\"text-align: right;\">\n",
       "      <th></th>\n",
       "      <th>r_pred_vict</th>\n",
       "      <th>d_pred_vict</th>\n",
       "    </tr>\n",
       "    <tr>\n",
       "      <th>match_id_hash</th>\n",
       "      <th></th>\n",
       "      <th></th>\n",
       "    </tr>\n",
       "  </thead>\n",
       "  <tbody>\n",
       "    <tr>\n",
       "      <th>a400b8f29dece5f4d266f49f1ae2e98a</th>\n",
       "      <td>0</td>\n",
       "      <td>2</td>\n",
       "    </tr>\n",
       "    <tr>\n",
       "      <th>b9c57c450ce74a2af79c9ce96fac144d</th>\n",
       "      <td>0</td>\n",
       "      <td>0</td>\n",
       "    </tr>\n",
       "    <tr>\n",
       "      <th>6db558535151ea18ca70a6892197db41</th>\n",
       "      <td>0</td>\n",
       "      <td>0</td>\n",
       "    </tr>\n",
       "    <tr>\n",
       "      <th>46a0ddce8f7ed2a8d9bd5edcbb925682</th>\n",
       "      <td>0</td>\n",
       "      <td>1</td>\n",
       "    </tr>\n",
       "    <tr>\n",
       "      <th>b1b35ff97723d9b7ade1c9c3cf48f770</th>\n",
       "      <td>0</td>\n",
       "      <td>0</td>\n",
       "    </tr>\n",
       "  </tbody>\n",
       "</table>\n",
       "</div>"
      ],
      "text/plain": [
       "                                  r_pred_vict  d_pred_vict\n",
       "match_id_hash                                             \n",
       "a400b8f29dece5f4d266f49f1ae2e98a            0            2\n",
       "b9c57c450ce74a2af79c9ce96fac144d            0            0\n",
       "6db558535151ea18ca70a6892197db41            0            0\n",
       "46a0ddce8f7ed2a8d9bd5edcbb925682            0            1\n",
       "b1b35ff97723d9b7ade1c9c3cf48f770            0            0"
      ]
     },
     "execution_count": 111,
     "metadata": {},
     "output_type": "execute_result"
    }
   ],
   "source": [
    "train_X_pv.head()"
   ]
  },
  {
   "cell_type": "code",
   "execution_count": 119,
   "metadata": {},
   "outputs": [],
   "source": [
    "full_pv = train_X_pv.merge(pd.DataFrame(y), how='outer',left_index=True,right_index=True)"
   ]
  },
  {
   "cell_type": "code",
   "execution_count": 133,
   "metadata": {},
   "outputs": [
    {
     "data": {
      "text/plain": [
       "0    0.697968\n",
       "1    0.222611\n",
       "2    0.064035\n",
       "3    0.013529\n",
       "4    0.001539\n",
       "5    0.000318\n",
       "Name: r_pred_vict, dtype: float64"
      ]
     },
     "execution_count": 133,
     "metadata": {},
     "output_type": "execute_result"
    }
   ],
   "source": [
    "full_pv_rwin = full_pv[full_pv['radiant_win']==True]\n",
    "full_pv_rlose = full_pv[full_pv['radiant_win']==False]\n",
    "full_pv_rlose['r_pred_vict'].value_counts(normalize=True)"
   ]
  },
  {
   "cell_type": "code",
   "execution_count": 132,
   "metadata": {},
   "outputs": [
    {
     "data": {
      "text/plain": [
       "0    0.695581\n",
       "1    0.217518\n",
       "2    0.068810\n",
       "3    0.015332\n",
       "4    0.002494\n",
       "5    0.000265\n",
       "Name: d_pred_vict, dtype: float64"
      ]
     },
     "execution_count": 132,
     "metadata": {},
     "output_type": "execute_result"
    }
   ],
   "source": [
    "full_pv_rlose['d_pred_vict'].value_counts(normalize=True)"
   ]
  },
  {
   "cell_type": "code",
   "execution_count": 93,
   "metadata": {},
   "outputs": [],
   "source": [
    "export_csv = train_X_damage_agg.to_csv('train_features_damage_agg.csv', index = 'match_id_hash', header=True)\n",
    "export_csv = test_X_damage_agg.to_csv('test_features_damage_agg.csv', index = 'match_id_hash', header=True)"
   ]
  },
  {
   "cell_type": "markdown",
   "metadata": {},
   "source": [
    "### Working with ability upgrades"
   ]
  },
  {
   "cell_type": "markdown",
   "metadata": {},
   "source": [
    "For a single match, test new features:\n",
    "`max_ability_dt`\n",
    "`min_ability_dt`\n",
    "`mean_ability_dt`\n",
    "`max_ability_da`\n",
    "`min_ability_da`\n",
    "`mean_ability_da`"
   ]
  },
  {
   "cell_type": "code",
   "execution_count": 661,
   "metadata": {},
   "outputs": [
    {
     "name": "stdout",
     "output_type": "stream",
     "text": [
      "4 120.5625 227 1929\n",
      "-1352 314.5625 5032 5033\n"
     ]
    }
   ],
   "source": [
    "player = match['players'][2]\n",
    "n = len(player['ability_upgrades'])\n",
    "first_ability_time = player['ability_upgrades'][0]['time']\n",
    "last_ability_time = player['ability_upgrades'][n-1]['time']\n",
    "ability_dt = [first_ability_time]\n",
    "#time differences between level changes\n",
    "for i in range(n-1):\n",
    "    diff = player['ability_upgrades'][i+1]['time'] - player['ability_upgrades'][i]['time']\n",
    "    ability_dt.append(diff)\n",
    "min_ability_dt = min(ability_dt)\n",
    "max_ability_dt = max(ability_dt)\n",
    "mean_ability_dt = sum(ability_dt)/len(ability_dt)\n",
    "print(min_ability_dt,mean_ability_dt,max_ability_dt,last_ability_time)\n",
    "#ability differences between level changes\n",
    "ability_d_ability = [player['ability_upgrades'][0]['ability']]\n",
    "last_ability = player['ability_upgrades'][n-1]['ability']\n",
    "for i in range(n-1):\n",
    "    diff = player['ability_upgrades'][i+1]['ability'] - player['ability_upgrades'][i]['ability']\n",
    "    ability_d_ability.append(diff)\n",
    "min_ability_d_ability = min(ability_d_ability)\n",
    "max_ability_d_ability = max(ability_d_ability)\n",
    "mean_ability_d_ability = sum(ability_d_ability)/len(ability_d_ability)\n",
    "print(min_ability_d_ability,mean_ability_d_ability,max_ability_d_ability,last_ability)"
   ]
  },
  {
   "cell_type": "code",
   "execution_count": 663,
   "metadata": {},
   "outputs": [],
   "source": [
    "#player['ability_upgrades']"
   ]
  },
  {
   "cell_type": "code",
   "execution_count": 717,
   "metadata": {},
   "outputs": [],
   "source": [
    "def read_matches(matches_file):\n",
    "    \n",
    "    MATCHES_COUNT = {\n",
    "        'test_matches.jsonl': 10000,\n",
    "        'train_matches.jsonl': 39675,\n",
    "    }\n",
    "    _, filename = os.path.split(matches_file)\n",
    "    total_matches = MATCHES_COUNT.get(filename)\n",
    "    \n",
    "    with open(matches_file) as fin:\n",
    "        for line in tqdm_notebook(fin, total=total_matches):\n",
    "            yield json.loads(line)"
   ]
  },
  {
   "cell_type": "code",
   "execution_count": 718,
   "metadata": {},
   "outputs": [],
   "source": [
    "matches_file = '/Users/m/Insight/MLcourse/Dota/train_matches.jsonl'"
   ]
  },
  {
   "cell_type": "code",
   "execution_count": 791,
   "metadata": {},
   "outputs": [],
   "source": [
    "def extract_features_csv(match):\n",
    "    row = [\n",
    "        ('match_id_hash', match['match_id_hash']),\n",
    "    ]\n",
    "    \n",
    "    for slot, player in enumerate(match['players']):\n",
    "        if slot < 5:\n",
    "            player_name = 'r%d' % (slot + 1)\n",
    "        else:\n",
    "            player_name = 'd%d' % (slot - 4)\n",
    "            \n",
    "        n = len(player['ability_upgrades'])\n",
    "        if n > 0:    \n",
    "            first_ability_time = player['ability_upgrades'][0]['time']\n",
    "            row.append((f'{player_name}_first_ability_t', first_ability_time))\n",
    "            last_ability_time = player['ability_upgrades'][n-1]['time']\n",
    "            row.append((f'{player_name}_last_ability_t', last_ability_time))\n",
    "            ability_dt = [first_ability_time]\n",
    "            #time differences between level changes\n",
    "            for i in range(n-1):\n",
    "                diff = player['ability_upgrades'][i+1]['time'] - player['ability_upgrades'][i]['time']\n",
    "                ability_dt.append(diff)\n",
    "            min_ability_dt = min(ability_dt)\n",
    "            row.append((f'{player_name}_min_ability_dt', min_ability_dt))\n",
    "            max_ability_dt = max(ability_dt)\n",
    "            row.append((f'{player_name}_max_ability_dt', max_ability_dt))\n",
    "            mean_ability_dt = sum(ability_dt)/len(ability_dt)\n",
    "            row.append((f'{player_name}_mean_ability_dt', mean_ability_dt))\n",
    "\n",
    "            #ability differences between level changes\n",
    "            first_ability = player['ability_upgrades'][0]['ability']\n",
    "            row.append((f'{player_name}_first_ability', first_ability))\n",
    "            last_ability = player['ability_upgrades'][n-1]['ability']\n",
    "            row.append((f'{player_name}_last_ability', last_ability))\n",
    "            dability = []\n",
    "            for i in range(n-1):\n",
    "                diff = player['ability_upgrades'][i+1]['ability'] - player['ability_upgrades'][i]['ability']\n",
    "                dability.append(diff)\n",
    "            try:\n",
    "                min_ability_da = min(dability)\n",
    "            except:\n",
    "                min_ability_da = 0\n",
    "            row.append((f'{player_name}_min_ability_da', min_ability_da))\n",
    "            try:\n",
    "                max_ability_da = max(dability)\n",
    "            except:\n",
    "                max_ability_da = 0\n",
    "            row.append((f'{player_name}_max_ability_da', max_ability_da))\n",
    "            try:\n",
    "                mean_ability_da = sum(dability)/len(dability)\n",
    "            except:\n",
    "                mean_ability_da = 0\n",
    "            row.append((f'{player_name}_mean_ability_da', mean_ability_da))\n",
    "        else:\n",
    "            row.append((f'{player_name}_first_ability_t', 0))\n",
    "            row.append((f'{player_name}_last_ability_t', 0))\n",
    "            row.append((f'{player_name}_min_ability_dt', 0))\n",
    "            row.append((f'{player_name}_max_ability_dt', 0))\n",
    "            row.append((f'{player_name}_mean_ability_dt', 0))\n",
    "\n",
    "            row.append((f'{player_name}_first_ability', 0))\n",
    "            row.append((f'{player_name}_last_ability', 0))\n",
    "            row.append((f'{player_name}_min_ability_da', 0))\n",
    "            row.append((f'{player_name}_max_ability_da', 0))\n",
    "            row.append((f'{player_name}_mean_ability_da', 0))\n",
    "    \n",
    "    return collections.OrderedDict(row)"
   ]
  },
  {
   "cell_type": "code",
   "execution_count": 792,
   "metadata": {},
   "outputs": [
    {
     "data": {
      "application/vnd.jupyter.widget-view+json": {
       "model_id": "2cc09c11723540148ee54888a4410c25",
       "version_major": 2,
       "version_minor": 0
      },
      "text/plain": [
       "HBox(children=(IntProgress(value=0, max=39675), HTML(value='')))"
      ]
     },
     "metadata": {},
     "output_type": "display_data"
    },
    {
     "name": "stdout",
     "output_type": "stream",
     "text": [
      "\n"
     ]
    }
   ],
   "source": [
    "json_feats = []\n",
    "for match in read_matches(matches_file):\n",
    "    match_id_hash = match['match_id_hash']\n",
    "    features = extract_features_csv(match)\n",
    "    json_feats.append(features)\n",
    "df_json_feats = pd.DataFrame(json_feats).set_index('match_id_hash')"
   ]
  },
  {
   "cell_type": "code",
   "execution_count": 794,
   "metadata": {},
   "outputs": [],
   "source": [
    "#export_csv = df_json_feats.to_csv(r'/Users/m/Insight/MLcourse/Dota/train_features_ability.csv', index = 'match_id_hash', header=True)"
   ]
  },
  {
   "cell_type": "code",
   "execution_count": 796,
   "metadata": {},
   "outputs": [],
   "source": [
    "matches_file_test = '/Users/m/Insight/MLcourse/Dota/test_matches.jsonl'"
   ]
  },
  {
   "cell_type": "code",
   "execution_count": 797,
   "metadata": {},
   "outputs": [
    {
     "data": {
      "application/vnd.jupyter.widget-view+json": {
       "model_id": "0f895bafcfda4ed08a8ef6f4415dc89d",
       "version_major": 2,
       "version_minor": 0
      },
      "text/plain": [
       "HBox(children=(IntProgress(value=0, max=10000), HTML(value='')))"
      ]
     },
     "metadata": {},
     "output_type": "display_data"
    },
    {
     "name": "stdout",
     "output_type": "stream",
     "text": [
      "\n"
     ]
    }
   ],
   "source": [
    "json_feats_test = []\n",
    "for match in read_matches(matches_file_test):\n",
    "    match_id_hash = match['match_id_hash']\n",
    "    features = extract_features_csv(match)\n",
    "    json_feats_test.append(features)\n",
    "df_json_feats_test = pd.DataFrame(json_feats_test).set_index('match_id_hash')"
   ]
  },
  {
   "cell_type": "markdown",
   "metadata": {},
   "source": [
    "## Find new features:\n",
    "\n",
    "1. Use data from `match['teamfights']`. This could be hard because nothing specific here about  teams, would have to link teamfights to players.\n",
    "2. Hero data:\n",
    "Find best hero combinations for winning games"
   ]
  },
  {
   "cell_type": "markdown",
   "metadata": {},
   "source": [
    "### Creating new features"
   ]
  },
  {
   "cell_type": "code",
   "execution_count": 95,
   "metadata": {},
   "outputs": [
    {
     "data": {
      "text/plain": [
       "(10000, 521)"
      ]
     },
     "execution_count": 95,
     "metadata": {},
     "output_type": "execute_result"
    }
   ],
   "source": [
    "test_X.shape"
   ]
  },
  {
   "cell_type": "code",
   "execution_count": 96,
   "metadata": {},
   "outputs": [
    {
     "data": {
      "text/plain": [
       "(39675, 521)"
      ]
     },
     "execution_count": 96,
     "metadata": {},
     "output_type": "execute_result"
    }
   ],
   "source": [
    "train_X.shape"
   ]
  },
  {
   "cell_type": "code",
   "execution_count": 97,
   "metadata": {},
   "outputs": [
    {
     "data": {
      "text/plain": [
       "(39675, 522)"
      ]
     },
     "execution_count": 97,
     "metadata": {},
     "output_type": "execute_result"
    }
   ],
   "source": [
    "full_df.shape"
   ]
  },
  {
   "cell_type": "code",
   "execution_count": 98,
   "metadata": {},
   "outputs": [
    {
     "data": {
      "text/plain": [
       "(49675, 521)"
      ]
     },
     "execution_count": 98,
     "metadata": {},
     "output_type": "execute_result"
    }
   ],
   "source": [
    "train_test_feat = pd.concat([full_df.drop('radiant_win',axis=1),test_X])\n",
    "train_test_feat.shape"
   ]
  },
  {
   "cell_type": "code",
   "execution_count": 99,
   "metadata": {},
   "outputs": [],
   "source": [
    "def select_cols_n_distinct(data,min,max):\n",
    "    '''select columns in data frame with number of \n",
    "    distinct values between min and max, inclusive'''\n",
    "    cols = []\n",
    "    for col in data.columns.values:\n",
    "        unique_vals = data[col].value_counts().shape[0]\n",
    "        if unique_vals >= min and unique_vals <= max:\n",
    "            #cols.append((col,unique_vals))\n",
    "            cols.append(col)\n",
    "    return cols    "
   ]
  },
  {
   "cell_type": "code",
   "execution_count": 100,
   "metadata": {
    "scrolled": true
   },
   "outputs": [],
   "source": [
    "select_cols_n_distinct(full_df.drop('radiant_win',axis=1),2,2);"
   ]
  },
  {
   "cell_type": "code",
   "execution_count": 101,
   "metadata": {},
   "outputs": [],
   "source": [
    "radiant_win_T = full_df[full_df['radiant_win'] == 1]['lobby_type']\n",
    "radiant_win_F = full_df[full_df['radiant_win'] == 0]['lobby_type']\n",
    "#sns.distplot(radiant_win_T, bins=100, label='R won')\n",
    "#sns.distplot(radiant_win_F, bins=100, label='R lost')\n",
    "#plt.xlim(1900, 2020)\n",
    "#plt.legend()"
   ]
  },
  {
   "cell_type": "code",
   "execution_count": 102,
   "metadata": {},
   "outputs": [],
   "source": [
    "#sns.countplot(x=\"lobby_type\", hue=\"radiant_win\", data=full_df);"
   ]
  },
  {
   "cell_type": "code",
   "execution_count": 103,
   "metadata": {},
   "outputs": [],
   "source": [
    "new_features = pd.DataFrame(index=train_test_feat.index)"
   ]
  },
  {
   "cell_type": "code",
   "execution_count": 237,
   "metadata": {},
   "outputs": [],
   "source": [
    "#ls_new_feats = [i.replace(\"1\",\"\")  for i in full_df.columns.values if (i.startswith('r1')==1 \n",
    "         #                                                           or i.startswith('d1')==1)]\n",
    "ls_new_feats_sum = [i.replace(\"1\",\"\")+'_sum' for i in full_df.columns.values if (i.startswith('r1')==1 \n",
    "                                                                    or i.startswith('d1')==1)]\n",
    "ls_new_feats_max = [i.replace(\"1\",\"\")+'_max' for i in full_df.columns.values if (i.startswith('r1')==1 \n",
    "                                                                    or i.startswith('d1')==1)]\n",
    "ls_new_feats_min = [i.replace(\"1\",\"\")+'_min' for i in full_df.columns.values if (i.startswith('r1')==1 \n",
    "                                                                    or i.startswith('d1')==1)]\n",
    "ls_new_feats_range = [i.replace(\"1\",\"\")+'_range' for i in full_df.columns.values if (i.startswith('r1')==1 \n",
    "                                                                    or i.startswith('d1')==1)]"
   ]
  },
  {
   "cell_type": "markdown",
   "metadata": {},
   "source": [
    "Create a feature that is sum of r1 + ... + r5 for all r features, and same for all d features. Note that not all of these make sense, so some should be removed."
   ]
  },
  {
   "cell_type": "code",
   "execution_count": 117,
   "metadata": {},
   "outputs": [],
   "source": [
    "for feature in ls_new_feats_sum:\n",
    "    feat_names = [(feature[0] + '{}_'.format(i) + feature[2:-4]) for i in range(1,6)]\n",
    "    new_features[feature] = train_test_feat.loc[:,feat_names].sum(axis=1)\n",
    "for feature in ls_new_feats_max:\n",
    "    feat_names = [(feature[0] + '{}_'.format(i) + feature[2:-4]) for i in range(1,6)]\n",
    "    new_features[feature] = train_test_feat.loc[:,feat_names].sum(axis=1)\n",
    "for feature in ls_new_feats_min:\n",
    "    feat_names = [(feature[0] + '{}_'.format(i) + feature[2:-4]) for i in range(1,6)]\n",
    "    new_features[feature] = train_test_feat.loc[:,feat_names].sum(axis=1)\n",
    "for feature in ls_new_feats_range:\n",
    "    feat_names = [(feature[0] + '{}_'.format(i) + feature[2:-4]) for i in range(1,6)]\n",
    "    new_features[feature] = train_test_feat.loc[:,feat_names].sum(axis=1)\n",
    "   # new_features[feature + '_mean'] = train_test_feat.loc[:,feat_names].mean(axis=1)\n",
    "   #new_features[feature + '_std'] = train_test_feat.loc[:,feat_names].std(axis=1)\n",
    "#new_features.drop(['r_hero_id','d_hero_id'],inplace=True,axis=1)"
   ]
  },
  {
   "cell_type": "code",
   "execution_count": 118,
   "metadata": {},
   "outputs": [
    {
     "data": {
      "text/plain": [
       "344"
      ]
     },
     "execution_count": 118,
     "metadata": {},
     "output_type": "execute_result"
    }
   ],
   "source": [
    "len(new_features.columns)\n",
    "#new_features.isnull().sum().sum()"
   ]
  },
  {
   "cell_type": "markdown",
   "metadata": {},
   "source": [
    "# New features from TK"
   ]
  },
  {
   "cell_type": "markdown",
   "metadata": {},
   "source": [
    "## Transform Health"
   ]
  },
  {
   "cell_type": "code",
   "execution_count": 119,
   "metadata": {},
   "outputs": [],
   "source": [
    "health = ['r{}_health'.format(x) for x in range(1,6)] +['d{}_health'.format(x) for x in range(1,6)]\n",
    "max_health = ['r{}_health'.format(x) for x in range(1,6)] +['d{}_health'.format(x) for x in range(1,6)]\n",
    "x = ['r{}_x'.format(x) for x in range(1,6)] +['d{}_x'.format(x) for x in range(1,6)]\n",
    "y1 = ['r{}_y'.format(x) for x in range(1,6)] +['d{}_y'.format(x) for x in range(1,6)]\n",
    "xp = ['r{}_xp'.format(x) for x in range(1,6)] +['d{}_xp'.format(x) for x in range(1,6)]\n",
    "\n",
    "train_positions = train_X[health+max_health+x+y1+xp]\n",
    "#train_positions.head(2)"
   ]
  },
  {
   "cell_type": "code",
   "execution_count": 120,
   "metadata": {},
   "outputs": [],
   "source": [
    "def are_dead(x):\n",
    "    ans = 0 \n",
    "    for el in x:\n",
    "        if el == 0:\n",
    "            ans += 1\n",
    "    return ans"
   ]
  },
  {
   "cell_type": "code",
   "execution_count": 121,
   "metadata": {},
   "outputs": [],
   "source": [
    "d_health = ['d{}_health'.format(i) for i in range(1,6)]\n",
    "new_features['d_dead'] = full_df[d_health].apply(are_dead, axis = 1)\n",
    "r_health = ['r{}_health'.format(i) for i in range(1,6)]\n",
    "new_features['r_dead'] = full_df[r_health].apply(are_dead, axis = 1)"
   ]
  },
  {
   "cell_type": "code",
   "execution_count": 122,
   "metadata": {},
   "outputs": [],
   "source": [
    "# calculate the proportion of health\n",
    "percentage_health = 0\n",
    "for j in range(5):\n",
    "    max_health = '{}_max_health'.format(d_health[j].split('_')[0])\n",
    "    health = 'd{}_health'.format(j+1)\n",
    "    ph = full_df[health]/full_df[max_health]\n",
    "    percentage_health += 1/5*ph\n",
    "\n",
    "new_features['d_health_avg'] = percentage_health\n",
    "\n",
    "percentage_health = 0\n",
    "for j in range(5):\n",
    "    max_health = '{}_max_health'.format(r_health[j].split('_')[0])\n",
    "    health = 'r{}_health'.format(j+1)\n",
    "    ph = full_df[health]/full_df[max_health]\n",
    "    percentage_health += 1/5*ph\n",
    "\n",
    "new_features['r_health_avg'] = percentage_health"
   ]
  },
  {
   "cell_type": "code",
   "execution_count": 123,
   "metadata": {},
   "outputs": [],
   "source": [
    "ls_feature_cols.append(['d_dead','r_dead','d_health_avg','r_health_avg'])"
   ]
  },
  {
   "cell_type": "markdown",
   "metadata": {},
   "source": [
    "### In opponent's base"
   ]
  },
  {
   "cell_type": "code",
   "execution_count": 124,
   "metadata": {},
   "outputs": [],
   "source": [
    "def in_opponent_base(x,y,opponent = 'Radiant'):\n",
    "\n",
    "    '''\n",
    "returns indicator function of whether the player is in the base of the opponent\n",
    "opponent = {'Radiant', 'Dire'} - opponent team\n",
    "    \n",
    "    '''\n",
    "#     x = coordinates[0]\n",
    "#     y = coordinates[1]\n",
    "    radiant_base_x = 96\n",
    "    radiant_base_y = 100\n",
    "\n",
    "    dire_base_x = 156\n",
    "    dire_base_y = 156\n",
    "\n",
    "    if opponent == 'Radiant':\n",
    "        if x <= radiant_base_x and y <= radiant_base_y:\n",
    "            return 1\n",
    "        else:\n",
    "            return 0\n",
    "    elif opponent == 'Dire':\n",
    "        if x >= dire_base_x and y >= dire_base_y:\n",
    "            return 1\n",
    "        else:\n",
    "            return 0\n",
    "    else:\n",
    "        return NaN"
   ]
  },
  {
   "cell_type": "code",
   "execution_count": 125,
   "metadata": {},
   "outputs": [],
   "source": [
    "r_x = ['r{}_x'.format(j) for j in range(1,6)]\n",
    "r_y = ['r{}_y'.format(j) for j in range(1,6)]\n",
    "d_x = ['d{}_x'.format(j) for j in range(1,6)]\n",
    "d_y = ['d{}_y'.format(j) for j in range(1,6)]\n",
    "# getting indicator function for each player\n",
    "# !!!!!!!!!!!!!!!!!!!!!!! Do not run if using the small set only\n",
    "\n",
    "for j in range(5):\n",
    "    rx = r_x[j]\n",
    "    ry = r_y[j]\n",
    "    dx = d_x[j]\n",
    "    dy = d_y[j]\n",
    "    full_df['r{}_in_d_base'.format(j+1)] = full_df.loc[:,[rx,ry]].apply(lambda x: in_opponent_base(x = x[rx], y = x[ry], opponent = 'Dire'), axis = 1)\n",
    "    full_df['d{}_in_r_base'.format(j+1)] = full_df.loc[:,[dx,dy]].apply(lambda x: in_opponent_base(x = x[dx], y = x[dy], opponent = 'Radiant'), axis = 1)\n",
    "    full_df['r{}_in_r_base'.format(j+1)] = full_df.loc[:,[rx,ry]].apply(lambda x: in_opponent_base(x = x[rx], y = x[ry], opponent = 'Radiant'), axis = 1)\n",
    "    full_df['d{}_in_d_base'.format(j+1)] = full_df.loc[:,[dx,dy]].apply(lambda x: in_opponent_base(x = x[dx], y = x[dy], opponent = 'Dire'), axis = 1)\n",
    "    \n",
    "    full_df['r{}_in_d_base_hero_id'.format(j+1)] = full_df['r{}_in_d_base'.format(j+1)]*full_df['r{}_hero_id'.format(j+1)]\n",
    "    full_df['d{}_in_r_base_hero_id'.format(j+1)] = full_df['d{}_in_r_base'.format(j+1)]*full_df['d{}_hero_id'.format(j+1)]\n",
    "    \n",
    "    full_df['r{}_in_d_base_count_ability_use'.format(j+1)] = full_df['r{}_in_d_base'.format(j+1)]*full_df['r{}_count_ability_use'.format(j+1)]\n",
    "    full_df['d{}_in_r_base_count_ability_use'.format(j+1)] = full_df['d{}_in_r_base'.format(j+1)]*full_df['d{}_count_ability_use'.format(j+1)]\n",
    "    \n",
    "    full_df['r{}_in_d_max_hero_hit'.format(j+1)] = full_df['r{}_in_d_base'.format(j+1)]*full_df['r{}_max_hero_hit'.format(j+1)]\n",
    "    full_df['d{}_in_r_max_hero_hit'.format(j+1)] = full_df['d{}_in_r_base'.format(j+1)]*full_df['d{}_max_hero_hit'.format(j+1)]\n",
    "    \n",
    "    full_df['r{}_in_d_damage_dealt'.format(j+1)] = full_df['r{}_in_d_base'.format(j+1)]*full_df['r{}_damage_dealt'.format(j+1)]\n",
    "    full_df['d{}_in_r_damage_dealt'.format(j+1)] = full_df['d{}_in_r_base'.format(j+1)]*full_df['d{}_damage_dealt'.format(j+1)]\n",
    "    \n",
    "    full_df['r{}_in_r_damage_received'.format(j+1)] = full_df['r{}_in_r_base'.format(j+1)]*full_df['r{}_damage_received'.format(j+1)]\n",
    "    full_df['d{}_in_d_damage_received'.format(j+1)] = full_df['d{}_in_d_base'.format(j+1)]*full_df['d{}_damage_received'.format(j+1)]"
   ]
  },
  {
   "cell_type": "code",
   "execution_count": 126,
   "metadata": {},
   "outputs": [],
   "source": [
    "# getting total amount of players of each team at each base\n",
    "\n",
    "r_in_d_base = pd.Series(0,index = full_df.index)\n",
    "d_in_r_base = pd.Series(0,index = full_df.index)\n",
    "r_in_r_base = pd.Series(0,index = full_df.index)\n",
    "d_in_d_base = pd.Series(0,index = full_df.index)\n",
    "\n",
    "for j in range(5):\n",
    "    rx = r_x[j]\n",
    "    ry = r_y[j]\n",
    "    dx = d_x[j]\n",
    "    dy = d_y[j]\n",
    "    r_in_d_base += full_df.loc[:,[rx,ry]].apply(lambda x: in_opponent_base(x = x[rx], y = x[ry], opponent = 'Dire'), axis = 1)\n",
    "    d_in_r_base += full_df.loc[:,[dx,dy]].apply(lambda x: in_opponent_base(x = x[dx], y = x[dy], opponent = 'Radiant'), axis = 1)\n",
    "    r_in_r_base += full_df.loc[:,[rx,ry]].apply(lambda x: in_opponent_base(x = x[rx], y = x[ry], opponent = 'Radiant'), axis = 1)\n",
    "    d_in_d_base += full_df.loc[:,[dx,dy]].apply(lambda x: in_opponent_base(x = x[dx], y = x[dy], opponent = 'Dire'), axis = 1)"
   ]
  },
  {
   "cell_type": "code",
   "execution_count": 127,
   "metadata": {},
   "outputs": [],
   "source": [
    "new_features['r_in_d_base'] = r_in_d_base\n",
    "new_features['d_in_r_base'] = d_in_r_base\n",
    "new_features['r_in_r_base'] = r_in_d_base\n",
    "new_features['d_in_d_base'] = d_in_r_base\n",
    "ls_feature_cols.append(['r_in_d_base','r_in_r_base','d_in_r_base','d_in_d_base'])"
   ]
  },
  {
   "cell_type": "code",
   "execution_count": 128,
   "metadata": {},
   "outputs": [],
   "source": [
    "r_teamfight = ['r{}_teamfight_participation'.format(j) for j in range(1,6)] \n",
    "for col in r_teamfight:\n",
    "    full_df[full_df[col] >1][col] = 1\n",
    "\n",
    "d_teamfight = ['d{}_teamfight_participation'.format(j) for j in range(1,6)] \n",
    "for col in d_teamfight:\n",
    "    full_df[full_df[col] >1][col] = 1"
   ]
  },
  {
   "cell_type": "code",
   "execution_count": 129,
   "metadata": {},
   "outputs": [],
   "source": [
    "ls_feature_cols.append(r_teamfight + d_teamfight)"
   ]
  },
  {
   "cell_type": "markdown",
   "metadata": {},
   "source": [
    "### Create boolean features:\n",
    "\n",
    "`*_ability_level`\n",
    "`*_teamfight_participation`\n",
    "`*_kills`\n",
    "`*_assists`\n",
    "`*_deaths`\n",
    "`*_sen_placed`"
   ]
  },
  {
   "cell_type": "code",
   "execution_count": 130,
   "metadata": {},
   "outputs": [],
   "source": [
    "test = pd.DataFrame()\n",
    "def create_boolean_features(cols):\n",
    "    for col in cols:\n",
    "        new_features['boolean_' + col] = np.where(new_features[col]==0, 1, 0)\n",
    "        "
   ]
  },
  {
   "cell_type": "code",
   "execution_count": 131,
   "metadata": {},
   "outputs": [],
   "source": [
    "boolean_cols = ['r_ability_level','d_ability_level','r_teamfight_participation',\n",
    "                'd_teamfight_participation','r_kills','d_kills',\n",
    "                'r_assists','d_assists','r_deaths','d_deaths','r_sen_placed',\n",
    "               'd_sen_placed']\n",
    "ls_feature_cols.append(boolean_cols)\n",
    "create_boolean_features(boolean_cols)"
   ]
  },
  {
   "cell_type": "markdown",
   "metadata": {},
   "source": [
    "### Take log of skewed features"
   ]
  },
  {
   "cell_type": "code",
   "execution_count": 132,
   "metadata": {},
   "outputs": [],
   "source": [
    "import math\n",
    "col_for_log =  ['r_count_ability_use','r_max_hero_hit',\n",
    "                'r_damage_received','r_damage_dealt',\n",
    "                'r_max_mana','r_max_health',\n",
    "                'r_lh','r_health',\n",
    "     'r_gold', 'r_xp', 'r_stuns',\n",
    "    'd_count_ability_use', 'd_max_hero_hit',\n",
    "                'd_max_mana','d_max_health',\n",
    "                'd_damage_received','d_damage_dealt',\n",
    "               'd_health', 'd_stuns',\n",
    "     'd_gold', 'd_lh', 'd_xp']\n",
    "\n",
    "for col in col_for_log:\n",
    "    new_log_index = 'log_{}'.format(col)\n",
    "#     print(new_features[col].min())\n",
    "    new_features[col] = new_features[col].apply(lambda x: math.log(x+5))\n",
    "    \n",
    "#train_test_feat['chat_len'] = train_test_feat['chat_len'].apply(lambda x: math.log(x+5))"
   ]
  },
  {
   "cell_type": "markdown",
   "metadata": {},
   "source": [
    "Conclusions about categorical variables:\n",
    "* firstblood_claimed : categorical, binary\n",
    "* game_mode: categorical, non-ordinal --> needs to be converted to dummy variables\n",
    "* lobby_type: categorical, binary (value 7 chould be changes with 1)\n",
    "* hero_id: categorical, non-ordinal (too many levels)\n",
    "* level: categorical, ordinal (25 levels)\n",
    "* x,y are coordinates of players"
   ]
  },
  {
   "cell_type": "markdown",
   "metadata": {},
   "source": [
    "## Combine old and new features"
   ]
  },
  {
   "cell_type": "code",
   "execution_count": 133,
   "metadata": {},
   "outputs": [],
   "source": [
    "from sklearn.decomposition import PCA\n",
    "from sklearn.model_selection import train_test_split\n",
    "from sklearn.metrics import accuracy_score, roc_auc_score\n",
    "from sklearn.preprocessing import StandardScaler\n",
    "from sklearn.pipeline import Pipeline\n",
    "from sklearn.linear_model import LogisticRegression\n",
    "from sklearn.ensemble import RandomForestClassifier"
   ]
  },
  {
   "cell_type": "code",
   "execution_count": 134,
   "metadata": {},
   "outputs": [
    {
     "data": {
      "text/plain": [
       "(49675, 521)"
      ]
     },
     "execution_count": 134,
     "metadata": {},
     "output_type": "execute_result"
    }
   ],
   "source": [
    "train_test_feat.shape"
   ]
  },
  {
   "cell_type": "code",
   "execution_count": 135,
   "metadata": {},
   "outputs": [
    {
     "data": {
      "text/plain": [
       "(49675, 364)"
      ]
     },
     "execution_count": 135,
     "metadata": {},
     "output_type": "execute_result"
    }
   ],
   "source": [
    "new_features.shape"
   ]
  },
  {
   "cell_type": "code",
   "execution_count": 136,
   "metadata": {},
   "outputs": [],
   "source": [
    "all_feats = train_test_feat.merge(new_features, how='outer', left_index=True, right_index = True)"
   ]
  },
  {
   "cell_type": "code",
   "execution_count": 137,
   "metadata": {},
   "outputs": [
    {
     "data": {
      "text/plain": [
       "80000"
      ]
     },
     "execution_count": 137,
     "metadata": {},
     "output_type": "execute_result"
    }
   ],
   "source": [
    "all_feats.isnull().sum().sum()"
   ]
  },
  {
   "cell_type": "code",
   "execution_count": 138,
   "metadata": {},
   "outputs": [],
   "source": [
    "all_feats.drop(all_feats.columns[all_feats.isnull().any()],inplace=True,axis=1)"
   ]
  },
  {
   "cell_type": "code",
   "execution_count": 139,
   "metadata": {},
   "outputs": [
    {
     "data": {
      "text/plain": [
       "0"
      ]
     },
     "execution_count": 139,
     "metadata": {},
     "output_type": "execute_result"
    }
   ],
   "source": [
    "all_feats.isnull().sum().sum()"
   ]
  },
  {
   "cell_type": "code",
   "execution_count": 140,
   "metadata": {},
   "outputs": [
    {
     "data": {
      "text/plain": [
       "(49675, 877)"
      ]
     },
     "execution_count": 140,
     "metadata": {},
     "output_type": "execute_result"
    }
   ],
   "source": [
    "all_feats.shape"
   ]
  },
  {
   "cell_type": "markdown",
   "metadata": {},
   "source": [
    "### Split `all_features` into train and test data"
   ]
  },
  {
   "cell_type": "markdown",
   "metadata": {},
   "source": [
    "### Drop the tuples!"
   ]
  },
  {
   "cell_type": "code",
   "execution_count": 141,
   "metadata": {},
   "outputs": [],
   "source": [
    "ls_feature_remove = []\n",
    "ls_feature_remove = ls_tuple_cols + ls_tuple_cols3 +['lobby_type','game_mode','chat_len','game_time','objectives_len']"
   ]
  },
  {
   "cell_type": "code",
   "execution_count": 142,
   "metadata": {},
   "outputs": [],
   "source": [
    "all_feats.drop(ls_feature_remove,axis=1,inplace=True)"
   ]
  },
  {
   "cell_type": "code",
   "execution_count": 143,
   "metadata": {},
   "outputs": [],
   "source": [
    "all_feats.drop(ls_hero_id,inplace=True,axis=1)"
   ]
  },
  {
   "cell_type": "code",
   "execution_count": 144,
   "metadata": {},
   "outputs": [
    {
     "data": {
      "text/plain": [
       "(49675, 822)"
      ]
     },
     "execution_count": 144,
     "metadata": {},
     "output_type": "execute_result"
    }
   ],
   "source": [
    "all_feats.shape"
   ]
  },
  {
   "cell_type": "code",
   "execution_count": 145,
   "metadata": {},
   "outputs": [
    {
     "name": "stdout",
     "output_type": "stream",
     "text": [
      "(39675, 822)\n",
      "(10000, 822)\n"
     ]
    }
   ],
   "source": [
    "ind = train_X.shape[0]\n",
    "all_feats_train = all_feats.iloc[:ind,]\n",
    "all_feats_test = all_feats.iloc[ind:,:]\n",
    "print(all_feats_train.shape)\n",
    "print(all_feats_test.shape)"
   ]
  },
  {
   "cell_type": "code",
   "execution_count": 146,
   "metadata": {},
   "outputs": [],
   "source": [
    "all_feats_full = pd.concat([all_feats_train,y],axis=1)\n",
    "all_feats_full.head(1);"
   ]
  },
  {
   "cell_type": "code",
   "execution_count": 147,
   "metadata": {},
   "outputs": [],
   "source": [
    "X_train, X_test, y_train, y_test = train_test_split(all_feats_full.drop('radiant_win',axis=1),\n",
    "                                                    all_feats_full['radiant_win'], test_size=.3, \n",
    "                                                    stratify=all_feats_full['radiant_win'])"
   ]
  },
  {
   "cell_type": "code",
   "execution_count": 148,
   "metadata": {},
   "outputs": [],
   "source": [
    "X_train.head();"
   ]
  },
  {
   "cell_type": "code",
   "execution_count": 149,
   "metadata": {},
   "outputs": [
    {
     "data": {
      "text/plain": [
       "(27772,)"
      ]
     },
     "execution_count": 149,
     "metadata": {},
     "output_type": "execute_result"
    }
   ],
   "source": [
    "y_train.shape"
   ]
  },
  {
   "cell_type": "code",
   "execution_count": 150,
   "metadata": {},
   "outputs": [
    {
     "data": {
      "text/plain": [
       "radiant_win    0\n",
       "dtype: int64"
      ]
     },
     "execution_count": 150,
     "metadata": {},
     "output_type": "execute_result"
    }
   ],
   "source": [
    "pd.DataFrame(y_train).isnull().sum()"
   ]
  },
  {
   "cell_type": "code",
   "execution_count": 198,
   "metadata": {},
   "outputs": [],
   "source": [
    "from sklearn.compose import ColumnTransformer\n",
    "from sklearn.preprocessing import StandardScaler, OneHotEncoder, LabelBinarizer, LabelEncoder\n",
    "from sklearn_pandas import DataFrameMapper"
   ]
  },
  {
   "cell_type": "code",
   "execution_count": 151,
   "metadata": {},
   "outputs": [],
   "source": [
    "#hero_ids = ['r{}_hero_id'.format(i) for i in range(1,6)] +['d{}_hero_id'.format(i) for i in range(1,6)]\n",
    "cat_feats = select_cols_n_distinct(all_feats_full,2,3)# + hero_ids\n",
    "cat_feats.remove('radiant_win')\n",
    "#cat_feats.append('game_mode')\n",
    "\n",
    "#cat_feats"
   ]
  },
  {
   "cell_type": "code",
   "execution_count": 152,
   "metadata": {},
   "outputs": [],
   "source": [
    "#ord_feats = select_cols_n_distinct(all_feats,4,30)\n",
    "#ord_feats.remove('game_mode')"
   ]
  },
  {
   "cell_type": "code",
   "execution_count": 153,
   "metadata": {},
   "outputs": [],
   "source": [
    "num_feats = [feature for feature in all_feats_full.columns.values if feature not in cat_feats]\n",
    "num_feats.remove('radiant_win')\n",
    "#num_feats = [feature for feature in all_feats.columns.values if feature not in ord_feats]"
   ]
  },
  {
   "cell_type": "code",
   "execution_count": 154,
   "metadata": {},
   "outputs": [],
   "source": [
    "from sklearn.ensemble import AdaBoostClassifier"
   ]
  },
  {
   "cell_type": "code",
   "execution_count": 155,
   "metadata": {},
   "outputs": [],
   "source": [
    "from lightgbm import LGBMClassifier\n",
    "from sklearn.base import BaseEstimator"
   ]
  },
  {
   "cell_type": "code",
   "execution_count": 156,
   "metadata": {},
   "outputs": [],
   "source": [
    "class ClassifierCustom(BaseEstimator):\n",
    "    def __init__(self, C=1, n_estimators=200):\n",
    "        self.n_estimators = n_estimators\n",
    "        self.C = C\n",
    "        \n",
    "        self.models = []\n",
    "        #self.boot = []\n",
    "        #self.feat_ids_by_tree = []\n",
    "    def fit(self, X, y):\n",
    "            #log reg\n",
    "            lr = LogisticRegression(C = self.C)\n",
    "            self.models.append(lr.fit(X,y))\n",
    "            \n",
    "            #Adaboost\n",
    "            ab = AdaBoostClassifier(n_estimators = 250, learning_rate = 1)\n",
    "            self.models.append(ab.fit(X,y))\n",
    "            \n",
    "            #lgbm\n",
    "            lgbm = LGBMClassifier(n_jobs=-1)\n",
    "            self.models.append(lgbm.fit(X,y))\n",
    "            return self\n",
    "    \n",
    "    def predict_proba(self, X):\n",
    "        self.probs = [self.models[0].predict_proba(X)] #weight logistic regression double\n",
    "        for i in range(len(self.models)):\n",
    "            self.probs.append(self.models[i].predict_proba(X))\n",
    "        self.probs = np.array(self.probs)\n",
    "        self.averages = np.mean(self.probs, axis = 0)\n",
    "        return self.averages\n",
    "    \n",
    "    def predict(self,X):\n",
    "        self.predictions =  self.predict_proba(X) >=0.5 \n",
    "        return self.predictions\n"
   ]
  },
  {
   "cell_type": "code",
   "execution_count": 229,
   "metadata": {},
   "outputs": [],
   "source": [
    "from sklearn.pipeline import Pipeline, FeatureUnion, make_pipeline\n",
    "from sklearn.preprocessing import OneHotEncoder\n",
    "from sklearn.base import BaseEstimator, TransformerMixin\n",
    "from sklearn.neighbors import KNeighborsClassifier\n",
    "\n",
    "class Columns(BaseEstimator, TransformerMixin):\n",
    "    def __init__(self, names=None):\n",
    "        self.names = names\n",
    "\n",
    "    def fit(self, X, y=None, **fit_params):\n",
    "        return self\n",
    "\n",
    "    def transform(self, X):\n",
    "        return X[self.names]\n",
    "    \n",
    "    \n",
    "\n",
    "pipe = Pipeline([\n",
    "    (\"features\", FeatureUnion([\n",
    "        ('numeric', make_pipeline(Columns(names=num_feats),StandardScaler())),\n",
    "        ('categorical', make_pipeline(Columns(names=cat_feats),OneHotEncoder(sparse=False)))\n",
    "    ])),\n",
    "    #('PCA',PCA(n_components = 550,whiten=True)),\n",
    "    ('logreg', LogisticRegression(C=.8,penalty='l1',solver='saga'))])\n",
    "    #('custom', ClassifierCustom(C = 0.95, n_estimators = 250))])\n",
    "    #('adaboost', AdaBoostClassifier(n_estimators = 150))])\n",
    "       #('lgbm', LGBMClassifier(n_jobs=-1,boost = 'gbdt',\n",
    "       #   feature_fraction= 0.05,\n",
    "       #   learning_rate= 0.005,\n",
    "       #     num_iterations = 500,\n",
    "       #   max_depth= -1,  \n",
    "       #   min_data_in_leaf = 150,\n",
    "       #   num_leaves = 64,\n",
    "       #   num_threads = -1,\n",
    "       #   verbosity= 1,\n",
    "       #   objective = 'binary'))])"
   ]
  },
  {
   "cell_type": "code",
   "execution_count": 230,
   "metadata": {
    "scrolled": true
   },
   "outputs": [
    {
     "data": {
      "text/plain": [
       "Pipeline(memory=None,\n",
       "     steps=[('features', FeatureUnion(n_jobs=1,\n",
       "       transformer_list=[('numeric', Pipeline(memory=None,\n",
       "     steps=[('columns', Columns(names=['r1_kills', 'r1_deaths', 'r1_assists', 'r1_denies', 'r1_gold', 'r1_lh', 'r1_xp', 'r1_health', 'r1_max_health', 'r1_max_mana', 'r1_level', 'r1_x', 'r1_y', 'r1_s...penalty='l1', random_state=None, solver='saga', tol=0.0001,\n",
       "          verbose=0, warm_start=False))])"
      ]
     },
     "execution_count": 230,
     "metadata": {},
     "output_type": "execute_result"
    }
   ],
   "source": [
    "#pipe.fit(all_feats_train,y)\n",
    "pipe.fit(X_train,y_train)"
   ]
  },
  {
   "cell_type": "code",
   "execution_count": 231,
   "metadata": {},
   "outputs": [],
   "source": [
    "feature_importance = abs(pipe.named_steps['logreg'].coef_[0])"
   ]
  },
  {
   "cell_type": "code",
   "execution_count": 234,
   "metadata": {},
   "outputs": [],
   "source": [
    "predicted = pipe.predict(X_test)"
   ]
  },
  {
   "cell_type": "code",
   "execution_count": 235,
   "metadata": {},
   "outputs": [
    {
     "name": "stdout",
     "output_type": "stream",
     "text": [
      "0.7444341762580862\n"
     ]
    }
   ],
   "source": [
    "print(accuracy_score(y_test, predicted))"
   ]
  },
  {
   "cell_type": "code",
   "execution_count": 236,
   "metadata": {},
   "outputs": [
    {
     "name": "stdout",
     "output_type": "stream",
     "text": [
      "0.7428248516094558\n"
     ]
    }
   ],
   "source": [
    "print(roc_auc_score(y_test,predicted))"
   ]
  },
  {
   "cell_type": "code",
   "execution_count": 198,
   "metadata": {},
   "outputs": [],
   "source": [
    "from sklearn.model_selection import cross_val_predict"
   ]
  },
  {
   "cell_type": "code",
   "execution_count": 199,
   "metadata": {},
   "outputs": [],
   "source": [
    "cv_pred = cross_val_predict(pipe, \n",
    "                            # X_train, \n",
    "                            # y_train, \n",
    "                             all_feats_train,\n",
    "                            y,\n",
    "                             cv=5,\n",
    "                             method=\"predict_proba\")"
   ]
  },
  {
   "cell_type": "code",
   "execution_count": 202,
   "metadata": {},
   "outputs": [
    {
     "data": {
      "text/plain": [
       "(39675, 2)"
      ]
     },
     "execution_count": 202,
     "metadata": {},
     "output_type": "execute_result"
    }
   ],
   "source": [
    "cv_pred.shape"
   ]
  },
  {
   "cell_type": "code",
   "execution_count": 203,
   "metadata": {},
   "outputs": [
    {
     "name": "stdout",
     "output_type": "stream",
     "text": [
      "Cross validation AUC 0.8225\n"
     ]
    }
   ],
   "source": [
    "print(\"Cross validation AUC {:.4f}\".format(roc_auc_score(y, cv_pred[:,1])))"
   ]
  },
  {
   "cell_type": "markdown",
   "metadata": {},
   "source": [
    "Note: So far, logreg with C = 0.95 does the best. The Custom ensemble is also close. PCA decreases both metrics and position on leaderboard; RF also decreased leaderboard position, over logreg (best so far).\\\n",
    "`cross_val_predict` gives ROC AUC 0.8132 for logistic regression. ROC AUC 0.8049 for lightGBM (untuned)"
   ]
  },
  {
   "cell_type": "markdown",
   "metadata": {},
   "source": [
    "### Custom classifier: logreg, Adaboost, lgbm"
   ]
  },
  {
   "cell_type": "markdown",
   "metadata": {},
   "source": [
    "## Grid Search"
   ]
  },
  {
   "cell_type": "code",
   "execution_count": 326,
   "metadata": {},
   "outputs": [],
   "source": [
    "from sklearn.model_selection import GridSearchCV"
   ]
  },
  {
   "cell_type": "code",
   "execution_count": 80,
   "metadata": {},
   "outputs": [],
   "source": [
    "param_grid_lgbm = {\n",
    "    'lgbm__max_depth': [18],\n",
    "    'lgbm__learning_rate': [.01],\n",
    "    'lgbm__num_leaves': [4,8,16], #large will increase accuracy but may overfit\n",
    "    'lgbm__learning_rate': [0.005],\n",
    "    'lgbm__n_estimators': [40],\n",
    "    'lgbm__num_leaves': [6,8,12,16],\n",
    "    'lgbm__boosting_type' : ['gbdt'],\n",
    "    'lgbm__objective' : ['binary'],\n",
    "    'lgbm__random_state' : [501], # Updated from 'seed'\n",
    "    'lgbm__colsample_bytree' : [0.65, 0.66],\n",
    "    'lgbm__subsample' : [0.7,0.75],\n",
    "    'lgbm__reg_alpha' : [1,1.2],\n",
    "    'lgbm__reg_lambda' : [1,1.2,1.4],\n",
    "    }"
   ]
  },
  {
   "cell_type": "code",
   "execution_count": 327,
   "metadata": {},
   "outputs": [],
   "source": [
    "param_grid_logreg = {\n",
    "    'logreg__C': [.6,.7,.8],\n",
    "    'logreg__penalty': ['l1'],\n",
    "    'logreg__solver': ['saga']   \n",
    "}"
   ]
  },
  {
   "cell_type": "code",
   "execution_count": 427,
   "metadata": {},
   "outputs": [],
   "source": [
    "param_grid_ab = {\n",
    "    'adaboost__n_estimators': [125,150,175],\n",
    "}"
   ]
  },
  {
   "cell_type": "code",
   "execution_count": 360,
   "metadata": {},
   "outputs": [],
   "source": [
    "grid_clf = GridSearchCV(pipe, param_grid_logreg, cv=5, iid=False)\n",
    "grid_clf.fit(X_train, y_train);"
   ]
  },
  {
   "cell_type": "code",
   "execution_count": 361,
   "metadata": {},
   "outputs": [
    {
     "data": {
      "text/plain": [
       "{'logreg__C': 0.8, 'logreg__penalty': 'l1', 'logreg__solver': 'saga'}"
      ]
     },
     "execution_count": 361,
     "metadata": {},
     "output_type": "execute_result"
    }
   ],
   "source": [
    "grid_clf.best_params_"
   ]
  },
  {
   "cell_type": "code",
   "execution_count": 362,
   "metadata": {},
   "outputs": [
    {
     "name": "stdout",
     "output_type": "stream",
     "text": [
      "grid search best: 0.751239\n"
     ]
    }
   ],
   "source": [
    "print(\"grid search best: %f\" % grid_clf.best_estimator_.score(X_test, y_test))\n"
   ]
  },
  {
   "cell_type": "markdown",
   "metadata": {},
   "source": [
    "Logistic regression is doing better than other models. In grid search with best C = 0.9.\n",
    "\n",
    "PCA best around 300 (+-15).\n",
    "\n",
    "AdaBoost is doing more poorly; best `n_estimators` is 150 among `[50,100,150]`"
   ]
  },
  {
   "cell_type": "markdown",
   "metadata": {},
   "source": [
    "### Preparing submission"
   ]
  },
  {
   "cell_type": "code",
   "execution_count": 207,
   "metadata": {},
   "outputs": [
    {
     "data": {
      "text/plain": [
       "(10000, 144)"
      ]
     },
     "execution_count": 207,
     "metadata": {},
     "output_type": "execute_result"
    }
   ],
   "source": [
    "all_feats_test.shape"
   ]
  },
  {
   "cell_type": "code",
   "execution_count": 208,
   "metadata": {},
   "outputs": [],
   "source": [
    "#X_test_vals = all_feats_test.values\n",
    "y_test_pred = pipe.predict_proba(all_feats_test)[:,1]\n",
    "\n",
    "df_submission = pd.DataFrame({'radiant_win_prob': y_test_pred}, \n",
    "                                 index=all_feats_test.index)\n"
   ]
  },
  {
   "cell_type": "code",
   "execution_count": 209,
   "metadata": {},
   "outputs": [],
   "source": [
    "df_submission.index.name='match_id_hash'"
   ]
  },
  {
   "cell_type": "code",
   "execution_count": 210,
   "metadata": {},
   "outputs": [
    {
     "data": {
      "text/html": [
       "<div>\n",
       "<style scoped>\n",
       "    .dataframe tbody tr th:only-of-type {\n",
       "        vertical-align: middle;\n",
       "    }\n",
       "\n",
       "    .dataframe tbody tr th {\n",
       "        vertical-align: top;\n",
       "    }\n",
       "\n",
       "    .dataframe thead th {\n",
       "        text-align: right;\n",
       "    }\n",
       "</style>\n",
       "<table border=\"1\" class=\"dataframe\">\n",
       "  <thead>\n",
       "    <tr style=\"text-align: right;\">\n",
       "      <th></th>\n",
       "      <th>radiant_win_prob</th>\n",
       "    </tr>\n",
       "    <tr>\n",
       "      <th>match_id_hash</th>\n",
       "      <th></th>\n",
       "    </tr>\n",
       "  </thead>\n",
       "  <tbody>\n",
       "    <tr>\n",
       "      <th>30cc2d778dca82f2edb568ce9b585caa</th>\n",
       "      <td>0.362214</td>\n",
       "    </tr>\n",
       "    <tr>\n",
       "      <th>70e5ba30f367cea48793b9003fab9d38</th>\n",
       "      <td>0.980129</td>\n",
       "    </tr>\n",
       "    <tr>\n",
       "      <th>4d9ef74d3a2025d79e9423105fd73d41</th>\n",
       "      <td>0.935642</td>\n",
       "    </tr>\n",
       "  </tbody>\n",
       "</table>\n",
       "</div>"
      ],
      "text/plain": [
       "                                  radiant_win_prob\n",
       "match_id_hash                                     \n",
       "30cc2d778dca82f2edb568ce9b585caa          0.362214\n",
       "70e5ba30f367cea48793b9003fab9d38          0.980129\n",
       "4d9ef74d3a2025d79e9423105fd73d41          0.935642"
      ]
     },
     "execution_count": 210,
     "metadata": {},
     "output_type": "execute_result"
    }
   ],
   "source": [
    "df_submission.head(3)"
   ]
  },
  {
   "cell_type": "code",
   "execution_count": 211,
   "metadata": {},
   "outputs": [
    {
     "name": "stdout",
     "output_type": "stream",
     "text": [
      "Submission saved to submission_2019-11-16_18-53-12.csv\n"
     ]
    }
   ],
   "source": [
    "import datetime\n",
    "submission_filename = 'submission_{}.csv'.format(\n",
    "    datetime.datetime.now().strftime('%Y-%m-%d_%H-%M-%S'))\n",
    "df_submission.to_csv(submission_filename)\n",
    "print('Submission saved to {}'.format(submission_filename))"
   ]
  },
  {
   "cell_type": "code",
   "execution_count": 371,
   "metadata": {},
   "outputs": [
    {
     "data": {
      "text/plain": [
       "array([[<matplotlib.axes._subplots.AxesSubplot object at 0x1a40c5b518>]],\n",
       "      dtype=object)"
      ]
     },
     "execution_count": 371,
     "metadata": {},
     "output_type": "execute_result"
    },
    {
     "data": {
      "image/png": "[encoded data removed]",
      "text/plain": [
       "<Figure size 432x288 with 1 Axes>"
      ]
     },
     "metadata": {
      "needs_background": "light"
     },
     "output_type": "display_data"
    }
   ],
   "source": [
    "df_submission.hist()"
   ]
  },
  {
   "cell_type": "code",
   "execution_count": null,
   "metadata": {},
   "outputs": [],
   "source": []
  },
  {
   "cell_type": "markdown",
   "metadata": {},
   "source": [
    "Not using this:"
   ]
  },
  {
   "cell_type": "code",
   "execution_count": 61,
   "metadata": {},
   "outputs": [
    {
     "name": "stdout",
     "output_type": "stream",
     "text": [
      "Cross validation AUC 0.8049\n"
     ]
    }
   ],
   "source": []
  },
  {
   "cell_type": "code",
   "execution_count": 56,
   "metadata": {},
   "outputs": [
    {
     "name": "stderr",
     "output_type": "stream",
     "text": [
      "/anaconda3/lib/python3.7/site-packages/sklearn/compose/_column_transformer.py:751: DeprecationWarning: `make_column_transformer` now expects (transformer, columns) as input tuples instead of (columns, transformer). This has been introduced in v0.20.1. `make_column_transformer` will stop accepting the deprecated (columns, transformer) order in v0.22.\n",
      "  warnings.warn(message, DeprecationWarning)\n"
     ]
    }
   ],
   "source": [
    "from sklearn.compose import ColumnTransformer, make_column_transformer\n",
    "\n",
    "preprocess = make_column_transformer(\n",
    "    (num_feats, StandardScaler()),\n",
    "    (cat_feats, OneHotEncoder()))\n",
    "\n"
   ]
  },
  {
   "cell_type": "code",
   "execution_count": 58,
   "metadata": {},
   "outputs": [],
   "source": [
    "pipe2 = make_pipeline(\n",
    "    preprocess,\n",
    "   # StandardScaler(),\n",
    "    LGBMClassifier(n_jobs=-1)\n",
    ")"
   ]
  },
  {
   "cell_type": "markdown",
   "metadata": {},
   "source": [
    "## EDA + FE"
   ]
  },
  {
   "cell_type": "code",
   "execution_count": 577,
   "metadata": {},
   "outputs": [
    {
     "data": {
      "text/plain": [
       "Index(['game_time', 'game_mode', 'lobby_type', 'objectives_len', 'chat_len',\n",
       "       'r1_kills', 'r1_deaths', 'r1_assists', 'r1_denies', 'r1_gold',\n",
       "       ...\n",
       "       'r1_hero_idnorm', 'r2_hero_idnorm', 'r3_hero_idnorm', 'r4_hero_idnorm',\n",
       "       'r5_hero_idnorm', 'd1_hero_idnorm', 'd2_hero_idnorm', 'd3_hero_idnorm',\n",
       "       'd4_hero_idnorm', 'd5_hero_idnorm'],\n",
       "      dtype='object', length=316)"
      ]
     },
     "execution_count": 577,
     "metadata": {},
     "output_type": "execute_result"
    }
   ],
   "source": [
    "full_df.columns"
   ]
  },
  {
   "cell_type": "code",
   "execution_count": 578,
   "metadata": {},
   "outputs": [
    {
     "data": {
      "text/plain": [
       "22    31762\n",
       "4      3564\n",
       "23     2546\n",
       "3      1200\n",
       "2       408\n",
       "5       188\n",
       "12        5\n",
       "16        2\n",
       "Name: game_mode, dtype: int64"
      ]
     },
     "execution_count": 578,
     "metadata": {},
     "output_type": "execute_result"
    }
   ],
   "source": [
    "full_df['game_mode'].value_counts()"
   ]
  },
  {
   "cell_type": "code",
   "execution_count": 579,
   "metadata": {},
   "outputs": [],
   "source": [
    "game_mode_rad_win = full_df[full_df['radiant_win'] == True]['game_mode']\n",
    "game_mode_rad_lose = full_df[full_df['radiant_win'] == False]['game_mode']"
   ]
  },
  {
   "cell_type": "code",
   "execution_count": 581,
   "metadata": {},
   "outputs": [
    {
     "data": {
      "text/plain": [
       "22    0.803659\n",
       "4     0.087871\n",
       "23    0.064007\n",
       "3     0.029434\n",
       "2     0.010708\n",
       "5     0.004177\n",
       "12    0.000096\n",
       "16    0.000048\n",
       "Name: game_mode, dtype: float64"
      ]
     },
     "execution_count": 581,
     "metadata": {},
     "output_type": "execute_result"
    }
   ],
   "source": [
    "game_mode_rad_win.value_counts(normalize=True)"
   ]
  },
  {
   "cell_type": "code",
   "execution_count": 582,
   "metadata": {},
   "outputs": [
    {
     "data": {
      "text/plain": [
       "22    0.797125\n",
       "4     0.091994\n",
       "23    0.064354\n",
       "3     0.031142\n",
       "2     0.009815\n",
       "5     0.005358\n",
       "12    0.000159\n",
       "16    0.000053\n",
       "Name: game_mode, dtype: float64"
      ]
     },
     "execution_count": 582,
     "metadata": {},
     "output_type": "execute_result"
    }
   ],
   "source": [
    "game_mode_rad_lose.value_counts(normalize=True)"
   ]
  },
  {
   "cell_type": "code",
   "execution_count": 583,
   "metadata": {},
   "outputs": [
    {
     "name": "stdout",
     "output_type": "stream",
     "text": [
      "7    0.683569\n",
      "0    0.316431\n",
      "Name: lobby_type, dtype: float64\n",
      "7    0.679771\n",
      "0    0.320229\n",
      "Name: lobby_type, dtype: float64\n"
     ]
    }
   ],
   "source": [
    "lobby_type_rad_win = full_df[full_df['radiant_win'] == True]['lobby_type']\n",
    "lobby_type_rad_lose = full_df[full_df['radiant_win'] == False]['lobby_type']\n",
    "print(lobby_type_rad_win.value_counts(normalize=True))\n",
    "print(lobby_type_rad_lose.value_counts(normalize=True))"
   ]
  },
  {
   "cell_type": "code",
   "execution_count": 586,
   "metadata": {},
   "outputs": [],
   "source": [
    "objectives_len_rad_win = full_df[full_df['radiant_win'] == True]['objectives_len']\n",
    "objectives_len_rad_lose = full_df[full_df['radiant_win'] == False]['objectives_len']\n",
    "#print(objectives_len_rad_win.value_counts(normalize=True))\n",
    "#print(objectives_len_rad_lose.value_counts(normalize=True))"
   ]
  },
  {
   "cell_type": "code",
   "execution_count": 587,
   "metadata": {},
   "outputs": [],
   "source": [
    "full_rad_win = full_df[full_df['radiant_win']==True]\n",
    "full_rad_lose = full_df[full_df['radiant_win']==False]"
   ]
  },
  {
   "cell_type": "code",
   "execution_count": null,
   "metadata": {},
   "outputs": [],
   "source": []
  }
 ],
 "metadata": {
  "kernelspec": {
   "display_name": "Python 3",
   "language": "python",
   "name": "python3"
  },
  "language_info": {
   "codemirror_mode": {
    "name": "ipython",
    "version": 3
   },
   "file_extension": ".py",
   "mimetype": "text/x-python",
   "name": "python",
   "nbconvert_exporter": "python",
   "pygments_lexer": "ipython3",
   "version": "3.7.3"
  }
 },
 "nbformat": 4,
 "nbformat_minor": 2
}
