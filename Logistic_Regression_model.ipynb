{
 "cells": [
  {
   "cell_type": "code",
   "execution_count": 1,
   "metadata": {},
   "outputs": [],
   "source": [
    "import pandas as pd\n",
    "import numpy as np\n",
    "import matplotlib.pyplot as plt\n",
    "plt.rcParams['figure.dpi']= 200\n",
    "import seaborn as sns\n",
    "import warnings\n",
    "warnings.filterwarnings('ignore')"
   ]
  },
  {
   "cell_type": "markdown",
   "metadata": {},
   "source": [
    "## Load the data"
   ]
  },
  {
   "cell_type": "code",
   "execution_count": 2,
   "metadata": {},
   "outputs": [
    {
     "data": {
      "text/html": [
       "<div>\n",
       "<style scoped>\n",
       "    .dataframe tbody tr th:only-of-type {\n",
       "        vertical-align: middle;\n",
       "    }\n",
       "\n",
       "    .dataframe tbody tr th {\n",
       "        vertical-align: top;\n",
       "    }\n",
       "\n",
       "    .dataframe thead th {\n",
       "        text-align: right;\n",
       "    }\n",
       "</style>\n",
       "<table border=\"1\" class=\"dataframe\">\n",
       "  <thead>\n",
       "    <tr style=\"text-align: right;\">\n",
       "      <th></th>\n",
       "      <th>d_dead</th>\n",
       "      <th>r_dead</th>\n",
       "      <th>d_health_avg</th>\n",
       "      <th>r_health_avg</th>\n",
       "      <th>d1_in_r_base</th>\n",
       "      <th>r1_in_r_base</th>\n",
       "      <th>d1_in_d_base</th>\n",
       "      <th>r1_in_d_base</th>\n",
       "      <th>d2_in_r_base</th>\n",
       "      <th>r2_in_r_base</th>\n",
       "      <th>...</th>\n",
       "      <th>log_d_damage_received</th>\n",
       "      <th>log_r_max_hero_hit</th>\n",
       "      <th>log_d_max_hero_hit</th>\n",
       "      <th>log_chat_len</th>\n",
       "      <th>log_game_time</th>\n",
       "      <th>log_ratio_assists</th>\n",
       "      <th>sq_r_gold</th>\n",
       "      <th>sq_r_xp</th>\n",
       "      <th>sq_d_gold</th>\n",
       "      <th>sq_d_xp</th>\n",
       "    </tr>\n",
       "    <tr>\n",
       "      <th>match_id_hash</th>\n",
       "      <th></th>\n",
       "      <th></th>\n",
       "      <th></th>\n",
       "      <th></th>\n",
       "      <th></th>\n",
       "      <th></th>\n",
       "      <th></th>\n",
       "      <th></th>\n",
       "      <th></th>\n",
       "      <th></th>\n",
       "      <th></th>\n",
       "      <th></th>\n",
       "      <th></th>\n",
       "      <th></th>\n",
       "      <th></th>\n",
       "      <th></th>\n",
       "      <th></th>\n",
       "      <th></th>\n",
       "      <th></th>\n",
       "      <th></th>\n",
       "      <th></th>\n",
       "    </tr>\n",
       "  </thead>\n",
       "  <tbody>\n",
       "    <tr>\n",
       "      <th>a400b8f29dece5f4d266f49f1ae2e98a</th>\n",
       "      <td>0</td>\n",
       "      <td>0</td>\n",
       "      <td>0.954967</td>\n",
       "      <td>0.715500</td>\n",
       "      <td>0</td>\n",
       "      <td>0</td>\n",
       "      <td>0</td>\n",
       "      <td>0</td>\n",
       "      <td>0</td>\n",
       "      <td>0</td>\n",
       "      <td>...</td>\n",
       "      <td>7.349874</td>\n",
       "      <td>5.209486</td>\n",
       "      <td>6.042633</td>\n",
       "      <td>2.484907</td>\n",
       "      <td>5.049856</td>\n",
       "      <td>0.000000</td>\n",
       "      <td>4149369</td>\n",
       "      <td>3964081</td>\n",
       "      <td>15586704</td>\n",
       "      <td>9511056</td>\n",
       "    </tr>\n",
       "    <tr>\n",
       "      <th>b9c57c450ce74a2af79c9ce96fac144d</th>\n",
       "      <td>0</td>\n",
       "      <td>0</td>\n",
       "      <td>0.764778</td>\n",
       "      <td>0.846735</td>\n",
       "      <td>0</td>\n",
       "      <td>1</td>\n",
       "      <td>0</td>\n",
       "      <td>0</td>\n",
       "      <td>0</td>\n",
       "      <td>0</td>\n",
       "      <td>...</td>\n",
       "      <td>10.104794</td>\n",
       "      <td>6.877296</td>\n",
       "      <td>6.639876</td>\n",
       "      <td>2.397895</td>\n",
       "      <td>6.490724</td>\n",
       "      <td>1.504077</td>\n",
       "      <td>330221584</td>\n",
       "      <td>308564356</td>\n",
       "      <td>172764736</td>\n",
       "      <td>167055625</td>\n",
       "    </tr>\n",
       "  </tbody>\n",
       "</table>\n",
       "<p>2 rows × 148 columns</p>\n",
       "</div>"
      ],
      "text/plain": [
       "                                  d_dead  r_dead  d_health_avg  r_health_avg  \\\n",
       "match_id_hash                                                                  \n",
       "a400b8f29dece5f4d266f49f1ae2e98a       0       0      0.954967      0.715500   \n",
       "b9c57c450ce74a2af79c9ce96fac144d       0       0      0.764778      0.846735   \n",
       "\n",
       "                                  d1_in_r_base  r1_in_r_base  d1_in_d_base  \\\n",
       "match_id_hash                                                                \n",
       "a400b8f29dece5f4d266f49f1ae2e98a             0             0             0   \n",
       "b9c57c450ce74a2af79c9ce96fac144d             0             1             0   \n",
       "\n",
       "                                  r1_in_d_base  d2_in_r_base  r2_in_r_base  \\\n",
       "match_id_hash                                                                \n",
       "a400b8f29dece5f4d266f49f1ae2e98a             0             0             0   \n",
       "b9c57c450ce74a2af79c9ce96fac144d             0             0             0   \n",
       "\n",
       "                                  ...  log_d_damage_received  \\\n",
       "match_id_hash                     ...                          \n",
       "a400b8f29dece5f4d266f49f1ae2e98a  ...               7.349874   \n",
       "b9c57c450ce74a2af79c9ce96fac144d  ...              10.104794   \n",
       "\n",
       "                                  log_r_max_hero_hit  log_d_max_hero_hit  \\\n",
       "match_id_hash                                                              \n",
       "a400b8f29dece5f4d266f49f1ae2e98a            5.209486            6.042633   \n",
       "b9c57c450ce74a2af79c9ce96fac144d            6.877296            6.639876   \n",
       "\n",
       "                                  log_chat_len  log_game_time  \\\n",
       "match_id_hash                                                   \n",
       "a400b8f29dece5f4d266f49f1ae2e98a      2.484907       5.049856   \n",
       "b9c57c450ce74a2af79c9ce96fac144d      2.397895       6.490724   \n",
       "\n",
       "                                  log_ratio_assists  sq_r_gold    sq_r_xp  \\\n",
       "match_id_hash                                                               \n",
       "a400b8f29dece5f4d266f49f1ae2e98a           0.000000    4149369    3964081   \n",
       "b9c57c450ce74a2af79c9ce96fac144d           1.504077  330221584  308564356   \n",
       "\n",
       "                                  sq_d_gold    sq_d_xp  \n",
       "match_id_hash                                           \n",
       "a400b8f29dece5f4d266f49f1ae2e98a   15586704    9511056  \n",
       "b9c57c450ce74a2af79c9ce96fac144d  172764736  167055625  \n",
       "\n",
       "[2 rows x 148 columns]"
      ]
     },
     "execution_count": 2,
     "metadata": {},
     "output_type": "execute_result"
    }
   ],
   "source": [
    "data_log_reg = pd.read_csv('new_feat_train_small.csv', index_col ='match_id_hash')\n",
    "target = pd.read_csv('train_targets.csv', index_col = 'match_id_hash')\n",
    "y = target['radiant_win'].apply(lambda x: int(x))\n",
    "data_log_reg.head(2)"
   ]
  },
  {
   "cell_type": "code",
   "execution_count": 3,
   "metadata": {},
   "outputs": [],
   "source": [
    "# select categorical and numerical columns\n",
    "# categorical columns will be encoded\n",
    "# numerical columns will be normalized\n",
    "\n",
    "cat_feats = ['game_mode','lobby_type', 'r_firstblood_claimed','d_firstblood_claimed', 'r_in_r_base', 'd_in_d_base', 'r_in_d_base', 'd_in_r_base']\n",
    "num_feats = [col for col in data_log_reg.columns if col not in cat_feats]\n",
    "numerical_columns =[]\n",
    "for j in range(len(data_log_reg.columns)):\n",
    "    if data_log_reg.columns[j] in num_feats:\n",
    "        numerical_columns.append(j)"
   ]
  },
  {
   "cell_type": "markdown",
   "metadata": {},
   "source": [
    "## Building pipeline, Model tuning"
   ]
  },
  {
   "cell_type": "code",
   "execution_count": 4,
   "metadata": {},
   "outputs": [
    {
     "data": {
      "text/plain": [
       "(27772, 148)"
      ]
     },
     "execution_count": 4,
     "metadata": {},
     "output_type": "execute_result"
    }
   ],
   "source": [
    "from sklearn.model_selection import train_test_split\n",
    "\n",
    "X_log_reg = data_log_reg\n",
    "\n",
    "X_train, X_test, y_train, y_test = train_test_split(X_log_reg, y, test_size=0.30, random_state=150)\n",
    "X_train.shape"
   ]
  },
  {
   "cell_type": "code",
   "execution_count": 5,
   "metadata": {},
   "outputs": [],
   "source": [
    "from sklearn.preprocessing import StandardScaler\n",
    "from sklearn.preprocessing import OneHotEncoder\n",
    "from sklearn.pipeline import Pipeline, FeatureUnion, make_pipeline\n",
    "from sklearn.compose import ColumnTransformer, make_column_transformer\n",
    "\n",
    "preprocess = make_column_transformer(\n",
    "    (StandardScaler(), num_feats),\n",
    "    (OneHotEncoder(),cat_feats))\n",
    "\n",
    "from sklearn.linear_model import LogisticRegression\n",
    "from sklearn.model_selection import cross_val_predict\n",
    "from sklearn.metrics import accuracy_score, roc_auc_score,make_scorer\n",
    "\n",
    "\n",
    "logreg = LogisticRegression(C = 10, penalty = 'l1' )\n",
    "pipe = make_pipeline(preprocess, logreg)"
   ]
  },
  {
   "cell_type": "code",
   "execution_count": 6,
   "metadata": {},
   "outputs": [
    {
     "name": "stdout",
     "output_type": "stream",
     "text": [
      "{'logisticregression__C': 10, 'logisticregression__penalty': 'l1'}\n",
      "grid search best score: 0.757960\n"
     ]
    }
   ],
   "source": [
    "# performing the grid search for optimal hyperparameters\n",
    "\n",
    "auc_scorer = make_scorer(roc_auc_score, needs_proba = True)\n",
    "\n",
    "from sklearn.model_selection import GridSearchCV\n",
    "params_logred = {\n",
    "    'logisticregression__C': [0.01,0.1,11,10, 100, 300],\n",
    "    'logisticregression__penalty':['l1', 'l2'],      \n",
    "                }\n",
    "\n",
    "grid_clf = GridSearchCV(pipe, params_logred, cv=5, scoring = auc_scorer)\n",
    "grid_clf.fit(X_train, y_train)\n",
    "\n",
    "print(grid_clf.best_params_)\n",
    "print(\"grid search best score: %f\" % grid_clf.best_estimator_.score(X_test, y_test))"
   ]
  },
  {
   "cell_type": "code",
   "execution_count": 7,
   "metadata": {},
   "outputs": [
    {
     "data": {
      "text/plain": [
       "Pipeline(memory=None,\n",
       "         steps=[('columntransformer',\n",
       "                 ColumnTransformer(n_jobs=None, remainder='drop',\n",
       "                                   sparse_threshold=0.3,\n",
       "                                   transformer_weights=None,\n",
       "                                   transformers=[('standardscaler',\n",
       "                                                  StandardScaler(copy=True,\n",
       "                                                                 with_mean=True,\n",
       "                                                                 with_std=True),\n",
       "                                                  ['d_dead', 'r_dead',\n",
       "                                                   'd_health_avg',\n",
       "                                                   'r_health_avg',\n",
       "                                                   'd1_in_r_base',\n",
       "                                                   'r1_in_r_base',\n",
       "                                                   'd1_in_d_base',\n",
       "                                                   'r1_in_d_base',\n",
       "                                                   'd2_in_r_bas...\n",
       "                                                   'd_firstblood_claimed',\n",
       "                                                   'r_in_r_base', 'd_in_d_base',\n",
       "                                                   'r_in_d_base',\n",
       "                                                   'd_in_r_base'])],\n",
       "                                   verbose=False)),\n",
       "                ('logisticregression',\n",
       "                 LogisticRegression(C=10, class_weight=None, dual=False,\n",
       "                                    fit_intercept=True, intercept_scaling=1,\n",
       "                                    l1_ratio=None, max_iter=100,\n",
       "                                    multi_class='warn', n_jobs=None,\n",
       "                                    penalty='l1', random_state=None,\n",
       "                                    solver='warn', tol=0.0001, verbose=0,\n",
       "                                    warm_start=False))],\n",
       "         verbose=False)"
      ]
     },
     "execution_count": 7,
     "metadata": {},
     "output_type": "execute_result"
    }
   ],
   "source": [
    "# fit the model on the training data\n",
    "pipe.fit(X_train,y_train)"
   ]
  },
  {
   "cell_type": "code",
   "execution_count": 8,
   "metadata": {},
   "outputs": [
    {
     "name": "stdout",
     "output_type": "stream",
     "text": [
      "0.7580441905402\n",
      "0.8453644578100123\n"
     ]
    }
   ],
   "source": [
    "# model assesment: checking the accuracy on the test set\n",
    "\n",
    "predicted_log_reg = pipe.predict(X_test)\n",
    "print(accuracy_score(y_test, predicted_log_reg))\n",
    "predicted_prob = pipe.predict_proba(X_test)[:,1]\n",
    "print(roc_auc_score(y_test,predicted_prob))"
   ]
  },
  {
   "cell_type": "code",
   "execution_count": 9,
   "metadata": {},
   "outputs": [
    {
     "data": {
      "text/plain": [
       "Pipeline(memory=None,\n",
       "         steps=[('columntransformer',\n",
       "                 ColumnTransformer(n_jobs=None, remainder='drop',\n",
       "                                   sparse_threshold=0.3,\n",
       "                                   transformer_weights=None,\n",
       "                                   transformers=[('standardscaler',\n",
       "                                                  StandardScaler(copy=True,\n",
       "                                                                 with_mean=True,\n",
       "                                                                 with_std=True),\n",
       "                                                  ['d_dead', 'r_dead',\n",
       "                                                   'd_health_avg',\n",
       "                                                   'r_health_avg',\n",
       "                                                   'd1_in_r_base',\n",
       "                                                   'r1_in_r_base',\n",
       "                                                   'd1_in_d_base',\n",
       "                                                   'r1_in_d_base',\n",
       "                                                   'd2_in_r_bas...\n",
       "                                                   'd_firstblood_claimed',\n",
       "                                                   'r_in_r_base', 'd_in_d_base',\n",
       "                                                   'r_in_d_base',\n",
       "                                                   'd_in_r_base'])],\n",
       "                                   verbose=False)),\n",
       "                ('logisticregression',\n",
       "                 LogisticRegression(C=10, class_weight=None, dual=False,\n",
       "                                    fit_intercept=True, intercept_scaling=1,\n",
       "                                    l1_ratio=None, max_iter=100,\n",
       "                                    multi_class='warn', n_jobs=None,\n",
       "                                    penalty='l1', random_state=None,\n",
       "                                    solver='warn', tol=0.0001, verbose=0,\n",
       "                                    warm_start=False))],\n",
       "         verbose=False)"
      ]
     },
     "execution_count": 9,
     "metadata": {},
     "output_type": "execute_result"
    }
   ],
   "source": [
    "# fit the model on the full dataset\n",
    "pipe.fit(X_log_reg,y)"
   ]
  },
  {
   "cell_type": "code",
   "execution_count": 10,
   "metadata": {},
   "outputs": [
    {
     "data": {
      "text/plain": [
       "Text(0, 0.5, 'coefficient of regression')"
      ]
     },
     "execution_count": 10,
     "metadata": {},
     "output_type": "execute_result"
    },
    {
     "data": {
      "image/png": "[encoded data removed]",
      "text/plain": [
       "<Figure size 432x288 with 1 Axes>"
      ]
     },
     "metadata": {
      "needs_background": "light"
     },
     "output_type": "display_data"
    }
   ],
   "source": [
    "c = logreg.coef_\n",
    "plt.plot(c[0])\n",
    "plt.xlabel('feature # ')\n",
    "plt.ylabel('coefficient of regression')"
   ]
  },
  {
   "cell_type": "markdown",
   "metadata": {},
   "source": [
    "## Preparing submission file"
   ]
  },
  {
   "cell_type": "code",
   "execution_count": 11,
   "metadata": {},
   "outputs": [],
   "source": [
    "# load test data (for submission)\n",
    "test_data =  pd.read_csv('new_feat_test_small.csv', index_col ='match_id_hash')\n",
    "X_sub_log_reg = test_data\n",
    "y_test_pred_log_reg = pipe.predict_proba(X_sub_log_reg)[:, 1]"
   ]
  },
  {
   "cell_type": "code",
   "execution_count": 12,
   "metadata": {},
   "outputs": [
    {
     "name": "stdout",
     "output_type": "stream",
     "text": [
      "Submission saved to submission_2019-11-24_22-30-31.csv\n"
     ]
    },
    {
     "data": {
      "text/html": [
       "<div>\n",
       "<style scoped>\n",
       "    .dataframe tbody tr th:only-of-type {\n",
       "        vertical-align: middle;\n",
       "    }\n",
       "\n",
       "    .dataframe tbody tr th {\n",
       "        vertical-align: top;\n",
       "    }\n",
       "\n",
       "    .dataframe thead th {\n",
       "        text-align: right;\n",
       "    }\n",
       "</style>\n",
       "<table border=\"1\" class=\"dataframe\">\n",
       "  <thead>\n",
       "    <tr style=\"text-align: right;\">\n",
       "      <th></th>\n",
       "      <th>radiant_win_prob</th>\n",
       "    </tr>\n",
       "    <tr>\n",
       "      <th>match_id_hash</th>\n",
       "      <th></th>\n",
       "    </tr>\n",
       "  </thead>\n",
       "  <tbody>\n",
       "    <tr>\n",
       "      <th>30cc2d778dca82f2edb568ce9b585caa</th>\n",
       "      <td>0.289771</td>\n",
       "    </tr>\n",
       "    <tr>\n",
       "      <th>70e5ba30f367cea48793b9003fab9d38</th>\n",
       "      <td>0.982735</td>\n",
       "    </tr>\n",
       "    <tr>\n",
       "      <th>4d9ef74d3a2025d79e9423105fd73d41</th>\n",
       "      <td>0.951998</td>\n",
       "    </tr>\n",
       "    <tr>\n",
       "      <th>2bb79e0c1eaac1608e5a09c8e0c6a555</th>\n",
       "      <td>0.869946</td>\n",
       "    </tr>\n",
       "    <tr>\n",
       "      <th>bec17f099b01d67edc82dfb5ce735a43</th>\n",
       "      <td>0.200995</td>\n",
       "    </tr>\n",
       "    <tr>\n",
       "      <th>038acbb47d9eb54c11962d07cce8d829</th>\n",
       "      <td>0.074772</td>\n",
       "    </tr>\n",
       "    <tr>\n",
       "      <th>b891f03bb2a86d78b84043437fc95e04</th>\n",
       "      <td>0.961237</td>\n",
       "    </tr>\n",
       "    <tr>\n",
       "      <th>ff898afdb5bb5c7163bde45a009503f7</th>\n",
       "      <td>0.114191</td>\n",
       "    </tr>\n",
       "    <tr>\n",
       "      <th>72e6b1c31c718c0806f9aaeb8b7290a9</th>\n",
       "      <td>0.622756</td>\n",
       "    </tr>\n",
       "    <tr>\n",
       "      <th>abd97ab60ceca3ae6f00a28baea8a43c</th>\n",
       "      <td>0.582443</td>\n",
       "    </tr>\n",
       "  </tbody>\n",
       "</table>\n",
       "</div>"
      ],
      "text/plain": [
       "                                  radiant_win_prob\n",
       "match_id_hash                                     \n",
       "30cc2d778dca82f2edb568ce9b585caa          0.289771\n",
       "70e5ba30f367cea48793b9003fab9d38          0.982735\n",
       "4d9ef74d3a2025d79e9423105fd73d41          0.951998\n",
       "2bb79e0c1eaac1608e5a09c8e0c6a555          0.869946\n",
       "bec17f099b01d67edc82dfb5ce735a43          0.200995\n",
       "038acbb47d9eb54c11962d07cce8d829          0.074772\n",
       "b891f03bb2a86d78b84043437fc95e04          0.961237\n",
       "ff898afdb5bb5c7163bde45a009503f7          0.114191\n",
       "72e6b1c31c718c0806f9aaeb8b7290a9          0.622756\n",
       "abd97ab60ceca3ae6f00a28baea8a43c          0.582443"
      ]
     },
     "execution_count": 12,
     "metadata": {},
     "output_type": "execute_result"
    }
   ],
   "source": [
    "df_submission = pd.DataFrame({'radiant_win_prob': y_test_pred_log_reg},index=test_data.index)\n",
    "\n",
    "import datetime\n",
    "submission_filename = 'submission_{}.csv'.format(\n",
    "    datetime.datetime.now().strftime('%Y-%m-%d_%H-%M-%S'))\n",
    "df_submission.to_csv(submission_filename)\n",
    "print('Submission saved to {}'.format(submission_filename))\n",
    "\n",
    "df_submission.head(10)"
   ]
  },
  {
   "cell_type": "code",
   "execution_count": null,
   "metadata": {},
   "outputs": [],
   "source": []
  }
 ],
 "metadata": {
  "kernelspec": {
   "display_name": "Python 3",
   "language": "python",
   "name": "python3"
  },
  "language_info": {
   "codemirror_mode": {
    "name": "ipython",
    "version": 3
   },
   "file_extension": ".py",
   "mimetype": "text/x-python",
   "name": "python",
   "nbconvert_exporter": "python",
   "pygments_lexer": "ipython3",
   "version": "3.7.3"
  }
 },
 "nbformat": 4,
 "nbformat_minor": 2
}
