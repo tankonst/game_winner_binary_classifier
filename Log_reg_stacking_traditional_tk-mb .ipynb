{
 "cells": [
  {
   "cell_type": "code",
   "execution_count": 1,
   "metadata": {},
   "outputs": [
    {
     "name": "stderr",
     "output_type": "stream",
     "text": [
      "/anaconda3/lib/python3.7/site-packages/sklearn/ensemble/weight_boosting.py:29: DeprecationWarning: numpy.core.umath_tests is an internal NumPy module and should not be imported. It will be removed in a future NumPy release.\n",
      "  from numpy.core.umath_tests import inner1d\n"
     ]
    }
   ],
   "source": [
    "import pandas as pd\n",
    "import numpy as np\n",
    "import matplotlib.pyplot as plt\n",
    "plt.rcParams['figure.dpi']= 100\n",
    "import seaborn as sns\n",
    "import warnings\n",
    "warnings.filterwarnings('ignore')\n",
    "from sklearn import model_selection\n",
    "from sklearn.linear_model import LogisticRegression\n",
    "from sklearn.neighbors import KNeighborsClassifier\n",
    "from sklearn.naive_bayes import GaussianNB \n",
    "from sklearn.ensemble import RandomForestClassifier\n",
    "from mlxtend.classifier import StackingClassifier"
   ]
  },
  {
   "cell_type": "code",
   "execution_count": 2,
   "metadata": {},
   "outputs": [
    {
     "data": {
      "text/html": [
       "<div>\n",
       "<style scoped>\n",
       "    .dataframe tbody tr th:only-of-type {\n",
       "        vertical-align: middle;\n",
       "    }\n",
       "\n",
       "    .dataframe tbody tr th {\n",
       "        vertical-align: top;\n",
       "    }\n",
       "\n",
       "    .dataframe thead th {\n",
       "        text-align: right;\n",
       "    }\n",
       "</style>\n",
       "<table border=\"1\" class=\"dataframe\">\n",
       "  <thead>\n",
       "    <tr style=\"text-align: right;\">\n",
       "      <th></th>\n",
       "      <th>d_dead</th>\n",
       "      <th>r_dead</th>\n",
       "      <th>d_health_avg</th>\n",
       "      <th>r_health_avg</th>\n",
       "      <th>r1_in_d_base</th>\n",
       "      <th>d1_in_r_base</th>\n",
       "      <th>r1_in_r_base</th>\n",
       "      <th>d1_in_d_base</th>\n",
       "      <th>r2_in_d_base</th>\n",
       "      <th>d2_in_r_base</th>\n",
       "      <th>...</th>\n",
       "      <th>log_r_creeps_stacked</th>\n",
       "      <th>log_d_creeps_stacked</th>\n",
       "      <th>log_r_camps_stacked</th>\n",
       "      <th>log_d_camps_stacked</th>\n",
       "      <th>log_r_rune_pickups</th>\n",
       "      <th>log_d_rune_pickups</th>\n",
       "      <th>log_r_sen_placed</th>\n",
       "      <th>log_d_sen_placed</th>\n",
       "      <th>log_chat_len</th>\n",
       "      <th>log_game_time</th>\n",
       "    </tr>\n",
       "    <tr>\n",
       "      <th>match_id_hash</th>\n",
       "      <th></th>\n",
       "      <th></th>\n",
       "      <th></th>\n",
       "      <th></th>\n",
       "      <th></th>\n",
       "      <th></th>\n",
       "      <th></th>\n",
       "      <th></th>\n",
       "      <th></th>\n",
       "      <th></th>\n",
       "      <th></th>\n",
       "      <th></th>\n",
       "      <th></th>\n",
       "      <th></th>\n",
       "      <th></th>\n",
       "      <th></th>\n",
       "      <th></th>\n",
       "      <th></th>\n",
       "      <th></th>\n",
       "      <th></th>\n",
       "      <th></th>\n",
       "    </tr>\n",
       "  </thead>\n",
       "  <tbody>\n",
       "    <tr>\n",
       "      <th>a400b8f29dece5f4d266f49f1ae2e98a</th>\n",
       "      <td>0</td>\n",
       "      <td>0</td>\n",
       "      <td>0.954967</td>\n",
       "      <td>0.715500</td>\n",
       "      <td>0</td>\n",
       "      <td>0</td>\n",
       "      <td>0</td>\n",
       "      <td>0</td>\n",
       "      <td>0</td>\n",
       "      <td>0</td>\n",
       "      <td>...</td>\n",
       "      <td>0.000000</td>\n",
       "      <td>0.000000</td>\n",
       "      <td>0.000000</td>\n",
       "      <td>0.000000</td>\n",
       "      <td>1.098612</td>\n",
       "      <td>2.079442</td>\n",
       "      <td>0.000000</td>\n",
       "      <td>0.000000</td>\n",
       "      <td>2.484907</td>\n",
       "      <td>5.049856</td>\n",
       "    </tr>\n",
       "    <tr>\n",
       "      <th>b9c57c450ce74a2af79c9ce96fac144d</th>\n",
       "      <td>0</td>\n",
       "      <td>0</td>\n",
       "      <td>0.764778</td>\n",
       "      <td>0.846735</td>\n",
       "      <td>0</td>\n",
       "      <td>0</td>\n",
       "      <td>1</td>\n",
       "      <td>0</td>\n",
       "      <td>0</td>\n",
       "      <td>0</td>\n",
       "      <td>...</td>\n",
       "      <td>1.098612</td>\n",
       "      <td>1.386294</td>\n",
       "      <td>0.693147</td>\n",
       "      <td>1.098612</td>\n",
       "      <td>2.639057</td>\n",
       "      <td>2.708050</td>\n",
       "      <td>1.386294</td>\n",
       "      <td>1.098612</td>\n",
       "      <td>2.397895</td>\n",
       "      <td>6.490724</td>\n",
       "    </tr>\n",
       "    <tr>\n",
       "      <th>6db558535151ea18ca70a6892197db41</th>\n",
       "      <td>0</td>\n",
       "      <td>0</td>\n",
       "      <td>0.989032</td>\n",
       "      <td>0.989333</td>\n",
       "      <td>0</td>\n",
       "      <td>0</td>\n",
       "      <td>0</td>\n",
       "      <td>1</td>\n",
       "      <td>0</td>\n",
       "      <td>0</td>\n",
       "      <td>...</td>\n",
       "      <td>0.000000</td>\n",
       "      <td>0.000000</td>\n",
       "      <td>0.000000</td>\n",
       "      <td>0.000000</td>\n",
       "      <td>1.386294</td>\n",
       "      <td>0.693147</td>\n",
       "      <td>0.000000</td>\n",
       "      <td>0.000000</td>\n",
       "      <td>0.000000</td>\n",
       "      <td>3.091042</td>\n",
       "    </tr>\n",
       "    <tr>\n",
       "      <th>46a0ddce8f7ed2a8d9bd5edcbb925682</th>\n",
       "      <td>0</td>\n",
       "      <td>0</td>\n",
       "      <td>0.869557</td>\n",
       "      <td>0.955818</td>\n",
       "      <td>0</td>\n",
       "      <td>0</td>\n",
       "      <td>0</td>\n",
       "      <td>0</td>\n",
       "      <td>0</td>\n",
       "      <td>0</td>\n",
       "      <td>...</td>\n",
       "      <td>0.000000</td>\n",
       "      <td>1.945910</td>\n",
       "      <td>0.000000</td>\n",
       "      <td>1.098612</td>\n",
       "      <td>2.639057</td>\n",
       "      <td>2.484907</td>\n",
       "      <td>0.000000</td>\n",
       "      <td>0.000000</td>\n",
       "      <td>1.609438</td>\n",
       "      <td>6.357842</td>\n",
       "    </tr>\n",
       "    <tr>\n",
       "      <th>b1b35ff97723d9b7ade1c9c3cf48f770</th>\n",
       "      <td>0</td>\n",
       "      <td>0</td>\n",
       "      <td>0.808481</td>\n",
       "      <td>0.735127</td>\n",
       "      <td>0</td>\n",
       "      <td>0</td>\n",
       "      <td>0</td>\n",
       "      <td>0</td>\n",
       "      <td>0</td>\n",
       "      <td>0</td>\n",
       "      <td>...</td>\n",
       "      <td>0.000000</td>\n",
       "      <td>1.098612</td>\n",
       "      <td>0.000000</td>\n",
       "      <td>0.693147</td>\n",
       "      <td>2.484907</td>\n",
       "      <td>2.197225</td>\n",
       "      <td>0.000000</td>\n",
       "      <td>0.000000</td>\n",
       "      <td>1.386294</td>\n",
       "      <td>6.118097</td>\n",
       "    </tr>\n",
       "  </tbody>\n",
       "</table>\n",
       "<p>5 rows × 120 columns</p>\n",
       "</div>"
      ],
      "text/plain": [
       "                                  d_dead  r_dead  d_health_avg  r_health_avg  \\\n",
       "match_id_hash                                                                  \n",
       "a400b8f29dece5f4d266f49f1ae2e98a       0       0      0.954967      0.715500   \n",
       "b9c57c450ce74a2af79c9ce96fac144d       0       0      0.764778      0.846735   \n",
       "6db558535151ea18ca70a6892197db41       0       0      0.989032      0.989333   \n",
       "46a0ddce8f7ed2a8d9bd5edcbb925682       0       0      0.869557      0.955818   \n",
       "b1b35ff97723d9b7ade1c9c3cf48f770       0       0      0.808481      0.735127   \n",
       "\n",
       "                                  r1_in_d_base  d1_in_r_base  r1_in_r_base  \\\n",
       "match_id_hash                                                                \n",
       "a400b8f29dece5f4d266f49f1ae2e98a             0             0             0   \n",
       "b9c57c450ce74a2af79c9ce96fac144d             0             0             1   \n",
       "6db558535151ea18ca70a6892197db41             0             0             0   \n",
       "46a0ddce8f7ed2a8d9bd5edcbb925682             0             0             0   \n",
       "b1b35ff97723d9b7ade1c9c3cf48f770             0             0             0   \n",
       "\n",
       "                                  d1_in_d_base  r2_in_d_base  d2_in_r_base  \\\n",
       "match_id_hash                                                                \n",
       "a400b8f29dece5f4d266f49f1ae2e98a             0             0             0   \n",
       "b9c57c450ce74a2af79c9ce96fac144d             0             0             0   \n",
       "6db558535151ea18ca70a6892197db41             1             0             0   \n",
       "46a0ddce8f7ed2a8d9bd5edcbb925682             0             0             0   \n",
       "b1b35ff97723d9b7ade1c9c3cf48f770             0             0             0   \n",
       "\n",
       "                                      ...        log_r_creeps_stacked  \\\n",
       "match_id_hash                         ...                               \n",
       "a400b8f29dece5f4d266f49f1ae2e98a      ...                    0.000000   \n",
       "b9c57c450ce74a2af79c9ce96fac144d      ...                    1.098612   \n",
       "6db558535151ea18ca70a6892197db41      ...                    0.000000   \n",
       "46a0ddce8f7ed2a8d9bd5edcbb925682      ...                    0.000000   \n",
       "b1b35ff97723d9b7ade1c9c3cf48f770      ...                    0.000000   \n",
       "\n",
       "                                  log_d_creeps_stacked  log_r_camps_stacked  \\\n",
       "match_id_hash                                                                 \n",
       "a400b8f29dece5f4d266f49f1ae2e98a              0.000000             0.000000   \n",
       "b9c57c450ce74a2af79c9ce96fac144d              1.386294             0.693147   \n",
       "6db558535151ea18ca70a6892197db41              0.000000             0.000000   \n",
       "46a0ddce8f7ed2a8d9bd5edcbb925682              1.945910             0.000000   \n",
       "b1b35ff97723d9b7ade1c9c3cf48f770              1.098612             0.000000   \n",
       "\n",
       "                                  log_d_camps_stacked  log_r_rune_pickups  \\\n",
       "match_id_hash                                                               \n",
       "a400b8f29dece5f4d266f49f1ae2e98a             0.000000            1.098612   \n",
       "b9c57c450ce74a2af79c9ce96fac144d             1.098612            2.639057   \n",
       "6db558535151ea18ca70a6892197db41             0.000000            1.386294   \n",
       "46a0ddce8f7ed2a8d9bd5edcbb925682             1.098612            2.639057   \n",
       "b1b35ff97723d9b7ade1c9c3cf48f770             0.693147            2.484907   \n",
       "\n",
       "                                  log_d_rune_pickups  log_r_sen_placed  \\\n",
       "match_id_hash                                                            \n",
       "a400b8f29dece5f4d266f49f1ae2e98a            2.079442          0.000000   \n",
       "b9c57c450ce74a2af79c9ce96fac144d            2.708050          1.386294   \n",
       "6db558535151ea18ca70a6892197db41            0.693147          0.000000   \n",
       "46a0ddce8f7ed2a8d9bd5edcbb925682            2.484907          0.000000   \n",
       "b1b35ff97723d9b7ade1c9c3cf48f770            2.197225          0.000000   \n",
       "\n",
       "                                  log_d_sen_placed  log_chat_len  \\\n",
       "match_id_hash                                                      \n",
       "a400b8f29dece5f4d266f49f1ae2e98a          0.000000      2.484907   \n",
       "b9c57c450ce74a2af79c9ce96fac144d          1.098612      2.397895   \n",
       "6db558535151ea18ca70a6892197db41          0.000000      0.000000   \n",
       "46a0ddce8f7ed2a8d9bd5edcbb925682          0.000000      1.609438   \n",
       "b1b35ff97723d9b7ade1c9c3cf48f770          0.000000      1.386294   \n",
       "\n",
       "                                  log_game_time  \n",
       "match_id_hash                                    \n",
       "a400b8f29dece5f4d266f49f1ae2e98a       5.049856  \n",
       "b9c57c450ce74a2af79c9ce96fac144d       6.490724  \n",
       "6db558535151ea18ca70a6892197db41       3.091042  \n",
       "46a0ddce8f7ed2a8d9bd5edcbb925682       6.357842  \n",
       "b1b35ff97723d9b7ade1c9c3cf48f770       6.118097  \n",
       "\n",
       "[5 rows x 120 columns]"
      ]
     },
     "execution_count": 2,
     "metadata": {},
     "output_type": "execute_result"
    }
   ],
   "source": [
    "data_log_reg = pd.read_csv('new_feat_train_small.csv', index_col ='match_id_hash')\n",
    "test_data =  pd.read_csv('new_feat_test_small.csv', index_col ='match_id_hash')\n",
    "# #small set\n",
    "#data = pd.read_csv(r'C:\\Users\\Tatiana\\Documents\\Programming\\MLcourse competition\\new_feat_train_small.csv', index_col ='match_id_hash')\n",
    "target =  pd.read_csv('/Users/m/Insight/MLcourse/Dota/targets_plus.csv', index_col='match_id_hash')\n",
    "y = target['radiant_win']\n",
    "#y = y.apply(lambda x: int(x))\n",
    "# data = data.drop(columns = ['positions'])\n",
    "data_log_reg.head()"
   ]
  },
  {
   "cell_type": "code",
   "execution_count": 3,
   "metadata": {},
   "outputs": [],
   "source": [
    "train_X = pd.read_csv('/Users/m/Insight/MLcourse/Dota/train_features_plus.csv', index_col='match_id_hash')\n",
    "test_X = pd.read_csv('/Users/m/Insight/MLcourse/Dota/test_features_plus.csv', index_col='match_id_hash')\n",
    "target =  pd.read_csv('/Users/m/Insight/MLcourse/Dota/targets_plus.csv', index_col='match_id_hash')\n",
    "y = target['radiant_win']"
   ]
  },
  {
   "cell_type": "code",
   "execution_count": 4,
   "metadata": {},
   "outputs": [],
   "source": [
    "train_X_ability = pd.read_csv('/Users/m/Insight/MLcourse/Dota/train_features_ability.csv', index_col = 'match_id_hash')\n",
    "test_X_ability = pd.read_csv('/Users/m/Insight/MLcourse/Dota/test_features_ability.csv', index_col = 'match_id_hash')"
   ]
  },
  {
   "cell_type": "code",
   "execution_count": 5,
   "metadata": {},
   "outputs": [],
   "source": [
    "X = pd.concat([data_log_reg,train_X_ability,train_X],axis=1)\n",
    "test = pd.concat([test_data,test_X_ability,test_X],axis=1)"
   ]
  },
  {
   "cell_type": "code",
   "execution_count": 15,
   "metadata": {},
   "outputs": [],
   "source": [
    "X = X.loc[:,~X.columns.duplicated()]\n",
    "test = test.loc[:,~test.columns.duplicated()]"
   ]
  },
  {
   "cell_type": "code",
   "execution_count": 15,
   "metadata": {},
   "outputs": [
    {
     "ename": "KeyError",
     "evalue": "\"['log_chat_len' 'log_game_time' 'game_mode' 'lobby_type'] not found in axis\"",
     "output_type": "error",
     "traceback": [
      "\u001b[0;31m---------------------------------------------------------------------------\u001b[0m",
      "\u001b[0;31mKeyError\u001b[0m                                  Traceback (most recent call last)",
      "\u001b[0;32m<ipython-input-15-79d40af779d1>\u001b[0m in \u001b[0;36m<module>\u001b[0;34m\u001b[0m\n\u001b[1;32m      7\u001b[0m \u001b[0;31m#        'd2_hero_id_bool', 'd3_hero_id_bool', 'd4_hero_id_bool','d5_hero_id_bool']\u001b[0m\u001b[0;34m\u001b[0m\u001b[0;34m\u001b[0m\u001b[0;34m\u001b[0m\u001b[0m\n\u001b[1;32m      8\u001b[0m \u001b[0;31m# col_to_drop +=hero_id_bool\u001b[0m\u001b[0;34m\u001b[0m\u001b[0;34m\u001b[0m\u001b[0;34m\u001b[0m\u001b[0m\n\u001b[0;32m----> 9\u001b[0;31m \u001b[0mX\u001b[0m\u001b[0;34m.\u001b[0m\u001b[0mdrop\u001b[0m\u001b[0;34m(\u001b[0m\u001b[0mcol_to_drop\u001b[0m\u001b[0;34m,\u001b[0m\u001b[0maxis\u001b[0m\u001b[0;34m=\u001b[0m\u001b[0;36m1\u001b[0m\u001b[0;34m,\u001b[0m\u001b[0minplace\u001b[0m\u001b[0;34m=\u001b[0m\u001b[0;32mTrue\u001b[0m\u001b[0;34m)\u001b[0m\u001b[0;34m\u001b[0m\u001b[0;34m\u001b[0m\u001b[0m\n\u001b[0m",
      "\u001b[0;32m/anaconda3/lib/python3.7/site-packages/pandas/core/frame.py\u001b[0m in \u001b[0;36mdrop\u001b[0;34m(self, labels, axis, index, columns, level, inplace, errors)\u001b[0m\n\u001b[1;32m   3695\u001b[0m                                            \u001b[0mindex\u001b[0m\u001b[0;34m=\u001b[0m\u001b[0mindex\u001b[0m\u001b[0;34m,\u001b[0m \u001b[0mcolumns\u001b[0m\u001b[0;34m=\u001b[0m\u001b[0mcolumns\u001b[0m\u001b[0;34m,\u001b[0m\u001b[0;34m\u001b[0m\u001b[0;34m\u001b[0m\u001b[0m\n\u001b[1;32m   3696\u001b[0m                                            \u001b[0mlevel\u001b[0m\u001b[0;34m=\u001b[0m\u001b[0mlevel\u001b[0m\u001b[0;34m,\u001b[0m \u001b[0minplace\u001b[0m\u001b[0;34m=\u001b[0m\u001b[0minplace\u001b[0m\u001b[0;34m,\u001b[0m\u001b[0;34m\u001b[0m\u001b[0;34m\u001b[0m\u001b[0m\n\u001b[0;32m-> 3697\u001b[0;31m                                            errors=errors)\n\u001b[0m\u001b[1;32m   3698\u001b[0m \u001b[0;34m\u001b[0m\u001b[0m\n\u001b[1;32m   3699\u001b[0m     @rewrite_axis_style_signature('mapper', [('copy', True),\n",
      "\u001b[0;32m/anaconda3/lib/python3.7/site-packages/pandas/core/generic.py\u001b[0m in \u001b[0;36mdrop\u001b[0;34m(self, labels, axis, index, columns, level, inplace, errors)\u001b[0m\n\u001b[1;32m   3109\u001b[0m         \u001b[0;32mfor\u001b[0m \u001b[0maxis\u001b[0m\u001b[0;34m,\u001b[0m \u001b[0mlabels\u001b[0m \u001b[0;32min\u001b[0m \u001b[0maxes\u001b[0m\u001b[0;34m.\u001b[0m\u001b[0mitems\u001b[0m\u001b[0;34m(\u001b[0m\u001b[0;34m)\u001b[0m\u001b[0;34m:\u001b[0m\u001b[0;34m\u001b[0m\u001b[0;34m\u001b[0m\u001b[0m\n\u001b[1;32m   3110\u001b[0m             \u001b[0;32mif\u001b[0m \u001b[0mlabels\u001b[0m \u001b[0;32mis\u001b[0m \u001b[0;32mnot\u001b[0m \u001b[0;32mNone\u001b[0m\u001b[0;34m:\u001b[0m\u001b[0;34m\u001b[0m\u001b[0;34m\u001b[0m\u001b[0m\n\u001b[0;32m-> 3111\u001b[0;31m                 \u001b[0mobj\u001b[0m \u001b[0;34m=\u001b[0m \u001b[0mobj\u001b[0m\u001b[0;34m.\u001b[0m\u001b[0m_drop_axis\u001b[0m\u001b[0;34m(\u001b[0m\u001b[0mlabels\u001b[0m\u001b[0;34m,\u001b[0m \u001b[0maxis\u001b[0m\u001b[0;34m,\u001b[0m \u001b[0mlevel\u001b[0m\u001b[0;34m=\u001b[0m\u001b[0mlevel\u001b[0m\u001b[0;34m,\u001b[0m \u001b[0merrors\u001b[0m\u001b[0;34m=\u001b[0m\u001b[0merrors\u001b[0m\u001b[0;34m)\u001b[0m\u001b[0;34m\u001b[0m\u001b[0;34m\u001b[0m\u001b[0m\n\u001b[0m\u001b[1;32m   3112\u001b[0m \u001b[0;34m\u001b[0m\u001b[0m\n\u001b[1;32m   3113\u001b[0m         \u001b[0;32mif\u001b[0m \u001b[0minplace\u001b[0m\u001b[0;34m:\u001b[0m\u001b[0;34m\u001b[0m\u001b[0;34m\u001b[0m\u001b[0m\n",
      "\u001b[0;32m/anaconda3/lib/python3.7/site-packages/pandas/core/generic.py\u001b[0m in \u001b[0;36m_drop_axis\u001b[0;34m(self, labels, axis, level, errors)\u001b[0m\n\u001b[1;32m   3141\u001b[0m                 \u001b[0mnew_axis\u001b[0m \u001b[0;34m=\u001b[0m \u001b[0maxis\u001b[0m\u001b[0;34m.\u001b[0m\u001b[0mdrop\u001b[0m\u001b[0;34m(\u001b[0m\u001b[0mlabels\u001b[0m\u001b[0;34m,\u001b[0m \u001b[0mlevel\u001b[0m\u001b[0;34m=\u001b[0m\u001b[0mlevel\u001b[0m\u001b[0;34m,\u001b[0m \u001b[0merrors\u001b[0m\u001b[0;34m=\u001b[0m\u001b[0merrors\u001b[0m\u001b[0;34m)\u001b[0m\u001b[0;34m\u001b[0m\u001b[0;34m\u001b[0m\u001b[0m\n\u001b[1;32m   3142\u001b[0m             \u001b[0;32melse\u001b[0m\u001b[0;34m:\u001b[0m\u001b[0;34m\u001b[0m\u001b[0;34m\u001b[0m\u001b[0m\n\u001b[0;32m-> 3143\u001b[0;31m                 \u001b[0mnew_axis\u001b[0m \u001b[0;34m=\u001b[0m \u001b[0maxis\u001b[0m\u001b[0;34m.\u001b[0m\u001b[0mdrop\u001b[0m\u001b[0;34m(\u001b[0m\u001b[0mlabels\u001b[0m\u001b[0;34m,\u001b[0m \u001b[0merrors\u001b[0m\u001b[0;34m=\u001b[0m\u001b[0merrors\u001b[0m\u001b[0;34m)\u001b[0m\u001b[0;34m\u001b[0m\u001b[0;34m\u001b[0m\u001b[0m\n\u001b[0m\u001b[1;32m   3144\u001b[0m             \u001b[0mresult\u001b[0m \u001b[0;34m=\u001b[0m \u001b[0mself\u001b[0m\u001b[0;34m.\u001b[0m\u001b[0mreindex\u001b[0m\u001b[0;34m(\u001b[0m\u001b[0;34m**\u001b[0m\u001b[0;34m{\u001b[0m\u001b[0maxis_name\u001b[0m\u001b[0;34m:\u001b[0m \u001b[0mnew_axis\u001b[0m\u001b[0;34m}\u001b[0m\u001b[0;34m)\u001b[0m\u001b[0;34m\u001b[0m\u001b[0;34m\u001b[0m\u001b[0m\n\u001b[1;32m   3145\u001b[0m \u001b[0;34m\u001b[0m\u001b[0m\n",
      "\u001b[0;32m/anaconda3/lib/python3.7/site-packages/pandas/core/indexes/base.py\u001b[0m in \u001b[0;36mdrop\u001b[0;34m(self, labels, errors)\u001b[0m\n\u001b[1;32m   4402\u001b[0m             \u001b[0;32mif\u001b[0m \u001b[0merrors\u001b[0m \u001b[0;34m!=\u001b[0m \u001b[0;34m'ignore'\u001b[0m\u001b[0;34m:\u001b[0m\u001b[0;34m\u001b[0m\u001b[0;34m\u001b[0m\u001b[0m\n\u001b[1;32m   4403\u001b[0m                 raise KeyError(\n\u001b[0;32m-> 4404\u001b[0;31m                     '{} not found in axis'.format(labels[mask]))\n\u001b[0m\u001b[1;32m   4405\u001b[0m             \u001b[0mindexer\u001b[0m \u001b[0;34m=\u001b[0m \u001b[0mindexer\u001b[0m\u001b[0;34m[\u001b[0m\u001b[0;34m~\u001b[0m\u001b[0mmask\u001b[0m\u001b[0;34m]\u001b[0m\u001b[0;34m\u001b[0m\u001b[0;34m\u001b[0m\u001b[0m\n\u001b[1;32m   4406\u001b[0m         \u001b[0;32mreturn\u001b[0m \u001b[0mself\u001b[0m\u001b[0;34m.\u001b[0m\u001b[0mdelete\u001b[0m\u001b[0;34m(\u001b[0m\u001b[0mindexer\u001b[0m\u001b[0;34m)\u001b[0m\u001b[0;34m\u001b[0m\u001b[0;34m\u001b[0m\u001b[0m\n",
      "\u001b[0;31mKeyError\u001b[0m: \"['log_chat_len' 'log_game_time' 'game_mode' 'lobby_type'] not found in axis\""
     ]
    }
   ],
   "source": [
    "# smaller dataset\n",
    "\n",
    "#col_to_drop = ['r_deaths', 'd_deaths','log_chat_len','log_game_time','game_mode','lobby_type']\n",
    "col_to_drop = ['log_chat_len','log_game_time','game_mode','lobby_type']\n",
    "# hero_id_bool = ['r1_hero_id_bool', 'r2_hero_id_bool', 'r3_hero_id_bool',\n",
    "#        'r4_hero_id_bool', 'r5_hero_id_bool', 'd1_hero_id_bool',\n",
    "#        'd2_hero_id_bool', 'd3_hero_id_bool', 'd4_hero_id_bool','d5_hero_id_bool']\n",
    "# col_to_drop +=hero_id_bool\n",
    "X.drop(col_to_drop,axis=1,inplace=True)\n"
   ]
  },
  {
   "cell_type": "code",
   "execution_count": 16,
   "metadata": {},
   "outputs": [],
   "source": [
    "col_to_drop=[]\n",
    "cat_feats = ['r_in_d_base', 'd_in_r_base','r_firstblood_claimed','d_firstblood_claimed', 'r_in_r_base', 'd_in_d_base']\n",
    "#cat_feats = ['game_mode','lobby_type', 'r_in_d_base', 'd_in_r_base','r_firstblood_claimed','d_firstblood_claimed', 'r_in_r_base', 'd_in_d_base']\n",
    "# boolean_cols = ['boolean_r_ability_level','boolean_d_ability_level','boolean_r_kills','boolean_d_kills',\n",
    "#                 'boolean_r_assists','boolean_d_assists','boolean_r_deaths','boolean_d_deaths','boolean_r_sen_placed',\n",
    "#                'boolean_d_sen_placed']\n",
    "# cat_feats += boolean_cols\n",
    "\n",
    "num_feats = [col for col in X.columns if col not in cat_feats]\n",
    "numerical_columns =[]\n",
    "for j in range(len(X.columns)):\n",
    "    if X.columns[j] in num_feats:\n",
    "        numerical_columns.append(j)"
   ]
  },
  {
   "cell_type": "code",
   "execution_count": 17,
   "metadata": {},
   "outputs": [
    {
     "data": {
      "text/plain": [
       "(27772, 521)"
      ]
     },
     "execution_count": 17,
     "metadata": {},
     "output_type": "execute_result"
    }
   ],
   "source": [
    "from sklearn.model_selection import train_test_split\n",
    "\n",
    "\n",
    "X_train, X_test, y_train, y_test = train_test_split(X, y, test_size=0.30, random_state=150)\n",
    "X_train.shape"
   ]
  },
  {
   "cell_type": "code",
   "execution_count": 18,
   "metadata": {},
   "outputs": [],
   "source": [
    "from sklearn.pipeline import Pipeline, FeatureUnion, make_pipeline\n",
    "from sklearn.preprocessing import OneHotEncoder,StandardScaler\n",
    "from sklearn.base import BaseEstimator, TransformerMixin\n",
    "from sklearn.metrics import accuracy_score, roc_auc_score\n",
    "from sklearn.pipeline import make_pipeline\n",
    "from sklearn.ensemble import AdaBoostClassifier\n",
    "from lightgbm import LGBMClassifier\n",
    "from mlxtend.feature_selection import ColumnSelector\n",
    "\n",
    "class Columns(BaseEstimator, TransformerMixin):\n",
    "    def __init__(self, names=None):\n",
    "        self.names = names\n",
    "\n",
    "    def fit(self, X, y=None, **fit_params):\n",
    "        return self\n",
    "\n",
    "    def transform(self, X):\n",
    "        return X[self.names]\n",
    "    \n",
    "    \n",
    "\n",
    "pipe_lr = Pipeline([\n",
    "    (\"features\", FeatureUnion([\n",
    "        ('numeric', make_pipeline(Columns(names=num_feats),StandardScaler())),\n",
    "        ('categorical', make_pipeline(Columns(names=cat_feats),OneHotEncoder(sparse=False)))\n",
    "    ])),\n",
    "    ('col_select', ColumnSelector(cols=np.random.randint(1,116, size=60))),\n",
    "    #('PCA',PCA(n_components = 550,whiten=True)),\n",
    "    ('logreg', LogisticRegression(C=10,penalty='l2',random_state=150))])\n",
    "\n",
    "\n",
    "pipe_kn = Pipeline([\n",
    "    (\"features\", FeatureUnion([\n",
    "        ('numeric', make_pipeline(Columns(names=num_feats),StandardScaler())),\n",
    "        ('categorical', make_pipeline(Columns(names=cat_feats),OneHotEncoder(sparse=False)))\n",
    "    ])),\n",
    "    ('col_select', ColumnSelector(cols=np.random.randint(1,116, size=60))),\n",
    "    #('PCA',PCA(n_components = 550,whiten=True)),\n",
    "    ('kn', KNeighborsClassifier())])\n",
    "\n",
    "\n",
    "\n",
    "pipe_nb = Pipeline([\n",
    "    (\"features\", FeatureUnion([\n",
    "        ('numeric', make_pipeline(Columns(names=num_feats),StandardScaler())),\n",
    "        ('categorical', make_pipeline(Columns(names=cat_feats),OneHotEncoder(sparse=False)))\n",
    "    ])),\n",
    "    ('col_select', ColumnSelector(cols=np.random.randint(1,116, size=60))),\n",
    "    #('PCA',PCA(n_components = 550,whiten=True)),\n",
    "    ('nb', GaussianNB())])\n",
    "\n",
    "pipe_rf = Pipeline([\n",
    "    (\"features\", FeatureUnion([\n",
    "        ('numeric', make_pipeline(Columns(names=num_feats),StandardScaler())),\n",
    "        ('categorical', make_pipeline(Columns(names=cat_feats),OneHotEncoder(sparse=False)))\n",
    "    ])),\n",
    "    ('col_select', ColumnSelector(cols=np.random.randint(1,116, size=0))),\n",
    "    #('PCA',PCA(n_components = 550,whiten=True)),\n",
    "    ('rf', RandomForestClassifier(n_estimators=500,random_state=150))])\n",
    "\n",
    "pipe_ab = Pipeline([\n",
    "    (\"features\", FeatureUnion([\n",
    "        ('numeric', make_pipeline(Columns(names=num_feats),StandardScaler())),\n",
    "        ('categorical', make_pipeline(Columns(names=cat_feats),OneHotEncoder(sparse=False)))\n",
    "    ])),\n",
    "    ('col_select', ColumnSelector(cols=np.random.randint(1,116, size=60))),\n",
    "    #('PCA',PCA(n_components = 550,whiten=True)),\n",
    "    ('adaboost', AdaBoostClassifier(n_estimators = 250,random_state=150))])\n",
    "    \n",
    "    \n",
    "pipe_lgbm = Pipeline([\n",
    "    (\"features\", FeatureUnion([\n",
    "        ('numeric', make_pipeline(Columns(names=num_feats),StandardScaler())),\n",
    "        ('categorical', make_pipeline(Columns(names=cat_feats),OneHotEncoder(sparse=False)))\n",
    "    ])),\n",
    "    ('col_select', ColumnSelector(cols=np.random.randint(1,116, size=60))),\n",
    "    #('PCA',PCA(n_components = 550,whiten=True)),\n",
    "    ('lgbm', LGBMClassifier(random_state=150))])\n",
    "\n",
    "\n",
    "sclf = StackingClassifier(classifiers=[pipe_lr,pipe_nb, pipe_kn,pipe_ab],\n",
    "                          use_probas=False,\n",
    "                          average_probas=False,\n",
    "                          use_features_in_secondary = True,\n",
    "                          meta_classifier=LogisticRegression(random_state=150))\n",
    "\n",
    "#sclf.fit(X_train, y_train)\n"
   ]
  },
  {
   "cell_type": "code",
   "execution_count": 19,
   "metadata": {},
   "outputs": [
    {
     "data": {
      "text/plain": [
       "StackingClassifier(average_probas=False,\n",
       "          classifiers=[Pipeline(memory=None,\n",
       "     steps=[('features', FeatureUnion(n_jobs=1,\n",
       "       transformer_list=[('numeric', Pipeline(memory=None,\n",
       "     steps=[('columns', Columns(names=['d_dead', 'r_dead', 'd_health_avg', 'r_health_avg', 'r1_in_d_base', 'd1_in_r_base', 'r1_in_r_base', 'd1_in_d_base', 'r2...'SAMME.R', base_estimator=None,\n",
       "          learning_rate=1.0, n_estimators=250, random_state=150))])],\n",
       "          drop_last_proba=False,\n",
       "          meta_classifier=LogisticRegression(C=1.0, class_weight=None, dual=False, fit_intercept=True,\n",
       "          intercept_scaling=1, max_iter=100, multi_class='ovr', n_jobs=1,\n",
       "          penalty='l2', random_state=150, solver='liblinear', tol=0.0001,\n",
       "          verbose=0, warm_start=False),\n",
       "          store_train_meta_features=False, use_clones=True,\n",
       "          use_features_in_secondary=True, use_probas=False, verbose=0)"
      ]
     },
     "execution_count": 19,
     "metadata": {},
     "output_type": "execute_result"
    }
   ],
   "source": [
    "sclf.fit(X, y)"
   ]
  },
  {
   "cell_type": "code",
   "execution_count": 30,
   "metadata": {},
   "outputs": [
    {
     "name": "stdout",
     "output_type": "stream",
     "text": [
      "0.8071914643367218\n",
      "0.8061771802582699\n"
     ]
    }
   ],
   "source": [
    "predicted_stack = sclf.predict(X_test)\n",
    "print(accuracy_score(y_test, predicted_stack))\n",
    "print(roc_auc_score(y_test,predicted_stack))"
   ]
  },
  {
   "cell_type": "code",
   "execution_count": 7,
   "metadata": {},
   "outputs": [
    {
     "data": {
      "text/plain": [
       "Pipeline(memory=None,\n",
       "     steps=[('features', FeatureUnion(n_jobs=1,\n",
       "       transformer_list=[('numeric', Pipeline(memory=None,\n",
       "     steps=[('columns', Columns(names=['d_dead', 'r_dead', 'd_health_avg', 'r_health_avg', 'r1_in_d_base', 'd1_in_r_base', 'r1_in_r_base', 'd1_in_d_base', 'r2_in_d_base', 'd2_in_r_base', 'r2_in_r_ba...lty='l2', random_state=150, solver='liblinear', tol=0.0001,\n",
       "          verbose=0, warm_start=False))])"
      ]
     },
     "execution_count": 7,
     "metadata": {},
     "output_type": "execute_result"
    }
   ],
   "source": [
    "pipe_lr.fit(X_train,y_train)"
   ]
  },
  {
   "cell_type": "code",
   "execution_count": 8,
   "metadata": {},
   "outputs": [
    {
     "name": "stdout",
     "output_type": "stream",
     "text": [
      "0.7568680164664371\n",
      "0.7554775871218822\n"
     ]
    }
   ],
   "source": [
    "predicted_log_reg = pipe.predict(X_test)\n",
    "print(accuracy_score(y_test, predicted_log_reg))\n",
    "print(roc_auc_score(y_test,predicted_log_reg))"
   ]
  },
  {
   "cell_type": "code",
   "execution_count": 9,
   "metadata": {},
   "outputs": [
    {
     "data": {
      "text/plain": [
       "(10000, 525)"
      ]
     },
     "execution_count": 9,
     "metadata": {},
     "output_type": "execute_result"
    }
   ],
   "source": [
    "#test_data =  pd.read_csv('new_feat_test_small.csv', index_col ='match_id_hash')\n",
    "test.drop(col_to_drop,axis=1,inplace=True)\n",
    "test.shape"
   ]
  },
  {
   "cell_type": "code",
   "execution_count": 10,
   "metadata": {},
   "outputs": [
    {
     "data": {
      "text/plain": [
       "(39675, 525)"
      ]
     },
     "execution_count": 10,
     "metadata": {},
     "output_type": "execute_result"
    }
   ],
   "source": [
    "X.shape"
   ]
  },
  {
   "cell_type": "code",
   "execution_count": 20,
   "metadata": {},
   "outputs": [],
   "source": [
    "y_test_pred = sclf.predict_proba(test)[:, 1]\n",
    "y_test_pred\n",
    "y_test_pred = pd.DataFrame({'radiant_win_prob': y_test_pred},index=test.index)"
   ]
  },
  {
   "cell_type": "code",
   "execution_count": 12,
   "metadata": {},
   "outputs": [
    {
     "data": {
      "text/html": [
       "<div>\n",
       "<style scoped>\n",
       "    .dataframe tbody tr th:only-of-type {\n",
       "        vertical-align: middle;\n",
       "    }\n",
       "\n",
       "    .dataframe tbody tr th {\n",
       "        vertical-align: top;\n",
       "    }\n",
       "\n",
       "    .dataframe thead th {\n",
       "        text-align: right;\n",
       "    }\n",
       "</style>\n",
       "<table border=\"1\" class=\"dataframe\">\n",
       "  <thead>\n",
       "    <tr style=\"text-align: right;\">\n",
       "      <th></th>\n",
       "      <th>d_dead</th>\n",
       "      <th>r_dead</th>\n",
       "      <th>d_health_avg</th>\n",
       "      <th>r_health_avg</th>\n",
       "      <th>r1_in_d_base</th>\n",
       "      <th>d1_in_r_base</th>\n",
       "      <th>r1_in_r_base</th>\n",
       "      <th>d1_in_d_base</th>\n",
       "      <th>r2_in_d_base</th>\n",
       "      <th>d2_in_r_base</th>\n",
       "      <th>...</th>\n",
       "      <th>d5_roshans_killed</th>\n",
       "      <th>d5_obs_placed</th>\n",
       "      <th>d5_sen_placed</th>\n",
       "      <th>d5_ability_level</th>\n",
       "      <th>d5_max_hero_hit</th>\n",
       "      <th>d5_purchase_count</th>\n",
       "      <th>d5_count_ability_use</th>\n",
       "      <th>d5_damage_dealt</th>\n",
       "      <th>d5_damage_received</th>\n",
       "      <th>radiant_win_prob</th>\n",
       "    </tr>\n",
       "    <tr>\n",
       "      <th>match_id_hash</th>\n",
       "      <th></th>\n",
       "      <th></th>\n",
       "      <th></th>\n",
       "      <th></th>\n",
       "      <th></th>\n",
       "      <th></th>\n",
       "      <th></th>\n",
       "      <th></th>\n",
       "      <th></th>\n",
       "      <th></th>\n",
       "      <th></th>\n",
       "      <th></th>\n",
       "      <th></th>\n",
       "      <th></th>\n",
       "      <th></th>\n",
       "      <th></th>\n",
       "      <th></th>\n",
       "      <th></th>\n",
       "      <th></th>\n",
       "      <th></th>\n",
       "      <th></th>\n",
       "    </tr>\n",
       "  </thead>\n",
       "  <tbody>\n",
       "    <tr>\n",
       "      <th>30cc2d778dca82f2edb568ce9b585caa</th>\n",
       "      <td>0</td>\n",
       "      <td>0</td>\n",
       "      <td>0.882700</td>\n",
       "      <td>0.967868</td>\n",
       "      <td>0</td>\n",
       "      <td>0</td>\n",
       "      <td>0</td>\n",
       "      <td>0</td>\n",
       "      <td>0</td>\n",
       "      <td>0</td>\n",
       "      <td>...</td>\n",
       "      <td>0</td>\n",
       "      <td>0</td>\n",
       "      <td>0</td>\n",
       "      <td>0</td>\n",
       "      <td>68</td>\n",
       "      <td>6</td>\n",
       "      <td>1</td>\n",
       "      <td>185</td>\n",
       "      <td>187</td>\n",
       "      <td>0.500001</td>\n",
       "    </tr>\n",
       "    <tr>\n",
       "      <th>70e5ba30f367cea48793b9003fab9d38</th>\n",
       "      <td>1</td>\n",
       "      <td>0</td>\n",
       "      <td>0.656069</td>\n",
       "      <td>0.969930</td>\n",
       "      <td>0</td>\n",
       "      <td>0</td>\n",
       "      <td>0</td>\n",
       "      <td>1</td>\n",
       "      <td>0</td>\n",
       "      <td>0</td>\n",
       "      <td>...</td>\n",
       "      <td>0</td>\n",
       "      <td>5</td>\n",
       "      <td>2</td>\n",
       "      <td>6</td>\n",
       "      <td>77</td>\n",
       "      <td>37</td>\n",
       "      <td>45</td>\n",
       "      <td>12491</td>\n",
       "      <td>7863</td>\n",
       "      <td>0.774302</td>\n",
       "    </tr>\n",
       "  </tbody>\n",
       "</table>\n",
       "<p>2 rows × 526 columns</p>\n",
       "</div>"
      ],
      "text/plain": [
       "                                  d_dead  r_dead  d_health_avg  r_health_avg  \\\n",
       "match_id_hash                                                                  \n",
       "30cc2d778dca82f2edb568ce9b585caa       0       0      0.882700      0.967868   \n",
       "70e5ba30f367cea48793b9003fab9d38       1       0      0.656069      0.969930   \n",
       "\n",
       "                                  r1_in_d_base  d1_in_r_base  r1_in_r_base  \\\n",
       "match_id_hash                                                                \n",
       "30cc2d778dca82f2edb568ce9b585caa             0             0             0   \n",
       "70e5ba30f367cea48793b9003fab9d38             0             0             0   \n",
       "\n",
       "                                  d1_in_d_base  r2_in_d_base  d2_in_r_base  \\\n",
       "match_id_hash                                                                \n",
       "30cc2d778dca82f2edb568ce9b585caa             0             0             0   \n",
       "70e5ba30f367cea48793b9003fab9d38             1             0             0   \n",
       "\n",
       "                                        ...         d5_roshans_killed  \\\n",
       "match_id_hash                           ...                             \n",
       "30cc2d778dca82f2edb568ce9b585caa        ...                         0   \n",
       "70e5ba30f367cea48793b9003fab9d38        ...                         0   \n",
       "\n",
       "                                  d5_obs_placed  d5_sen_placed  \\\n",
       "match_id_hash                                                    \n",
       "30cc2d778dca82f2edb568ce9b585caa              0              0   \n",
       "70e5ba30f367cea48793b9003fab9d38              5              2   \n",
       "\n",
       "                                  d5_ability_level  d5_max_hero_hit  \\\n",
       "match_id_hash                                                         \n",
       "30cc2d778dca82f2edb568ce9b585caa                 0               68   \n",
       "70e5ba30f367cea48793b9003fab9d38                 6               77   \n",
       "\n",
       "                                  d5_purchase_count  d5_count_ability_use  \\\n",
       "match_id_hash                                                               \n",
       "30cc2d778dca82f2edb568ce9b585caa                  6                     1   \n",
       "70e5ba30f367cea48793b9003fab9d38                 37                    45   \n",
       "\n",
       "                                  d5_damage_dealt  d5_damage_received  \\\n",
       "match_id_hash                                                           \n",
       "30cc2d778dca82f2edb568ce9b585caa              185                 187   \n",
       "70e5ba30f367cea48793b9003fab9d38            12491                7863   \n",
       "\n",
       "                                  radiant_win_prob  \n",
       "match_id_hash                                       \n",
       "30cc2d778dca82f2edb568ce9b585caa          0.500001  \n",
       "70e5ba30f367cea48793b9003fab9d38          0.774302  \n",
       "\n",
       "[2 rows x 526 columns]"
      ]
     },
     "execution_count": 12,
     "metadata": {},
     "output_type": "execute_result"
    }
   ],
   "source": [
    "full_sub1 = pd.concat([test,y_test_pred],axis=1)\n",
    "full_sub1.head(2)"
   ]
  },
  {
   "cell_type": "code",
   "execution_count": 13,
   "metadata": {},
   "outputs": [
    {
     "data": {
      "text/plain": [
       "<matplotlib.axes._subplots.AxesSubplot at 0x1161755c0>"
      ]
     },
     "execution_count": 13,
     "metadata": {},
     "output_type": "execute_result"
    },
    {
     "data": {
      "image/png": "[encoded data removed]",
      "text/plain": [
       "<Figure size 432x288 with 1 Axes>"
      ]
     },
     "metadata": {
      "needs_background": "light"
     },
     "output_type": "display_data"
    }
   ],
   "source": [
    "full_sub1['radiant_win_prob'].hist()"
   ]
  },
  {
   "cell_type": "code",
   "execution_count": 22,
   "metadata": {},
   "outputs": [
    {
     "name": "stdout",
     "output_type": "stream",
     "text": [
      "Submission saved to submission_2019-11-17_18-58-03.csv\n"
     ]
    },
    {
     "data": {
      "text/html": [
       "<div>\n",
       "<style scoped>\n",
       "    .dataframe tbody tr th:only-of-type {\n",
       "        vertical-align: middle;\n",
       "    }\n",
       "\n",
       "    .dataframe tbody tr th {\n",
       "        vertical-align: top;\n",
       "    }\n",
       "\n",
       "    .dataframe thead th {\n",
       "        text-align: right;\n",
       "    }\n",
       "</style>\n",
       "<table border=\"1\" class=\"dataframe\">\n",
       "  <thead>\n",
       "    <tr style=\"text-align: right;\">\n",
       "      <th></th>\n",
       "      <th>radiant_win_prob</th>\n",
       "    </tr>\n",
       "    <tr>\n",
       "      <th>match_id_hash</th>\n",
       "      <th></th>\n",
       "    </tr>\n",
       "  </thead>\n",
       "  <tbody>\n",
       "    <tr>\n",
       "      <th>30cc2d778dca82f2edb568ce9b585caa</th>\n",
       "      <td>0.500001</td>\n",
       "    </tr>\n",
       "    <tr>\n",
       "      <th>70e5ba30f367cea48793b9003fab9d38</th>\n",
       "      <td>0.774302</td>\n",
       "    </tr>\n",
       "    <tr>\n",
       "      <th>4d9ef74d3a2025d79e9423105fd73d41</th>\n",
       "      <td>0.755471</td>\n",
       "    </tr>\n",
       "    <tr>\n",
       "      <th>2bb79e0c1eaac1608e5a09c8e0c6a555</th>\n",
       "      <td>0.516492</td>\n",
       "    </tr>\n",
       "    <tr>\n",
       "      <th>bec17f099b01d67edc82dfb5ce735a43</th>\n",
       "      <td>0.392212</td>\n",
       "    </tr>\n",
       "    <tr>\n",
       "      <th>038acbb47d9eb54c11962d07cce8d829</th>\n",
       "      <td>0.094769</td>\n",
       "    </tr>\n",
       "    <tr>\n",
       "      <th>b891f03bb2a86d78b84043437fc95e04</th>\n",
       "      <td>0.682434</td>\n",
       "    </tr>\n",
       "    <tr>\n",
       "      <th>ff898afdb5bb5c7163bde45a009503f7</th>\n",
       "      <td>0.185098</td>\n",
       "    </tr>\n",
       "    <tr>\n",
       "      <th>72e6b1c31c718c0806f9aaeb8b7290a9</th>\n",
       "      <td>0.545804</td>\n",
       "    </tr>\n",
       "    <tr>\n",
       "      <th>abd97ab60ceca3ae6f00a28baea8a43c</th>\n",
       "      <td>0.702599</td>\n",
       "    </tr>\n",
       "  </tbody>\n",
       "</table>\n",
       "</div>"
      ],
      "text/plain": [
       "                                  radiant_win_prob\n",
       "match_id_hash                                     \n",
       "30cc2d778dca82f2edb568ce9b585caa          0.500001\n",
       "70e5ba30f367cea48793b9003fab9d38          0.774302\n",
       "4d9ef74d3a2025d79e9423105fd73d41          0.755471\n",
       "2bb79e0c1eaac1608e5a09c8e0c6a555          0.516492\n",
       "bec17f099b01d67edc82dfb5ce735a43          0.392212\n",
       "038acbb47d9eb54c11962d07cce8d829          0.094769\n",
       "b891f03bb2a86d78b84043437fc95e04          0.682434\n",
       "ff898afdb5bb5c7163bde45a009503f7          0.185098\n",
       "72e6b1c31c718c0806f9aaeb8b7290a9          0.545804\n",
       "abd97ab60ceca3ae6f00a28baea8a43c          0.702599"
      ]
     },
     "execution_count": 22,
     "metadata": {},
     "output_type": "execute_result"
    }
   ],
   "source": [
    "df_submission = y_test_pred#pd.DataFrame({'radiant_win_prob': y_test_pred},index=test_data.index)\n",
    "\n",
    "import datetime\n",
    "submission_filename = 'submission_{}.csv'.format(\n",
    "    datetime.datetime.now().strftime('%Y-%m-%d_%H-%M-%S'))\n",
    "df_submission.to_csv(submission_filename)\n",
    "print('Submission saved to {}'.format(submission_filename))\n",
    "\n",
    "df_submission.head(10)"
   ]
  },
  {
   "cell_type": "code",
   "execution_count": 43,
   "metadata": {},
   "outputs": [
    {
     "data": {
      "text/plain": [
       "(10000, 1)"
      ]
     },
     "execution_count": 43,
     "metadata": {},
     "output_type": "execute_result"
    }
   ],
   "source": [
    "df_submission.shape"
   ]
  }
 ],
 "metadata": {
  "kernelspec": {
   "display_name": "Python 3",
   "language": "python",
   "name": "python3"
  },
  "language_info": {
   "codemirror_mode": {
    "name": "ipython",
    "version": 3
   },
   "file_extension": ".py",
   "mimetype": "text/x-python",
   "name": "python",
   "nbconvert_exporter": "python",
   "pygments_lexer": "ipython3",
   "version": "3.7.3"
  }
 },
 "nbformat": 4,
 "nbformat_minor": 2
}
