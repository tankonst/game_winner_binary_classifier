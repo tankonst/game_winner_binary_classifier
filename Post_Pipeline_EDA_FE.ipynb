{
 "cells": [
  {
   "cell_type": "code",
   "execution_count": 1,
   "metadata": {},
   "outputs": [],
   "source": [
    "from tqdm import tqdm_notebook"
   ]
  },
  {
   "cell_type": "code",
   "execution_count": 2,
   "metadata": {},
   "outputs": [],
   "source": [
    "import pandas as pd\n",
    "import numpy as np\n",
    "import matplotlib.pyplot as plt\n",
    "plt.rcParams['figure.dpi']= 100\n",
    "import seaborn as sns\n",
    "import warnings\n",
    "warnings.filterwarnings('ignore')\n",
    "def warn(*args, **kwargs):\n",
    "    pass\n",
    "import warnings\n",
    "warnings.warn = warn\n",
    "import ujson as json\n",
    "import os"
   ]
  },
  {
   "cell_type": "markdown",
   "metadata": {},
   "source": [
    "\n",
    "IDs: MB 307; TK 337 \\\n",
    "https://docs.google.com/spreadsheets/d/15e1K0tg5ponA5R6YQkZfihrShTDLAKf5qeKaoVCiuhQ/edit#gid=0"
   ]
  },
  {
   "cell_type": "code",
   "execution_count": 30,
   "metadata": {},
   "outputs": [],
   "source": [
    "#Team name, using IDs above: mlcourse_ai_fall2019_team_<id1>_…<id4> "
   ]
  },
  {
   "cell_type": "code",
   "execution_count": 204,
   "metadata": {},
   "outputs": [],
   "source": [
    "train_X = pd.read_csv('/Users/m/Insight/MLcourse/Dota/train_features_plus.csv', index_col='match_id_hash')\n",
    "test_X = pd.read_csv('/Users/m/Insight/MLcourse/Dota/test_features_plus.csv', index_col='match_id_hash')\n",
    "target =  pd.read_csv('/Users/m/Insight/MLcourse/Dota/targets_plus.csv', index_col='match_id_hash')\n",
    "y = target['radiant_win']"
   ]
  },
  {
   "cell_type": "code",
   "execution_count": 205,
   "metadata": {},
   "outputs": [
    {
     "data": {
      "text/plain": [
       "(39675, 306)"
      ]
     },
     "execution_count": 205,
     "metadata": {},
     "output_type": "execute_result"
    }
   ],
   "source": [
    "full_df = train_X.merge(y, how='outer', left_index=True, right_index=True)\n",
    "full_df.shape"
   ]
  },
  {
   "cell_type": "code",
   "execution_count": 206,
   "metadata": {},
   "outputs": [],
   "source": [
    "hero_id_list = ['r1_hero_id','r2_hero_id','r3_hero_id','r4_hero_id',\n",
    "                    'r5_hero_id','d1_hero_id','d2_hero_id','d3_hero_id',\n",
    "                    'd4_hero_id','d5_hero_id']"
   ]
  },
  {
   "cell_type": "code",
   "execution_count": 207,
   "metadata": {},
   "outputs": [],
   "source": [
    "hero_ids = full_df[['r1_hero_id','r2_hero_id','r3_hero_id','r4_hero_id',\n",
    "                    'r5_hero_id','d1_hero_id','d2_hero_id','d3_hero_id',\n",
    "                    'd4_hero_id','d5_hero_id','radiant_win']]\n",
    "hero_ids_rad_win = hero_ids[hero_ids['radiant_win'] == True]\n",
    "hero_ids_rad_lose = hero_ids[hero_ids['radiant_win'] == False]\n",
    "#hero_ids_rad_win.shape[0] + hero_ids_rad_lose.shape[0]"
   ]
  },
  {
   "cell_type": "code",
   "execution_count": 208,
   "metadata": {},
   "outputs": [],
   "source": [
    "winning_hero_ids1 = hero_ids_rad_win[['r1_hero_id','r2_hero_id',\n",
    "                                      'r3_hero_id','r4_hero_id','r5_hero_id']]\n",
    "winning_hero_ids2 = hero_ids_rad_lose[['d1_hero_id','d2_hero_id',\n",
    "                                      'd3_hero_id','d4_hero_id','d5_hero_id']]\n",
    "#winning_hero_ids1.shape[0] + winning_hero_ids2.shape[0]"
   ]
  },
  {
   "cell_type": "code",
   "execution_count": 209,
   "metadata": {},
   "outputs": [],
   "source": [
    "losing_hero_ids1 = hero_ids_rad_win[['d1_hero_id','d2_hero_id',\n",
    "                                      'd3_hero_id','d4_hero_id','d5_hero_id']]\n",
    "losing_hero_ids2 = hero_ids_rad_lose[['r1_hero_id','r2_hero_id',\n",
    "                                      'r3_hero_id','r4_hero_id','r5_hero_id']]"
   ]
  },
  {
   "cell_type": "code",
   "execution_count": 210,
   "metadata": {},
   "outputs": [],
   "source": [
    "winning_hero_ids1.rename(columns = {'r1_hero_id':'1_id', 'r2_hero_id':'2_id', \n",
    "                              'r3_hero_id':'3_id','r4_hero_id':'4_id',\n",
    "                                    'r5_hero_id':'5_id'}, inplace = True)\n",
    "winning_hero_ids2.rename(columns = {'d1_hero_id':'1_id', 'd2_hero_id':'2_id', \n",
    "                              'd3_hero_id':'3_id','d4_hero_id':'4_id',\n",
    "                                    'd5_hero_id':'5_id'}, inplace = True)"
   ]
  },
  {
   "cell_type": "code",
   "execution_count": 211,
   "metadata": {},
   "outputs": [],
   "source": [
    "losing_hero_ids1.rename(columns = {'d1_hero_id':'1_id', 'd2_hero_id':'2_id', \n",
    "                              'd3_hero_id':'3_id','d4_hero_id':'4_id',\n",
    "                                    'd5_hero_id':'5_id'}, inplace = True)\n",
    "losing_hero_ids2.rename(columns = {'r1_hero_id':'1_id', 'r2_hero_id':'2_id', \n",
    "                              'r3_hero_id':'3_id','r4_hero_id':'4_id',\n",
    "                                    'r5_hero_id':'5_id'}, inplace = True)"
   ]
  },
  {
   "cell_type": "code",
   "execution_count": 212,
   "metadata": {},
   "outputs": [
    {
     "data": {
      "text/plain": [
       "(39675, 5)"
      ]
     },
     "execution_count": 212,
     "metadata": {},
     "output_type": "execute_result"
    }
   ],
   "source": [
    "#winning_hero_ids = winning_hero_ids1.merge(winning_hero_ids2, how='outer', \n",
    "#                                           left_index=True, right_index=True)\n",
    "winning_hero_ids = pd.concat([winning_hero_ids1, winning_hero_ids2], axis=0)\n",
    "winning_hero_ids.shape"
   ]
  },
  {
   "cell_type": "code",
   "execution_count": 213,
   "metadata": {},
   "outputs": [
    {
     "data": {
      "text/plain": [
       "(39675, 5)"
      ]
     },
     "execution_count": 213,
     "metadata": {},
     "output_type": "execute_result"
    }
   ],
   "source": [
    "losing_hero_ids = pd.concat([losing_hero_ids1, losing_hero_ids2], axis=0)\n",
    "losing_hero_ids.shape"
   ]
  },
  {
   "cell_type": "code",
   "execution_count": 214,
   "metadata": {},
   "outputs": [],
   "source": [
    "winning_hero_counts = winning_hero_ids['1_id'].value_counts().sort_index() + winning_hero_ids['2_id'].value_counts().sort_index() + winning_hero_ids['3_id'].value_counts().sort_index() + winning_hero_ids['4_id'].value_counts().sort_index() + winning_hero_ids['5_id'].value_counts().sort_index()"
   ]
  },
  {
   "cell_type": "code",
   "execution_count": 215,
   "metadata": {},
   "outputs": [],
   "source": [
    "losing_hero_counts = losing_hero_ids['1_id'].value_counts().sort_index() + losing_hero_ids['2_id'].value_counts().sort_index() + losing_hero_ids['3_id'].value_counts().sort_index() + losing_hero_ids['4_id'].value_counts().sort_index() + losing_hero_ids['5_id'].value_counts().sort_index()"
   ]
  },
  {
   "cell_type": "code",
   "execution_count": 216,
   "metadata": {},
   "outputs": [],
   "source": [
    "winning_hero_counts = winning_hero_counts.sort_values()\n",
    "winning_hero_dict = winning_hero_counts.to_dict()"
   ]
  },
  {
   "cell_type": "code",
   "execution_count": 217,
   "metadata": {},
   "outputs": [],
   "source": [
    "losing_hero_counts = losing_hero_counts.sort_values()\n",
    "losing_hero_dict = losing_hero_counts.to_dict()"
   ]
  },
  {
   "cell_type": "code",
   "execution_count": 218,
   "metadata": {},
   "outputs": [],
   "source": [
    "hero_counts_win_minus_lose = winning_hero_counts.sort_index() - losing_hero_counts.sort_index()\n",
    "diff_hero_dict = hero_counts_win_minus_lose.to_dict()"
   ]
  },
  {
   "cell_type": "code",
   "execution_count": 219,
   "metadata": {},
   "outputs": [],
   "source": [
    "for col in hero_id_list:\n",
    "    full_df[col] = full_df[col].map(diff_hero_dict)\n",
    "    train_X[col] = train_X[col].map(diff_hero_dict)\n",
    "    test_X[col] = test_X[col].map(diff_hero_dict)"
   ]
  },
  {
   "cell_type": "code",
   "execution_count": 220,
   "metadata": {},
   "outputs": [
    {
     "data": {
      "text/plain": [
       "match_id_hash\n",
       "a400b8f29dece5f4d266f49f1ae2e98a    -549\n",
       "b9c57c450ce74a2af79c9ce96fac144d     -71\n",
       "6db558535151ea18ca70a6892197db41     147\n",
       "46a0ddce8f7ed2a8d9bd5edcbb925682     188\n",
       "b1b35ff97723d9b7ade1c9c3cf48f770     627\n",
       "                                    ... \n",
       "defd0caeed6ea83d7d5fbdec013fe7d1      80\n",
       "bc7a87ed5f9c2bca55f9f7a93da0b0c5     188\n",
       "e2ca68ac1a6847f4a37f6c9c8ee8695b     -46\n",
       "47ad6454ede66c1c78fdaa9391dfc556     818\n",
       "9928dfde50efcbdb2055da23dcdbc101    1479\n",
       "Name: r1_hero_id, Length: 39675, dtype: int64"
      ]
     },
     "execution_count": 220,
     "metadata": {},
     "output_type": "execute_result"
    }
   ],
   "source": [
    "full_df['r1_hero_id']"
   ]
  },
  {
   "cell_type": "markdown",
   "metadata": {},
   "source": [
    "Now have mapped hero id's to how often they participate in winning games, so will now be a numeric feature and can also use sum of this as a new feature."
   ]
  },
  {
   "cell_type": "markdown",
   "metadata": {},
   "source": [
    "## Using json files for new features: To be updated, not being used yet"
   ]
  },
  {
   "cell_type": "code",
   "execution_count": 3,
   "metadata": {},
   "outputs": [],
   "source": [
    "#with open(os.path.join('/Users/m/Insight/MLcourse/Dota/', 'train_matches.jsonl')) as fin:\n",
    "with open(os.path.join('/Users/m/Insight/MLcourse/Dota/train_matches.jsonl')) as fin:\n",
    "    # read the 18-th line\n",
    "    for i in range(18):\n",
    "        line = fin.readline()\n",
    "    \n",
    "    # read JSON into a Python object \n",
    "    match = json.loads(line)\n",
    "\n"
   ]
  },
  {
   "cell_type": "code",
   "execution_count": 57,
   "metadata": {},
   "outputs": [],
   "source": [
    "def read_matches(matches_file):\n",
    "    \n",
    "    MATCHES_COUNT = {\n",
    "        'test_matches.jsonl': 10000,\n",
    "        'train_matches.jsonl': 39675,\n",
    "    }\n",
    "    _, filename = os.path.split(matches_file)\n",
    "    total_matches = MATCHES_COUNT.get(filename)\n",
    "    \n",
    "    with open(matches_file) as fin:\n",
    "        for line in tqdm_notebook(fin, total=total_matches):\n",
    "            yield json.loads(line)"
   ]
  },
  {
   "cell_type": "code",
   "execution_count": 58,
   "metadata": {},
   "outputs": [],
   "source": [
    "def read_matches_test(matches_file):\n",
    "    \n",
    "    MATCHES_COUNT = {\n",
    "        'test_matches.jsonl': 10,\n",
    "        'train_matches.jsonl': 10,\n",
    "    }\n",
    "    _, filename = os.path.split(matches_file)\n",
    "    total_matches = MATCHES_COUNT.get(filename)\n",
    "    \n",
    "    with open(matches_file) as fin:\n",
    "        for line in tqdm_notebook(fin, total=total_matches):\n",
    "            yield json.loads(line)"
   ]
  },
  {
   "cell_type": "code",
   "execution_count": 59,
   "metadata": {},
   "outputs": [],
   "source": [
    "import collections\n",
    "PLAYER_FIELDS = [\n",
    "    'ability_upgrades'\n",
    "]\n",
    "\n",
    "def extract_features_csv(match):\n",
    "    row = [\n",
    "        ('match_id_hash', match['match_id_hash']),\n",
    "    ]\n",
    "        \n",
    "    for slot, player in enumerate(match['players']):\n",
    "        if slot < 5:\n",
    "            player_name = 'r%d' % (slot + 1)\n",
    "        else:\n",
    "            player_name = 'd%d' % (slot - 4)\n",
    "\n",
    "        for field in PLAYER_FIELDS:\n",
    "            column_name = '%s_%s' % (player_name, field)\n",
    "            row.append((column_name, player[field]))\n",
    "            \n",
    "    return collections.OrderedDict(row)\n",
    "    \n",
    "def extract_targets_csv(match, targets):\n",
    "    return collections.OrderedDict([('match_id_hash', match['match_id_hash'])] + [\n",
    "        (field, targets[field])\n",
    "        for field in ['game_time', 'radiant_win', 'duration', 'time_remaining', 'next_roshan_team']\n",
    "    ])\n"
   ]
  },
  {
   "cell_type": "markdown",
   "metadata": {},
   "source": [
    "## Find new features:\n",
    "\n",
    "1. Use data from `match['teamfights']`\n",
    "2. Hero data:\n",
    "Find best hero combinations for winning games"
   ]
  },
  {
   "cell_type": "code",
   "execution_count": 4,
   "metadata": {},
   "outputs": [
    {
     "data": {
      "text/plain": [
       "dict_keys(['game_time', 'match_id_hash', 'teamfights', 'objectives', 'chat', 'game_mode', 'lobby_type', 'players', 'targets'])"
      ]
     },
     "execution_count": 4,
     "metadata": {},
     "output_type": "execute_result"
    }
   ],
   "source": [
    "match.keys()"
   ]
  },
  {
   "cell_type": "code",
   "execution_count": 56,
   "metadata": {
    "scrolled": true
   },
   "outputs": [
    {
     "data": {
      "text/plain": [
       "{'player_slot': 1,\n",
       " 'hero_id': 86,\n",
       " 'hero_name': 'npc_dota_hero_rubick',\n",
       " 'account_id_hash': 'ca3c22fe0645a95875cd9bd86b759959',\n",
       " 'ability_upgrades': [{'ability': 5448, 'time': 251, 'level': 1},\n",
       "  {'ability': 5450, 'time': 287, 'level': 2},\n",
       "  {'ability': 5450, 'time': 484, 'level': 3},\n",
       "  {'ability': 5448, 'time': 636, 'level': 4},\n",
       "  {'ability': 5448, 'time': 921, 'level': 5},\n",
       "  {'ability': 5452, 'time': 1098, 'level': 6},\n",
       "  {'ability': 5450, 'time': 1196, 'level': 7},\n",
       "  {'ability': 5448, 'time': 1380, 'level': 8},\n",
       "  {'ability': 5451, 'time': 1448, 'level': 9},\n",
       "  {'ability': 5451, 'time': 1508, 'level': 10},\n",
       "  {'ability': 5450, 'time': 1520, 'level': 11},\n",
       "  {'ability': 5452, 'time': 1718, 'level': 12},\n",
       "  {'ability': 5959, 'time': 1736, 'level': 13},\n",
       "  {'ability': 6003, 'time': 1921, 'level': 14},\n",
       "  {'ability': 5451, 'time': 1922, 'level': 15},\n",
       "  {'ability': 5451, 'time': 2136, 'level': 16}],\n",
       " 'obs_placed': 4,\n",
       " 'sen_placed': 2,\n",
       " 'creeps_stacked': 0,\n",
       " 'camps_stacked': 0,\n",
       " 'rune_pickups': 3,\n",
       " 'firstblood_claimed': 0,\n",
       " 'teamfight_participation': 0.561,\n",
       " 'towers_killed': 0,\n",
       " 'roshans_killed': 0,\n",
       " 'observers_placed': 4,\n",
       " 'stuns': 70.444,\n",
       " 'max_hero_hit': {'type': 'max_hero_hit',\n",
       "  'time': 1915.762,\n",
       "  'max': True,\n",
       "  'inflictor': 'rubick_fade_bolt',\n",
       "  'unit': 'npc_dota_hero_rubick',\n",
       "  'key': 'npc_dota_hero_skeleton_king',\n",
       "  'value': 335,\n",
       "  'slot': 1,\n",
       "  'player_slot': 1},\n",
       " 'times': [0,\n",
       "  60,\n",
       "  120,\n",
       "  180,\n",
       "  240,\n",
       "  300,\n",
       "  360,\n",
       "  420,\n",
       "  480,\n",
       "  540,\n",
       "  600,\n",
       "  660,\n",
       "  720,\n",
       "  780,\n",
       "  840,\n",
       "  900,\n",
       "  960,\n",
       "  1020,\n",
       "  1080,\n",
       "  1140,\n",
       "  1200,\n",
       "  1260,\n",
       "  1320,\n",
       "  1380,\n",
       "  1440,\n",
       "  1500,\n",
       "  1560,\n",
       "  1620,\n",
       "  1680,\n",
       "  1740,\n",
       "  1800,\n",
       "  1860,\n",
       "  1920,\n",
       "  1980,\n",
       "  2040,\n",
       "  2100,\n",
       "  2160,\n",
       "  2220,\n",
       "  2280,\n",
       "  2340],\n",
       " 'gold_t': [0,\n",
       "  412,\n",
       "  775,\n",
       "  865,\n",
       "  979,\n",
       "  1069,\n",
       "  1388,\n",
       "  1580,\n",
       "  1898,\n",
       "  1990,\n",
       "  2283,\n",
       "  2432,\n",
       "  2523,\n",
       "  2614,\n",
       "  2943,\n",
       "  3102,\n",
       "  3253,\n",
       "  3539,\n",
       "  3631,\n",
       "  3849,\n",
       "  4138,\n",
       "  4349,\n",
       "  5128,\n",
       "  5218,\n",
       "  5339,\n",
       "  5782,\n",
       "  6112,\n",
       "  6204,\n",
       "  6494,\n",
       "  7356,\n",
       "  7910,\n",
       "  8001,\n",
       "  8269,\n",
       "  8360,\n",
       "  8451,\n",
       "  8542,\n",
       "  8632,\n",
       "  8723,\n",
       "  8814,\n",
       "  9255],\n",
       " 'lh_t': [0,\n",
       "  0,\n",
       "  0,\n",
       "  0,\n",
       "  0,\n",
       "  0,\n",
       "  0,\n",
       "  1,\n",
       "  1,\n",
       "  1,\n",
       "  3,\n",
       "  5,\n",
       "  5,\n",
       "  5,\n",
       "  7,\n",
       "  8,\n",
       "  9,\n",
       "  11,\n",
       "  11,\n",
       "  15,\n",
       "  16,\n",
       "  16,\n",
       "  23,\n",
       "  23,\n",
       "  25,\n",
       "  25,\n",
       "  28,\n",
       "  28,\n",
       "  28,\n",
       "  32,\n",
       "  33,\n",
       "  33,\n",
       "  33,\n",
       "  33,\n",
       "  33,\n",
       "  33,\n",
       "  33,\n",
       "  33,\n",
       "  33,\n",
       "  33],\n",
       " 'dn_t': [0,\n",
       "  0,\n",
       "  0,\n",
       "  0,\n",
       "  0,\n",
       "  0,\n",
       "  0,\n",
       "  0,\n",
       "  0,\n",
       "  0,\n",
       "  0,\n",
       "  0,\n",
       "  0,\n",
       "  0,\n",
       "  0,\n",
       "  0,\n",
       "  0,\n",
       "  0,\n",
       "  0,\n",
       "  0,\n",
       "  0,\n",
       "  0,\n",
       "  0,\n",
       "  0,\n",
       "  0,\n",
       "  0,\n",
       "  0,\n",
       "  0,\n",
       "  0,\n",
       "  0,\n",
       "  0,\n",
       "  0,\n",
       "  0,\n",
       "  0,\n",
       "  0,\n",
       "  0,\n",
       "  0,\n",
       "  0,\n",
       "  0,\n",
       "  0],\n",
       " 'xp_t': [0,\n",
       "  124,\n",
       "  389,\n",
       "  389,\n",
       "  590,\n",
       "  771,\n",
       "  1046,\n",
       "  1115,\n",
       "  1245,\n",
       "  1245,\n",
       "  1416,\n",
       "  1658,\n",
       "  1836,\n",
       "  1906,\n",
       "  2215,\n",
       "  2369,\n",
       "  2487,\n",
       "  3045,\n",
       "  3142,\n",
       "  3593,\n",
       "  4128,\n",
       "  5032,\n",
       "  6039,\n",
       "  6199,\n",
       "  6255,\n",
       "  7448,\n",
       "  8370,\n",
       "  8408,\n",
       "  8408,\n",
       "  10557,\n",
       "  10703,\n",
       "  10703,\n",
       "  11597,\n",
       "  11597,\n",
       "  11597,\n",
       "  11597,\n",
       "  11597,\n",
       "  11672,\n",
       "  11672,\n",
       "  11672],\n",
       " 'obs_log': [{'time': 120.988,\n",
       "   'tick': 9350,\n",
       "   'type': 'obs_log',\n",
       "   'key': '[122, 136]',\n",
       "   'slot': 1,\n",
       "   'x': 122,\n",
       "   'y': 136,\n",
       "   'z': 130,\n",
       "   'entityleft': False,\n",
       "   'ehandle': 15369419,\n",
       "   'player_slot': 1},\n",
       "  {'time': 393.188,\n",
       "   'tick': 17518,\n",
       "   'type': 'obs_log',\n",
       "   'key': '[88, 144]',\n",
       "   'slot': 1,\n",
       "   'x': 88,\n",
       "   'y': 144,\n",
       "   'z': 132,\n",
       "   'entityleft': False,\n",
       "   'ehandle': 15664326,\n",
       "   'player_slot': 1},\n",
       "  {'time': 400.52,\n",
       "   'tick': 17738,\n",
       "   'type': 'obs_log',\n",
       "   'key': '[100, 160]',\n",
       "   'slot': 1,\n",
       "   'x': 100,\n",
       "   'y': 160,\n",
       "   'z': 130,\n",
       "   'entityleft': False,\n",
       "   'ehandle': 11256442,\n",
       "   'player_slot': 1},\n",
       "  {'time': 583.208,\n",
       "   'tick': 23220,\n",
       "   'type': 'obs_log',\n",
       "   'key': '[150, 126]',\n",
       "   'slot': 1,\n",
       "   'x': 150,\n",
       "   'y': 126,\n",
       "   'z': 130,\n",
       "   'entityleft': False,\n",
       "   'ehandle': 247173,\n",
       "   'player_slot': 1}],\n",
       " 'sen_log': [{'time': 1154.002,\n",
       "   'tick': 40348,\n",
       "   'type': 'sen_log',\n",
       "   'key': '[126, 126]',\n",
       "   'slot': 1,\n",
       "   'x': 126,\n",
       "   'y': 126,\n",
       "   'z': 130,\n",
       "   'entityleft': False,\n",
       "   'ehandle': 4621021,\n",
       "   'player_slot': 1},\n",
       "  {'time': 1173.464,\n",
       "   'tick': 40932,\n",
       "   'type': 'sen_log',\n",
       "   'key': '[138, 134]',\n",
       "   'slot': 1,\n",
       "   'x': 138,\n",
       "   'y': 134,\n",
       "   'z': 130,\n",
       "   'entityleft': False,\n",
       "   'ehandle': 8160265,\n",
       "   'player_slot': 1}],\n",
       " 'obs_left_log': [{'time': 486.832,\n",
       "   'tick': 20328,\n",
       "   'type': 'obs_left_log',\n",
       "   'key': '[122, 136]',\n",
       "   'slot': 1,\n",
       "   'x': 122,\n",
       "   'y': 136,\n",
       "   'z': 130,\n",
       "   'entityleft': True,\n",
       "   'ehandle': 15369419,\n",
       "   'player_slot': 1},\n",
       "  {'time': 759.032,\n",
       "   'tick': 28496,\n",
       "   'type': 'obs_left_log',\n",
       "   'key': '[88, 144]',\n",
       "   'slot': 1,\n",
       "   'x': 88,\n",
       "   'y': 144,\n",
       "   'z': 132,\n",
       "   'entityleft': True,\n",
       "   'ehandle': 15664326,\n",
       "   'player_slot': 1},\n",
       "  {'time': 766.364,\n",
       "   'tick': 28716,\n",
       "   'type': 'obs_left_log',\n",
       "   'key': '[100, 160]',\n",
       "   'slot': 1,\n",
       "   'x': 100,\n",
       "   'y': 160,\n",
       "   'z': 130,\n",
       "   'entityleft': True,\n",
       "   'ehandle': 11256442,\n",
       "   'player_slot': 1},\n",
       "  {'time': 949.052,\n",
       "   'tick': 34198,\n",
       "   'type': 'obs_left_log',\n",
       "   'key': '[150, 126]',\n",
       "   'slot': 1,\n",
       "   'x': 150,\n",
       "   'y': 126,\n",
       "   'z': 130,\n",
       "   'entityleft': True,\n",
       "   'ehandle': 247173,\n",
       "   'player_slot': 1}],\n",
       " 'sen_left_log': [{'time': 1399.809,\n",
       "   'tick': 47724,\n",
       "   'type': 'sen_left_log',\n",
       "   'key': '[126, 126]',\n",
       "   'slot': 1,\n",
       "   'x': 126,\n",
       "   'y': 126,\n",
       "   'z': 130,\n",
       "   'entityleft': True,\n",
       "   'ehandle': 4621021,\n",
       "   'player_slot': 1},\n",
       "  {'time': 1419.338,\n",
       "   'tick': 48310,\n",
       "   'type': 'sen_left_log',\n",
       "   'key': '[138, 134]',\n",
       "   'slot': 1,\n",
       "   'x': 138,\n",
       "   'y': 134,\n",
       "   'z': 130,\n",
       "   'entityleft': True,\n",
       "   'ehandle': 8160265,\n",
       "   'player_slot': 1}],\n",
       " 'purchase_log': [{'time': -89.953, 'key': 'tpscroll'},\n",
       "  {'time': -2.601, 'key': 'courier'},\n",
       "  {'time': -1.5670000000000002, 'key': 'tango'},\n",
       "  {'time': 6.035, 'key': 'tango'},\n",
       "  {'time': 8.302, 'key': 'ward_observer'},\n",
       "  {'time': 12.869, 'key': 'smoke_of_deceit'},\n",
       "  {'time': 62.569, 'key': 'boots'},\n",
       "  {'time': 91.995, 'key': 'clarity'},\n",
       "  {'time': 94.761, 'key': 'clarity'},\n",
       "  {'time': 231.928, 'key': 'tpscroll'},\n",
       "  {'time': 311.608, 'key': 'tpscroll'},\n",
       "  {'time': 354.531, 'key': 'tpscroll'},\n",
       "  {'time': 358.73, 'key': 'wind_lace'},\n",
       "  {'time': 359.53, 'key': 'smoke_of_deceit'},\n",
       "  {'time': 361.329, 'key': 'ward_observer'},\n",
       "  {'time': 361.529, 'key': 'ward_observer'},\n",
       "  {'time': 361.763, 'key': 'ward_observer'},\n",
       "  {'time': 516.525, 'key': 'clarity'},\n",
       "  {'time': 517.358, 'key': 'tpscroll'},\n",
       "  {'time': 744.669, 'key': 'void_stone'},\n",
       "  {'time': 745.469, 'key': 'tpscroll'},\n",
       "  {'time': 1055.16, 'key': 'tpscroll'},\n",
       "  {'time': 1118.611, 'key': 'dust'},\n",
       "  {'time': 1120.877, 'key': 'tpscroll'},\n",
       "  {'time': 1123.21, 'key': 'smoke_of_deceit'},\n",
       "  {'time': 1131.775, 'key': 'ward_sentry'},\n",
       "  {'time': 1131.908, 'key': 'ward_sentry'},\n",
       "  {'time': 1228.018, 'key': 'tome_of_knowledge'},\n",
       "  {'time': 1327.193, 'key': 'staff_of_wizardry'},\n",
       "  {'time': 1435.667, 'key': 'tpscroll'},\n",
       "  {'time': 1483.222, 'key': 'smoke_of_deceit'},\n",
       "  {'time': 1561.37, 'key': 'clarity'},\n",
       "  {'time': 1561.503, 'key': 'clarity'},\n",
       "  {'time': 1587.863, 'key': 'cyclone'},\n",
       "  {'time': 1822.373, 'key': 'tpscroll'}],\n",
       " 'kills_log': [{'time': 85.163, 'key': 'npc_dota_hero_chaos_knight'},\n",
       "  {'time': 342.201, 'key': 'npc_dota_hero_winter_wyvern'},\n",
       "  {'time': 469.336, 'key': 'npc_dota_hero_sven'},\n",
       "  {'time': 1016.136, 'key': 'npc_dota_hero_skeleton_king'}],\n",
       " 'buyback_log': [],\n",
       " 'runes_log': [{'time': 123.054, 'key': 2},\n",
       "  {'time': 391.855, 'key': 5},\n",
       "  {'time': 1580.432, 'key': 1}],\n",
       " 'obs': {'88': {'144': 1},\n",
       "  '100': {'160': 1},\n",
       "  '122': {'136': 1},\n",
       "  '150': {'126': 1}},\n",
       " 'sen': {'126': {'126': 1}, '138': {'134': 1}},\n",
       " 'actions': {'1': 7601,\n",
       "  '2': 6,\n",
       "  '3': 61,\n",
       "  '4': 810,\n",
       "  '5': 37,\n",
       "  '6': 161,\n",
       "  '7': 4,\n",
       "  '8': 24,\n",
       "  '10': 100,\n",
       "  '11': 14,\n",
       "  '12': 1,\n",
       "  '15': 11,\n",
       "  '16': 34,\n",
       "  '19': 7,\n",
       "  '24': 2,\n",
       "  '27': 1,\n",
       "  '33': 100},\n",
       " 'pings': {'0': 27},\n",
       " 'purchase': {'tpscroll': 10,\n",
       "  'courier': 1,\n",
       "  'tango': 2,\n",
       "  'ward_observer': 4,\n",
       "  'smoke_of_deceit': 4,\n",
       "  'boots': 1,\n",
       "  'clarity': 5,\n",
       "  'wind_lace': 1,\n",
       "  'void_stone': 1,\n",
       "  'dust': 1,\n",
       "  'ward_sentry': 2,\n",
       "  'tome_of_knowledge': 1,\n",
       "  'staff_of_wizardry': 1,\n",
       "  'recipe_cyclone': 1,\n",
       "  'cyclone': 1},\n",
       " 'gold_reasons': {'0': 766, '1': -2001, '11': 1310, '12': 2942, '13': 1292},\n",
       " 'xp_reasons': {'0': 838, '1': 6661, '2': 4176},\n",
       " 'killed': {'npc_dota_hero_chaos_knight': 38,\n",
       "  'npc_dota_hero_winter_wyvern': 115,\n",
       "  'npc_dota_wraith_king_skeleton_warrior': 698,\n",
       "  'npc_dota_hero_sven': 122,\n",
       "  'npc_dota_creep_badguys_melee': 3678,\n",
       "  'npc_dota_creep_badguys_ranged': 999,\n",
       "  'npc_dota_hero_skeleton_king': 187,\n",
       "  'npc_dota_dark_troll_warlord_skeleton_warrior': 437,\n",
       "  'npc_dota_neutral_dark_troll': 434},\n",
       " 'item_uses': {'courier': 1,\n",
       "  'tpscroll': 10,\n",
       "  'smoke_of_deceit': 4,\n",
       "  'tango': 6,\n",
       "  'ward_observer': 4,\n",
       "  'clarity': 5,\n",
       "  'ward_sentry': 2,\n",
       "  'dust': 2,\n",
       "  'tome_of_knowledge': 1,\n",
       "  'cyclone': 3},\n",
       " 'ability_uses': {'rubick_telekinesis': 26,\n",
       "  'rubick_telekinesis_land': 18,\n",
       "  'rubick_fade_bolt': 38,\n",
       "  'rubick_spell_steal': 17,\n",
       "  'chaos_knight_phantasm': 1,\n",
       "  'sven_warcry': 2,\n",
       "  'sven_gods_strength': 1,\n",
       "  'chaos_knight_chaos_bolt': 3,\n",
       "  'winter_wyvern_splinter_blast': 1,\n",
       "  'slark_dark_pact': 5,\n",
       "  'chaos_knight_reality_rift': 4,\n",
       "  'sven_storm_bolt': 2,\n",
       "  'skeleton_king_hellfire_blast': 2,\n",
       "  'rubick_null_field': 1,\n",
       "  'winter_wyvern_arctic_burn': 1},\n",
       " 'hero_hits': {'null': 64,\n",
       "  'rubick_fade_bolt': 50,\n",
       "  'chaos_knight_chaos_bolt': 3,\n",
       "  'winter_wyvern_splinter_blast': 1,\n",
       "  'slark_dark_pact': 62,\n",
       "  'sven_storm_bolt': 1,\n",
       "  'cyclone': 1,\n",
       "  'skeleton_king_hellfire_blast': 1},\n",
       " 'damage': {'npc_dota_hero_slark': 3272,\n",
       "  'npc_dota_hero_chaos_knight': 3190,\n",
       "  'npc_dota_hero_sven': 1920,\n",
       "  'npc_dota_hero_winter_wyvern': 1844,\n",
       "  'npc_dota_creep_badguys_ranged': 3287,\n",
       "  'npc_dota_creep_badguys_melee': 11308,\n",
       "  'npc_dota_badguys_siege': 162,\n",
       "  'npc_dota_hero_skeleton_king': 2296,\n",
       "  'npc_dota_wraith_king_skeleton_warrior': 797,\n",
       "  'npc_dota_neutral_wildkin': 211,\n",
       "  'npc_dota_neutral_enraged_wildkin': 93,\n",
       "  'npc_dota_neutral_polar_furbolg_champion': 85,\n",
       "  'npc_dota_neutral_polar_furbolg_ursa_warrior': 72,\n",
       "  'npc_dota_badguys_tower1_mid': 150,\n",
       "  'npc_dota_creep_goodguys_melee': 50,\n",
       "  'npc_dota_badguys_tower1_top': 140,\n",
       "  'npc_dota_dark_troll_warlord_skeleton_warrior': 437,\n",
       "  'npc_dota_neutral_dark_troll': 434,\n",
       "  'npc_dota_neutral_dark_troll_warlord': 175,\n",
       "  'npc_dota_hero_rubick': 428,\n",
       "  'illusion_npc_dota_hero_sven': 623,\n",
       "  'npc_dota_badguys_tower2_mid': 79,\n",
       "  'npc_dota_hero_kunkka': 42},\n",
       " 'damage_taken': {'npc_dota_creep_badguys_melee': 556,\n",
       "  'npc_dota_creep_badguys_ranged': 501,\n",
       "  'npc_dota_hero_chaos_knight': 1984,\n",
       "  'npc_dota_hero_winter_wyvern': 868,\n",
       "  'npc_dota_hero_sven': 4568,\n",
       "  'npc_dota_hero_slark': 5735,\n",
       "  'npc_dota_badguys_tower1_top': 414,\n",
       "  'npc_dota_badguys_siege': 88,\n",
       "  'npc_dota_hero_kunkka': 852,\n",
       "  'npc_dota_hero_skeleton_king': 1698,\n",
       "  'npc_dota_hero_elder_titan': 162,\n",
       "  'npc_dota_hero_tidehunter': 172,\n",
       "  'npc_dota_neutral_dark_troll_warlord': 35,\n",
       "  'npc_dota_hero_rubick': 428},\n",
       " 'damage_inflictor': {'null': 2548,\n",
       "  'rubick_fade_bolt': 8679,\n",
       "  'chaos_knight_chaos_bolt': 534,\n",
       "  'winter_wyvern_splinter_blast': 77,\n",
       "  'slark_dark_pact': 276,\n",
       "  'sven_storm_bolt': 255,\n",
       "  'cyclone': 39,\n",
       "  'skeleton_king_hellfire_blast': 156},\n",
       " 'runes': {'1': 1, '2': 1, '5': 1},\n",
       " 'killed_by': {'npc_dota_hero_slark': 6,\n",
       "  'npc_dota_badguys_tower1_top': 1,\n",
       "  'npc_dota_hero_winter_wyvern': 2,\n",
       "  'npc_dota_hero_skeleton_king': 4,\n",
       "  'npc_dota_hero_sven': 3},\n",
       " 'kill_streaks': {},\n",
       " 'multi_kills': {},\n",
       " 'life_state': {'0': 3744, '1': 96, '2': 936},\n",
       " 'healing': {},\n",
       " 'damage_inflictor_received': {'null': 10805,\n",
       "  'chaos_knight_chaos_bolt': 453,\n",
       "  'winter_wyvern_arctic_burn': 182,\n",
       "  'sven_storm_bolt': 1315,\n",
       "  'slark_dark_pact': 1076,\n",
       "  'slark_pounce': 398,\n",
       "  'kunkka_ghostship': 482,\n",
       "  'winter_wyvern_splinter_blast': 224,\n",
       "  'skeleton_king_hellfire_blast': 796,\n",
       "  'winter_wyvern_winters_curse': 39,\n",
       "  'orb_of_venom': 29,\n",
       "  'sven_great_cleave': 207},\n",
       " 'randomed': False,\n",
       " 'pred_vict': False,\n",
       " 'gold': 9328,\n",
       " 'lh': 33,\n",
       " 'xp': 11672,\n",
       " 'x': 74,\n",
       " 'y': 74,\n",
       " 'hero_inventory': [{'id': 'item_boots', 'cooldown': 0},\n",
       "  {'id': 'item_cyclone', 'cooldown': 0}],\n",
       " 'hero_stash': [],\n",
       " 'health': 1320,\n",
       " 'max_health': 1320,\n",
       " 'max_mana': 950.938,\n",
       " 'level': 16,\n",
       " 'kills': 3,\n",
       " 'deaths': 16,\n",
       " 'assists': 20,\n",
       " 'denies': 0,\n",
       " 'nearby_creep_death_count': 172}"
      ]
     },
     "execution_count": 56,
     "metadata": {},
     "output_type": "execute_result"
    }
   ],
   "source": [
    "match['players'][1]"
   ]
  },
  {
   "cell_type": "code",
   "execution_count": 55,
   "metadata": {},
   "outputs": [
    {
     "data": {
      "text/plain": [
       "dict"
      ]
     },
     "execution_count": 55,
     "metadata": {},
     "output_type": "execute_result"
    }
   ],
   "source": [
    "type(player['ability_upgrades'][0])"
   ]
  },
  {
   "cell_type": "code",
   "execution_count": 53,
   "metadata": {},
   "outputs": [
    {
     "name": "stdout",
     "output_type": "stream",
     "text": [
      "0 18105\n",
      "1 9255\n",
      "2 13766\n",
      "3 15547\n",
      "4 29851\n",
      "128 13408\n",
      "129 18672\n",
      "130 10068\n",
      "131 18408\n",
      "132 18351\n"
     ]
    }
   ],
   "source": [
    "for player in match['players']:\n",
    "    print(player['player_slot'],player['gold_t'][len(player['gold_t'])-1] - player['gold_t'][0])\n",
    "    print(player['player_slot'],player['gold_t'][len(player['gold_t'])-1] - player['gold_t'][0])"
   ]
  },
  {
   "cell_type": "code",
   "execution_count": 48,
   "metadata": {},
   "outputs": [
    {
     "data": {
      "image/png": "[encoded data removed]",
      "text/plain": [
       "<Figure size 432x288 with 1 Axes>"
      ]
     },
     "metadata": {
      "needs_background": "light"
     },
     "output_type": "display_data"
    }
   ],
   "source": [
    "for player in match['players']:\n",
    "    plt.plot(player['times'], player['gold_t'])\n",
    "    \n",
    "plt.title('Gold change');"
   ]
  },
  {
   "cell_type": "markdown",
   "metadata": {},
   "source": [
    "From https://www.kaggle.com/artgor/dota-eda-fe-and-models"
   ]
  },
  {
   "cell_type": "code",
   "execution_count": 19,
   "metadata": {},
   "outputs": [],
   "source": [
    "def read_matches(matches_file):\n",
    "    \n",
    "    MATCHES_COUNT = {\n",
    "        'test_matches.jsonl': 10000,\n",
    "        'train_matches.jsonl': 39675,\n",
    "    }\n",
    "    _, filename = os.path.split(matches_file)\n",
    "    total_matches = MATCHES_COUNT.get(filename)\n",
    "    \n",
    "    with open(matches_file) as fin:\n",
    "        for line in tqdm_notebook(fin, total=total_matches):\n",
    "            yield json.loads(line)"
   ]
  },
  {
   "cell_type": "code",
   "execution_count": 20,
   "metadata": {},
   "outputs": [],
   "source": [
    "import collections\n",
    "\n",
    "MATCH_FEATURES = [\n",
    "    ('game_time', lambda m: m['game_time']),\n",
    "    ('game_mode', lambda m: m['game_mode']),\n",
    "    ('lobby_type', lambda m: m['lobby_type']),\n",
    "    ('objectives_len', lambda m: len(m['objectives'])),\n",
    "    ('chat_len', lambda m: len(m['chat'])),\n",
    "]\n",
    "\n",
    "PLAYER_FIELDS = [\n",
    "    'hero_id',\n",
    "    \n",
    "    'kills',\n",
    "    'deaths',\n",
    "    'assists',\n",
    "    'denies',\n",
    "    \n",
    "    'gold',\n",
    "    'lh',\n",
    "    'xp',\n",
    "    'health',\n",
    "    'max_health',\n",
    "    'max_mana',\n",
    "    'level',\n",
    "\n",
    "    'x',\n",
    "    'y',\n",
    "    \n",
    "    'stuns',\n",
    "    'creeps_stacked',\n",
    "    'camps_stacked',\n",
    "    'rune_pickups',\n",
    "    'firstblood_claimed',\n",
    "    'teamfight_participation',\n",
    "    'towers_killed',\n",
    "    'roshans_killed',\n",
    "    'obs_placed',\n",
    "    'sen_placed',\n",
    "]\n",
    "\n",
    "def extract_features_csv(match):\n",
    "    row = [\n",
    "        ('match_id_hash', match['match_id_hash']),\n",
    "    ]\n",
    "    \n",
    "    for field, f in MATCH_FEATURES:\n",
    "        row.append((field, f(match)))\n",
    "        \n",
    "    for slot, player in enumerate(match['players']):\n",
    "        if slot < 5:\n",
    "            player_name = 'r%d' % (slot + 1)\n",
    "        else:\n",
    "            player_name = 'd%d' % (slot - 4)\n",
    "\n",
    "        for field in PLAYER_FIELDS:\n",
    "            column_name = '%s_%s' % (player_name, field)\n",
    "            row.append((column_name, player[field]))\n",
    "        row.append((f'{player_name}_ability_level', len(player['ability_upgrades'])))\n",
    "        row.append((f'{player_name}_max_hero_hit', player['max_hero_hit']['value']))\n",
    "        row.append((f'{player_name}_purchase_count', len(player['purchase_log'])))\n",
    "        row.append((f'{player_name}_count_ability_use', sum(player['ability_uses'].values())))\n",
    "        row.append((f'{player_name}_damage_dealt', sum(player['damage'].values())))\n",
    "        row.append((f'{player_name}_damage_received', sum(player['damage_taken'].values())))\n",
    "            \n",
    "    return collections.OrderedDict(row)\n",
    "    \n",
    "def extract_targets_csv(match, targets):\n",
    "    return collections.OrderedDict([('match_id_hash', match['match_id_hash'])] + [\n",
    "        (field, targets[field])\n",
    "        for field in ['game_time', 'radiant_win', 'duration', 'time_remaining', 'next_roshan_team']\n",
    "    ])"
   ]
  },
  {
   "cell_type": "code",
   "execution_count": 22,
   "metadata": {},
   "outputs": [
    {
     "data": {
      "application/vnd.jupyter.widget-view+json": {
       "model_id": "6b0dcc9e28224e5083bc34fc10dd9d93",
       "version_major": 2,
       "version_minor": 0
      },
      "text/plain": [
       "HBox(children=(IntProgress(value=0, max=39675), HTML(value='')))"
      ]
     },
     "metadata": {},
     "output_type": "display_data"
    },
    {
     "name": "stdout",
     "output_type": "stream",
     "text": [
      "\n",
      "CPU times: user 1min 20s, sys: 7.39 s, total: 1min 27s\n",
      "Wall time: 1min 47s\n"
     ]
    }
   ],
   "source": [
    "%%time\n",
    "#PATH_TO_DATA = '../input/'\n",
    "df_new_features = []\n",
    "df_new_targets = []\n",
    "\n",
    "for match in read_matches(os.path.join('/Users/m/Insight/MLcourse/Dota/train_matches.jsonl')):\n",
    "    match_id_hash = match['match_id_hash']\n",
    "    features = extract_features_csv(match)\n",
    "    targets = extract_targets_csv(match, match['targets'])\n",
    "    \n",
    "    df_new_features.append(features)\n",
    "    df_new_targets.append(targets)"
   ]
  },
  {
   "cell_type": "code",
   "execution_count": 23,
   "metadata": {},
   "outputs": [],
   "source": [
    "df_new_features = pd.DataFrame.from_records(df_new_features).set_index('match_id_hash')\n",
    "df_new_targets = pd.DataFrame.from_records(df_new_targets).set_index('match_id_hash')"
   ]
  },
  {
   "cell_type": "code",
   "execution_count": 64,
   "metadata": {},
   "outputs": [
    {
     "data": {
      "application/vnd.jupyter.widget-view+json": {
       "model_id": "eae8c76d413340e7a24e1edd84e05989",
       "version_major": 2,
       "version_minor": 0
      },
      "text/plain": [
       "HBox(children=(IntProgress(value=0, max=10000), HTML(value='')))"
      ]
     },
     "metadata": {},
     "output_type": "display_data"
    },
    {
     "name": "stdout",
     "output_type": "stream",
     "text": [
      "\n"
     ]
    }
   ],
   "source": [
    "test_new_features = []\n",
    "for match in read_matches(os.path.join('/Users/m/Insight/MLcourse/Dota/test_matches.jsonl')):\n",
    "    match_id_hash = match['match_id_hash']\n",
    "    features = extract_features_csv(match)\n",
    "    \n",
    "    test_new_features.append(features)\n",
    "test_new_features = pd.DataFrame.from_records(test_new_features).set_index('match_id_hash')"
   ]
  },
  {
   "cell_type": "code",
   "execution_count": 65,
   "metadata": {},
   "outputs": [],
   "source": [
    "#export_csv = test_new_features.to_csv(r'/Users/m/Insight/MLcourse/Dota/test_features_plus.csv', index = 'match_id_hash', header=True)"
   ]
  },
  {
   "cell_type": "code",
   "execution_count": 24,
   "metadata": {},
   "outputs": [
    {
     "data": {
      "application/vnd.jupyter.widget-view+json": {
       "model_id": "4342394504174a4d9bf3b7686935759f",
       "version_major": 2,
       "version_minor": 0
      },
      "text/plain": [
       "HBox(children=(IntProgress(value=0, max=39675), HTML(value='')))"
      ]
     },
     "metadata": {},
     "output_type": "display_data"
    },
    {
     "name": "stdout",
     "output_type": "stream",
     "text": [
      "\n"
     ]
    }
   ],
   "source": [
    "for match in read_matches(os.path.join('/Users/m/Insight/MLcourse/Dota/train_matches.jsonl')):\n",
    "    match_id_hash = match['match_id_hash']\n",
    "    game_time = match['game_time']\n",
    "    \n",
    "    # processing each game\n",
    "    \n",
    "    for player in match['players']:\n",
    "        pass  # processing each player"
   ]
  },
  {
   "cell_type": "code",
   "execution_count": 148,
   "metadata": {},
   "outputs": [
    {
     "data": {
      "text/plain": [
       "0"
      ]
     },
     "execution_count": 148,
     "metadata": {},
     "output_type": "execute_result"
    }
   ],
   "source": [
    "full_df.isnull().sum().sum()"
   ]
  },
  {
   "cell_type": "code",
   "execution_count": 221,
   "metadata": {},
   "outputs": [
    {
     "data": {
      "text/html": [
       "<div>\n",
       "<style scoped>\n",
       "    .dataframe tbody tr th:only-of-type {\n",
       "        vertical-align: middle;\n",
       "    }\n",
       "\n",
       "    .dataframe tbody tr th {\n",
       "        vertical-align: top;\n",
       "    }\n",
       "\n",
       "    .dataframe thead th {\n",
       "        text-align: right;\n",
       "    }\n",
       "</style>\n",
       "<table border=\"1\" class=\"dataframe\">\n",
       "  <thead>\n",
       "    <tr style=\"text-align: right;\">\n",
       "      <th></th>\n",
       "      <th>game_time</th>\n",
       "      <th>game_mode</th>\n",
       "      <th>lobby_type</th>\n",
       "      <th>objectives_len</th>\n",
       "      <th>chat_len</th>\n",
       "      <th>r1_hero_id</th>\n",
       "      <th>r1_kills</th>\n",
       "      <th>r1_deaths</th>\n",
       "      <th>r1_assists</th>\n",
       "      <th>r1_denies</th>\n",
       "      <th>...</th>\n",
       "      <th>d5_towers_killed</th>\n",
       "      <th>d5_roshans_killed</th>\n",
       "      <th>d5_obs_placed</th>\n",
       "      <th>d5_sen_placed</th>\n",
       "      <th>d5_ability_level</th>\n",
       "      <th>d5_max_hero_hit</th>\n",
       "      <th>d5_purchase_count</th>\n",
       "      <th>d5_count_ability_use</th>\n",
       "      <th>d5_damage_dealt</th>\n",
       "      <th>d5_damage_received</th>\n",
       "    </tr>\n",
       "    <tr>\n",
       "      <th>match_id_hash</th>\n",
       "      <th></th>\n",
       "      <th></th>\n",
       "      <th></th>\n",
       "      <th></th>\n",
       "      <th></th>\n",
       "      <th></th>\n",
       "      <th></th>\n",
       "      <th></th>\n",
       "      <th></th>\n",
       "      <th></th>\n",
       "      <th></th>\n",
       "      <th></th>\n",
       "      <th></th>\n",
       "      <th></th>\n",
       "      <th></th>\n",
       "      <th></th>\n",
       "      <th></th>\n",
       "      <th></th>\n",
       "      <th></th>\n",
       "      <th></th>\n",
       "      <th></th>\n",
       "    </tr>\n",
       "  </thead>\n",
       "  <tbody>\n",
       "    <tr>\n",
       "      <th>a400b8f29dece5f4d266f49f1ae2e98a</th>\n",
       "      <td>155</td>\n",
       "      <td>22</td>\n",
       "      <td>7</td>\n",
       "      <td>1</td>\n",
       "      <td>11</td>\n",
       "      <td>-549</td>\n",
       "      <td>0</td>\n",
       "      <td>0</td>\n",
       "      <td>0</td>\n",
       "      <td>0</td>\n",
       "      <td>...</td>\n",
       "      <td>0</td>\n",
       "      <td>0</td>\n",
       "      <td>0</td>\n",
       "      <td>0</td>\n",
       "      <td>0</td>\n",
       "      <td>164</td>\n",
       "      <td>6</td>\n",
       "      <td>4</td>\n",
       "      <td>2332</td>\n",
       "      <td>681</td>\n",
       "    </tr>\n",
       "    <tr>\n",
       "      <th>b9c57c450ce74a2af79c9ce96fac144d</th>\n",
       "      <td>658</td>\n",
       "      <td>4</td>\n",
       "      <td>0</td>\n",
       "      <td>3</td>\n",
       "      <td>10</td>\n",
       "      <td>-71</td>\n",
       "      <td>7</td>\n",
       "      <td>2</td>\n",
       "      <td>0</td>\n",
       "      <td>7</td>\n",
       "      <td>...</td>\n",
       "      <td>0</td>\n",
       "      <td>0</td>\n",
       "      <td>0</td>\n",
       "      <td>0</td>\n",
       "      <td>4</td>\n",
       "      <td>164</td>\n",
       "      <td>11</td>\n",
       "      <td>7</td>\n",
       "      <td>2308</td>\n",
       "      <td>2154</td>\n",
       "    </tr>\n",
       "  </tbody>\n",
       "</table>\n",
       "<p>2 rows × 305 columns</p>\n",
       "</div>"
      ],
      "text/plain": [
       "                                  game_time  game_mode  lobby_type  \\\n",
       "match_id_hash                                                        \n",
       "a400b8f29dece5f4d266f49f1ae2e98a        155         22           7   \n",
       "b9c57c450ce74a2af79c9ce96fac144d        658          4           0   \n",
       "\n",
       "                                  objectives_len  chat_len  r1_hero_id  \\\n",
       "match_id_hash                                                            \n",
       "a400b8f29dece5f4d266f49f1ae2e98a               1        11        -549   \n",
       "b9c57c450ce74a2af79c9ce96fac144d               3        10         -71   \n",
       "\n",
       "                                  r1_kills  r1_deaths  r1_assists  r1_denies  \\\n",
       "match_id_hash                                                                  \n",
       "a400b8f29dece5f4d266f49f1ae2e98a         0          0           0          0   \n",
       "b9c57c450ce74a2af79c9ce96fac144d         7          2           0          7   \n",
       "\n",
       "                                  ...  d5_towers_killed  d5_roshans_killed  \\\n",
       "match_id_hash                     ...                                        \n",
       "a400b8f29dece5f4d266f49f1ae2e98a  ...                 0                  0   \n",
       "b9c57c450ce74a2af79c9ce96fac144d  ...                 0                  0   \n",
       "\n",
       "                                  d5_obs_placed  d5_sen_placed  \\\n",
       "match_id_hash                                                    \n",
       "a400b8f29dece5f4d266f49f1ae2e98a              0              0   \n",
       "b9c57c450ce74a2af79c9ce96fac144d              0              0   \n",
       "\n",
       "                                  d5_ability_level  d5_max_hero_hit  \\\n",
       "match_id_hash                                                         \n",
       "a400b8f29dece5f4d266f49f1ae2e98a                 0              164   \n",
       "b9c57c450ce74a2af79c9ce96fac144d                 4              164   \n",
       "\n",
       "                                  d5_purchase_count  d5_count_ability_use  \\\n",
       "match_id_hash                                                               \n",
       "a400b8f29dece5f4d266f49f1ae2e98a                  6                     4   \n",
       "b9c57c450ce74a2af79c9ce96fac144d                 11                     7   \n",
       "\n",
       "                                  d5_damage_dealt  d5_damage_received  \n",
       "match_id_hash                                                          \n",
       "a400b8f29dece5f4d266f49f1ae2e98a             2332                 681  \n",
       "b9c57c450ce74a2af79c9ce96fac144d             2308                2154  \n",
       "\n",
       "[2 rows x 305 columns]"
      ]
     },
     "execution_count": 221,
     "metadata": {},
     "output_type": "execute_result"
    }
   ],
   "source": [
    "train_test_feat = pd.concat([train_X,test_X])\n",
    "train_test_feat.head(2)"
   ]
  },
  {
   "cell_type": "markdown",
   "metadata": {},
   "source": [
    "### Creating new features"
   ]
  },
  {
   "cell_type": "code",
   "execution_count": 222,
   "metadata": {},
   "outputs": [],
   "source": [
    "def select_cols_n_distinct(data,min,max):\n",
    "    '''select columns in data frame with number of \n",
    "    distinct values between min and max, inclusive'''\n",
    "    cols = []\n",
    "    for col in data.columns.values:\n",
    "        unique_vals = data[col].value_counts().shape[0]\n",
    "        if unique_vals >= min and unique_vals <= max:\n",
    "            #cols.append((col,unique_vals))\n",
    "            cols.append(col)\n",
    "    return cols    "
   ]
  },
  {
   "cell_type": "code",
   "execution_count": 223,
   "metadata": {
    "scrolled": true
   },
   "outputs": [],
   "source": [
    "select_cols_n_distinct(train_X,2,2);"
   ]
  },
  {
   "cell_type": "code",
   "execution_count": 224,
   "metadata": {},
   "outputs": [],
   "source": [
    "radiant_win_T = full_df[full_df['radiant_win'] == 1]['lobby_type']\n",
    "radiant_win_F = full_df[full_df['radiant_win'] == 0]['lobby_type']\n",
    "#sns.distplot(radiant_win_T, bins=100, label='R won')\n",
    "#sns.distplot(radiant_win_F, bins=100, label='R lost')\n",
    "#plt.xlim(1900, 2020)\n",
    "#plt.legend()"
   ]
  },
  {
   "cell_type": "code",
   "execution_count": 225,
   "metadata": {},
   "outputs": [],
   "source": [
    "#sns.countplot(x=\"lobby_type\", hue=\"radiant_win\", data=full_df);"
   ]
  },
  {
   "cell_type": "code",
   "execution_count": 226,
   "metadata": {},
   "outputs": [],
   "source": [
    "new_features = pd.DataFrame(index=train_test_feat.index)"
   ]
  },
  {
   "cell_type": "code",
   "execution_count": 227,
   "metadata": {},
   "outputs": [],
   "source": [
    "new_feats = [i.replace(\"1\",\"\")  for i in train_X.columns.values if (i.startswith('r1')==1 \n",
    "                                                                    or i.startswith('d1')==1)]\n"
   ]
  },
  {
   "cell_type": "markdown",
   "metadata": {},
   "source": [
    "Create a feature that is sum of r1 + ... + r5 for all r features, and same for all d features. Note that not all of these make sense, so some should be removed."
   ]
  },
  {
   "cell_type": "code",
   "execution_count": 228,
   "metadata": {},
   "outputs": [],
   "source": [
    "for feature in new_feats:\n",
    "    feat_names = [(feature[0] + '{}_'.format(i) +feature[2:]) for i in range(1,6)]\n",
    "    new_features[feature] = train_test_feat.loc[:,feat_names].sum(axis=1)\n",
    "   # new_features[feature + '_mean'] = train_test_feat.loc[:,feat_names].mean(axis=1)\n",
    "   #new_features[feature + '_std'] = train_test_feat.loc[:,feat_names].std(axis=1)\n",
    "#new_features.drop(['r_hero_id','d_hero_id'],inplace=True,axis=1)"
   ]
  },
  {
   "cell_type": "code",
   "execution_count": 229,
   "metadata": {},
   "outputs": [
    {
     "data": {
      "text/plain": [
       "60"
      ]
     },
     "execution_count": 229,
     "metadata": {},
     "output_type": "execute_result"
    }
   ],
   "source": [
    "len(new_features.columns)\n",
    "#new_features.isnull().sum().sum()"
   ]
  },
  {
   "cell_type": "markdown",
   "metadata": {},
   "source": [
    "### New features from TK"
   ]
  },
  {
   "cell_type": "code",
   "execution_count": 230,
   "metadata": {},
   "outputs": [],
   "source": [
    "health = ['r{}_health'.format(x) for x in range(1,6)] +['d{}_health'.format(x) for x in range(1,6)]\n",
    "max_health = ['r{}_health'.format(x) for x in range(1,6)] +['d{}_health'.format(x) for x in range(1,6)]\n",
    "x = ['r{}_x'.format(x) for x in range(1,6)] +['d{}_x'.format(x) for x in range(1,6)]\n",
    "y1 = ['r{}_y'.format(x) for x in range(1,6)] +['d{}_y'.format(x) for x in range(1,6)]\n",
    "xp = ['r{}_xp'.format(x) for x in range(1,6)] +['d{}_xp'.format(x) for x in range(1,6)]\n",
    "\n",
    "train_positions = train_X[health+max_health+x+y1+xp]\n",
    "#train_positions.head(2)"
   ]
  },
  {
   "cell_type": "code",
   "execution_count": 231,
   "metadata": {},
   "outputs": [],
   "source": [
    "X_train = train_positions"
   ]
  },
  {
   "cell_type": "code",
   "execution_count": 159,
   "metadata": {},
   "outputs": [
    {
     "data": {
      "text/plain": [
       "RandomForestClassifier(bootstrap=True, class_weight=None, criterion='gini',\n",
       "            max_depth=8, max_features='sqrt', max_leaf_nodes=None,\n",
       "            min_impurity_decrease=0.0, min_impurity_split=None,\n",
       "            min_samples_leaf=3, min_samples_split=2,\n",
       "            min_weight_fraction_leaf=0.0, n_estimators=1000, n_jobs=1,\n",
       "            oob_score=False, random_state=None, verbose=0,\n",
       "            warm_start=False)"
      ]
     },
     "execution_count": 159,
     "metadata": {},
     "output_type": "execute_result"
    }
   ],
   "source": [
    "from sklearn.ensemble import RandomForestClassifier\n",
    "cls = RandomForestClassifier(max_features = 'sqrt', max_depth = 8, n_estimators = 1000,\n",
    "                             min_samples_leaf=3)\n",
    "cls.fit(X_train,y)"
   ]
  },
  {
   "cell_type": "code",
   "execution_count": 160,
   "metadata": {},
   "outputs": [
    {
     "ename": "ValueError",
     "evalue": "Length of values does not match length of index",
     "output_type": "error",
     "traceback": [
      "\u001b[0;31m---------------------------------------------------------------------------\u001b[0m",
      "\u001b[0;31mValueError\u001b[0m                                Traceback (most recent call last)",
      "\u001b[0;32m<ipython-input-160-7f118997fdc7>\u001b[0m in \u001b[0;36m<module>\u001b[0;34m\u001b[0m\n\u001b[1;32m      1\u001b[0m \u001b[0mpositions_full\u001b[0m \u001b[0;34m=\u001b[0m \u001b[0mfull_df\u001b[0m\u001b[0;34m[\u001b[0m\u001b[0mhealth\u001b[0m\u001b[0;34m+\u001b[0m\u001b[0mmax_health\u001b[0m\u001b[0;34m+\u001b[0m\u001b[0mx\u001b[0m\u001b[0;34m+\u001b[0m\u001b[0my1\u001b[0m\u001b[0;34m+\u001b[0m\u001b[0mxp\u001b[0m\u001b[0;34m]\u001b[0m\u001b[0;34m\u001b[0m\u001b[0;34m\u001b[0m\u001b[0m\n\u001b[1;32m      2\u001b[0m \u001b[0mpositions\u001b[0m \u001b[0;34m=\u001b[0m \u001b[0mcls\u001b[0m\u001b[0;34m.\u001b[0m\u001b[0mpredict_proba\u001b[0m\u001b[0;34m(\u001b[0m\u001b[0mpositions_full\u001b[0m\u001b[0;34m)\u001b[0m\u001b[0;34m[\u001b[0m\u001b[0;34m:\u001b[0m\u001b[0;34m,\u001b[0m\u001b[0;36m1\u001b[0m\u001b[0;34m]\u001b[0m\u001b[0;34m\u001b[0m\u001b[0;34m\u001b[0m\u001b[0m\n\u001b[0;32m----> 3\u001b[0;31m \u001b[0mnew_features\u001b[0m\u001b[0;34m[\u001b[0m\u001b[0;34m'positions'\u001b[0m\u001b[0;34m]\u001b[0m \u001b[0;34m=\u001b[0m \u001b[0mpositions\u001b[0m\u001b[0;34m\u001b[0m\u001b[0;34m\u001b[0m\u001b[0m\n\u001b[0m",
      "\u001b[0;32m/anaconda3/lib/python3.7/site-packages/pandas/core/frame.py\u001b[0m in \u001b[0;36m__setitem__\u001b[0;34m(self, key, value)\u001b[0m\n\u001b[1;32m   3485\u001b[0m         \u001b[0;32melse\u001b[0m\u001b[0;34m:\u001b[0m\u001b[0;34m\u001b[0m\u001b[0;34m\u001b[0m\u001b[0m\n\u001b[1;32m   3486\u001b[0m             \u001b[0;31m# set column\u001b[0m\u001b[0;34m\u001b[0m\u001b[0;34m\u001b[0m\u001b[0;34m\u001b[0m\u001b[0m\n\u001b[0;32m-> 3487\u001b[0;31m             \u001b[0mself\u001b[0m\u001b[0;34m.\u001b[0m\u001b[0m_set_item\u001b[0m\u001b[0;34m(\u001b[0m\u001b[0mkey\u001b[0m\u001b[0;34m,\u001b[0m \u001b[0mvalue\u001b[0m\u001b[0;34m)\u001b[0m\u001b[0;34m\u001b[0m\u001b[0;34m\u001b[0m\u001b[0m\n\u001b[0m\u001b[1;32m   3488\u001b[0m \u001b[0;34m\u001b[0m\u001b[0m\n\u001b[1;32m   3489\u001b[0m     \u001b[0;32mdef\u001b[0m \u001b[0m_setitem_slice\u001b[0m\u001b[0;34m(\u001b[0m\u001b[0mself\u001b[0m\u001b[0;34m,\u001b[0m \u001b[0mkey\u001b[0m\u001b[0;34m,\u001b[0m \u001b[0mvalue\u001b[0m\u001b[0;34m)\u001b[0m\u001b[0;34m:\u001b[0m\u001b[0;34m\u001b[0m\u001b[0;34m\u001b[0m\u001b[0m\n",
      "\u001b[0;32m/anaconda3/lib/python3.7/site-packages/pandas/core/frame.py\u001b[0m in \u001b[0;36m_set_item\u001b[0;34m(self, key, value)\u001b[0m\n\u001b[1;32m   3562\u001b[0m \u001b[0;34m\u001b[0m\u001b[0m\n\u001b[1;32m   3563\u001b[0m         \u001b[0mself\u001b[0m\u001b[0;34m.\u001b[0m\u001b[0m_ensure_valid_index\u001b[0m\u001b[0;34m(\u001b[0m\u001b[0mvalue\u001b[0m\u001b[0;34m)\u001b[0m\u001b[0;34m\u001b[0m\u001b[0;34m\u001b[0m\u001b[0m\n\u001b[0;32m-> 3564\u001b[0;31m         \u001b[0mvalue\u001b[0m \u001b[0;34m=\u001b[0m \u001b[0mself\u001b[0m\u001b[0;34m.\u001b[0m\u001b[0m_sanitize_column\u001b[0m\u001b[0;34m(\u001b[0m\u001b[0mkey\u001b[0m\u001b[0;34m,\u001b[0m \u001b[0mvalue\u001b[0m\u001b[0;34m)\u001b[0m\u001b[0;34m\u001b[0m\u001b[0;34m\u001b[0m\u001b[0m\n\u001b[0m\u001b[1;32m   3565\u001b[0m         \u001b[0mNDFrame\u001b[0m\u001b[0;34m.\u001b[0m\u001b[0m_set_item\u001b[0m\u001b[0;34m(\u001b[0m\u001b[0mself\u001b[0m\u001b[0;34m,\u001b[0m \u001b[0mkey\u001b[0m\u001b[0;34m,\u001b[0m \u001b[0mvalue\u001b[0m\u001b[0;34m)\u001b[0m\u001b[0;34m\u001b[0m\u001b[0;34m\u001b[0m\u001b[0m\n\u001b[1;32m   3566\u001b[0m \u001b[0;34m\u001b[0m\u001b[0m\n",
      "\u001b[0;32m/anaconda3/lib/python3.7/site-packages/pandas/core/frame.py\u001b[0m in \u001b[0;36m_sanitize_column\u001b[0;34m(self, key, value, broadcast)\u001b[0m\n\u001b[1;32m   3747\u001b[0m \u001b[0;34m\u001b[0m\u001b[0m\n\u001b[1;32m   3748\u001b[0m             \u001b[0;31m# turn me into an ndarray\u001b[0m\u001b[0;34m\u001b[0m\u001b[0;34m\u001b[0m\u001b[0;34m\u001b[0m\u001b[0m\n\u001b[0;32m-> 3749\u001b[0;31m             \u001b[0mvalue\u001b[0m \u001b[0;34m=\u001b[0m \u001b[0msanitize_index\u001b[0m\u001b[0;34m(\u001b[0m\u001b[0mvalue\u001b[0m\u001b[0;34m,\u001b[0m \u001b[0mself\u001b[0m\u001b[0;34m.\u001b[0m\u001b[0mindex\u001b[0m\u001b[0;34m,\u001b[0m \u001b[0mcopy\u001b[0m\u001b[0;34m=\u001b[0m\u001b[0;32mFalse\u001b[0m\u001b[0;34m)\u001b[0m\u001b[0;34m\u001b[0m\u001b[0;34m\u001b[0m\u001b[0m\n\u001b[0m\u001b[1;32m   3750\u001b[0m             \u001b[0;32mif\u001b[0m \u001b[0;32mnot\u001b[0m \u001b[0misinstance\u001b[0m\u001b[0;34m(\u001b[0m\u001b[0mvalue\u001b[0m\u001b[0;34m,\u001b[0m \u001b[0;34m(\u001b[0m\u001b[0mnp\u001b[0m\u001b[0;34m.\u001b[0m\u001b[0mndarray\u001b[0m\u001b[0;34m,\u001b[0m \u001b[0mIndex\u001b[0m\u001b[0;34m)\u001b[0m\u001b[0;34m)\u001b[0m\u001b[0;34m:\u001b[0m\u001b[0;34m\u001b[0m\u001b[0;34m\u001b[0m\u001b[0m\n\u001b[1;32m   3751\u001b[0m                 \u001b[0;32mif\u001b[0m \u001b[0misinstance\u001b[0m\u001b[0;34m(\u001b[0m\u001b[0mvalue\u001b[0m\u001b[0;34m,\u001b[0m \u001b[0mlist\u001b[0m\u001b[0;34m)\u001b[0m \u001b[0;32mand\u001b[0m \u001b[0mlen\u001b[0m\u001b[0;34m(\u001b[0m\u001b[0mvalue\u001b[0m\u001b[0;34m)\u001b[0m \u001b[0;34m>\u001b[0m \u001b[0;36m0\u001b[0m\u001b[0;34m:\u001b[0m\u001b[0;34m\u001b[0m\u001b[0;34m\u001b[0m\u001b[0m\n",
      "\u001b[0;32m/anaconda3/lib/python3.7/site-packages/pandas/core/internals/construction.py\u001b[0m in \u001b[0;36msanitize_index\u001b[0;34m(data, index, copy)\u001b[0m\n\u001b[1;32m    610\u001b[0m \u001b[0;34m\u001b[0m\u001b[0m\n\u001b[1;32m    611\u001b[0m     \u001b[0;32mif\u001b[0m \u001b[0mlen\u001b[0m\u001b[0;34m(\u001b[0m\u001b[0mdata\u001b[0m\u001b[0;34m)\u001b[0m \u001b[0;34m!=\u001b[0m \u001b[0mlen\u001b[0m\u001b[0;34m(\u001b[0m\u001b[0mindex\u001b[0m\u001b[0;34m)\u001b[0m\u001b[0;34m:\u001b[0m\u001b[0;34m\u001b[0m\u001b[0;34m\u001b[0m\u001b[0m\n\u001b[0;32m--> 612\u001b[0;31m         \u001b[0;32mraise\u001b[0m \u001b[0mValueError\u001b[0m\u001b[0;34m(\u001b[0m\u001b[0;34m\"Length of values does not match length of index\"\u001b[0m\u001b[0;34m)\u001b[0m\u001b[0;34m\u001b[0m\u001b[0;34m\u001b[0m\u001b[0m\n\u001b[0m\u001b[1;32m    613\u001b[0m \u001b[0;34m\u001b[0m\u001b[0m\n\u001b[1;32m    614\u001b[0m     \u001b[0;32mif\u001b[0m \u001b[0misinstance\u001b[0m\u001b[0;34m(\u001b[0m\u001b[0mdata\u001b[0m\u001b[0;34m,\u001b[0m \u001b[0mABCIndexClass\u001b[0m\u001b[0;34m)\u001b[0m \u001b[0;32mand\u001b[0m \u001b[0;32mnot\u001b[0m \u001b[0mcopy\u001b[0m\u001b[0;34m:\u001b[0m\u001b[0;34m\u001b[0m\u001b[0;34m\u001b[0m\u001b[0m\n",
      "\u001b[0;31mValueError\u001b[0m: Length of values does not match length of index"
     ]
    }
   ],
   "source": [
    "positions_full = full_df[health+max_health+x+y1+xp]\n",
    "positions = cls.predict_proba(positions_full)[:,1]\n",
    "new_features['positions'] = positions"
   ]
  },
  {
   "cell_type": "code",
   "execution_count": 232,
   "metadata": {},
   "outputs": [],
   "source": [
    "def are_dead(x):\n",
    "    ans = 0 \n",
    "    for el in x:\n",
    "        if el == 0:\n",
    "            ans += 1\n",
    "    return ans"
   ]
  },
  {
   "cell_type": "code",
   "execution_count": 233,
   "metadata": {},
   "outputs": [],
   "source": [
    "d_health = ['d{}_health'.format(i) for i in range(1,6)]\n",
    "new_features['d_dead'] = full_df[d_health].apply(are_dead, axis = 1)\n",
    "r_health = ['r{}_health'.format(i) for i in range(1,6)]\n",
    "new_features['r_dead'] = full_df[r_health].apply(are_dead, axis = 1)\n"
   ]
  },
  {
   "cell_type": "code",
   "execution_count": 234,
   "metadata": {},
   "outputs": [],
   "source": [
    "percentage_health = 0\n",
    "for j in range(5):\n",
    "    max_health = '{}_max_health'.format(d_health[j].split('_')[0])\n",
    "    health = 'd{}_health'.format(j+1)\n",
    "    ph = full_df[health]/full_df[max_health]\n",
    "    percentage_health += 1/5*ph\n",
    "\n",
    "new_features['d_health_avg'] = percentage_health\n",
    "\n",
    "percentage_health = 0\n",
    "for j in range(5):\n",
    "    max_health = '{}_max_health'.format(r_health[j].split('_')[0])\n",
    "    health = 'r{}_health'.format(j+1)\n",
    "    ph = full_df[health]/full_df[max_health]\n",
    "    percentage_health += 1/5*ph\n",
    "\n",
    "new_features['r_health_avg'] = percentage_health"
   ]
  },
  {
   "cell_type": "code",
   "execution_count": 235,
   "metadata": {},
   "outputs": [],
   "source": [
    "\n",
    "\n",
    "def in_opponent_base(x,y,opponent = 'Radiant'):\n",
    "\n",
    "    '''\n",
    "returns indicator function of whether the player is in the base of the opponent\n",
    "opponent = {'Radiant', 'Dire'} - opponent team\n",
    "    \n",
    "    '''\n",
    "#     x = coordinates[0]\n",
    "#     y = coordinates[1]\n",
    "    radiant_base_x = 96\n",
    "    radiant_base_y = 100\n",
    "\n",
    "    dire_base_x = 156\n",
    "    dire_base_y = 156\n",
    "\n",
    "    if opponent == 'Radiant':\n",
    "        if x <= radiant_base_x and y <= radiant_base_y:\n",
    "            return 1\n",
    "        else:\n",
    "            return 0\n",
    "    elif opponent == 'Dire':\n",
    "        if x >= dire_base_x and y >= dire_base_y:\n",
    "            return 1\n",
    "        else:\n",
    "            return 0\n",
    "    else:\n",
    "        return NaN\n",
    "\n"
   ]
  },
  {
   "cell_type": "code",
   "execution_count": 236,
   "metadata": {},
   "outputs": [],
   "source": [
    "\n",
    "\n",
    "r_x = ['r{}_x'.format(j) for j in range(1,6)]\n",
    "r_y = ['r{}_y'.format(j) for j in range(1,6)]\n",
    "d_x = ['d{}_x'.format(j) for j in range(1,6)]\n",
    "d_y = ['d{}_y'.format(j) for j in range(1,6)]\n",
    "\n",
    "r_in_d_base = pd.Series(0,index = full_df.index)\n",
    "d_in_r_base = pd.Series(0,index = full_df.index)\n",
    "\n",
    "for j in range(5):\n",
    "    rx = r_x[j]\n",
    "    ry = r_y[j]\n",
    "    dx = d_x[j]\n",
    "    dy = d_y[j]\n",
    "    r_in_d_base += full_df.loc[:,[rx,ry]].apply(lambda x: in_opponent_base(x = x[rx], y = x[ry], opponent = 'Radiant'), axis = 1)\n",
    "    d_in_r_base += full_df.loc[:,[dx,dy]].apply(lambda x: in_opponent_base(x = x[dx], y = x[dy], opponent = 'Dire'), axis = 1)\n",
    "\n"
   ]
  },
  {
   "cell_type": "code",
   "execution_count": 237,
   "metadata": {},
   "outputs": [],
   "source": [
    "new_features['r_in_d_base'] = r_in_d_base\n",
    "new_features['d_in_r_base'] = d_in_r_base"
   ]
  },
  {
   "cell_type": "code",
   "execution_count": 238,
   "metadata": {},
   "outputs": [],
   "source": [
    "d_levels = ['d{}_level'.format(j) for j in range(1,6)] \n",
    "d_avg_level = full_df.loc[:,d_levels].mean(axis = 1)\n",
    "d_min_level = full_df.loc[:,d_levels].min(axis = 1)\n",
    "d_max_level = full_df.loc[:,d_levels].max(axis = 1)\n",
    "new_features['d_avg_level'] = d_avg_level\n",
    "new_features['d_min_level'] = d_min_level\n",
    "new_features['d_max_level'] = d_max_level\n",
    "\n",
    "\n",
    "r_levels = ['r{}_level'.format(j) for j in range(1,6)] \n",
    "r_avg_level = full_df.loc[:,r_levels].mean(axis = 1)\n",
    "r_min_level = full_df.loc[:,r_levels].min(axis = 1)\n",
    "r_max_level = full_df.loc[:,r_levels].max(axis = 1)\n",
    "new_features['r_avg_level'] = r_avg_level\n",
    "new_features['r_min_level'] = r_min_level\n",
    "new_features['r_max_level'] = r_max_level"
   ]
  },
  {
   "cell_type": "code",
   "execution_count": 239,
   "metadata": {},
   "outputs": [],
   "source": [
    "r_teamfight = ['r{}_teamfight_participation'.format(j) for j in range(1,6)] \n",
    "for col in r_teamfight:\n",
    "    full_df[full_df[col] >1][col] = 1\n",
    "\n",
    "d_teamfight = ['d{}_teamfight_participation'.format(j) for j in range(1,6)] \n",
    "for col in d_teamfight:\n",
    "    full_df[full_df[col] >1][col] = 1"
   ]
  },
  {
   "cell_type": "code",
   "execution_count": 240,
   "metadata": {},
   "outputs": [
    {
     "data": {
      "image/png": "[encoded data removed]",
      "text/plain": [
       "<Figure size 1800x5760 with 300 Axes>"
      ]
     },
     "metadata": {
      "needs_background": "light"
     },
     "output_type": "display_data"
    }
   ],
   "source": [
    "#new_features.drop('target',axis=1).hist(figsize = (25,80),layout = (50,5), bins=20)\n",
    "new_features.hist(figsize = (25,80),layout = (60,5), bins=20)\n",
    "plt.tight_layout()\n",
    "plt.show()"
   ]
  },
  {
   "cell_type": "markdown",
   "metadata": {},
   "source": [
    "### Create boolean features:\n",
    "\n",
    "`*_ability_level`\n",
    "`*_teamfight_participation`\n",
    "`*_kills`\n",
    "`*_assists`\n",
    "`*_deaths`\n",
    "`*_sen_placed`"
   ]
  },
  {
   "cell_type": "code",
   "execution_count": 241,
   "metadata": {},
   "outputs": [],
   "source": [
    "test = pd.DataFrame()\n",
    "def create_boolean_features(cols):\n",
    "    for col in cols:\n",
    "        new_features['boolean_' + col] = np.where(new_features[col]==0, 1, 0)"
   ]
  },
  {
   "cell_type": "code",
   "execution_count": 242,
   "metadata": {},
   "outputs": [],
   "source": [
    "boolean_cols = ['r_ability_level','d_ability_level','r_teamfight_participation',\n",
    "                'd_teamfight_participation','r_kills','d_kills',\n",
    "                'r_assists','d_assists','r_deaths','d_deaths','r_sen_placed',\n",
    "               'd_sen_placed']\n",
    "create_boolean_features(boolean_cols)"
   ]
  },
  {
   "cell_type": "markdown",
   "metadata": {},
   "source": [
    "### Take log of skewed features"
   ]
  },
  {
   "cell_type": "code",
   "execution_count": 243,
   "metadata": {},
   "outputs": [],
   "source": [
    "import math\n",
    "col_for_log =  ['r_count_ability_use','r_max_hero_hit',\n",
    "                'r_damage_received','r_damage_dealt',\n",
    "                'r_max_mana','r_max_health',\n",
    "                'r_lh','r_health',\n",
    "     'r_gold', 'r_xp', 'r_stuns',\n",
    "    'd_count_ability_use', 'd_max_hero_hit',\n",
    "                'd_max_mana','d_max_health',\n",
    "                'd_damage_received','d_damage_dealt',\n",
    "               'd_health', 'd_stuns',\n",
    "     'd_gold', 'd_lh', 'd_xp']\n",
    "\n",
    "for col in col_for_log:\n",
    "    new_log_index = 'log_{}'.format(col)\n",
    "#     print(new_features[col].min())\n",
    "    new_features[col] = new_features[col].apply(lambda x: math.log(x+5))\n",
    "    \n",
    "train_test_feat['chat_len'] = train_test_feat['chat_len'].apply(lambda x: math.log(x+5))"
   ]
  },
  {
   "cell_type": "markdown",
   "metadata": {},
   "source": [
    "Conclusions about categorical variables:\n",
    "* firstblood_claimed : categorical, binary\n",
    "* game_mode: categorical, non-ordinal --> needs to be converted to dummy variables\n",
    "* lobby_type: categorical, binary (value 7 chould be changes with 1)\n",
    "* hero_id: categorical, non-ordinal (too many levels)\n",
    "* level: categorical, ordinal (25 levels)\n",
    "* x,y are coordinates of players"
   ]
  },
  {
   "cell_type": "markdown",
   "metadata": {},
   "source": [
    "## Combine old and new features"
   ]
  },
  {
   "cell_type": "code",
   "execution_count": 244,
   "metadata": {},
   "outputs": [],
   "source": [
    "from sklearn.decomposition import PCA\n",
    "from sklearn.model_selection import train_test_split\n",
    "from sklearn.metrics import accuracy_score, roc_auc_score\n",
    "from sklearn.preprocessing import StandardScaler\n",
    "from sklearn.pipeline import Pipeline\n",
    "from sklearn.linear_model import LogisticRegression\n",
    "from sklearn.ensemble import RandomForestClassifier"
   ]
  },
  {
   "cell_type": "code",
   "execution_count": 245,
   "metadata": {},
   "outputs": [],
   "source": [
    "all_feats = train_test_feat.merge(new_features, how='outer', left_index=True, right_index = True)"
   ]
  },
  {
   "cell_type": "code",
   "execution_count": 246,
   "metadata": {},
   "outputs": [],
   "source": [
    "all_feats.drop(all_feats.columns[all_feats.isnull().any()],inplace=True,axis=1)"
   ]
  },
  {
   "cell_type": "code",
   "execution_count": 247,
   "metadata": {},
   "outputs": [
    {
     "data": {
      "text/plain": [
       "0"
      ]
     },
     "execution_count": 247,
     "metadata": {},
     "output_type": "execute_result"
    }
   ],
   "source": [
    "all_feats.isnull().sum().sum()"
   ]
  },
  {
   "cell_type": "code",
   "execution_count": 248,
   "metadata": {},
   "outputs": [
    {
     "data": {
      "text/html": [
       "<div>\n",
       "<style scoped>\n",
       "    .dataframe tbody tr th:only-of-type {\n",
       "        vertical-align: middle;\n",
       "    }\n",
       "\n",
       "    .dataframe tbody tr th {\n",
       "        vertical-align: top;\n",
       "    }\n",
       "\n",
       "    .dataframe thead th {\n",
       "        text-align: right;\n",
       "    }\n",
       "</style>\n",
       "<table border=\"1\" class=\"dataframe\">\n",
       "  <thead>\n",
       "    <tr style=\"text-align: right;\">\n",
       "      <th></th>\n",
       "      <th>game_time</th>\n",
       "      <th>game_mode</th>\n",
       "      <th>lobby_type</th>\n",
       "      <th>objectives_len</th>\n",
       "      <th>chat_len</th>\n",
       "      <th>r1_hero_id</th>\n",
       "      <th>r1_kills</th>\n",
       "      <th>r1_deaths</th>\n",
       "      <th>r1_assists</th>\n",
       "      <th>r1_denies</th>\n",
       "      <th>...</th>\n",
       "      <th>boolean_r_teamfight_participation</th>\n",
       "      <th>boolean_d_teamfight_participation</th>\n",
       "      <th>boolean_r_kills</th>\n",
       "      <th>boolean_d_kills</th>\n",
       "      <th>boolean_r_assists</th>\n",
       "      <th>boolean_d_assists</th>\n",
       "      <th>boolean_r_deaths</th>\n",
       "      <th>boolean_d_deaths</th>\n",
       "      <th>boolean_r_sen_placed</th>\n",
       "      <th>boolean_d_sen_placed</th>\n",
       "    </tr>\n",
       "    <tr>\n",
       "      <th>match_id_hash</th>\n",
       "      <th></th>\n",
       "      <th></th>\n",
       "      <th></th>\n",
       "      <th></th>\n",
       "      <th></th>\n",
       "      <th></th>\n",
       "      <th></th>\n",
       "      <th></th>\n",
       "      <th></th>\n",
       "      <th></th>\n",
       "      <th></th>\n",
       "      <th></th>\n",
       "      <th></th>\n",
       "      <th></th>\n",
       "      <th></th>\n",
       "      <th></th>\n",
       "      <th></th>\n",
       "      <th></th>\n",
       "      <th></th>\n",
       "      <th></th>\n",
       "      <th></th>\n",
       "    </tr>\n",
       "  </thead>\n",
       "  <tbody>\n",
       "    <tr>\n",
       "      <th>a400b8f29dece5f4d266f49f1ae2e98a</th>\n",
       "      <td>155</td>\n",
       "      <td>22</td>\n",
       "      <td>7</td>\n",
       "      <td>1</td>\n",
       "      <td>2.772589</td>\n",
       "      <td>-549</td>\n",
       "      <td>0</td>\n",
       "      <td>0</td>\n",
       "      <td>0</td>\n",
       "      <td>0</td>\n",
       "      <td>...</td>\n",
       "      <td>1</td>\n",
       "      <td>0</td>\n",
       "      <td>1</td>\n",
       "      <td>0</td>\n",
       "      <td>1</td>\n",
       "      <td>0</td>\n",
       "      <td>0</td>\n",
       "      <td>1</td>\n",
       "      <td>1</td>\n",
       "      <td>1</td>\n",
       "    </tr>\n",
       "    <tr>\n",
       "      <th>b9c57c450ce74a2af79c9ce96fac144d</th>\n",
       "      <td>658</td>\n",
       "      <td>4</td>\n",
       "      <td>0</td>\n",
       "      <td>3</td>\n",
       "      <td>2.708050</td>\n",
       "      <td>-71</td>\n",
       "      <td>7</td>\n",
       "      <td>2</td>\n",
       "      <td>0</td>\n",
       "      <td>7</td>\n",
       "      <td>...</td>\n",
       "      <td>0</td>\n",
       "      <td>0</td>\n",
       "      <td>0</td>\n",
       "      <td>0</td>\n",
       "      <td>0</td>\n",
       "      <td>0</td>\n",
       "      <td>0</td>\n",
       "      <td>0</td>\n",
       "      <td>0</td>\n",
       "      <td>0</td>\n",
       "    </tr>\n",
       "    <tr>\n",
       "      <th>6db558535151ea18ca70a6892197db41</th>\n",
       "      <td>21</td>\n",
       "      <td>23</td>\n",
       "      <td>0</td>\n",
       "      <td>0</td>\n",
       "      <td>1.609438</td>\n",
       "      <td>147</td>\n",
       "      <td>0</td>\n",
       "      <td>0</td>\n",
       "      <td>0</td>\n",
       "      <td>0</td>\n",
       "      <td>...</td>\n",
       "      <td>1</td>\n",
       "      <td>1</td>\n",
       "      <td>1</td>\n",
       "      <td>1</td>\n",
       "      <td>1</td>\n",
       "      <td>1</td>\n",
       "      <td>1</td>\n",
       "      <td>1</td>\n",
       "      <td>1</td>\n",
       "      <td>1</td>\n",
       "    </tr>\n",
       "    <tr>\n",
       "      <th>46a0ddce8f7ed2a8d9bd5edcbb925682</th>\n",
       "      <td>576</td>\n",
       "      <td>22</td>\n",
       "      <td>7</td>\n",
       "      <td>1</td>\n",
       "      <td>2.197225</td>\n",
       "      <td>188</td>\n",
       "      <td>1</td>\n",
       "      <td>0</td>\n",
       "      <td>3</td>\n",
       "      <td>1</td>\n",
       "      <td>...</td>\n",
       "      <td>0</td>\n",
       "      <td>0</td>\n",
       "      <td>0</td>\n",
       "      <td>0</td>\n",
       "      <td>0</td>\n",
       "      <td>0</td>\n",
       "      <td>0</td>\n",
       "      <td>0</td>\n",
       "      <td>1</td>\n",
       "      <td>1</td>\n",
       "    </tr>\n",
       "    <tr>\n",
       "      <th>b1b35ff97723d9b7ade1c9c3cf48f770</th>\n",
       "      <td>453</td>\n",
       "      <td>22</td>\n",
       "      <td>7</td>\n",
       "      <td>1</td>\n",
       "      <td>2.079442</td>\n",
       "      <td>627</td>\n",
       "      <td>0</td>\n",
       "      <td>1</td>\n",
       "      <td>1</td>\n",
       "      <td>0</td>\n",
       "      <td>...</td>\n",
       "      <td>0</td>\n",
       "      <td>0</td>\n",
       "      <td>0</td>\n",
       "      <td>0</td>\n",
       "      <td>0</td>\n",
       "      <td>0</td>\n",
       "      <td>0</td>\n",
       "      <td>0</td>\n",
       "      <td>1</td>\n",
       "      <td>1</td>\n",
       "    </tr>\n",
       "  </tbody>\n",
       "</table>\n",
       "<p>5 rows × 377 columns</p>\n",
       "</div>"
      ],
      "text/plain": [
       "                                  game_time  game_mode  lobby_type  \\\n",
       "match_id_hash                                                        \n",
       "a400b8f29dece5f4d266f49f1ae2e98a        155         22           7   \n",
       "b9c57c450ce74a2af79c9ce96fac144d        658          4           0   \n",
       "6db558535151ea18ca70a6892197db41         21         23           0   \n",
       "46a0ddce8f7ed2a8d9bd5edcbb925682        576         22           7   \n",
       "b1b35ff97723d9b7ade1c9c3cf48f770        453         22           7   \n",
       "\n",
       "                                  objectives_len  chat_len  r1_hero_id  \\\n",
       "match_id_hash                                                            \n",
       "a400b8f29dece5f4d266f49f1ae2e98a               1  2.772589        -549   \n",
       "b9c57c450ce74a2af79c9ce96fac144d               3  2.708050         -71   \n",
       "6db558535151ea18ca70a6892197db41               0  1.609438         147   \n",
       "46a0ddce8f7ed2a8d9bd5edcbb925682               1  2.197225         188   \n",
       "b1b35ff97723d9b7ade1c9c3cf48f770               1  2.079442         627   \n",
       "\n",
       "                                  r1_kills  r1_deaths  r1_assists  r1_denies  \\\n",
       "match_id_hash                                                                  \n",
       "a400b8f29dece5f4d266f49f1ae2e98a         0          0           0          0   \n",
       "b9c57c450ce74a2af79c9ce96fac144d         7          2           0          7   \n",
       "6db558535151ea18ca70a6892197db41         0          0           0          0   \n",
       "46a0ddce8f7ed2a8d9bd5edcbb925682         1          0           3          1   \n",
       "b1b35ff97723d9b7ade1c9c3cf48f770         0          1           1          0   \n",
       "\n",
       "                                  ...  boolean_r_teamfight_participation  \\\n",
       "match_id_hash                     ...                                      \n",
       "a400b8f29dece5f4d266f49f1ae2e98a  ...                                  1   \n",
       "b9c57c450ce74a2af79c9ce96fac144d  ...                                  0   \n",
       "6db558535151ea18ca70a6892197db41  ...                                  1   \n",
       "46a0ddce8f7ed2a8d9bd5edcbb925682  ...                                  0   \n",
       "b1b35ff97723d9b7ade1c9c3cf48f770  ...                                  0   \n",
       "\n",
       "                                  boolean_d_teamfight_participation  \\\n",
       "match_id_hash                                                         \n",
       "a400b8f29dece5f4d266f49f1ae2e98a                                  0   \n",
       "b9c57c450ce74a2af79c9ce96fac144d                                  0   \n",
       "6db558535151ea18ca70a6892197db41                                  1   \n",
       "46a0ddce8f7ed2a8d9bd5edcbb925682                                  0   \n",
       "b1b35ff97723d9b7ade1c9c3cf48f770                                  0   \n",
       "\n",
       "                                  boolean_r_kills  boolean_d_kills  \\\n",
       "match_id_hash                                                        \n",
       "a400b8f29dece5f4d266f49f1ae2e98a                1                0   \n",
       "b9c57c450ce74a2af79c9ce96fac144d                0                0   \n",
       "6db558535151ea18ca70a6892197db41                1                1   \n",
       "46a0ddce8f7ed2a8d9bd5edcbb925682                0                0   \n",
       "b1b35ff97723d9b7ade1c9c3cf48f770                0                0   \n",
       "\n",
       "                                  boolean_r_assists  boolean_d_assists  \\\n",
       "match_id_hash                                                            \n",
       "a400b8f29dece5f4d266f49f1ae2e98a                  1                  0   \n",
       "b9c57c450ce74a2af79c9ce96fac144d                  0                  0   \n",
       "6db558535151ea18ca70a6892197db41                  1                  1   \n",
       "46a0ddce8f7ed2a8d9bd5edcbb925682                  0                  0   \n",
       "b1b35ff97723d9b7ade1c9c3cf48f770                  0                  0   \n",
       "\n",
       "                                  boolean_r_deaths  boolean_d_deaths  \\\n",
       "match_id_hash                                                          \n",
       "a400b8f29dece5f4d266f49f1ae2e98a                 0                 1   \n",
       "b9c57c450ce74a2af79c9ce96fac144d                 0                 0   \n",
       "6db558535151ea18ca70a6892197db41                 1                 1   \n",
       "46a0ddce8f7ed2a8d9bd5edcbb925682                 0                 0   \n",
       "b1b35ff97723d9b7ade1c9c3cf48f770                 0                 0   \n",
       "\n",
       "                                  boolean_r_sen_placed  boolean_d_sen_placed  \n",
       "match_id_hash                                                                 \n",
       "a400b8f29dece5f4d266f49f1ae2e98a                     1                     1  \n",
       "b9c57c450ce74a2af79c9ce96fac144d                     0                     0  \n",
       "6db558535151ea18ca70a6892197db41                     1                     1  \n",
       "46a0ddce8f7ed2a8d9bd5edcbb925682                     1                     1  \n",
       "b1b35ff97723d9b7ade1c9c3cf48f770                     1                     1  \n",
       "\n",
       "[5 rows x 377 columns]"
      ]
     },
     "execution_count": 248,
     "metadata": {},
     "output_type": "execute_result"
    }
   ],
   "source": [
    "all_feats.head()"
   ]
  },
  {
   "cell_type": "code",
   "execution_count": 249,
   "metadata": {},
   "outputs": [
    {
     "data": {
      "text/plain": [
       "(49675, 377)"
      ]
     },
     "execution_count": 249,
     "metadata": {},
     "output_type": "execute_result"
    }
   ],
   "source": [
    "all_feats.shape"
   ]
  },
  {
   "cell_type": "markdown",
   "metadata": {},
   "source": [
    "### Split `all_features` into train and test data"
   ]
  },
  {
   "cell_type": "code",
   "execution_count": 250,
   "metadata": {},
   "outputs": [
    {
     "name": "stdout",
     "output_type": "stream",
     "text": [
      "(39675, 377)\n",
      "(10000, 377)\n"
     ]
    }
   ],
   "source": [
    "ind = train_X.shape[0]\n",
    "all_feats_train = all_feats.iloc[:ind,]\n",
    "all_feats_test = all_feats.iloc[ind:,:]\n",
    "print(all_feats_train.shape)\n",
    "print(all_feats_test.shape)"
   ]
  },
  {
   "cell_type": "code",
   "execution_count": 251,
   "metadata": {},
   "outputs": [],
   "source": [
    "X_train, X_test, y_train, y_test = train_test_split(all_feats_train, y, test_size=.3, \n",
    "                                                    stratify=y)"
   ]
  },
  {
   "cell_type": "code",
   "execution_count": 252,
   "metadata": {},
   "outputs": [
    {
     "data": {
      "text/plain": [
       "(27772, 377)"
      ]
     },
     "execution_count": 252,
     "metadata": {},
     "output_type": "execute_result"
    }
   ],
   "source": [
    "X_train.shape"
   ]
  },
  {
   "cell_type": "code",
   "execution_count": 253,
   "metadata": {},
   "outputs": [
    {
     "data": {
      "text/plain": [
       "(27772,)"
      ]
     },
     "execution_count": 253,
     "metadata": {},
     "output_type": "execute_result"
    }
   ],
   "source": [
    "y_train.shape"
   ]
  },
  {
   "cell_type": "code",
   "execution_count": 254,
   "metadata": {},
   "outputs": [
    {
     "data": {
      "text/plain": [
       "radiant_win    0\n",
       "dtype: int64"
      ]
     },
     "execution_count": 254,
     "metadata": {},
     "output_type": "execute_result"
    }
   ],
   "source": [
    "pd.DataFrame(y_train).isnull().sum()"
   ]
  },
  {
   "cell_type": "code",
   "execution_count": 255,
   "metadata": {},
   "outputs": [],
   "source": [
    "from sklearn.compose import ColumnTransformer\n",
    "from sklearn.preprocessing import StandardScaler, OneHotEncoder, LabelBinarizer, LabelEncoder\n",
    "from sklearn_pandas import DataFrameMapper"
   ]
  },
  {
   "cell_type": "code",
   "execution_count": 256,
   "metadata": {},
   "outputs": [],
   "source": [
    "hero_ids = ['r{}_hero_id'.format(i) for i in range(1,6)] +['d{}_hero_id'.format(i) for i in range(1,6)]\n",
    "cat_feats = select_cols_n_distinct(all_feats,2,3)# + hero_ids\n",
    "cat_feats.append('game_mode')\n",
    "\n",
    "#cat_feats"
   ]
  },
  {
   "cell_type": "code",
   "execution_count": 257,
   "metadata": {},
   "outputs": [],
   "source": [
    "#ord_feats = select_cols_n_distinct(all_feats,4,30)\n",
    "#ord_feats.remove('game_mode')"
   ]
  },
  {
   "cell_type": "code",
   "execution_count": 258,
   "metadata": {},
   "outputs": [],
   "source": [
    "num_feats = [feature for feature in all_feats.columns.values if feature not in cat_feats]\n",
    "#num_feats = [feature for feature in all_feats.columns.values if feature not in ord_feats]"
   ]
  },
  {
   "cell_type": "code",
   "execution_count": 259,
   "metadata": {},
   "outputs": [],
   "source": [
    "from sklearn.ensemble import AdaBoostClassifier"
   ]
  },
  {
   "cell_type": "code",
   "execution_count": 260,
   "metadata": {},
   "outputs": [],
   "source": [
    "from lightgbm import LGBMClassifier\n",
    "from sklearn.base import BaseEstimator"
   ]
  },
  {
   "cell_type": "code",
   "execution_count": 261,
   "metadata": {},
   "outputs": [],
   "source": [
    "class ClassifierCustom(BaseEstimator):\n",
    "    def __init__(self, C=1, n_estimators=200):\n",
    "        self.n_estimators = n_estimators\n",
    "        self.C = C\n",
    "        \n",
    "        self.models = []\n",
    "        #self.boot = []\n",
    "        #self.feat_ids_by_tree = []\n",
    "    def fit(self, X, y):\n",
    "            #log reg\n",
    "            lr = LogisticRegression(C = self.C)\n",
    "            self.models.append(lr.fit(X,y))\n",
    "            \n",
    "            #Adaboost\n",
    "            ab = AdaBoostClassifier(n_estimators = 100, learning_rate = 1)\n",
    "            self.models.append(ab.fit(X,y))\n",
    "            \n",
    "            #lgbm\n",
    "            lgbm = LGBMClassifier(n_jobs=-1)\n",
    "            self.models.append(lgbm.fit(X,y))\n",
    "            return self\n",
    "    \n",
    "    def predict_proba(self, X):\n",
    "        self.probs = []\n",
    "        for i in range(len(self.models)):\n",
    "            self.probs.append(self.models[i].predict_proba(X))\n",
    "        self.probs = np.array(self.probs)\n",
    "        self.averages = np.mean(self.probs, axis = 0)\n",
    "        return self.averages\n",
    "    \n",
    "    def predict(self,X):\n",
    "        self.predictions =  self.predict_proba(X) >=0.5 \n",
    "        return self.predictions\n"
   ]
  },
  {
   "cell_type": "code",
   "execution_count": 262,
   "metadata": {},
   "outputs": [],
   "source": [
    "from sklearn.pipeline import Pipeline, FeatureUnion, make_pipeline\n",
    "from sklearn.preprocessing import OneHotEncoder\n",
    "from sklearn.base import BaseEstimator, TransformerMixin\n",
    "from sklearn.neighbors import KNeighborsClassifier\n",
    "\n",
    "class Columns(BaseEstimator, TransformerMixin):\n",
    "    def __init__(self, names=None):\n",
    "        self.names = names\n",
    "\n",
    "    def fit(self, X, y=None, **fit_params):\n",
    "        return self\n",
    "\n",
    "    def transform(self, X):\n",
    "        return X[self.names]\n",
    "    \n",
    "    \n",
    "\n",
    "pipe = Pipeline([\n",
    "    (\"features\", FeatureUnion([\n",
    "        ('numeric', make_pipeline(Columns(names=num_feats),StandardScaler())),\n",
    "        ('categorical', make_pipeline(Columns(names=cat_feats),OneHotEncoder(sparse=False)))\n",
    "    ])),\n",
    "  #  ('PCA',PCA(n_components = 300,whiten=True)),\n",
    "    ('logreg', LogisticRegression(C=1))])\n",
    "    #('custom', ClassifierCustom(C = 0.95, n_estimators = 150))])\n",
    "    #('adaboost', AdaBoostClassifier(n_estimators = 150))])\n",
    "    #('lgbm', LGBMClassifier(n_jobs=-1))])"
   ]
  },
  {
   "cell_type": "code",
   "execution_count": 263,
   "metadata": {
    "scrolled": true
   },
   "outputs": [
    {
     "data": {
      "text/plain": [
       "Pipeline(memory=None,\n",
       "     steps=[('features', FeatureUnion(n_jobs=1,\n",
       "       transformer_list=[('numeric', Pipeline(memory=None,\n",
       "     steps=[('columns', Columns(names=['game_time', 'objectives_len', 'chat_len', 'r1_hero_id', 'r1_kills', 'r1_deaths', 'r1_assists', 'r1_denies', 'r1_gold', 'r1_lh', 'r1_xp', 'r1_health', 'r1_max_...ty='l2', random_state=None, solver='liblinear', tol=0.0001,\n",
       "          verbose=0, warm_start=False))])"
      ]
     },
     "execution_count": 263,
     "metadata": {},
     "output_type": "execute_result"
    }
   ],
   "source": [
    "pipe.fit(all_feats_train,y)"
   ]
  },
  {
   "cell_type": "code",
   "execution_count": 191,
   "metadata": {},
   "outputs": [],
   "source": [
    "predicted = pipe.predict(X_test)"
   ]
  },
  {
   "cell_type": "code",
   "execution_count": 192,
   "metadata": {},
   "outputs": [
    {
     "ename": "IndexError",
     "evalue": "too many indices for array",
     "output_type": "error",
     "traceback": [
      "\u001b[0;31m---------------------------------------------------------------------------\u001b[0m",
      "\u001b[0;31mIndexError\u001b[0m                                Traceback (most recent call last)",
      "\u001b[0;32m<ipython-input-192-86a839cb93e4>\u001b[0m in \u001b[0;36m<module>\u001b[0;34m\u001b[0m\n\u001b[0;32m----> 1\u001b[0;31m \u001b[0mprint\u001b[0m\u001b[0;34m(\u001b[0m\u001b[0maccuracy_score\u001b[0m\u001b[0;34m(\u001b[0m\u001b[0my_test\u001b[0m\u001b[0;34m,\u001b[0m \u001b[0mpredicted\u001b[0m\u001b[0;34m[\u001b[0m\u001b[0;34m:\u001b[0m\u001b[0;34m,\u001b[0m\u001b[0;36m1\u001b[0m\u001b[0;34m]\u001b[0m\u001b[0;34m)\u001b[0m\u001b[0;34m)\u001b[0m\u001b[0;34m\u001b[0m\u001b[0;34m\u001b[0m\u001b[0m\n\u001b[0m",
      "\u001b[0;31mIndexError\u001b[0m: too many indices for array"
     ]
    }
   ],
   "source": [
    "print(accuracy_score(y_test, predicted[:,1]))"
   ]
  },
  {
   "cell_type": "code",
   "execution_count": 193,
   "metadata": {},
   "outputs": [
    {
     "ename": "IndexError",
     "evalue": "too many indices for array",
     "output_type": "error",
     "traceback": [
      "\u001b[0;31m---------------------------------------------------------------------------\u001b[0m",
      "\u001b[0;31mIndexError\u001b[0m                                Traceback (most recent call last)",
      "\u001b[0;32m<ipython-input-193-72aa8632934b>\u001b[0m in \u001b[0;36m<module>\u001b[0;34m\u001b[0m\n\u001b[0;32m----> 1\u001b[0;31m \u001b[0mprint\u001b[0m\u001b[0;34m(\u001b[0m\u001b[0mroc_auc_score\u001b[0m\u001b[0;34m(\u001b[0m\u001b[0my_test\u001b[0m\u001b[0;34m,\u001b[0m\u001b[0mpredicted\u001b[0m\u001b[0;34m[\u001b[0m\u001b[0;34m:\u001b[0m\u001b[0;34m,\u001b[0m\u001b[0;36m1\u001b[0m\u001b[0;34m]\u001b[0m\u001b[0;34m)\u001b[0m\u001b[0;34m)\u001b[0m\u001b[0;34m\u001b[0m\u001b[0;34m\u001b[0m\u001b[0m\n\u001b[0m",
      "\u001b[0;31mIndexError\u001b[0m: too many indices for array"
     ]
    }
   ],
   "source": [
    "print(roc_auc_score(y_test,predicted[:,1]))"
   ]
  },
  {
   "cell_type": "markdown",
   "metadata": {},
   "source": [
    "Note: So far, logreg with C = 0.95 does the best. The Custom ensemble is also close. PCA decreases both metrics and position on leaderboard; RF also decreased leaderboard position, over logreg (best so far).\\\n",
    "`cross_val_predict` gives ROC AUC 0.8132 for logistic regression. ROC AUC 0.8049 for lightGBM (untuned)"
   ]
  },
  {
   "cell_type": "markdown",
   "metadata": {},
   "source": [
    "### Custom classifier: logreg, Adaboost, lgbm"
   ]
  },
  {
   "cell_type": "markdown",
   "metadata": {},
   "source": [
    "## Grid Search"
   ]
  },
  {
   "cell_type": "code",
   "execution_count": 54,
   "metadata": {},
   "outputs": [],
   "source": [
    "from sklearn.model_selection import GridSearchCV"
   ]
  },
  {
   "cell_type": "code",
   "execution_count": 80,
   "metadata": {},
   "outputs": [],
   "source": [
    "param_grid_lgbm = {\n",
    "    'lgbm__max_depth': [18],\n",
    "    'lgbm__learning_rate': [.01],\n",
    "    'lgbm__num_leaves': [4,8,16], #large will increase accuracy but may overfit\n",
    "    'lgbm__learning_rate': [0.005],\n",
    "    'lgbm__n_estimators': [40],\n",
    "    'lgbm__num_leaves': [6,8,12,16],\n",
    "    'lgbm__boosting_type' : ['gbdt'],\n",
    "    'lgbm__objective' : ['binary'],\n",
    "    'lgbm__random_state' : [501], # Updated from 'seed'\n",
    "    'lgbm__colsample_bytree' : [0.65, 0.66],\n",
    "    'lgbm__subsample' : [0.7,0.75],\n",
    "    'lgbm__reg_alpha' : [1,1.2],\n",
    "    'lgbm__reg_lambda' : [1,1.2,1.4],\n",
    "    }"
   ]
  },
  {
   "cell_type": "code",
   "execution_count": 55,
   "metadata": {},
   "outputs": [],
   "source": [
    "param_grid_logreg = {\n",
    "    'logreg__C': [.9,0.95,1],\n",
    "    'PCA__n_components': [300]\n",
    "}"
   ]
  },
  {
   "cell_type": "code",
   "execution_count": 77,
   "metadata": {},
   "outputs": [],
   "source": [
    "param_grid_ab = {\n",
    "    'adaboost__n_estimators': [125,150,175],\n",
    "}"
   ]
  },
  {
   "cell_type": "code",
   "execution_count": 62,
   "metadata": {},
   "outputs": [],
   "source": [
    "grid_clf = GridSearchCV(pipe, param_grid_logreg, cv=5, iid=False)\n",
    "grid_clf.fit(X_train, y_train);"
   ]
  },
  {
   "cell_type": "code",
   "execution_count": 63,
   "metadata": {},
   "outputs": [
    {
     "data": {
      "text/plain": [
       "{'PCA__n_components': 300, 'logreg__C': 1}"
      ]
     },
     "execution_count": 63,
     "metadata": {},
     "output_type": "execute_result"
    }
   ],
   "source": [
    "grid_clf.best_params_"
   ]
  },
  {
   "cell_type": "code",
   "execution_count": 66,
   "metadata": {},
   "outputs": [
    {
     "ename": "NameError",
     "evalue": "name 'y_test' is not defined",
     "output_type": "error",
     "traceback": [
      "\u001b[0;31m---------------------------------------------------------------------------\u001b[0m",
      "\u001b[0;31mNameError\u001b[0m                                 Traceback (most recent call last)",
      "\u001b[0;32m<ipython-input-66-bc68cac2a841>\u001b[0m in \u001b[0;36m<module>\u001b[0;34m\u001b[0m\n\u001b[0;32m----> 1\u001b[0;31m \u001b[0mprint\u001b[0m\u001b[0;34m(\u001b[0m\u001b[0;34m\"grid search best: %f\"\u001b[0m \u001b[0;34m%\u001b[0m \u001b[0mgrid_clf\u001b[0m\u001b[0;34m.\u001b[0m\u001b[0mbest_estimator_\u001b[0m\u001b[0;34m.\u001b[0m\u001b[0mscore\u001b[0m\u001b[0;34m(\u001b[0m\u001b[0mX_test\u001b[0m\u001b[0;34m,\u001b[0m \u001b[0my_test\u001b[0m\u001b[0;34m)\u001b[0m\u001b[0;34m)\u001b[0m\u001b[0;34m\u001b[0m\u001b[0;34m\u001b[0m\u001b[0m\n\u001b[0m",
      "\u001b[0;31mNameError\u001b[0m: name 'y_test' is not defined"
     ]
    }
   ],
   "source": [
    "print(\"grid search best: %f\" % grid_clf.best_estimator_.score(X_test, y_test))\n"
   ]
  },
  {
   "cell_type": "markdown",
   "metadata": {},
   "source": [
    "Logistic regression is doing better than other models. In grid search with best C = 0.9.\n",
    "\n",
    "PCA best around 300 (+-15).\n",
    "\n",
    "AdaBoost is doing more poorly; best `n_estimators` is 150 among `[50,100,150]`"
   ]
  },
  {
   "cell_type": "markdown",
   "metadata": {},
   "source": [
    "### Preparing submission"
   ]
  },
  {
   "cell_type": "code",
   "execution_count": 264,
   "metadata": {},
   "outputs": [],
   "source": [
    "#X_test_vals = all_feats_test.values\n",
    "y_test_pred = pipe.predict_proba(all_feats_test)[:, 1]\n",
    "\n",
    "df_submission = pd.DataFrame({'radiant_win_prob': y_test_pred}, \n",
    "                                 index=all_feats_test.index)\n"
   ]
  },
  {
   "cell_type": "code",
   "execution_count": 265,
   "metadata": {},
   "outputs": [
    {
     "data": {
      "text/html": [
       "<div>\n",
       "<style scoped>\n",
       "    .dataframe tbody tr th:only-of-type {\n",
       "        vertical-align: middle;\n",
       "    }\n",
       "\n",
       "    .dataframe tbody tr th {\n",
       "        vertical-align: top;\n",
       "    }\n",
       "\n",
       "    .dataframe thead th {\n",
       "        text-align: right;\n",
       "    }\n",
       "</style>\n",
       "<table border=\"1\" class=\"dataframe\">\n",
       "  <thead>\n",
       "    <tr style=\"text-align: right;\">\n",
       "      <th></th>\n",
       "      <th>radiant_win_prob</th>\n",
       "    </tr>\n",
       "    <tr>\n",
       "      <th>match_id_hash</th>\n",
       "      <th></th>\n",
       "    </tr>\n",
       "  </thead>\n",
       "  <tbody>\n",
       "    <tr>\n",
       "      <th>30cc2d778dca82f2edb568ce9b585caa</th>\n",
       "      <td>0.428780</td>\n",
       "    </tr>\n",
       "    <tr>\n",
       "      <th>70e5ba30f367cea48793b9003fab9d38</th>\n",
       "      <td>0.971825</td>\n",
       "    </tr>\n",
       "  </tbody>\n",
       "</table>\n",
       "</div>"
      ],
      "text/plain": [
       "                                  radiant_win_prob\n",
       "match_id_hash                                     \n",
       "30cc2d778dca82f2edb568ce9b585caa          0.428780\n",
       "70e5ba30f367cea48793b9003fab9d38          0.971825"
      ]
     },
     "execution_count": 265,
     "metadata": {},
     "output_type": "execute_result"
    }
   ],
   "source": [
    "df_submission.head(2)"
   ]
  },
  {
   "cell_type": "code",
   "execution_count": 266,
   "metadata": {},
   "outputs": [
    {
     "name": "stdout",
     "output_type": "stream",
     "text": [
      "Submission saved to submission_2019-11-12_22-12-44.csv\n"
     ]
    }
   ],
   "source": [
    "import datetime\n",
    "submission_filename = 'submission_{}.csv'.format(\n",
    "    datetime.datetime.now().strftime('%Y-%m-%d_%H-%M-%S'))\n",
    "df_submission.to_csv(submission_filename)\n",
    "print('Submission saved to {}'.format(submission_filename))"
   ]
  },
  {
   "cell_type": "code",
   "execution_count": null,
   "metadata": {},
   "outputs": [],
   "source": []
  },
  {
   "cell_type": "markdown",
   "metadata": {},
   "source": [
    "Not using this:"
   ]
  },
  {
   "cell_type": "code",
   "execution_count": 86,
   "metadata": {},
   "outputs": [],
   "source": [
    "from sklearn.model_selection import cross_val_predict"
   ]
  },
  {
   "cell_type": "code",
   "execution_count": 60,
   "metadata": {},
   "outputs": [],
   "source": [
    "cv_pred = cross_val_predict(pipe, \n",
    "                             X_train, \n",
    "                             y_train, \n",
    "                             cv=5,\n",
    "                             method=\"predict_proba\")"
   ]
  },
  {
   "cell_type": "code",
   "execution_count": 61,
   "metadata": {},
   "outputs": [
    {
     "name": "stdout",
     "output_type": "stream",
     "text": [
      "Cross validation AUC 0.8049\n"
     ]
    }
   ],
   "source": [
    "print(\"Cross validation AUC {:.4f}\".format(roc_auc_score(y_train, cv_pred[:,1])))"
   ]
  },
  {
   "cell_type": "code",
   "execution_count": 56,
   "metadata": {},
   "outputs": [
    {
     "name": "stderr",
     "output_type": "stream",
     "text": [
      "/anaconda3/lib/python3.7/site-packages/sklearn/compose/_column_transformer.py:751: DeprecationWarning: `make_column_transformer` now expects (transformer, columns) as input tuples instead of (columns, transformer). This has been introduced in v0.20.1. `make_column_transformer` will stop accepting the deprecated (columns, transformer) order in v0.22.\n",
      "  warnings.warn(message, DeprecationWarning)\n"
     ]
    }
   ],
   "source": [
    "from sklearn.compose import ColumnTransformer, make_column_transformer\n",
    "\n",
    "preprocess = make_column_transformer(\n",
    "    (num_feats, StandardScaler()),\n",
    "    (cat_feats, OneHotEncoder()))\n",
    "\n"
   ]
  },
  {
   "cell_type": "code",
   "execution_count": 58,
   "metadata": {},
   "outputs": [],
   "source": [
    "pipe2 = make_pipeline(\n",
    "    preprocess,\n",
    "   # StandardScaler(),\n",
    "    LGBMClassifier(n_jobs=-1)\n",
    ")"
   ]
  }
 ],
 "metadata": {
  "kernelspec": {
   "display_name": "Python 3",
   "language": "python",
   "name": "python3"
  },
  "language_info": {
   "codemirror_mode": {
    "name": "ipython",
    "version": 3
   },
   "file_extension": ".py",
   "mimetype": "text/x-python",
   "name": "python",
   "nbconvert_exporter": "python",
   "pygments_lexer": "ipython3",
   "version": "3.7.3"
  }
 },
 "nbformat": 4,
 "nbformat_minor": 2
}
