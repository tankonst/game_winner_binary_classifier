{
 "cells": [
  {
   "cell_type": "code",
   "execution_count": 33,
   "metadata": {},
   "outputs": [],
   "source": [
    "import pandas as pd\n",
    "import numpy as np\n",
    "import matplotlib.pyplot as plt\n",
    "plt.rcParams['figure.dpi']= 150\n",
    "import warnings\n",
    "warnings.filterwarnings('ignore')"
   ]
  },
  {
   "cell_type": "markdown",
   "metadata": {},
   "source": [
    "##  Load the data"
   ]
  },
  {
   "cell_type": "code",
   "execution_count": 32,
   "metadata": {},
   "outputs": [
    {
     "data": {
      "text/html": [
       "<div>\n",
       "<style scoped>\n",
       "    .dataframe tbody tr th:only-of-type {\n",
       "        vertical-align: middle;\n",
       "    }\n",
       "\n",
       "    .dataframe tbody tr th {\n",
       "        vertical-align: top;\n",
       "    }\n",
       "\n",
       "    .dataframe thead th {\n",
       "        text-align: right;\n",
       "    }\n",
       "</style>\n",
       "<table border=\"1\" class=\"dataframe\">\n",
       "  <thead>\n",
       "    <tr style=\"text-align: right;\">\n",
       "      <th></th>\n",
       "      <th>d_dead</th>\n",
       "      <th>r_dead</th>\n",
       "      <th>d_health_avg</th>\n",
       "      <th>r_health_avg</th>\n",
       "      <th>d1_in_r_base</th>\n",
       "      <th>r1_in_r_base</th>\n",
       "      <th>d1_in_d_base</th>\n",
       "      <th>r1_in_d_base</th>\n",
       "      <th>d2_in_r_base</th>\n",
       "      <th>r2_in_r_base</th>\n",
       "      <th>...</th>\n",
       "      <th>log_d_damage_received</th>\n",
       "      <th>log_r_max_hero_hit</th>\n",
       "      <th>log_d_max_hero_hit</th>\n",
       "      <th>log_chat_len</th>\n",
       "      <th>log_game_time</th>\n",
       "      <th>log_ratio_assists</th>\n",
       "      <th>sq_r_gold</th>\n",
       "      <th>sq_r_xp</th>\n",
       "      <th>sq_d_gold</th>\n",
       "      <th>sq_d_xp</th>\n",
       "    </tr>\n",
       "    <tr>\n",
       "      <th>match_id_hash</th>\n",
       "      <th></th>\n",
       "      <th></th>\n",
       "      <th></th>\n",
       "      <th></th>\n",
       "      <th></th>\n",
       "      <th></th>\n",
       "      <th></th>\n",
       "      <th></th>\n",
       "      <th></th>\n",
       "      <th></th>\n",
       "      <th></th>\n",
       "      <th></th>\n",
       "      <th></th>\n",
       "      <th></th>\n",
       "      <th></th>\n",
       "      <th></th>\n",
       "      <th></th>\n",
       "      <th></th>\n",
       "      <th></th>\n",
       "      <th></th>\n",
       "      <th></th>\n",
       "    </tr>\n",
       "  </thead>\n",
       "  <tbody>\n",
       "    <tr>\n",
       "      <th>a400b8f29dece5f4d266f49f1ae2e98a</th>\n",
       "      <td>0</td>\n",
       "      <td>0</td>\n",
       "      <td>0.954967</td>\n",
       "      <td>0.715500</td>\n",
       "      <td>0</td>\n",
       "      <td>0</td>\n",
       "      <td>0</td>\n",
       "      <td>0</td>\n",
       "      <td>0</td>\n",
       "      <td>0</td>\n",
       "      <td>...</td>\n",
       "      <td>7.349874</td>\n",
       "      <td>5.209486</td>\n",
       "      <td>6.042633</td>\n",
       "      <td>2.484907</td>\n",
       "      <td>5.049856</td>\n",
       "      <td>0.000000</td>\n",
       "      <td>4149369</td>\n",
       "      <td>3964081</td>\n",
       "      <td>15586704</td>\n",
       "      <td>9511056</td>\n",
       "    </tr>\n",
       "    <tr>\n",
       "      <th>b9c57c450ce74a2af79c9ce96fac144d</th>\n",
       "      <td>0</td>\n",
       "      <td>0</td>\n",
       "      <td>0.764778</td>\n",
       "      <td>0.846735</td>\n",
       "      <td>0</td>\n",
       "      <td>1</td>\n",
       "      <td>0</td>\n",
       "      <td>0</td>\n",
       "      <td>0</td>\n",
       "      <td>0</td>\n",
       "      <td>...</td>\n",
       "      <td>10.104794</td>\n",
       "      <td>6.877296</td>\n",
       "      <td>6.639876</td>\n",
       "      <td>2.397895</td>\n",
       "      <td>6.490724</td>\n",
       "      <td>1.504077</td>\n",
       "      <td>330221584</td>\n",
       "      <td>308564356</td>\n",
       "      <td>172764736</td>\n",
       "      <td>167055625</td>\n",
       "    </tr>\n",
       "    <tr>\n",
       "      <th>6db558535151ea18ca70a6892197db41</th>\n",
       "      <td>0</td>\n",
       "      <td>0</td>\n",
       "      <td>0.989032</td>\n",
       "      <td>0.989333</td>\n",
       "      <td>0</td>\n",
       "      <td>0</td>\n",
       "      <td>1</td>\n",
       "      <td>0</td>\n",
       "      <td>0</td>\n",
       "      <td>0</td>\n",
       "      <td>...</td>\n",
       "      <td>4.262680</td>\n",
       "      <td>4.262680</td>\n",
       "      <td>4.234107</td>\n",
       "      <td>0.000000</td>\n",
       "      <td>3.091042</td>\n",
       "      <td>0.000000</td>\n",
       "      <td>774400</td>\n",
       "      <td>0</td>\n",
       "      <td>230400</td>\n",
       "      <td>0</td>\n",
       "    </tr>\n",
       "    <tr>\n",
       "      <th>46a0ddce8f7ed2a8d9bd5edcbb925682</th>\n",
       "      <td>0</td>\n",
       "      <td>0</td>\n",
       "      <td>0.869557</td>\n",
       "      <td>0.955818</td>\n",
       "      <td>0</td>\n",
       "      <td>0</td>\n",
       "      <td>0</td>\n",
       "      <td>0</td>\n",
       "      <td>0</td>\n",
       "      <td>0</td>\n",
       "      <td>...</td>\n",
       "      <td>10.034910</td>\n",
       "      <td>6.651572</td>\n",
       "      <td>6.169611</td>\n",
       "      <td>1.609438</td>\n",
       "      <td>6.357842</td>\n",
       "      <td>1.609438</td>\n",
       "      <td>178169104</td>\n",
       "      <td>215003569</td>\n",
       "      <td>127712601</td>\n",
       "      <td>140256649</td>\n",
       "    </tr>\n",
       "    <tr>\n",
       "      <th>b1b35ff97723d9b7ade1c9c3cf48f770</th>\n",
       "      <td>0</td>\n",
       "      <td>0</td>\n",
       "      <td>0.808481</td>\n",
       "      <td>0.735127</td>\n",
       "      <td>0</td>\n",
       "      <td>0</td>\n",
       "      <td>0</td>\n",
       "      <td>0</td>\n",
       "      <td>0</td>\n",
       "      <td>0</td>\n",
       "      <td>...</td>\n",
       "      <td>9.148997</td>\n",
       "      <td>6.129050</td>\n",
       "      <td>6.499787</td>\n",
       "      <td>1.386294</td>\n",
       "      <td>6.118097</td>\n",
       "      <td>0.693147</td>\n",
       "      <td>65270241</td>\n",
       "      <td>95296644</td>\n",
       "      <td>84217329</td>\n",
       "      <td>116769636</td>\n",
       "    </tr>\n",
       "  </tbody>\n",
       "</table>\n",
       "<p>5 rows × 148 columns</p>\n",
       "</div>"
      ],
      "text/plain": [
       "                                  d_dead  r_dead  d_health_avg  r_health_avg  \\\n",
       "match_id_hash                                                                  \n",
       "a400b8f29dece5f4d266f49f1ae2e98a       0       0      0.954967      0.715500   \n",
       "b9c57c450ce74a2af79c9ce96fac144d       0       0      0.764778      0.846735   \n",
       "6db558535151ea18ca70a6892197db41       0       0      0.989032      0.989333   \n",
       "46a0ddce8f7ed2a8d9bd5edcbb925682       0       0      0.869557      0.955818   \n",
       "b1b35ff97723d9b7ade1c9c3cf48f770       0       0      0.808481      0.735127   \n",
       "\n",
       "                                  d1_in_r_base  r1_in_r_base  d1_in_d_base  \\\n",
       "match_id_hash                                                                \n",
       "a400b8f29dece5f4d266f49f1ae2e98a             0             0             0   \n",
       "b9c57c450ce74a2af79c9ce96fac144d             0             1             0   \n",
       "6db558535151ea18ca70a6892197db41             0             0             1   \n",
       "46a0ddce8f7ed2a8d9bd5edcbb925682             0             0             0   \n",
       "b1b35ff97723d9b7ade1c9c3cf48f770             0             0             0   \n",
       "\n",
       "                                  r1_in_d_base  d2_in_r_base  r2_in_r_base  \\\n",
       "match_id_hash                                                                \n",
       "a400b8f29dece5f4d266f49f1ae2e98a             0             0             0   \n",
       "b9c57c450ce74a2af79c9ce96fac144d             0             0             0   \n",
       "6db558535151ea18ca70a6892197db41             0             0             0   \n",
       "46a0ddce8f7ed2a8d9bd5edcbb925682             0             0             0   \n",
       "b1b35ff97723d9b7ade1c9c3cf48f770             0             0             0   \n",
       "\n",
       "                                  ...  log_d_damage_received  \\\n",
       "match_id_hash                     ...                          \n",
       "a400b8f29dece5f4d266f49f1ae2e98a  ...               7.349874   \n",
       "b9c57c450ce74a2af79c9ce96fac144d  ...              10.104794   \n",
       "6db558535151ea18ca70a6892197db41  ...               4.262680   \n",
       "46a0ddce8f7ed2a8d9bd5edcbb925682  ...              10.034910   \n",
       "b1b35ff97723d9b7ade1c9c3cf48f770  ...               9.148997   \n",
       "\n",
       "                                  log_r_max_hero_hit  log_d_max_hero_hit  \\\n",
       "match_id_hash                                                              \n",
       "a400b8f29dece5f4d266f49f1ae2e98a            5.209486            6.042633   \n",
       "b9c57c450ce74a2af79c9ce96fac144d            6.877296            6.639876   \n",
       "6db558535151ea18ca70a6892197db41            4.262680            4.234107   \n",
       "46a0ddce8f7ed2a8d9bd5edcbb925682            6.651572            6.169611   \n",
       "b1b35ff97723d9b7ade1c9c3cf48f770            6.129050            6.499787   \n",
       "\n",
       "                                  log_chat_len  log_game_time  \\\n",
       "match_id_hash                                                   \n",
       "a400b8f29dece5f4d266f49f1ae2e98a      2.484907       5.049856   \n",
       "b9c57c450ce74a2af79c9ce96fac144d      2.397895       6.490724   \n",
       "6db558535151ea18ca70a6892197db41      0.000000       3.091042   \n",
       "46a0ddce8f7ed2a8d9bd5edcbb925682      1.609438       6.357842   \n",
       "b1b35ff97723d9b7ade1c9c3cf48f770      1.386294       6.118097   \n",
       "\n",
       "                                  log_ratio_assists  sq_r_gold    sq_r_xp  \\\n",
       "match_id_hash                                                               \n",
       "a400b8f29dece5f4d266f49f1ae2e98a           0.000000    4149369    3964081   \n",
       "b9c57c450ce74a2af79c9ce96fac144d           1.504077  330221584  308564356   \n",
       "6db558535151ea18ca70a6892197db41           0.000000     774400          0   \n",
       "46a0ddce8f7ed2a8d9bd5edcbb925682           1.609438  178169104  215003569   \n",
       "b1b35ff97723d9b7ade1c9c3cf48f770           0.693147   65270241   95296644   \n",
       "\n",
       "                                  sq_d_gold    sq_d_xp  \n",
       "match_id_hash                                           \n",
       "a400b8f29dece5f4d266f49f1ae2e98a   15586704    9511056  \n",
       "b9c57c450ce74a2af79c9ce96fac144d  172764736  167055625  \n",
       "6db558535151ea18ca70a6892197db41     230400          0  \n",
       "46a0ddce8f7ed2a8d9bd5edcbb925682  127712601  140256649  \n",
       "b1b35ff97723d9b7ade1c9c3cf48f770   84217329  116769636  \n",
       "\n",
       "[5 rows x 148 columns]"
      ]
     },
     "execution_count": 32,
     "metadata": {},
     "output_type": "execute_result"
    }
   ],
   "source": [
    "data_log_reg = pd.read_csv('new_feat_train_small.csv', index_col ='match_id_hash')\n",
    "target = pd.read_csv('train_targets.csv', index_col = 'match_id_hash')\n",
    "y = target['radiant_win'].apply(lambda x: int(x))\n",
    "\n",
    "data_log_reg.head()"
   ]
  },
  {
   "cell_type": "code",
   "execution_count": 3,
   "metadata": {},
   "outputs": [],
   "source": [
    "# smaller dataset\n",
    "cat_feats = ['game_mode','lobby_type', 'r_firstblood_claimed','d_firstblood_claimed', 'r_in_r_base', 'd_in_d_base', 'r_in_d_base', 'd_in_r_base']\n",
    "num_feats = [col for col in data_log_reg.columns if col not in cat_feats]\n",
    "numerical_columns =[]\n",
    "for j in range(len(data_log_reg.columns)):\n",
    "    if data_log_reg.columns[j] in num_feats:\n",
    "        numerical_columns.append(j)"
   ]
  },
  {
   "cell_type": "markdown",
   "metadata": {},
   "source": [
    "## Scale the data and encode categorical variables"
   ]
  },
  {
   "cell_type": "code",
   "execution_count": 4,
   "metadata": {},
   "outputs": [],
   "source": [
    "from sklearn.preprocessing import StandardScaler\n",
    "from sklearn.preprocessing import OneHotEncoder\n",
    "\n",
    "\n",
    "from sklearn.compose import ColumnTransformer, make_column_transformer\n",
    "\n",
    "preprocess = make_column_transformer(\n",
    "    (StandardScaler(), num_feats),\n",
    "    (OneHotEncoder(),cat_feats))\n",
    "\n"
   ]
  },
  {
   "cell_type": "code",
   "execution_count": 5,
   "metadata": {},
   "outputs": [],
   "source": [
    "from sklearn.model_selection import train_test_split\n",
    "\n",
    "# X = data_log_reg\n",
    "X = preprocess.fit_transform(data_log_reg)\n",
    "\n",
    "X_train, X_test, y_train, y_test = train_test_split(X, y, test_size=0.30, random_state=150)"
   ]
  },
  {
   "cell_type": "code",
   "execution_count": 6,
   "metadata": {},
   "outputs": [
    {
     "data": {
      "text/plain": [
       "(27772, 178)"
      ]
     },
     "execution_count": 6,
     "metadata": {},
     "output_type": "execute_result"
    }
   ],
   "source": [
    "X_train.shape"
   ]
  },
  {
   "cell_type": "markdown",
   "metadata": {},
   "source": [
    "## Perform RFECV with unregularized logistic regression"
   ]
  },
  {
   "cell_type": "code",
   "execution_count": 8,
   "metadata": {},
   "outputs": [],
   "source": [
    "from sklearn.linear_model import LogisticRegression\n",
    "from sklearn.model_selection import cross_val_predict\n",
    "from sklearn.metrics import accuracy_score, roc_auc_score\n",
    "\n",
    "\n",
    "logreg = LogisticRegression(C = 1 ,penalty = 'none', solver = 'newton-cg' )"
   ]
  },
  {
   "cell_type": "code",
   "execution_count": 10,
   "metadata": {},
   "outputs": [],
   "source": [
    "from sklearn.feature_selection import RFECV\n",
    "\n",
    "\n",
    "feat_selector = RFECV(logreg, step = 1, cv = 5, min_features_to_select = 20, scoring = 'roc_auc')\n",
    "feat_selector = feat_selector.fit(X_train, y_train)"
   ]
  },
  {
   "cell_type": "code",
   "execution_count": 40,
   "metadata": {},
   "outputs": [
    {
     "data": {
      "text/plain": [
       "Text(0, 0.5, 'CV score')"
      ]
     },
     "execution_count": 40,
     "metadata": {},
     "output_type": "execute_result"
    },
    {
     "data": {
      "image/png": "[encoded data removed]",
      "text/plain": [
       "<Figure size 900x600 with 1 Axes>"
      ]
     },
     "metadata": {
      "needs_background": "light"
     },
     "output_type": "display_data"
    }
   ],
   "source": [
    "plt.plot(range(1, len(feat_selector.grid_scores_) + 1), feat_selector.grid_scores_)\n",
    "plt.xlabel('# of features')\n",
    "plt.ylabel('CV score')"
   ]
  },
  {
   "cell_type": "markdown",
   "metadata": {},
   "source": [
    "## Train regularized logistic regression on selected features"
   ]
  },
  {
   "cell_type": "code",
   "execution_count": 12,
   "metadata": {},
   "outputs": [],
   "source": [
    "# select only the matrix of meaningfull features\n",
    "X_train_new = feat_selector.transform(X_train)\n",
    "X_test_new = feat_selector.transform(X_test)\n"
   ]
  },
  {
   "cell_type": "code",
   "execution_count": 44,
   "metadata": {},
   "outputs": [
    {
     "name": "stdout",
     "output_type": "stream",
     "text": [
      "test accuracy : 0.7559438796941947\n",
      "test roc_auc score: 0.8443826357686185\n"
     ]
    }
   ],
   "source": [
    "# train the model\n",
    "logreg = LogisticRegression(C = 10,penalty = 'l1',fit_intercept=False, random_state = 150 )\n",
    "logreg.fit(X_train_new,y_train)\n",
    "\n",
    "predicted = logreg.predict(X_test_new)\n",
    "print('test accuracy : {}'.format(accuracy_score(y_test, predicted)))\n",
    "predicted = logreg.predict_proba(X_test_new)[:,1]\n",
    "print('test roc_auc score: {}'.format(roc_auc_score(y_test,predicted)))"
   ]
  },
  {
   "cell_type": "markdown",
   "metadata": {},
   "source": [
    "## Compare to the model with the full set of features"
   ]
  },
  {
   "cell_type": "code",
   "execution_count": 45,
   "metadata": {
    "scrolled": true
   },
   "outputs": [
    {
     "data": {
      "text/plain": [
       "LogisticRegression(C=10, class_weight=None, dual=False, fit_intercept=False,\n",
       "                   intercept_scaling=1, l1_ratio=None, max_iter=100,\n",
       "                   multi_class='warn', n_jobs=None, penalty='l1',\n",
       "                   random_state=150, solver='warn', tol=0.0001, verbose=0,\n",
       "                   warm_start=False)"
      ]
     },
     "execution_count": 45,
     "metadata": {},
     "output_type": "execute_result"
    }
   ],
   "source": [
    "# fit the model\n",
    "logreg = LogisticRegression(C = 10,penalty = 'l1',fit_intercept=False, random_state = 150 )\n",
    "logreg.fit(X_train,y_train)\n"
   ]
  },
  {
   "cell_type": "code",
   "execution_count": 48,
   "metadata": {},
   "outputs": [
    {
     "name": "stdout",
     "output_type": "stream",
     "text": [
      "test accuracy : 0.7581282029740402\n",
      "test roc_auc score: 0.8453594763842207\n"
     ]
    },
    {
     "data": {
      "text/plain": [
       "Text(0.5, 0, 'coefficients of regression')"
      ]
     },
     "execution_count": 48,
     "metadata": {},
     "output_type": "execute_result"
    },
    {
     "data": {
      "image/png": "[encoded data removed]",
      "text/plain": [
       "<Figure size 900x600 with 1 Axes>"
      ]
     },
     "metadata": {
      "needs_background": "light"
     },
     "output_type": "display_data"
    }
   ],
   "source": [
    "predicted = logreg.predict(X_test)\n",
    "print('test accuracy : {}'.format(accuracy_score(y_test, predicted)))\n",
    "predicted = logreg.predict_proba(X_test)[:,1]\n",
    "print('test roc_auc score: {}'.format(roc_auc_score(y_test,predicted)))\n",
    "c = logreg.coef_\n",
    "plt.plot(c[0])\n",
    "plt.xlabel('coefficients of regression')"
   ]
  },
  {
   "cell_type": "markdown",
   "metadata": {},
   "source": [
    " The reduced set of features has the same test scores as the full set of features."
   ]
  }
 ],
 "metadata": {
  "kernelspec": {
   "display_name": "Python 3",
   "language": "python",
   "name": "python3"
  },
  "language_info": {
   "codemirror_mode": {
    "name": "ipython",
    "version": 3
   },
   "file_extension": ".py",
   "mimetype": "text/x-python",
   "name": "python",
   "nbconvert_exporter": "python",
   "pygments_lexer": "ipython3",
   "version": "3.7.3"
  }
 },
 "nbformat": 4,
 "nbformat_minor": 2
}
